{
 "cells": [
  {
   "cell_type": "markdown",
   "metadata": {},
   "source": [
    "# Rigol NI USB 6501 Driver Example\n",
    "\n",
    "This notebook demonstrates how to use the NI USB 6501 I/O module driver.\n"
   ]
  },
  {
   "cell_type": "code",
   "execution_count": 36,
   "metadata": {},
   "outputs": [
    {
     "name": "stdout",
     "output_type": "stream",
     "text": [
      "Device initialized.\n"
     ]
    }
   ],
   "source": [
    "# Import necessary libraries\n",
    "from ni_usb_6501 import NIUSB6501\n",
    "\n",
    "# Initialize the NI USB-6501 device\n",
    "device = NIUSB6501()\n",
    "print(\"Device initialized.\")"
   ]
  },
  {
   "cell_type": "code",
   "execution_count": 38,
   "metadata": {},
   "outputs": [
    {
     "name": "stdout",
     "output_type": "stream",
     "text": [
      "IO modes configured: Ports 0 and 1 as output, Port 2 as input.\n"
     ]
    }
   ],
   "source": [
    "# Set IO modes for each port\n",
    "# Port 0: All pins as output (0xFF = 11111111)\n",
    "# Port 1: All pins as output (0xFF = 11111111)\n",
    "# Port 2: All pins as input (0x00 = 00000000)\n",
    "device.set_io_mode(0xFF, 0xFF, 0x00)\n",
    "print(\"IO modes configured: Ports 0 and 1 as output, Port 2 as input.\")"
   ]
  },
  {
   "cell_type": "code",
   "execution_count": 39,
   "metadata": {},
   "outputs": [
    {
     "name": "stdout",
     "output_type": "stream",
     "text": [
      "Port 0: Pins 7-4 set to HIGH, Pins 3-0 set to LOW.\n"
     ]
    }
   ],
   "source": [
    "# Write a value to Port 0\n",
    "# Set pins 7, 6, 5, 4 (MSB) to HIGH (1)\n",
    "# Set pins 3, 2, 1, 0 (LSB) to LOW (0)\n",
    "\n",
    "device.write_port(0, 0b11110000)  # 0xF0\n",
    "print(\"Port 0: Pins 7-4 set to HIGH, Pins 3-0 set to LOW.\")"
   ]
  },
  {
   "cell_type": "code",
   "execution_count": 40,
   "metadata": {},
   "outputs": [
    {
     "name": "stdout",
     "output_type": "stream",
     "text": [
      "Port 2 input values (pins 23 to 16): 0b11111111\n"
     ]
    }
   ],
   "source": [
    "# Read input values from Port 2\n",
    "input_value = device.read_port(2)\n",
    "\n",
    "# Port 2 is configured as input, so this will read the HIGH/LOW state of pins 23 to 16.\n",
    "print(f\"Port 2 input values (pins 23 to 16): {bin(input_value)}\")\n"
   ]
  },
  {
   "cell_type": "code",
   "execution_count": 41,
   "metadata": {},
   "outputs": [
    {
     "name": "stdout",
     "output_type": "stream",
     "text": [
      "Device resources released.\n"
     ]
    }
   ],
   "source": [
    "# Release the device\n",
    "device.release_interface()\n",
    "print(\"Device resources released.\")"
   ]
  }
 ],
 "metadata": {
  "kernelspec": {
   "display_name": "Python 3",
   "language": "python",
   "name": "python3"
  },
  "language_info": {
   "codemirror_mode": {
    "name": "ipython",
    "version": 3
   },
   "file_extension": ".py",
   "mimetype": "text/x-python",
   "name": "python",
   "nbconvert_exporter": "python",
   "pygments_lexer": "ipython3",
   "version": "3.10.10"
  }
 },
 "nbformat": 4,
 "nbformat_minor": 2
}
