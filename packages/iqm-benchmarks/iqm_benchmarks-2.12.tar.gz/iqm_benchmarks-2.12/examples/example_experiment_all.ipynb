{
 "cells": [
  {
   "cell_type": "markdown",
   "id": "8665b62277d47a17",
   "metadata": {},
   "source": [
    "# QCVV suite Examples"
   ]
  },
  {
   "cell_type": "code",
   "execution_count": null,
   "id": "681689b3530358c6",
   "metadata": {
    "ExecuteTime": {
     "end_time": "2024-11-26T11:04:52.632980Z",
     "start_time": "2024-11-26T11:04:52.573997Z"
    }
   },
   "outputs": [],
   "source": [
    "%load_ext autoreload\n",
    "%autoreload 2"
   ]
  },
  {
   "cell_type": "markdown",
   "id": "66ed5587739635b5",
   "metadata": {},
   "source": [
    "# Choose (or define) a backend"
   ]
  },
  {
   "cell_type": "code",
   "execution_count": null,
   "id": "691a27964b11b9ed",
   "metadata": {
    "ExecuteTime": {
     "end_time": "2024-11-26T11:04:54.444032Z",
     "start_time": "2024-11-26T11:04:52.642210Z"
    }
   },
   "outputs": [],
   "source": [
    "backend = \"fakeadonis\"\n",
    "#backend = \"fakeapollo\"\n",
    "#backend = \"garnet\"\n",
    "#backend = \"deneb\"\n",
    "\n",
    "#from iqm.qiskit_iqm.iqm_provider import IQMProvider\n",
    "#iqm_url=\"https:\"\n",
    "#provider = IQMProvider(iqm_url)\n",
    "#backend = provider.get_backend()"
   ]
  },
  {
   "cell_type": "markdown",
   "id": "b0a68c03bca096ef",
   "metadata": {},
   "source": [
    "#### Set IQM Token if using Resonance."
   ]
  },
  {
   "cell_type": "code",
   "execution_count": null,
   "id": "c714714e681a9997",
   "metadata": {
    "ExecuteTime": {
     "end_time": "2024-11-26T11:04:55.376724Z",
     "start_time": "2024-11-26T11:04:54.732154Z"
    }
   },
   "outputs": [],
   "source": [
    "# import os\n",
    "# os.environ[\"IQM_TOKEN\"] = \"\""
   ]
  },
  {
   "cell_type": "markdown",
   "id": "61abb7bed3688593",
   "metadata": {},
   "source": [
    "# Clifford Randomized Benchmarking"
   ]
  },
  {
   "cell_type": "markdown",
   "id": "ee55d17c65f4c1a3",
   "metadata": {},
   "source": [
    "NB: Clifford RB is executed by default with Interleaved RB !"
   ]
  },
  {
   "cell_type": "code",
   "execution_count": null,
   "id": "55abfb988cfefe67",
   "metadata": {},
   "outputs": [],
   "source": [
    "from iqm.benchmarks.randomized_benchmarking.clifford_rb.clifford_rb import *"
   ]
  },
  {
   "cell_type": "code",
   "execution_count": null,
   "id": "c34f4b647d6c41b9",
   "metadata": {},
   "outputs": [],
   "source": [
    "EXAMPLE_CRB = CliffordRBConfiguration(\n",
    "    qubits_array=[[0,2]],#,[8,9],[13,14],[17,18],[5,6],[10,11],[15,16]],\n",
    "    sequence_lengths=[2**(m+1)-1 for m in range(7)],\n",
    "    num_circuit_samples=25,\n",
    "    shots=2**8,\n",
    "    calset_id=None,\n",
    "    parallel_execution=False,\n",
    ")"
   ]
  },
  {
   "cell_type": "code",
   "execution_count": null,
   "id": "5bb7f891ebb5acfb",
   "metadata": {
    "scrolled": true
   },
   "outputs": [],
   "source": [
    "benchmark_clifford_rb = CliffordRandomizedBenchmarking(backend, EXAMPLE_CRB)\n",
    "run_clifford_rb = benchmark_clifford_rb.run()"
   ]
  },
  {
   "cell_type": "code",
   "execution_count": null,
   "id": "14735341479e13cd",
   "metadata": {},
   "outputs": [],
   "source": [
    "result_clifford_rb = benchmark_clifford_rb.analyze()"
   ]
  },
  {
   "cell_type": "code",
   "execution_count": null,
   "id": "7c5a078ce86cbe0c",
   "metadata": {},
   "outputs": [],
   "source": [
    "for plot in result_clifford_rb.plots.values():\n",
    "    display(plot)"
   ]
  },
  {
   "cell_type": "markdown",
   "id": "3628adb59f63bfca",
   "metadata": {},
   "source": [
    "# Interleaved Randomized Benchmarking"
   ]
  },
  {
   "cell_type": "code",
   "execution_count": null,
   "id": "efa911273850ece0",
   "metadata": {},
   "outputs": [],
   "source": [
    "from iqm.benchmarks.randomized_benchmarking.interleaved_rb.interleaved_rb import *\n",
    "import numpy as np"
   ]
  },
  {
   "cell_type": "code",
   "execution_count": null,
   "id": "f16094ed2c66b377",
   "metadata": {},
   "outputs": [],
   "source": [
    "EXAMPLE_IRB_1Q = InterleavedRBConfiguration(\n",
    "    qubits_array=[[0],[1],[2],[3],[4]],\n",
    "    sequence_lengths=[2**(m+1)-1 for m in range(8)],\n",
    "    num_circuit_samples=25,\n",
    "    shots=2**9,\n",
    "    calset_id=None,\n",
    "    parallel_execution=False,\n",
    "    interleaved_gate = \"RGate\",\n",
    "    interleaved_gate_params = [np.pi, 0],\n",
    "    simultaneous_fit = [\"amplitude\", \"offset\"],\n",
    ")"
   ]
  },
  {
   "cell_type": "code",
   "execution_count": null,
   "id": "6dd964b0bd64b75b",
   "metadata": {
    "scrolled": true
   },
   "outputs": [],
   "source": [
    "benchmark_irb_1Q = InterleavedRandomizedBenchmarking(backend, EXAMPLE_IRB_1Q)\n",
    "run_irb_1Q = benchmark_irb_1Q.run()"
   ]
  },
  {
   "cell_type": "code",
   "execution_count": null,
   "id": "e3cb68a9f3455cbb",
   "metadata": {},
   "outputs": [],
   "source": [
    "result_irb_1Q = benchmark_irb_1Q.analyze()"
   ]
  },
  {
   "cell_type": "code",
   "execution_count": null,
   "id": "98c7ad7dbe2ece1d",
   "metadata": {},
   "outputs": [],
   "source": [
    "result_irb_1Q.observations"
   ]
  },
  {
   "cell_type": "code",
   "execution_count": null,
   "id": "a04fe2ff6ac69e23",
   "metadata": {},
   "outputs": [],
   "source": [
    "for v in result_irb_1Q.plots.values():\n",
    "    display(v)"
   ]
  },
  {
   "cell_type": "code",
   "execution_count": null,
   "id": "41dbb8fa3ed3190",
   "metadata": {},
   "outputs": [],
   "source": [
    "EXAMPLE_IRB_2Q = InterleavedRBConfiguration(\n",
    "    qubits_array=[[0,2],[1,2],[2,3],[2,4]],\n",
    "    sequence_lengths=[2**(m+1)-1 for m in range(7)],\n",
    "    num_circuit_samples=25,\n",
    "    shots=2**8,\n",
    "    calset_id=None,\n",
    "    parallel_execution=False,\n",
    "    interleaved_gate = \"CZGate\",\n",
    "    interleaved_gate_params = None,\n",
    "    simultaneous_fit = [\"amplitude\", \"offset\"],\n",
    ")"
   ]
  },
  {
   "cell_type": "code",
   "execution_count": null,
   "id": "c9da15580b9948c8",
   "metadata": {},
   "outputs": [],
   "source": [
    "benchmark_irb_2Q = InterleavedRandomizedBenchmarking(backend, EXAMPLE_IRB_2Q)\n",
    "run_irb_2Q = benchmark_irb_2Q.run()"
   ]
  },
  {
   "cell_type": "code",
   "execution_count": null,
   "id": "c53f2f4ec7629351",
   "metadata": {},
   "outputs": [],
   "source": [
    "result_irb_2Q = benchmark_irb_2Q.analyze()"
   ]
  },
  {
   "cell_type": "code",
   "execution_count": null,
   "id": "1b82ab6e29ad909a",
   "metadata": {},
   "outputs": [],
   "source": [
    "for plot in result_irb_2Q.plots.values():\n",
    "    display(plot)"
   ]
  },
  {
   "cell_type": "code",
   "execution_count": null,
   "id": "a4edf9c6c86a1d38",
   "metadata": {},
   "outputs": [],
   "source": [
    "EXAMPLE_IRB_iswap = InterleavedRBConfiguration(\n",
    "    qubits_array=[[0,2],[1,2]],\n",
    "    sequence_lengths=[2**(m+1)-1 for m in range(7)],\n",
    "    num_circuit_samples=30,\n",
    "    shots=2**10,\n",
    "    calset_id=None,\n",
    "    parallel_execution=False,\n",
    "    interleaved_gate = \"iSwapGate\",\n",
    "    interleaved_gate_params = None,\n",
    "    simultaneous_fit = [\"amplitude\", \"offset\"],\n",
    ")"
   ]
  },
  {
   "cell_type": "code",
   "execution_count": null,
   "id": "e2f665db17343963",
   "metadata": {},
   "outputs": [],
   "source": [
    "benchmark_irb_iswap = InterleavedRandomizedBenchmarking(backend, EXAMPLE_IRB_iswap)\n",
    "run_irb_iswap = benchmark_irb_iswap.run()"
   ]
  },
  {
   "cell_type": "code",
   "execution_count": null,
   "id": "b45d710769f373ed",
   "metadata": {},
   "outputs": [],
   "source": [
    "result_irb_iswap = benchmark_irb_iswap.analyze()"
   ]
  },
  {
   "cell_type": "code",
   "execution_count": null,
   "id": "11c5464b42318ab0",
   "metadata": {},
   "outputs": [],
   "source": [
    "for plot in result_irb_iswap.plots.values():\n",
    "    display(plot)"
   ]
  },
  {
   "cell_type": "markdown",
   "id": "455cd53fbf776282",
   "metadata": {},
   "source": [
    "# Mirror Randomized Benchmarking"
   ]
  },
  {
   "cell_type": "code",
   "execution_count": null,
   "id": "e3350bbe2d29df9a",
   "metadata": {},
   "outputs": [],
   "source": [
    "from iqm.benchmarks.randomized_benchmarking.mirror_rb.mirror_rb import *"
   ]
  },
  {
   "cell_type": "code",
   "execution_count": null,
   "id": "92b95266d4d0d5f4",
   "metadata": {},
   "outputs": [],
   "source": [
    "EXAMPLE_MRB = MirrorRBConfiguration(\n",
    "    qubits_array=[[0,2],\n",
    "                  [0,1,2],\n",
    "                  [0,1,2,3],\n",
    "                  [0,1,2,3,4]],\n",
    "                  #[0,1,3,4,8,9,13,14]],\n",
    "                  # [0,1,3,4,8,9,13,14,17,18],\n",
    "                  # [0,1,3,4,8,9,13,14,17,18,2,7],\n",
    "                  # [0,1,3,4,8,9,13,14,17,18,2,7,5,10],\n",
    "                  # [0,1,3,4,8,9,13,14,17,18,2,7,5,10,6,11]],\n",
    "                  # [0,1,3,4,8,9,13,14,17,18,2,7,5,10,6,11,15,16],\n",
    "                  # [0,1,3,4,8,9,13,14,17,18,2,7,5,10,6,11,15,16,12,19]],\n",
    "    depths_array=[[2**m for m in range(9)],\n",
    "                  [2**m for m in range(8)],\n",
    "                  [2**m for m in range(7)],\n",
    "                  [2**m for m in range(6)]],\n",
    "                  # [2**(m+1)-1 for m in range(6)],\n",
    "                  # [2**(m+1)-1 for m in range(6)],\n",
    "                  # [2**(m+1)-1 for m in range(5)],\n",
    "                  # [2**(m+1)-1 for m in range(5)],\n",
    "                  # [2**(m+1)-1 for m in range(4)],\n",
    "                  # [2**(m+1)-1 for m in range(4)]],\n",
    "    num_circuit_samples=10,\n",
    "    num_pauli_samples=5,\n",
    "    shots=2**8,\n",
    "    qiskit_optim_level=1,\n",
    "    routing_method=\"sabre\",\n",
    "    two_qubit_gate_ensemble={\"CZGate\": 0.8, \"iSwapGate\": 0.2},\n",
    "    density_2q_gates=0.25,\n",
    "    calset_id=None,\n",
    ")"
   ]
  },
  {
   "cell_type": "code",
   "execution_count": null,
   "id": "6054a11b7f656a5d",
   "metadata": {},
   "outputs": [],
   "source": [
    "benchmark_mrb = MirrorRandomizedBenchmarking(backend, EXAMPLE_MRB)\n",
    "run_mrb = benchmark_mrb.run()"
   ]
  },
  {
   "cell_type": "code",
   "execution_count": null,
   "id": "5eb415b96cba5359",
   "metadata": {},
   "outputs": [],
   "source": [
    "result_mrb = benchmark_mrb.analyze()"
   ]
  },
  {
   "cell_type": "code",
   "execution_count": null,
   "id": "6a43f1d8eb53af1d",
   "metadata": {},
   "outputs": [],
   "source": [
    "result_mrb.plots"
   ]
  },
  {
   "cell_type": "code",
   "execution_count": null,
   "id": "6a0aa5ddfe67dee3",
   "metadata": {},
   "outputs": [],
   "source": [
    "key_mrb_plot = \"all_qubit_layouts\"\n",
    "result_mrb.plot(key_mrb_plot)"
   ]
  },
  {
   "cell_type": "markdown",
   "id": "25ff0fa6b6830524",
   "metadata": {},
   "source": [
    "# Quantum Volume"
   ]
  },
  {
   "cell_type": "code",
   "execution_count": null,
   "id": "3e7b58f7911574a",
   "metadata": {},
   "outputs": [],
   "source": [
    "from iqm.benchmarks.quantum_volume.quantum_volume import *"
   ]
  },
  {
   "cell_type": "code",
   "execution_count": null,
   "id": "56cbb3231603b2cb",
   "metadata": {},
   "outputs": [],
   "source": [
    "EXAMPLE_QV = QuantumVolumeConfiguration(\n",
    "    num_circuits=500,\n",
    "    shots=2**8,\n",
    "    calset_id=None,\n",
    "    num_sigmas=2,\n",
    "    choose_qubits_routine=\"custom\",\n",
    "    custom_qubits_array=[[0,1,2,3], [0,1,2,3,4]],#, [0,1,3,4,5]],\n",
    "    qiskit_optim_level=3,\n",
    "    optimize_sqg=True,\n",
    "    max_gates_per_batch=60_000,\n",
    "    rem=True,\n",
    "    mit_shots=1_000,\n",
    ")"
   ]
  },
  {
   "cell_type": "code",
   "execution_count": null,
   "id": "9f227b0d62d8742b",
   "metadata": {},
   "outputs": [],
   "source": [
    "benchmark_qv = QuantumVolumeBenchmark(backend, EXAMPLE_QV)\n",
    "run0_qv = benchmark_qv.run()"
   ]
  },
  {
   "cell_type": "code",
   "execution_count": null,
   "id": "f29b78e6d3216df4",
   "metadata": {},
   "outputs": [],
   "source": [
    "result0_qv = benchmark_qv.analyze()"
   ]
  },
  {
   "cell_type": "code",
   "execution_count": null,
   "id": "1f11cfbf092e7a1d",
   "metadata": {},
   "outputs": [],
   "source": [
    "#run1_qv = benchmark_qv.run()"
   ]
  },
  {
   "cell_type": "code",
   "execution_count": null,
   "id": "3e03c0659fe4daee",
   "metadata": {},
   "outputs": [],
   "source": [
    "#result1_qv = benchmark.analyze(run_index=0)"
   ]
  },
  {
   "cell_type": "code",
   "execution_count": null,
   "id": "1e2fc91b745617e9",
   "metadata": {},
   "outputs": [],
   "source": [
    "for v in result0_qv.plots.values():\n",
    "    display(v)"
   ]
  },
  {
   "cell_type": "markdown",
   "id": "27f8961dc17f1521",
   "metadata": {},
   "source": [
    "# CLOPS"
   ]
  },
  {
   "cell_type": "code",
   "execution_count": null,
   "id": "60d1e157f41fc97d",
   "metadata": {},
   "outputs": [],
   "source": [
    "from iqm.benchmarks.quantum_volume.clops import *"
   ]
  },
  {
   "cell_type": "code",
   "execution_count": null,
   "id": "98ed3716211dea3f",
   "metadata": {},
   "outputs": [],
   "source": [
    "EXAMPLE_CLOPS = CLOPSConfiguration(\n",
    "    qubits=[0,1,2,3,4],\n",
    "    num_circuits=100, # By definition set to 100\n",
    "    num_updates=10, # By definition set to 10\n",
    "    num_shots=100, # By definition set to 100\n",
    "    calset_id=None,\n",
    "    clops_h_bool=True,\n",
    "    qiskit_optim_level=3,\n",
    "    optimize_sqg=True,\n",
    "    routing_method=\"sabre\",\n",
    "    physical_layout=\"fixed\",\n",
    ")"
   ]
  },
  {
   "cell_type": "code",
   "execution_count": null,
   "id": "cfa7ff0d9207f70d",
   "metadata": {},
   "outputs": [],
   "source": [
    "benchmark_clops = CLOPSBenchmark(backend, EXAMPLE_CLOPS)\n",
    "run_clops = benchmark_clops.run()"
   ]
  },
  {
   "cell_type": "code",
   "execution_count": null,
   "id": "576c26711ad688c4",
   "metadata": {},
   "outputs": [],
   "source": [
    "result_clops = benchmark_clops.analyze()"
   ]
  },
  {
   "cell_type": "code",
   "execution_count": null,
   "id": "587086a5cb04b1e3",
   "metadata": {},
   "outputs": [],
   "source": [
    "result_clops.plot_all()"
   ]
  },
  {
   "cell_type": "markdown",
   "id": "abdb0f4b230fb334",
   "metadata": {},
   "source": [
    "# GHZ state fidelity"
   ]
  },
  {
   "cell_type": "code",
   "execution_count": null,
   "id": "7f127bd1bc19b6b0",
   "metadata": {},
   "outputs": [],
   "source": [
    "from iqm.benchmarks.entanglement.ghz import *"
   ]
  },
  {
   "cell_type": "code",
   "execution_count": null,
   "id": "74e2d801266b3105",
   "metadata": {},
   "outputs": [],
   "source": [
    "MINIMAL_GHZ = GHZConfiguration(\n",
    "    state_generation_routine=\"tree\",\n",
    "            custom_qubits_array=[\n",
    "                [0,2],\n",
    "                [0,1,2],\n",
    "                [0,1,2,4],\n",
    "                [0,1,2,3,4],\n",
    "            ],\n",
    "    shots=1000,\n",
    "    fidelity_routine=\"coherences\", \n",
    "    rem=True,\n",
    "    mit_shots=1000,\n",
    ")"
   ]
  },
  {
   "cell_type": "code",
   "execution_count": null,
   "id": "cf1ceb6495d970e0",
   "metadata": {},
   "outputs": [],
   "source": [
    "benchmark_ghz = GHZBenchmark(backend, MINIMAL_GHZ)\n",
    "run_ghz = benchmark_ghz.run()"
   ]
  },
  {
   "cell_type": "code",
   "execution_count": null,
   "id": "4da8732a91084720",
   "metadata": {},
   "outputs": [],
   "source": [
    "result = benchmark_ghz.analyze()"
   ]
  },
  {
   "cell_type": "code",
   "execution_count": null,
   "id": "2ffca54c3a14c41f",
   "metadata": {},
   "outputs": [],
   "source": [
    "# Show observations for a specific qubit layout\n",
    "qubit_layout = [0,1,2]\n",
    "for observation in result.observations:\n",
    "    if observation.identifier.string_identifier == str(qubit_layout):\n",
    "        print(f\"{observation.name}: {observation.value} +/- {observation.uncertainty}\")\n",
    "# Plot fidelities for all layouts\n",
    "result.plot_all()"
   ]
  },
  {
   "cell_type": "markdown",
   "id": "f693035f-a859-426e-aa87-f6607c602f9f",
   "metadata": {},
   "source": [
    "# QScore"
   ]
  },
  {
   "metadata": {},
   "cell_type": "code",
   "outputs": [],
   "execution_count": null,
   "source": [
    "from iqm.benchmarks.optimization.qscore import *\n",
    "import random"
   ],
   "id": "6a25a3a17ea36399"
  },
  {
   "metadata": {},
   "cell_type": "code",
   "outputs": [],
   "execution_count": null,
   "source": [
    "EXAMPLE_QSCORE = QScoreConfiguration(\n",
    "    num_instances = 100,\n",
    "    num_qaoa_layers= 1,\n",
    "    shots = 20_000,\n",
    "    calset_id=None, # calibration set ID, default is None\n",
    "    min_num_nodes =  2,\n",
    "    max_num_nodes = 5,\n",
    "    use_virtual_node = True,\n",
    "    use_classically_optimized_angles = True,\n",
    "    choose_qubits_routine = \"custom\",\n",
    "    custom_qubits_array=[\n",
    "                    [2, 0],\n",
    "                    [2, 0, 1],\n",
    "                    [2, 0, 1, 3],\n",
    "                    [2, 0, 1, 3, 4]],\n",
    "    seed = random.randint(1, 999999),\n",
    "    )"
   ],
   "id": "2eb11c92d788a27f"
  },
  {
   "metadata": {},
   "cell_type": "code",
   "outputs": [],
   "execution_count": null,
   "source": [
    "benchmark_qscore = QScoreBenchmark(backend, EXAMPLE_QSCORE)\n",
    "run_qscore = benchmark_qscore.run()"
   ],
   "id": "f285a2f7165f436b"
  },
  {
   "metadata": {},
   "cell_type": "code",
   "outputs": [],
   "execution_count": null,
   "source": "result_qscore = benchmark_qscore.analyze()",
   "id": "89069aaa0d78c00a"
  },
  {
   "metadata": {},
   "cell_type": "code",
   "outputs": [],
   "execution_count": null,
   "source": "result_qscore.observations",
   "id": "35fe3971071c6d36"
  },
  {
   "metadata": {},
   "cell_type": "code",
   "outputs": [],
   "execution_count": null,
   "source": "result_qscore.plot_all()",
   "id": "8601f4807d1499d9"
  }
 ],
 "metadata": {
  "kernelspec": {
   "display_name": "Python 3 (ipykernel)",
   "language": "python",
   "name": "python3"
  },
  "language_info": {
   "codemirror_mode": {
    "name": "ipython",
    "version": 3
   },
   "file_extension": ".py",
   "mimetype": "text/x-python",
   "name": "python",
   "nbconvert_exporter": "python",
   "pygments_lexer": "ipython3",
   "version": "3.11.10"
  }
 },
 "nbformat": 4,
 "nbformat_minor": 5
}
