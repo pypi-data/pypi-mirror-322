{
 "cells": [
  {
   "cell_type": "markdown",
   "id": "37561aee",
   "metadata": {},
   "source": [
    "# Mirror Randomized Benchmarking (MRB) Example"
   ]
  },
  {
   "cell_type": "code",
   "execution_count": 1,
   "id": "6a0a4d79cb32c77",
   "metadata": {},
   "outputs": [],
   "source": [
    "%load_ext autoreload\n",
    "%autoreload 2"
   ]
  },
  {
   "cell_type": "markdown",
   "id": "3609c0456cb1e450",
   "metadata": {},
   "source": [
    "# Choose (or define) a backend"
   ]
  },
  {
   "cell_type": "code",
   "execution_count": 2,
   "id": "512c71d0e2a67430",
   "metadata": {},
   "outputs": [],
   "source": [
    "#backend = \"fakeadonis\"\n",
    "backend = \"fakeapollo\"\n",
    "#backend = \"garnet\"\n",
    "#backend = \"deneb\""
   ]
  },
  {
   "cell_type": "markdown",
   "id": "1a0fcc4add673805",
   "metadata": {},
   "source": [
    "#### Set IQM Token if using Resonance."
   ]
  },
  {
   "cell_type": "code",
   "execution_count": 3,
   "id": "517822559141b43a",
   "metadata": {},
   "outputs": [],
   "source": [
    "# import os\n",
    "# os.environ[\"IQM_TOKEN\"] = \"\""
   ]
  },
  {
   "cell_type": "markdown",
   "id": "b29c7c60206fb28b",
   "metadata": {},
   "source": [
    "# Mirror RB Configuration"
   ]
  },
  {
   "cell_type": "code",
   "execution_count": 4,
   "id": "d1ad0a5c5bcce1fe",
   "metadata": {},
   "outputs": [],
   "source": [
    "from iqm.benchmarks.randomized_benchmarking.mirror_rb.mirror_rb import *"
   ]
  },
  {
   "cell_type": "code",
   "execution_count": 5,
   "id": "7420c65573a8cc86",
   "metadata": {},
   "outputs": [],
   "source": [
    "EXAMPLE_MRB = MirrorRBConfiguration(\n",
    "    qubits_array=[[0,1],\n",
    "                  [0,1,3,4]],\n",
    "                  #[0,1,3,4,8,9],\n",
    "                  #[0,1,3,4,8,9,13,14],\n",
    "                  # [0,1,3,4,8,9,13,14,17,18],\n",
    "                  # [0,1,3,4,8,9,13,14,17,18,2,7],\n",
    "                  # [0,1,3,4,8,9,13,14,17,18,2,7,5,10],\n",
    "                  # [0,1,3,4,8,9,13,14,17,18,2,7,5,10,6,11]],\n",
    "                  # [0,1,3,4,8,9,13,14,17,18,2,7,5,10,6,11,15,16],\n",
    "                  # [0,1,3,4,8,9,13,14,17,18,2,7,5,10,6,11,15,16,12,19]],\n",
    "    depths_array=[[2**m for m in range(9)],\n",
    "                  [2**m for m in range(8)]],\n",
    "                  # [2**m for m in range(7)],\n",
    "                  # [2**m for m in range(6)],\n",
    "                  # [2**(m+1)-1 for m in range(6)],\n",
    "                  # [2**(m+1)-1 for m in range(6)],\n",
    "                  # [2**(m+1)-1 for m in range(5)],\n",
    "                  # [2**(m+1)-1 for m in range(5)],\n",
    "                  # [2**(m+1)-1 for m in range(4)],\n",
    "                  # [2**(m+1)-1 for m in range(4)]],\n",
    "                  # If only one list of depths is specified, it applies to all qubit layouts\n",
    "                  # If less depths than qubit layouts is specified, the first one is applied\n",
    "    num_circuit_samples=10,\n",
    "    num_pauli_samples=5,\n",
    "    shots=2**8,\n",
    "    two_qubit_gate_ensemble={\"CZGate\": 0.8, \"iSwapGate\": 0.2}, # {GATE: PROBABILITY}\n",
    "    density_2q_gates=0.25,\n",
    "    calset_id=None,\n",
    ")"
   ]
  },
  {
   "cell_type": "markdown",
   "id": "378584db69b47a3",
   "metadata": {},
   "source": [
    "# Run the experiment"
   ]
  },
  {
   "metadata": {},
   "cell_type": "code",
   "outputs": [],
   "execution_count": null,
   "source": [
    "benchmark_mrb = MirrorRandomizedBenchmarking(backend, EXAMPLE_MRB)\n",
    "run_mrb = benchmark_mrb.run()"
   ],
   "id": "9d9e2beada53a589"
  },
  {
   "metadata": {},
   "cell_type": "markdown",
   "source": "# Analyze the results",
   "id": "16c39c581fb43b4a"
  },
  {
   "metadata": {},
   "cell_type": "code",
   "outputs": [],
   "execution_count": null,
   "source": "result_mrb = benchmark_mrb.analyze()",
   "id": "240d6bb84745b49e"
  },
  {
   "cell_type": "markdown",
   "id": "6972a38f",
   "metadata": {},
   "source": [
    "#### List all the keys in the attributes of the dataset"
   ]
  },
  {
   "cell_type": "code",
   "execution_count": null,
   "id": "2aa881e9",
   "metadata": {},
   "outputs": [],
   "source": [
    "attr_keys = sorted([str(x) for x in list(run_mrb.dataset.attrs.keys())])\n",
    "for k in attr_keys:\n",
    "    print(k)"
   ]
  },
  {
   "cell_type": "code",
   "execution_count": null,
   "id": "c2b42e30",
   "metadata": {},
   "outputs": [],
   "source": [
    "run_mrb.dataset.attrs[0]"
   ]
  },
  {
   "cell_type": "markdown",
   "id": "2f374be8",
   "metadata": {},
   "source": [
    "#### The observation object contains the benchmark results"
   ]
  },
  {
   "cell_type": "code",
   "execution_count": null,
   "id": "07d9b4c1",
   "metadata": {},
   "outputs": [],
   "source": [
    "result_mrb.observations"
   ]
  },
  {
   "cell_type": "markdown",
   "id": "83351e6c",
   "metadata": {},
   "source": [
    "#### Generate plots"
   ]
  },
  {
   "cell_type": "code",
   "execution_count": null,
   "id": "5601c349",
   "metadata": {},
   "outputs": [],
   "source": [
    "for k in result_mrb.plots.keys():\n",
    "    print(k)"
   ]
  },
  {
   "cell_type": "code",
   "execution_count": null,
   "id": "b4c7ed9436778f8b",
   "metadata": {},
   "outputs": [],
   "source": [
    "key_mrb_plot = \"all_qubit_layouts\"\n",
    "result_mrb.plot(key_mrb_plot)"
   ]
  }
 ],
 "metadata": {
  "kernelspec": {
   "display_name": "Python 3 (ipykernel)",
   "language": "python",
   "name": "python3"
  },
  "language_info": {
   "codemirror_mode": {
    "name": "ipython",
    "version": 3
   },
   "file_extension": ".py",
   "mimetype": "text/x-python",
   "name": "python",
   "nbconvert_exporter": "python",
   "pygments_lexer": "ipython3",
   "version": "3.11.2"
  }
 },
 "nbformat": 4,
 "nbformat_minor": 5
}
