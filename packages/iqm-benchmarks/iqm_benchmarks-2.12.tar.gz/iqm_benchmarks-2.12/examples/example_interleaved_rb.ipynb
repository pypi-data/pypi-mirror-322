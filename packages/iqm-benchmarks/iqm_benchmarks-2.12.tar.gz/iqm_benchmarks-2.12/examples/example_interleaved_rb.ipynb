{
 "cells": [
  {
   "cell_type": "markdown",
   "id": "cc2610c486953b74",
   "metadata": {},
   "source": [
    "# Interleaved Randomized Benchmarking (IRB) Example"
   ]
  },
  {
   "cell_type": "code",
   "execution_count": null,
   "id": "698fb4b671cd3ad6",
   "metadata": {},
   "outputs": [],
   "source": [
    "%load_ext autoreload\n",
    "%autoreload 2"
   ]
  },
  {
   "cell_type": "markdown",
   "id": "4e8bf5f1f6f32e66",
   "metadata": {},
   "source": [
    "# Choose (or define) a backend"
   ]
  },
  {
   "cell_type": "code",
   "execution_count": null,
   "id": "8318dbaf3ee0af80",
   "metadata": {},
   "outputs": [],
   "source": [
    "#backend = \"fakeadonis\"\n",
    "backend = \"fakeapollo\"\n",
    "#backend = \"garnet\"\n",
    "#backend = \"deneb\""
   ]
  },
  {
   "cell_type": "markdown",
   "id": "109e8a9e33c2d180",
   "metadata": {},
   "source": [
    "Set IQM Token if using Resonance."
   ]
  },
  {
   "cell_type": "code",
   "execution_count": null,
   "id": "f0e2280edb953f15",
   "metadata": {},
   "outputs": [],
   "source": [
    "# import os\n",
    "# os.environ[\"IQM_TOKEN\"] = \"\""
   ]
  },
  {
   "cell_type": "markdown",
   "id": "618056821b1fcf37",
   "metadata": {},
   "source": [
    "# Interleaved Randomized Benchmarking Configuration\n",
    "## 1Q gate IRB"
   ]
  },
  {
   "cell_type": "code",
   "execution_count": null,
   "id": "6abaf54bc9ba2e0c",
   "metadata": {},
   "outputs": [],
   "source": [
    "from iqm.benchmarks.randomized_benchmarking.interleaved_rb.interleaved_rb import *\n",
    "import numpy as np"
   ]
  },
  {
   "cell_type": "code",
   "execution_count": null,
   "id": "2b69f9e9c783bf54",
   "metadata": {},
   "outputs": [],
   "source": [
    "EXAMPLE_IRB_1Q = InterleavedRBConfiguration(\n",
    "    qubits_array=[[0],[2]],#,[4],[6]],[8],[10],[12],[14],[16],[17],[19]],\n",
    "    sequence_lengths=[2**(m+1)-1 for m in range(8)],\n",
    "    num_circuit_samples=25,\n",
    "    shots=2**9,\n",
    "    calset_id=None,\n",
    "    parallel_execution=True,\n",
    "    interleaved_gate = \"RGate\",\n",
    "    interleaved_gate_params = [np.pi, 0],\n",
    "    simultaneous_fit = [\"amplitude\", \"offset\"],\n",
    ")"
   ]
  },
  {
   "cell_type": "markdown",
   "id": "5d217868d4c5897b",
   "metadata": {},
   "source": [
    "# Run the experiment - 1Q gate IRB"
   ]
  },
  {
   "cell_type": "code",
   "execution_count": null,
   "id": "d836c647a82cefac",
   "metadata": {},
   "outputs": [],
   "source": [
    "benchmark_irb_1Q = InterleavedRandomizedBenchmarking(backend, EXAMPLE_IRB_1Q)\n",
    "run_irb_1Q = benchmark_irb_1Q.run()"
   ],
   "id": "d836c647a82cefac"
  },
  {
   "cell_type": "markdown",
   "id": "ad19ed924a39bb98",
   "metadata": {},
   "source": [
    "# Analyze the results - 1Q gate IRB"
   ]
  },
  {
   "cell_type": "code",
   "execution_count": null,
   "id": "bb711c836157e128",
   "metadata": {},
   "outputs": [],
   "source": [
    "result_irb_1Q = benchmark_irb_1Q.analyze()"
   ]
  },
  {
   "cell_type": "code",
   "execution_count": null,
   "id": "b6bee4ac09c4a67c",
   "metadata": {},
   "outputs": [],
   "source": [
    "result_irb_1Q.observations"
   ]
  },
  {
   "cell_type": "code",
   "execution_count": null,
   "id": "d3746a35117f961c",
   "metadata": {},
   "outputs": [],
   "source": [
    "for v in result_irb_1Q.plots.values():\n",
    "    display(v)"
   ]
  },
  {
   "cell_type": "markdown",
   "id": "c11c7ff1d8b91e36",
   "metadata": {},
   "source": [
    "## 2Q gate IRB"
   ]
  },
  {
   "cell_type": "code",
   "execution_count": null,
   "id": "6c9400fe1ed672ea",
   "metadata": {},
   "outputs": [],
   "source": [
    "EXAMPLE_IRB_2Q = InterleavedRBConfiguration(\n",
    "    qubits_array=[[0,1],[3,4]],#,[8,9],[13,14],[17,18],[5,6],[10,11],[15,16]],\n",
    "    sequence_lengths=[2**(m+1)-1 for m in range(7)],\n",
    "    num_circuit_samples=25,\n",
    "    shots=2**8,\n",
    "    calset_id=None, # calibration set ID, default is None\n",
    "    parallel_execution=True, # whether RB is run in parallel - use if you know what you're doing!\n",
    "    interleaved_gate = \"CZGate\",\n",
    "    interleaved_gate_params = None,\n",
    "    simultaneous_fit = [\"amplitude\", \"offset\"],\n",
    ")"
   ]
  },
  {
   "cell_type": "markdown",
   "id": "9975f2029d77e3ee",
   "metadata": {},
   "source": [
    "# Run the experiment - 2Q gate IRB"
   ]
  },
  {
   "cell_type": "code",
   "execution_count": null,
   "id": "3ed6f9af87036737",
   "metadata": {},
   "outputs": [],
   "source": [
    "benchmark_irb_2Q = InterleavedRandomizedBenchmarking(backend, EXAMPLE_IRB_2Q)\n",
    "run_irb_2Q = benchmark_irb_2Q.run()"
   ],
   "id": "3ed6f9af87036737"
  },
  {
   "cell_type": "markdown",
   "id": "6d47b982a63e3891",
   "metadata": {},
   "source": [
    "# Analyze the results - 2Q gate IRB"
   ]
  },
  {
   "cell_type": "code",
   "execution_count": null,
   "id": "afcd8e30f707f92",
   "metadata": {},
   "outputs": [],
   "source": [
    "result_irb_2Q = benchmark_irb_2Q.analyze()"
   ]
  },
  {
   "cell_type": "code",
   "execution_count": null,
   "id": "420e2ce67cdac7cb",
   "metadata": {},
   "outputs": [],
   "source": [
    "for plot in result_irb_2Q.plots.values():\n",
    "    display(plot)"
   ]
  },
  {
   "cell_type": "markdown",
   "id": "3f7eaf4a3dfa74ac",
   "metadata": {},
   "source": [
    "# IRB for non-native gate\n"
   ]
  },
  {
   "cell_type": "code",
   "execution_count": null,
   "id": "e1285e82c29f5967",
   "metadata": {},
   "outputs": [],
   "source": [
    "EXAMPLE_IRB_iswap = InterleavedRBConfiguration(\n",
    "    qubits_array=[[3,4],[8,9]],\n",
    "    sequence_lengths=[2**(m+1)-1 for m in range(7)],\n",
    "    num_circuit_samples=30,\n",
    "    shots=2**10,\n",
    "    calset_id=None, # calibration set ID, default is None\n",
    "    parallel_execution=True, # whether RB is run in parallel - use if you know what you're doing!\n",
    "    interleaved_gate = \"iSwapGate\",\n",
    "    interleaved_gate_params = None,\n",
    "    simultaneous_fit = [\"amplitude\", \"offset\"],\n",
    ")"
   ]
  },
  {
   "cell_type": "code",
   "execution_count": null,
   "id": "22929fe1ed6f7541",
   "metadata": {},
   "outputs": [],
   "source": [
    "benchmark_irb_iswap = InterleavedRandomizedBenchmarking(backend, EXAMPLE_IRB_iswap)\n",
    "run_irb_iswap = benchmark_irb_iswap.run()"
   ],
   "id": "22929fe1ed6f7541"
  },
  {
   "cell_type": "code",
   "execution_count": null,
   "id": "f15698b7584115b4",
   "metadata": {},
   "outputs": [],
   "source": [
    "result_irb_iswap = benchmark_irb_iswap.analyze()"
   ]
  },
  {
   "cell_type": "code",
   "execution_count": null,
   "id": "c9a293c61bb59f2b",
   "metadata": {},
   "outputs": [],
   "source": [
    "for plot in result_irb_iswap.plots.values():\n",
    "    display(plot)"
   ]
  },
  {
   "cell_type": "code",
   "execution_count": null,
   "id": "8e8fa1f5d3e46189",
   "metadata": {},
   "outputs": [],
   "source": []
  }
 ],
 "metadata": {
  "kernelspec": {
   "display_name": "qcvv-suite",
   "language": "python",
   "name": "qcvv-suite"
  },
  "language_info": {
   "codemirror_mode": {
    "name": "ipython",
    "version": 3
   },
   "file_extension": ".py",
   "mimetype": "text/x-python",
   "name": "python",
   "nbconvert_exporter": "python",
   "pygments_lexer": "ipython3",
   "version": "3.11.2"
  }
 },
 "nbformat": 4,
 "nbformat_minor": 5
}
