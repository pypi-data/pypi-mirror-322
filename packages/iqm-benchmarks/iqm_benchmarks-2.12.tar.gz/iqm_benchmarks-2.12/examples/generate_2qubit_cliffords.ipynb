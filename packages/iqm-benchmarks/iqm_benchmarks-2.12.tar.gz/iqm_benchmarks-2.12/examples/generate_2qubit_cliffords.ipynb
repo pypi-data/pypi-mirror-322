{
 "cells": [
  {
   "cell_type": "markdown",
   "id": "400d93d2-3526-4683-9fef-b831176675e3",
   "metadata": {},
   "source": [
    "Generate the decomposition of the 2-qubit Clifford group according to: https://arxiv.org/abs/1402.4848\n",
    "\n",
    "```\n",
    "# Copyright 2024 IQM Benchmarks developers\n",
    "#\n",
    "# Licensed under the Apache License, Version 2.0 (the \"License\");\n",
    "# you may not use this file except in compliance with the License.\n",
    "# You may obtain a copy of the License at\n",
    "#\n",
    "#     http://www.apache.org/licenses/LICENSE-2.0\n",
    "#\n",
    "# Unless required by applicable law or agreed to in writing, software\n",
    "# distributed under the License is distributed on an \"AS IS\" BASIS,\n",
    "# WITHOUT WARRANTIES OR CONDITIONS OF ANY KIND, either express or implied.\n",
    "# See the License for the specific language governing permissions and\n",
    "# limitations under the License.\n",
    "```"
   ]
  },
  {
   "cell_type": "code",
   "execution_count": null,
   "id": "2ae19541-f7d4-4072-a796-fbfc765b0ecc",
   "metadata": {},
   "outputs": [],
   "source": [
    "import pickle\n",
    "from qiskit.quantum_info import Clifford\n",
    "import qiskit.quantum_info as qi\n",
    "from qiskit.circuit.library import CZGate\n",
    "from qiskit import QuantumCircuit\n",
    "import numpy as np"
   ]
  },
  {
   "cell_type": "markdown",
   "id": "e800a91a-6c50-43f8-8a7d-f595ab70c73f",
   "metadata": {},
   "source": [
    "# Generate the 1Q Clifford group"
   ]
  },
  {
   "cell_type": "code",
   "execution_count": null,
   "id": "8df925c9-d88a-47e2-b615-92cbf37fc347",
   "metadata": {},
   "outputs": [],
   "source": [
    "c0 = QuantumCircuit(1)\n",
    "c = [c0.copy() for _ in range(24)]\n",
    "\n",
    "half = np.pi / 2\n",
    "\n",
    "X2 = c0.copy()\n",
    "X2.r(half, 0, 0)  # meaning X/2\n",
    "X2.to_gate()\n",
    "Y2 = c0.copy()\n",
    "Y2.r(half, half, 0)  # meaning Y/2\n",
    "Y2.to_gate()\n",
    "X2m = c0.copy()\n",
    "X2m.r(-half, 0, 0)  # meaning -X/2\n",
    "X2m.to_gate()\n",
    "Y2m = c0.copy()\n",
    "Y2m.r(-half, half, 0)  # meaning -Y/2\n",
    "Y2m.to_gate()\n",
    "\n",
    "# Paulis\n",
    "c[0].name = \"I\"\n",
    "c[0].r(0, 0, 0)\n",
    "c[1].name = \"X\"\n",
    "c[1].r(np.pi, 0, 0)\n",
    "c[2].name = \"Y\"\n",
    "c[2].r(np.pi, half, 0)\n",
    "c[3].name = \"Y, X\"\n",
    "c[3].compose(c[1], inplace=True)\n",
    "c[3].compose(c[2], inplace=True)\n",
    "\n",
    "# 2Pi/3 rotations\n",
    "c[4].name = \"X/2, Y/2\"\n",
    "c[4].compose(Y2, inplace=True)\n",
    "c[4].compose(X2, inplace=True)\n",
    "c[5].name = \"X/2, -Y/2\"\n",
    "c[5].compose(Y2m, inplace=True)\n",
    "c[5].compose(X2, inplace=True)\n",
    "c[6].name = \"-X/2, Y/2\"\n",
    "c[6].compose(Y2, inplace=True)\n",
    "c[6].compose(X2m, inplace=True)\n",
    "c[7].name = \"-X/2, -Y/2\"\n",
    "c[7].compose(Y2m, inplace=True)\n",
    "c[7].compose(X2m, inplace=True)\n",
    "c[8].name = \"Y/2, X/2\"\n",
    "c[8].compose(X2, inplace=True)\n",
    "c[8].compose(Y2, inplace=True)\n",
    "c[9].name = \"Y/2, -X/2\"\n",
    "c[9].compose(X2m, inplace=True)\n",
    "c[9].compose(Y2, inplace=True)\n",
    "c[10].name = \"-Y/2, X/2\"\n",
    "c[10].compose(X2, inplace=True)\n",
    "c[10].compose(Y2m, inplace=True)\n",
    "c[11].name = \"-Y/2, -X/2\"\n",
    "c[11].compose(X2m, inplace=True)\n",
    "c[11].compose(Y2m, inplace=True)\n",
    "\n",
    "# Pi/2 rotations\n",
    "c[12].name = \"X/2\"\n",
    "c[12].compose(X2, inplace=True)\n",
    "c[13].name = \"-X/2\"\n",
    "c[13].compose(X2m, inplace=True)\n",
    "c[14].name = \"Y/2\"\n",
    "c[14].compose(Y2, inplace=True)\n",
    "c[15].name = \"-Y/2\"\n",
    "c[15].compose(Y2m, inplace=True)\n",
    "c[16].name = \"-X/2, Y/2, X/2\"\n",
    "c[16].compose(X2, inplace=True)\n",
    "c[16].compose(Y2, inplace=True)\n",
    "c[16].compose(X2m, inplace=True)\n",
    "c[17].name = \"-X/2, -Y/2, X/2\"\n",
    "c[17].compose(X2, inplace=True)\n",
    "c[17].compose(Y2m, inplace=True)\n",
    "c[17].compose(X2m, inplace=True)\n",
    "\n",
    "# Hadamard-like\n",
    "c[18].name = \"X, Y/2\"\n",
    "c[18].compose(Y2, inplace=True)\n",
    "c[18].compose(c[1], inplace=True)\n",
    "c[19].name = \"X, -Y/2\"\n",
    "c[19].compose(Y2m, inplace=True)\n",
    "c[19].compose(c[1], inplace=True)\n",
    "c[20].name = \"Y, X/2\"\n",
    "c[20].compose(X2, inplace=True)\n",
    "c[20].compose(c[2], inplace=True)\n",
    "c[21].name = \"Y, -X/2\"\n",
    "c[21].compose(X2m, inplace=True)\n",
    "c[21].compose(c[2], inplace=True)\n",
    "c[22].name = \"X/2, Y/2, X/2\"\n",
    "c[22].compose(X2, inplace=True)\n",
    "c[22].compose(Y2, inplace=True)\n",
    "c[22].compose(X2, inplace=True)\n",
    "c[23].name = \"-X/2, Y/2, -X/2\"\n",
    "c[23].compose(X2m, inplace=True)\n",
    "c[23].compose(Y2, inplace=True)\n",
    "c[23].compose(X2m, inplace=True)\n",
    "\n",
    "\n",
    "clifford_sqg = {}\n",
    "for i in range(24):\n",
    "    clifford_sqg[c[i].name] = c[i]\n",
    "\n",
    "S1 = [clifford_sqg[k] for k in [\"I\", \"Y/2, X/2\", \"-X/2, -Y/2\"]]\n",
    "S1X2 = [clifford_sqg[k] for k in [\"X/2\", \"X/2, Y/2, X/2\", \"-Y/2\"]]\n",
    "S1Y2 = [clifford_sqg[k] for k in [\"Y/2\", \"Y, X/2\", \"-X/2, -Y/2, X/2\"]]"
   ]
  },
  {
   "cell_type": "markdown",
   "id": "bf401bf3-16e7-4b52-a9eb-d7030bb93c3a",
   "metadata": {},
   "source": [
    "Verify the condition $\\displaystyle{\\sum_{k,\\,k^\\prime=1}^K}\\left|\\mathrm{tr}\\left(U_{k^\\prime}^{\\dagger}U_k\\right)\\right|^4/K^2 = 2$   (Eq. S2)"
   ]
  },
  {
   "cell_type": "code",
   "execution_count": null,
   "id": "803560e9-cc5c-4d65-a623-03f596e27383",
   "metadata": {},
   "outputs": [],
   "source": [
    "# Check that the generated set for 2Q Cliffords satisfies 2-design condition\n",
    "count = []\n",
    "K = 24\n",
    "c_keys = list(clifford_sqg.keys())\n",
    "aux = 0\n",
    "total_triangle = K * (K - 1) / 2\n",
    "for i in range(K):\n",
    "    c1 = qi.Operator(clifford_sqg[c_keys[i]]).adjoint()\n",
    "    for j in range(i + 1, K):\n",
    "        c2 = qi.Operator(clifford_sqg[c_keys[j]])\n",
    "        c3 = c1 @ c2\n",
    "        tr = np.abs(c3.to_matrix().trace())\n",
    "        count.append(2 * tr**4)\n",
    "        aux += 1\n",
    "        print('\\r', f\"... {total_triangle-aux:.0f} terms left     \", end='')\n",
    "\n",
    "# Add the diagonals\n",
    "count.append((2**4) * K)\n",
    "\n",
    "print(f\"\\nSum: {sum(count)/K**2}\")"
   ]
  },
  {
   "cell_type": "markdown",
   "id": "31f039ea-13ce-4d1f-859c-eef8cb79d853",
   "metadata": {},
   "source": [
    "# Generate the 2Q Clifford group"
   ]
  },
  {
   "cell_type": "code",
   "execution_count": null,
   "id": "e1198a76-0c0b-441c-bee2-6a85f50f506a",
   "metadata": {},
   "outputs": [],
   "source": [
    "clifford_2qg = {}"
   ]
  },
  {
   "cell_type": "code",
   "execution_count": null,
   "id": "347a9a5e-ba45-4d0b-968b-30a571e2e7bb",
   "metadata": {},
   "outputs": [],
   "source": [
    "# Class 1: products of Cliffords\n",
    "c2q_0 = QuantumCircuit(2)\n",
    "c2q = [c2q_0.copy() for _ in range(24**2)]\n",
    "counter = 0\n",
    "for c1 in clifford_sqg.values():\n",
    "    for c2 in clifford_sqg.values():\n",
    "        c2q[counter].compose(c1, [0], inplace=True)\n",
    "        c2q[counter].compose(c2, [1], inplace=True)\n",
    "        label = str(Clifford(c2q[counter]).to_labels(mode=\"B\"))\n",
    "        c2q[counter].name = f\"sqg_class_{label}\"\n",
    "        clifford_2qg[label] = c2q[counter]\n",
    "        counter += 1\n",
    "\n",
    "print(counter == 24**2)\n",
    "print(len(clifford_2qg.values()) == 24**2)"
   ]
  },
  {
   "cell_type": "code",
   "execution_count": null,
   "id": "c8310054-3ca2-4cf0-906a-2fc0eb07282a",
   "metadata": {},
   "outputs": [],
   "source": [
    "# Class 2: CNOT-like\n",
    "c2q_0 = QuantumCircuit(2)\n",
    "c2q = [c2q_0.copy() for _ in range((24**2) * (3**2))]\n",
    "counter = 0\n",
    "for c1 in clifford_sqg.values():\n",
    "    for c2 in clifford_sqg.values():\n",
    "        for s1 in S1:\n",
    "            for sy2 in S1Y2:\n",
    "                c2q[counter].compose(c1, [0], inplace=True)\n",
    "                c2q[counter].compose(c2, [1], inplace=True)\n",
    "                c2q[counter].compose(CZGate(), [0, 1], inplace=True)\n",
    "                c2q[counter].compose(s1, [0], inplace=True)\n",
    "                c2q[counter].compose(sy2, [1], inplace=True)\n",
    "                label = str(Clifford(c2q[counter]).to_labels(mode=\"B\"))\n",
    "                c2q[counter].name = f\"cnot_class_{label}\"\n",
    "                clifford_2qg[label] = c2q[counter]\n",
    "                counter += 1\n",
    "\n",
    "print(counter == (24**2) * (3**2))\n",
    "print(len(clifford_2qg.values()) == (24**2) * (3**2) + 24**2)"
   ]
  },
  {
   "cell_type": "code",
   "execution_count": null,
   "id": "6d483cbf-bc01-45b3-94df-b042c540f67d",
   "metadata": {},
   "outputs": [],
   "source": [
    "# Class 3: iSWAP-like\n",
    "c2q_0 = QuantumCircuit(2)\n",
    "c2q = [c2q_0.copy() for _ in range((24**2) * (3**2))]\n",
    "counter = 0\n",
    "for c1 in clifford_sqg.values():\n",
    "    for c2 in clifford_sqg.values():\n",
    "        for sy1 in S1Y2:\n",
    "            for sx2 in S1X2:\n",
    "                c2q[counter].compose(c1, [0], inplace=True)\n",
    "                c2q[counter].compose(c2, [1], inplace=True)\n",
    "                c2q[counter].compose(CZGate(), [0, 1], inplace=True)\n",
    "                c2q[counter].compose(Y2, [0], inplace=True)\n",
    "                c2q[counter].compose(X2m, [1], inplace=True)\n",
    "                c2q[counter].compose(CZGate(), [0, 1], inplace=True)\n",
    "                c2q[counter].compose(sy1, [0], inplace=True)\n",
    "                c2q[counter].compose(sx2, [1], inplace=True)\n",
    "                label = str(Clifford(c2q[counter]).to_labels(mode=\"B\"))\n",
    "                c2q[counter].name = f\"i_swap_class_{label}\"\n",
    "                clifford_2qg[label] = c2q[counter]\n",
    "                counter += 1\n",
    "\n",
    "print(counter == (24**2) * (3**2))\n",
    "print(len(clifford_2qg.values()) == 2 * (24**2) * (3**2) + 24**2)"
   ]
  },
  {
   "cell_type": "code",
   "execution_count": null,
   "id": "5db95a04-c3ea-4791-a2d3-586c15838837",
   "metadata": {},
   "outputs": [],
   "source": [
    "# Class 4: SWAP-like\n",
    "c2q_0 = QuantumCircuit(2)\n",
    "c2q = [c2q_0.copy() for _ in range((24**2) * (3**2))]\n",
    "counter = 0\n",
    "for c1 in clifford_sqg.values():\n",
    "    for c2 in clifford_sqg.values():\n",
    "        c2q[counter].compose(c1, [0], inplace=True)\n",
    "        c2q[counter].compose(c2, [1], inplace=True)\n",
    "        c2q[counter].compose(CZGate(), [0, 1], inplace=True)\n",
    "        c2q[counter].compose(Y2m, [0], inplace=True)\n",
    "        c2q[counter].compose(Y2, [1], inplace=True)\n",
    "        c2q[counter].compose(CZGate(), [0, 1], inplace=True)\n",
    "        c2q[counter].compose(Y2, [0], inplace=True)\n",
    "        c2q[counter].compose(Y2m, [1], inplace=True)\n",
    "        c2q[counter].compose(CZGate(), [0, 1], inplace=True)\n",
    "        c2q[counter].compose(Y2, [1], inplace=True)\n",
    "        label = str(Clifford(c2q[counter]).to_labels(mode=\"B\"))\n",
    "        c2q[counter].name = f\"swap_class_{label}\"\n",
    "        clifford_2qg[label] = c2q[counter]\n",
    "        counter += 1\n",
    "\n",
    "print(counter == 24**2)\n",
    "print(len(clifford_2qg.values()) == 2 * ((24**2) * (3**2) + 24**2))"
   ]
  },
  {
   "cell_type": "markdown",
   "id": "bf436f32-63ac-45b6-8192-7ef1e0e6257d",
   "metadata": {},
   "source": [
    "# Dump on a pickle file"
   ]
  },
  {
   "cell_type": "code",
   "execution_count": null,
   "id": "250e91547db494cc",
   "metadata": {},
   "outputs": [],
   "source": [
    "clifford_1qg = {str(Clifford(c[i]).to_labels(mode=\"B\")): c[i] for i in range(24)}\n",
    "with open('clifford_1q.pkl', 'wb') as f:\n",
    "    pickle.dump(clifford_1qg, f)"
   ]
  },
  {
   "cell_type": "code",
   "execution_count": null,
   "id": "7d8fcd1e-4a39-4a20-a539-3a2a74b17dc0",
   "metadata": {},
   "outputs": [],
   "source": [
    "with open('clifford_2q.pkl', 'wb') as f:\n",
    "    pickle.dump(clifford_2qg, f)"
   ]
  },
  {
   "cell_type": "markdown",
   "id": "7c9b4518-36a9-403d-b70a-5424afb7c8ff",
   "metadata": {},
   "source": [
    "# Load"
   ]
  },
  {
   "cell_type": "code",
   "execution_count": null,
   "id": "b841cf44-34c5-426a-bfda-0c47dd02ebc4",
   "metadata": {},
   "outputs": [],
   "source": [
    "with open('clifford_2q.pkl', 'rb') as f:\n",
    "    loaded_dict = pickle.load(f)"
   ]
  },
  {
   "cell_type": "markdown",
   "id": "5123fd51-b8f4-461b-b19b-8672f9677488",
   "metadata": {},
   "source": [
    "# Count elements"
   ]
  },
  {
   "cell_type": "code",
   "execution_count": null,
   "id": "103f8938-f530-4a63-a82e-3bfc54eb91a2",
   "metadata": {},
   "outputs": [],
   "source": [
    "def count_rcz(c_list):\n",
    "    no_cz = []\n",
    "    no_r = []\n",
    "    for c in c_list:\n",
    "        if 'cz' in c.count_ops().keys():\n",
    "            no_cz.append(c.count_ops()['cz'])\n",
    "        else:\n",
    "            no_cz.append(0)\n",
    "        if 'r' in c.count_ops().keys():\n",
    "            no_r.append(c.count_ops()['r'])\n",
    "        else:\n",
    "            print(c.count_ops().keys())\n",
    "            no_r.append(0)\n",
    "    return no_cz, no_r"
   ]
  },
  {
   "cell_type": "markdown",
   "id": "00f3cc89-5061-4155-88b8-889c43dd4071",
   "metadata": {},
   "source": [
    "## 2Q"
   ]
  },
  {
   "cell_type": "code",
   "execution_count": null,
   "id": "1020eeb4-9148-45e5-83ea-bb67e3d1efa5",
   "metadata": {},
   "outputs": [],
   "source": [
    "num_2qcz, num_2qr = count_rcz(list(loaded_dict.values()))\n",
    "print(f\"cz: {np.mean(num_2qcz)}, r: {np.mean(num_2qr)}\")"
   ]
  },
  {
   "cell_type": "markdown",
   "id": "d5aeb0bd-b74e-4cfe-a18d-2c79312ca1c7",
   "metadata": {},
   "source": [
    "## 1Q"
   ]
  },
  {
   "cell_type": "code",
   "execution_count": null,
   "id": "1c81dfc7-e731-4ff1-9ef8-65147cca11df",
   "metadata": {},
   "outputs": [],
   "source": [
    "num_1qcz, num_1qr = count_rcz(list(clifford_sqg.values()))\n",
    "print(f\"cz: {np.mean(num_1qcz)}, r: {np.mean(num_1qr)}\")"
   ]
  },
  {
   "cell_type": "markdown",
   "id": "abf1d643-60da-48f3-ac68-f0ce3ec2b7db",
   "metadata": {},
   "source": [
    "# A way to work out the inverse of sequences"
   ]
  },
  {
   "cell_type": "code",
   "execution_count": null,
   "id": "38cec233-7d90-45bd-baeb-19d9171bbf6a",
   "metadata": {},
   "outputs": [],
   "source": [
    "length = 200\n",
    "g = []\n",
    "qc = QuantumCircuit(2)\n",
    "for i in range(length):\n",
    "    g.append(list(loaded_dict.values())[np.random.randint(11520)])\n",
    "    if length <= 10:\n",
    "        print(f\"g{[i]}: {g[i].name}\")\n",
    "    qc.compose(g[i], inplace=True)\n",
    "    qc.barrier()\n",
    "\n",
    "if length <= 10:\n",
    "    display(qc.draw(output='mpl', style='iqp', fold=0))\n",
    "\n",
    "print(\"\\nInverse:\")\n",
    "qc_aux = QuantumCircuit(2)\n",
    "qc_aux.compose(qc, inplace=True)\n",
    "label = str(Clifford(qc_aux).adjoint().to_labels(mode=\"B\"))\n",
    "qcinv = loaded_dict[label]\n",
    "display(qcinv.draw(output='mpl', style='iqp'))\n",
    "\n",
    "op_seq = qi.Operator(qc) @ qi.Operator(qcinv)\n",
    "print(f\"\\nComposition of the two is identity modulo phase: {op_seq.equiv(qi.Pauli('II'))}\")\n",
    "display(op_seq.draw(output=\"latex\"))"
   ]
  },
  {
   "cell_type": "markdown",
   "id": "fd0d7897-3905-4f44-9f3a-46b449fc5285",
   "metadata": {},
   "source": [
    "# 2-design condition\n",
    "Verify the condition $\\displaystyle{\\sum_{k,\\,k^\\prime=1}^K}\\left|\\mathrm{tr}\\left(U_{k^\\prime}^{\\dagger}U_k\\right)\\right|^4/K^2 = 2$   (Eq. S2)\n",
    "\n",
    "**WARNING**: in total there are $n=11,520^2 = 132,710,400$ values in the sum !\n",
    "\n",
    "It suffices to compute the values in a triangular part of the matrix $U_{k^\\prime}^{\\dagger}U_k$  --- however there are still $n(n-1)/2$ such terms ! "
   ]
  },
  {
   "cell_type": "code",
   "execution_count": null,
   "id": "0bacef12-79f5-4efa-9973-fee6a69d24c6",
   "metadata": {},
   "outputs": [],
   "source": [
    "# Check that the generated set for 2Q Cliffords satisfies 2-design condition\n",
    "count = []\n",
    "K = 11520\n",
    "c_keys = list(loaded_dict.keys())\n",
    "total_triangle = K * (K - 1) / 2\n",
    "\n",
    "ops = []\n",
    "print(\"Converting Cliffords to Operators ...\")\n",
    "for i in range(K):\n",
    "    ops.append(qi.Operator(loaded_dict[c_keys[i]]))\n",
    "\n",
    "print(\"Computing the sum ...\")\n",
    "aux = 0\n",
    "for i in range(K):\n",
    "    adj = ops[i].adjoint()\n",
    "    for j in range(i + 1, K):\n",
    "        prod = adj @ ops[j]\n",
    "        tr = np.abs(prod.to_matrix().trace())\n",
    "        count.append(2 * tr**4)\n",
    "\n",
    "        aux += 1\n",
    "        if aux % 100000 == 0 or aux == total_triangle:\n",
    "            print('\\r', f\"... {total_triangle-aux:.0f} terms left     \", end='')\n",
    "\n",
    "# Add the diagonals\n",
    "count.append((4**4) * K)\n",
    "\n",
    "print(f\"\\nDone.\\n\\nSum: {sum(count)/K**2}\")"
   ]
  },
  {
   "cell_type": "code",
   "execution_count": null,
   "id": "64831860-fc32-4e42-996e-126e771563a7",
   "metadata": {},
   "outputs": [],
   "source": []
  }
 ],
 "metadata": {
  "kernelspec": {
   "display_name": "qcvv-suite",
   "language": "python",
   "name": "qcvv-suite"
  },
  "language_info": {
   "codemirror_mode": {
    "name": "ipython",
    "version": 3
   },
   "file_extension": ".py",
   "mimetype": "text/x-python",
   "name": "python",
   "nbconvert_exporter": "python",
   "pygments_lexer": "ipython3",
   "version": "3.11.2"
  }
 },
 "nbformat": 4,
 "nbformat_minor": 5
}
