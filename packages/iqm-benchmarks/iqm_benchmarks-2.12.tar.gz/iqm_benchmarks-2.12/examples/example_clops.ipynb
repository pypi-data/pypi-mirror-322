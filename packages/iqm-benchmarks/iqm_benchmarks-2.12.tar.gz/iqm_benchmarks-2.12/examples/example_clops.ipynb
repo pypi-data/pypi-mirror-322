{
 "cells": [
  {
   "cell_type": "markdown",
   "id": "c7042cce",
   "metadata": {},
   "source": [
    "# CLOPS Benchmark Example"
   ]
  },
  {
   "cell_type": "code",
   "execution_count": null,
   "id": "initial_id",
   "metadata": {},
   "outputs": [],
   "source": [
    "%load_ext autoreload\n",
    "%autoreload 2"
   ]
  },
  {
   "cell_type": "markdown",
   "id": "65b98c60877cf03f",
   "metadata": {},
   "source": [
    "# Choose (or define) a backend"
   ]
  },
  {
   "cell_type": "code",
   "execution_count": null,
   "id": "d3a3be5b1960d3b9",
   "metadata": {},
   "outputs": [],
   "source": [
    "#backend = \"fakeadonis\"\n",
    "backend = \"fakeapollo\"\n",
    "#backend = \"garnet\"\n",
    "#backend = \"deneb\""
   ]
  },
  {
   "cell_type": "markdown",
   "id": "c49c1c8b9953e94b",
   "metadata": {},
   "source": [
    "#### Set IQM Token if using Resonance"
   ]
  },
  {
   "cell_type": "code",
   "execution_count": null,
   "id": "727b628b003eb025",
   "metadata": {},
   "outputs": [],
   "source": [
    "# import os\n",
    "# os.environ[\"IQM_TOKEN\"] = \"xxxxxx\""
   ]
  },
  {
   "cell_type": "markdown",
   "id": "11f4816cf86a142a",
   "metadata": {},
   "source": [
    "# CLOPS Configuration"
   ]
  },
  {
   "cell_type": "code",
   "execution_count": null,
   "id": "236a67324f5f554f",
   "metadata": {},
   "outputs": [],
   "source": [
    "from iqm.benchmarks.quantum_volume.clops import *"
   ]
  },
  {
   "cell_type": "code",
   "execution_count": null,
   "id": "9df606975f35561e",
   "metadata": {},
   "outputs": [],
   "source": [
    "EXAMPLE_CLOPS = CLOPSConfiguration(\n",
    "    qubits=[10,15,16,19],\n",
    "    num_circuits=100, # By definition set to 100\n",
    "    num_updates=10, # By definition set to 10\n",
    "    num_shots=100, # By definition set to 100\n",
    "    calset_id=None,\n",
    "    clops_h_bool=True,\n",
    ")"
   ]
  },
  {
   "cell_type": "markdown",
   "id": "387dff4c99d48389",
   "metadata": {},
   "source": [
    "# Run the experiment"
   ]
  },
  {
   "cell_type": "code",
   "execution_count": null,
   "id": "248c9b2867f5c7b2",
   "metadata": {
    "scrolled": true
   },
   "outputs": [],
   "source": [
    "benchmark_clops = CLOPSBenchmark(backend, EXAMPLE_CLOPS)\n",
    "run_clops = benchmark_clops.run()"
   ]
  },
  {
   "cell_type": "markdown",
   "id": "5337ca4c261471f2",
   "metadata": {},
   "source": [
    "# Perform Analysis"
   ]
  },
  {
   "cell_type": "code",
   "execution_count": null,
   "id": "a8f00319edb44e82",
   "metadata": {},
   "outputs": [],
   "source": [
    "result_clops = benchmark_clops.analyze()"
   ]
  },
  {
   "cell_type": "markdown",
   "id": "edc44f28",
   "metadata": {},
   "source": [
    "#### List all the keys in the attributes of the dataset"
   ]
  },
  {
   "cell_type": "code",
   "execution_count": null,
   "id": "99df6217",
   "metadata": {},
   "outputs": [],
   "source": [
    "for k in run_clops.dataset.attrs.keys():\n",
    "    print(k)"
   ]
  },
  {
   "cell_type": "code",
   "execution_count": null,
   "id": "acf10f20",
   "metadata": {},
   "outputs": [],
   "source": [
    "run_clops.dataset.attrs[\"operation_counts\"]"
   ]
  },
  {
   "cell_type": "markdown",
   "id": "d273c3f0",
   "metadata": {},
   "source": [
    "#### The observation object contains the benchmark results"
   ]
  },
  {
   "cell_type": "code",
   "execution_count": null,
   "id": "352897190f3b3c5",
   "metadata": {},
   "outputs": [],
   "source": [
    "result_clops.observations"
   ]
  },
  {
   "cell_type": "markdown",
   "id": "583e5e62",
   "metadata": {},
   "source": [
    "#### Generate plots"
   ]
  },
  {
   "cell_type": "code",
   "execution_count": null,
   "id": "1b9de8da9d22251d",
   "metadata": {},
   "outputs": [],
   "source": [
    "result_clops.plot_all()"
   ]
  },
  {
   "cell_type": "code",
   "execution_count": null,
   "id": "044e8d5e",
   "metadata": {},
   "outputs": [],
   "source": []
  }
 ],
 "metadata": {
  "kernelspec": {
   "display_name": "qcvv-suite",
   "language": "python",
   "name": "qcvv-suite"
  },
  "language_info": {
   "codemirror_mode": {
    "name": "ipython",
    "version": 3
   },
   "file_extension": ".py",
   "mimetype": "text/x-python",
   "name": "python",
   "nbconvert_exporter": "python",
   "pygments_lexer": "ipython3",
   "version": "3.11.2"
  }
 },
 "nbformat": 4,
 "nbformat_minor": 5
}
