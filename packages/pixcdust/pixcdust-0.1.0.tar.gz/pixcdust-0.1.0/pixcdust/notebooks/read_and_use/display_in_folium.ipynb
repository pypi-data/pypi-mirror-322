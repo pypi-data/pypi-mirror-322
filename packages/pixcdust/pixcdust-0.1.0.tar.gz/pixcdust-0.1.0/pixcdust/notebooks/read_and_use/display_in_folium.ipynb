{
 "cells": [
  {
   "cell_type": "markdown",
   "metadata": {
    "scrolled": true
   },
   "source": [
    "# Use Folium to display data in a nice interactive leaflet map\n",
    "Though not the most straightforward and efficient compared to QGIS or other python solutions, this would allow you to dispaly your data in leaflet starting from a GeoDataFrame\n",
    "\n"
   ]
  },
  {
   "cell_type": "code",
   "execution_count": null,
   "metadata": {},
   "outputs": [],
   "source": [
    "\n",
    "import geopandas as gpd\n",
    "import folium\n",
    "import branca.colormap as cmp\n"
   ]
  },
  {
   "cell_type": "markdown",
   "metadata": {},
   "source": [
    "## Read data\n",
    "using geopandas or your favorite PixCDust Reader"
   ]
  },
  {
   "cell_type": "code",
   "execution_count": null,
   "metadata": {},
   "outputs": [],
   "source": [
    "from pixcdust.readers.gpkg import PixCGpkgReader\n",
    "\n",
    "# nb: you may specify \n",
    "pixc_read = PixCGpkgReader(\n",
    "    \"/tmp/my_awesome_pixc_gpkg.gpkg\"\n",
    ")\n"
   ]
  },
  {
   "cell_type": "code",
   "execution_count": null,
   "metadata": {},
   "outputs": [],
   "source": [
    "pixc_read.layers"
   ]
  },
  {
   "cell_type": "code",
   "execution_count": null,
   "metadata": {},
   "outputs": [],
   "source": [
    "layer_h3 = pixc_read.read_single_layer('8_570_065R_20240103T145325_h3')\n",
    "layer_h3 = layer_h3[\n",
    "    (layer_h3['mean']>= 0) & (layer_h3['mean']< 5.)\n",
    "]\n"
   ]
  },
  {
   "cell_type": "markdown",
   "metadata": {},
   "source": [
    "## display on folium map\n",
    "you need a geodataframe for that"
   ]
  },
  {
   "cell_type": "code",
   "execution_count": null,
   "metadata": {},
   "outputs": [],
   "source": [
    "# creating a colormap\n",
    "linear = cmp.LinearColormap(\n",
    "    ['blue', 'purple', 'orange', 'yellow'],\n",
    "    vmin=1, vmax=3,\n",
    "    caption='Water Surface Elevation (m)' #Caption for Color scale or Legend\n",
    ")\n",
    "# Initiating map\n",
    "m = folium.Map([50.76, 2.22], zoom_start=13, tiles=\"cartodbpositron\")\n",
    "\n",
    "folium.GeoJson(\n",
    "    layer_h3,\n",
    "    style_function = lambda row:  {\n",
    "        'fillColor': linear(row['properties'][\"mean\"]),\n",
    "        'weight': 0,          #how thick the border has to be\n",
    "        'fillOpacity': 1\n",
    "    },\n",
    ").add_to(m)\n",
    "linear.add_to(m)   #adds colorscale and legend\n",
    "m"
   ]
  },
  {
   "cell_type": "code",
   "execution_count": null,
   "metadata": {},
   "outputs": [],
   "source": []
  }
 ],
 "metadata": {
  "kernelspec": {
   "display_name": ".venv",
   "language": "python",
   "name": "python3"
  },
  "language_info": {
   "codemirror_mode": {
    "name": "ipython",
    "version": 3
   },
   "file_extension": ".py",
   "mimetype": "text/x-python",
   "name": "python",
   "nbconvert_exporter": "python",
   "pygments_lexer": "ipython3",
   "version": "3.10.12"
  }
 },
 "nbformat": 4,
 "nbformat_minor": 4
}
