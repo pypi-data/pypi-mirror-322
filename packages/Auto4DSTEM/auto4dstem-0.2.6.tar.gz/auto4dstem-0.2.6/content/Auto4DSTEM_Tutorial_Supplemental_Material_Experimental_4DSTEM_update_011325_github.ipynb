{
 "cells": [
  {
   "cell_type": "markdown",
   "id": "f8c6e7d6",
   "metadata": {},
   "source": [
    "# Extremely Noisy 4-D STEM Strain Mapping Using Cycle Consistent Spatial Transforming Autoencoders (Experimental 4dstem)"
   ]
  },
  {
   "cell_type": "markdown",
   "id": "28b04092",
   "metadata": {},
   "source": [
    "## Package Installation"
   ]
  },
  {
   "cell_type": "code",
   "execution_count": null,
   "id": "29965f80",
   "metadata": {},
   "outputs": [],
   "source": [
    "import sys\n",
    "#!{sys.executable} -m pip install -i https://test.pypi.org/simple/ Auto4DSTEM==0.7.1\n",
    "!{sys.executable} -m pip install -U Auto4DSTEM"
   ]
  },
  {
   "cell_type": "markdown",
   "id": "90f69559",
   "metadata": {},
   "source": [
    "## Package Loading"
   ]
  },
  {
   "cell_type": "code",
   "execution_count": null,
   "id": "07e732b3",
   "metadata": {},
   "outputs": [],
   "source": [
    "%load_ext autoreload\n",
    "%autoreload 2\n",
    "import os\n",
    "import torch\n",
    "import warnings\n",
    "import numpy as np\n",
    "import matplotlib.pyplot as plt\n",
    "import matplotlib.pylab as pylab\n",
    "from cmcrameri import cm\n",
    "# from Auto4DSTEM.src.auto4dstem.Data.DataProcess import data_translated\n",
    "# from Auto4DSTEM.src.auto4dstem.nn.Train_Function import TrainClass\n",
    "# from Auto4DSTEM.src.auto4dstem.Viz.util import mask_class, upsample_mask, center_of_mass,\\\n",
    "#                                 translate_base, select_points, generate_classification\n",
    "# from Auto4DSTEM.src.auto4dstem.Viz.viz import set_format_Auto4D, visualize_real_4dstem\n",
    "from auto4dstem.Data.DataProcess import data_translated\n",
    "from auto4dstem.nn.Train_Function import TrainClass\n",
    "from auto4dstem.Viz.util import mask_class, upsample_mask, center_of_mass,\\\n",
    "                                translate_base, select_points, generate_classification\n",
    "from auto4dstem.Viz.viz import set_format_Auto4D, visualize_real_4dstem\n",
    "from m3util.util.IO import make_folder, download_files_from_txt"
   ]
  },
  {
   "cell_type": "code",
   "execution_count": null,
   "id": "0d09c4bb",
   "metadata": {},
   "outputs": [],
   "source": [
    "torch.__version__"
   ]
  },
  {
   "cell_type": "code",
   "execution_count": null,
   "id": "cac8bc9f",
   "metadata": {},
   "outputs": [],
   "source": [
    "import cv2\n",
    "cv2.__version__"
   ]
  },
  {
   "cell_type": "markdown",
   "id": "6a32dd17",
   "metadata": {},
   "source": [
    "## Device Setting"
   ]
  },
  {
   "cell_type": "code",
   "execution_count": null,
   "id": "e5f31d08",
   "metadata": {},
   "outputs": [],
   "source": [
    "os.environ[\"CUDA_DEVICE_ORDER\"]=\"PCI_BUS_ID\"\n",
    "os.environ[\"CUDA_VISIBLE_DEVICES\"]=\"2\"\n",
    "\n",
    "if torch.cuda.is_available():\n",
    "    device = torch.device('cuda')\n",
    "    print(\"Using GPU\")\n",
    "else:\n",
    "    device = torch.device('cpu')\n",
    "    print(\"Using CPU\")"
   ]
  },
  {
   "cell_type": "markdown",
   "id": "baa99eb2",
   "metadata": {},
   "source": [
    "## Visualization Format"
   ]
  },
  {
   "cell_type": "code",
   "execution_count": null,
   "id": "9ed0a532",
   "metadata": {},
   "outputs": [],
   "source": [
    "set_format = set_format_Auto4D()\n",
    "pylab.rcParams.update(set_format)"
   ]
  },
  {
   "cell_type": "code",
   "execution_count": null,
   "id": "412afc50",
   "metadata": {},
   "outputs": [],
   "source": [
    "# ignore warning scripts\n",
    "warnings.filterwarnings('ignore') "
   ]
  },
  {
   "cell_type": "markdown",
   "id": "a42560b1",
   "metadata": {},
   "source": [
    "## Download Data and Pre-Trained Models"
   ]
  },
  {
   "cell_type": "code",
   "execution_count": null,
   "id": "768bcdfa",
   "metadata": {},
   "outputs": [],
   "source": [
    "folder_name = 'Experimental_4dstem/Extremely_Noisy_4DSTEM_Strain_Mapping_Using_CC_ST_AE_Experimental'\n",
    "file_download =  \"Experimental_4dstem/Experimental_label_weights_affine_para\""
   ]
  },
  {
   "cell_type": "code",
   "execution_count": null,
   "id": "fe4f1e92",
   "metadata": {},
   "outputs": [],
   "source": [
    "download_files_from_txt(file_download,folder_name)"
   ]
  },
  {
   "cell_type": "markdown",
   "id": "fd528395",
   "metadata": {},
   "source": [
    "## Visualize results in notebook"
   ]
  },
  {
   "cell_type": "code",
   "execution_count": null,
   "id": "aaf0088b",
   "metadata": {},
   "outputs": [],
   "source": [
    "img_show = True\n",
    "if img_show:\n",
    "    %matplotlib inline\n",
    "else:\n",
    "    plt.ioff()"
   ]
  },
  {
   "cell_type": "markdown",
   "id": "e146c725",
   "metadata": {},
   "source": [
    "# $WS_2WSe_2$ 4-D STEM"
   ]
  },
  {
   "cell_type": "markdown",
   "id": "06939651",
   "metadata": {},
   "source": [
    "## Build mask for training and generating results"
   ]
  },
  {
   "cell_type": "markdown",
   "id": "5297bc50",
   "metadata": {},
   "source": [
    "### Build Mask"
   ]
  },
  {
   "cell_type": "code",
   "execution_count": null,
   "id": "9adf7a11",
   "metadata": {},
   "outputs": [],
   "source": [
    "# set mask class\n",
    "set_mask = mask_class(img_size=[120,120])\n",
    "# generate mask \n",
    "mask_tensor, mask_list = set_mask.mask_ring(radius_1=12, radius_2 = 45)"
   ]
  },
  {
   "cell_type": "markdown",
   "id": "9218c8cf",
   "metadata": {},
   "source": [
    "## 1st Training Process "
   ]
  },
  {
   "cell_type": "markdown",
   "id": "1125ea83",
   "metadata": {},
   "source": [
    "### Set File Initial, Load Data and Pre-Trained Weights"
   ]
  },
  {
   "cell_type": "code",
   "execution_count": null,
   "id": "a170934d",
   "metadata": {},
   "outputs": [],
   "source": [
    "data_path = os.path.abspath(f'{folder_name}/data_x256_y256_raw.npy')\n",
    "file_name = 'WS2WSe2'"
   ]
  },
  {
   "cell_type": "markdown",
   "id": "fa7d6849",
   "metadata": {},
   "source": [
    "### Initialize the training class from real dataset"
   ]
  },
  {
   "cell_type": "code",
   "execution_count": null,
   "id": "7a15f09d",
   "metadata": {},
   "outputs": [],
   "source": [
    "real_tc = TrainClass(data_path,\n",
    "                 device = device,\n",
    "                 crop = ((2,122),(2,122)),\n",
    "                 transpose= (2,3,0,1),\n",
    "                 background_intensity =  False,\n",
    "                 standard_scale = 1.0,\n",
    "                 en_original_step_size = [120, 120],\n",
    "                 pool_list =  [4, 3, 2],\n",
    "                 up_list = [2, 3, 4],\n",
    "                 num_base = 2,\n",
    "                 up_size = 480,\n",
    "                 scale_limit = 0.05,\n",
    "                 shear_limit = 0.1,\n",
    "                 rotation_limit = 0.1,\n",
    "                 crop_radius = 36,\n",
    "                 fixed_mask = mask_list,\n",
    "                 interpolate = False,\n",
    "                 revise_affine = False,\n",
    "                 folder_path = folder_name\n",
    "                 )"
   ]
  },
  {
   "cell_type": "markdown",
   "id": "f283bd9f",
   "metadata": {},
   "source": [
    "## Load pretrained weight to neural network"
   ]
  },
  {
   "cell_type": "code",
   "execution_count": null,
   "id": "05b289aa",
   "metadata": {},
   "outputs": [],
   "source": [
    "weight_path = f'{folder_name}/{file_name}_1st_training_weights.pkl'\n",
    "real_tc.load_pretrained_weight(weight_path)"
   ]
  },
  {
   "cell_type": "markdown",
   "id": "4ebf7799",
   "metadata": {},
   "source": [
    "## Generate and save results"
   ]
  },
  {
   "cell_type": "code",
   "execution_count": null,
   "id": "016e5479",
   "metadata": {},
   "outputs": [],
   "source": [
    "# set batch size and load dataset into DataLoader\n",
    "real_tc.batch_size = 256\n",
    "real_tc.predict(train_process='1',\n",
    "               save_rotation = True,\n",
    "               save_classification = True,\n",
    "               file_name=file_name)"
   ]
  },
  {
   "cell_type": "markdown",
   "id": "f441a2d5",
   "metadata": {},
   "source": [
    "## Initialize visual result class\n",
    "### Set hyper parameters of the class"
   ]
  },
  {
   "cell_type": "code",
   "execution_count": null,
   "id": "366c4b68",
   "metadata": {},
   "outputs": [],
   "source": [
    "classification_path = f'{folder_name}/{file_name}_1_train_process_classification.npy'\n",
    "rotation_1st_path = f'{folder_name}/{file_name}_1_train_process_rotation.npy'\n",
    "classification_1 = np.load(classification_path)"
   ]
  },
  {
   "cell_type": "markdown",
   "id": "3cc81cd1",
   "metadata": {},
   "source": [
    "## Show 6 examples of training results (Put this process into Package)"
   ]
  },
  {
   "cell_type": "code",
   "execution_count": null,
   "id": "8499e50b",
   "metadata": {},
   "outputs": [],
   "source": [
    "rxs = np.linspace(220,20,5).astype('int')\n",
    "rys = np.linspace(100,200,5).astype('int')\n",
    "real_tc.show_pickup_dots(x_axis = rxs,\n",
    "                         y_axis = rys,\n",
    "                         )"
   ]
  },
  {
   "cell_type": "markdown",
   "id": "44958b27-e8d8-49ac-8613-72527db81707",
   "metadata": {},
   "source": [
    "**Figure 1: Random select data from real-space.**"
   ]
  },
  {
   "cell_type": "code",
   "execution_count": null,
   "id": "b3786c28",
   "metadata": {},
   "outputs": [],
   "source": [
    "real_tc.show_transforming_sample(mask = mask_tensor,\n",
    "                                file_name = file_name,\n",
    "                                label_style= 'wb'\n",
    "                                )"
   ]
  },
  {
   "cell_type": "markdown",
   "id": "b27c0dfa-c9c3-4b58-a153-74eb9fcf3e9b",
   "metadata": {},
   "source": [
    "**Figure 2: Results of model prediction on selected diffraction images. a) The random input images go to CC-ST-AE. b) Corresponding learned bases generated by the model. c) Affine matrices measured by model applied on the input. d) Inverse of affine matrices applied on learned bases. e) Difference between transformed input and learned bases**"
   ]
  },
  {
   "cell_type": "markdown",
   "id": "9fa53868",
   "metadata": {},
   "source": [
    "# 2nd Training Process"
   ]
  },
  {
   "cell_type": "markdown",
   "id": "c9d2e655",
   "metadata": {},
   "source": [
    "### Update train class parameter for data generating"
   ]
  },
  {
   "cell_type": "code",
   "execution_count": null,
   "id": "184fa47c",
   "metadata": {},
   "outputs": [],
   "source": [
    "# update number of base and interpolate for 2nd training process\n",
    "real_tc.learned_rotation = rotation_1st_path\n",
    "real_tc.adjust_learned_rotation = -10\n",
    "real_tc.num_base = 1\n",
    "real_tc.interpolate = True"
   ]
  },
  {
   "cell_type": "markdown",
   "id": "8761cb9c",
   "metadata": {},
   "source": [
    "### Generate dataset"
   ]
  },
  {
   "cell_type": "code",
   "execution_count": null,
   "id": "e2a077d2",
   "metadata": {},
   "outputs": [],
   "source": [
    "real_tc.reset_dataset()"
   ]
  },
  {
   "cell_type": "markdown",
   "id": "a9cb8935",
   "metadata": {},
   "source": [
    "## Select diffraction image"
   ]
  },
  {
   "cell_type": "code",
   "execution_count": null,
   "id": "738b01ab",
   "metadata": {},
   "outputs": [],
   "source": [
    "sample_index = np.where(classification_1[:,0]==1)[0]"
   ]
  },
  {
   "cell_type": "markdown",
   "id": "b5394b2a",
   "metadata": {},
   "source": [
    "## Load pretrained weight to neural network"
   ]
  },
  {
   "cell_type": "code",
   "execution_count": null,
   "id": "fe2bcaf1",
   "metadata": {},
   "outputs": [],
   "source": [
    "# update weights to reproduce 2nd training results\n",
    "weight_path = f'{folder_name}/{file_name}_2nd_training_weights.pkl'\n",
    "real_tc.load_pretrained_weight(weight_path)"
   ]
  },
  {
   "cell_type": "markdown",
   "id": "c79f0195",
   "metadata": {},
   "source": [
    "## Generate and save results"
   ]
  },
  {
   "cell_type": "code",
   "execution_count": null,
   "id": "b607a58b",
   "metadata": {},
   "outputs": [],
   "source": [
    "real_tc.predict(train_process='2',\n",
    "           save_strain = True,\n",
    "           save_rotation = True,\n",
    "           file_name=file_name,\n",
    "           sample_index = sample_index)"
   ]
  },
  {
   "cell_type": "markdown",
   "id": "d07d42fb",
   "metadata": {},
   "source": [
    "## Save trained affine parameter"
   ]
  },
  {
   "cell_type": "markdown",
   "id": "9dc66288",
   "metadata": {},
   "source": [
    "## Visualize the results and compared with state-of-art"
   ]
  },
  {
   "cell_type": "code",
   "execution_count": null,
   "id": "13ad9a88",
   "metadata": {},
   "outputs": [],
   "source": [
    "rotation_2nd_path = f'{folder_name}/{file_name}_2_train_process_rotation.npy'\n",
    "strain_2nd_path = f'{folder_name}/{file_name}_2_train_process_scale_shear.npy'\n",
    "rotation_2= np.load(rotation_2nd_path)\n",
    "scale_shear_2 = np.load(strain_2nd_path)"
   ]
  },
  {
   "cell_type": "markdown",
   "id": "b5c09fcc",
   "metadata": {},
   "source": [
    "## Visualization  for real dataset ( only with real data )"
   ]
  },
  {
   "cell_type": "code",
   "execution_count": null,
   "id": "39437937",
   "metadata": {},
   "outputs": [],
   "source": [
    "visual_result = visualize_real_4dstem(rotation = rotation_2,\n",
    "                                       scale_shear = scale_shear_2,\n",
    "                                       angle_shift = 6,\n",
    "                                       shift_ref = 0,\n",
    "                                       im_size = (256,256),\n",
    "                                       bkg_position = 1,\n",
    "                                       classification = classification_1,\n",
    "                                       title_name = 'WS2WSe2',\n",
    "                                       cmap_strain='viridis',\n",
    "                                       cmap_rotation=cm.vikO,\n",
    "                                       rotation_range = [0.01,60],\n",
    "                                        )"
   ]
  },
  {
   "cell_type": "markdown",
   "id": "e82aed89-f176-489c-bdaa-8272bda92507",
   "metadata": {},
   "source": [
    "**Figure 3: Rotation map and Histogram measured with Auto4DSTEM. a) Rotation map. b) Histogram.**"
   ]
  },
  {
   "cell_type": "code",
   "execution_count": null,
   "id": "891dcc8a",
   "metadata": {},
   "outputs": [],
   "source": [
    "visual_result.visual_real_strain(label_style= 'wb')"
   ]
  },
  {
   "cell_type": "markdown",
   "id": "0cfd5f32-b7ef-495c-8af0-e0a4959147b5",
   "metadata": {},
   "source": [
    "**Figure 4: Strain maps of $WS_2WSe_2$ 4D-STEM measured with Auto4DSTEM. a) Strain map and b) histogram in direction $ε_{xx}$. c) Strain map and d) histogram in direction $ε_{yy}$. e) Strain map and f) histogram in direction $ε_{xy}$. g) Strain map and h) histogram in rotation.**"
   ]
  },
  {
   "cell_type": "code",
   "execution_count": null,
   "id": "8d2e7e13",
   "metadata": {},
   "outputs": [],
   "source": [
    "visual_result.visual_magnitude_of_strain(strain_range=[-0.025,0.025])"
   ]
  },
  {
   "cell_type": "markdown",
   "id": "14975978-43ac-49fc-8892-1a793cb4758d",
   "metadata": {},
   "source": [
    "**Figure 5: Strain magitude mesaured with Auto4DSTEM. a) Strain magnitude mapping on $WS_2WSe_2$ 4D-STEM. b) Corresponding histogram of the strain magnitude.**"
   ]
  },
  {
   "cell_type": "markdown",
   "id": "94006ae7",
   "metadata": {},
   "source": [
    "## Visualize for real dataset ( with py4dstem )"
   ]
  },
  {
   "cell_type": "code",
   "execution_count": null,
   "id": "64505073",
   "metadata": {},
   "outputs": [],
   "source": [
    "path_py4DSTEM = f'{folder_name}/analysis_exp_2D__strain_ws2wse2.h5'\n",
    "visual_result.file_py4DSTEM = path_py4DSTEM"
   ]
  },
  {
   "cell_type": "code",
   "execution_count": null,
   "id": "c4f486c1",
   "metadata": {},
   "outputs": [],
   "source": [
    "visual_result.reset_baseline()"
   ]
  },
  {
   "cell_type": "code",
   "execution_count": null,
   "id": "f6125cd0",
   "metadata": {},
   "outputs": [],
   "source": [
    "visual_result.reset_angle(angle_shift=42,\n",
    "                         supplementary_angle= True)"
   ]
  },
  {
   "cell_type": "markdown",
   "id": "ec92289c-987f-47de-8529-391022af17c8",
   "metadata": {},
   "source": [
    "**Figure 6: Rotation map and Histogram measured with Py4dSETM and Auto4DSTEM. a) Rotation map and c) histogram measured with Py4dSTEM. b) Rotation map and d) histogram measured with Auto4DSTEM.**"
   ]
  },
  {
   "cell_type": "code",
   "execution_count": null,
   "id": "80072e8c",
   "metadata": {},
   "outputs": [],
   "source": [
    "visual_result.visual_strain(strain_range_xx_cross=[-0.03,0.03],\n",
    "                            strain_range_yy_cross=[-0.03,0.03],\n",
    "                            strain_range_xy_cross=[-0.03,0.03])"
   ]
  },
  {
   "cell_type": "markdown",
   "id": "da7e8e5a-f81b-4ac0-9762-ee843c7bcd1a",
   "metadata": {},
   "source": [
    "**Figure 7: Strain maps of $WS_2WSe_2$ 4D-STEM measured with Py4DSTEM and Auto4DSTEM. a) Strain map and b) histogram in direction $ε_{xx}$ meansured with Py4DSTEM. e) Strain map and f) histogram in direction $ε_{yy}$ meansured with Py4DSTEM. i) Strain map and j) histogram in direction $ε_{xy}$ meansured with Py4DSTEM. m) Strain map and n) histogram in rotation meansured with Py4DSTEM. c) Strain map and d) histogram in direction $ε_{xx}$ meansured with Auto4DSTEM. g) Strain map and h) histogram in direction $ε_{yy}$ meansured with Auto4DSTEM. k) Strain map and l) histogram in direction $ε_{xy}$ meansured with Auto4DSTEM. o) Strain map and p) histogram in rotation meansured with Auto4DSTEM.**"
   ]
  },
  {
   "cell_type": "code",
   "execution_count": null,
   "id": "0fc37082-786b-4596-ac76-6a9b9f409cd3",
   "metadata": {},
   "outputs": [],
   "source": [
    "visual_result.folder_name"
   ]
  },
  {
   "cell_type": "code",
   "execution_count": null,
   "id": "3b2f1ee4",
   "metadata": {},
   "outputs": [],
   "source": [
    "visual_result.visual_magnitude_of_strain(strain_range = [-0.025,0.025],\n",
    "                                           ref_range = [-0.025,0.025])"
   ]
  },
  {
   "cell_type": "markdown",
   "id": "9cf9e33c-f860-4e5b-876e-b3637ee9007d",
   "metadata": {},
   "source": [
    "**Figure 8: Strain magitude. a) Strain magnitude mapping on 4D-STEM and c) Corresponding histogram measursed with Py4DSTEM. b) Strain magnitude mapping on 4D-STEM and d) Corresponding histogram measursed with Auto4DSTEM.**"
   ]
  },
  {
   "cell_type": "markdown",
   "id": "4f16f544",
   "metadata": {},
   "source": [
    "# Rot512 $WS_2WSe_2$ Experimental 4DSTEM\n",
    "## 1st Training Process ( make beam centered)"
   ]
  },
  {
   "cell_type": "markdown",
   "id": "d4def61e",
   "metadata": {},
   "source": [
    "### Build mask list for training"
   ]
  },
  {
   "cell_type": "code",
   "execution_count": null,
   "id": "70785a82",
   "metadata": {},
   "outputs": [],
   "source": [
    "# set mask class\n",
    "set_mask = mask_class(img_size=[120,120])\n",
    "# generate mask \n",
    "mask_tensor, mask_list = set_mask.mask_single(radius=15)\n",
    "up_mask_list = upsample_mask(mask_list,120,480)"
   ]
  },
  {
   "cell_type": "markdown",
   "id": "43eaf319",
   "metadata": {},
   "source": [
    "## Set File Initial, Load Data and Pre-Trained Weights"
   ]
  },
  {
   "cell_type": "code",
   "execution_count": null,
   "id": "cc8512d5",
   "metadata": {},
   "outputs": [],
   "source": [
    "data_path = os.path.abspath(f'{folder_name}/01_22kx_CL1p5m_50umapt_spot9_rot15_x512_y512.npy')\n",
    "file_name = 'Rot512'"
   ]
  },
  {
   "cell_type": "code",
   "execution_count": null,
   "id": "b062d487",
   "metadata": {},
   "outputs": [],
   "source": [
    "real_tc = TrainClass(data_path,\n",
    "                 device = device,\n",
    "                 crop = ((2,122),(2,122)),\n",
    "                 transpose= (0,1,2,3),\n",
    "                 background_intensity = False,\n",
    "                 boundary_filter = True,\n",
    "                 en_original_step_size = [120, 120],\n",
    "                 de_original_step_size = [5, 5],\n",
    "                 pool_list = [4, 3, 2],\n",
    "                 up_list = [2, 3, 4],\n",
    "                 scale = False,\n",
    "                 shear = False,\n",
    "                 rotation = False,\n",
    "                 translation = True,\n",
    "                 num_base=1,\n",
    "                 up_size=480,\n",
    "                 scale_limit = 0.05,\n",
    "                 shear_limit = 0.1,\n",
    "                 rotation_limit=0.05,\n",
    "                 trans_limit = 0.15,\n",
    "                 crop_radius = 32,\n",
    "                 fixed_mask = mask_list,\n",
    "                 interpolate = True,\n",
    "                 revise_affine = False,\n",
    "                 folder_path = folder_name\n",
    "                 )"
   ]
  },
  {
   "cell_type": "markdown",
   "id": "a36c517b",
   "metadata": {},
   "source": [
    "### Reproduce translation matrices"
   ]
  },
  {
   "cell_type": "code",
   "execution_count": null,
   "id": "8070c0eb",
   "metadata": {},
   "outputs": [],
   "source": [
    "weight_path = f'{folder_name}/{file_name}_1st_training_translation_weights.pkl'\n",
    "real_tc.load_pretrained_weight(weight_path)"
   ]
  },
  {
   "cell_type": "markdown",
   "id": "3e665215",
   "metadata": {},
   "source": [
    "## Generate and save results"
   ]
  },
  {
   "cell_type": "code",
   "execution_count": null,
   "id": "0a2afa0d",
   "metadata": {},
   "outputs": [],
   "source": [
    "# set batch size and load dataset into DataLoader\n",
    "real_tc.batch_size = 256\n",
    "real_tc.predict(train_process='1',\n",
    "               save_translation = True,\n",
    "               save_base= True,\n",
    "               file_name=file_name\n",
    "               )"
   ]
  },
  {
   "cell_type": "markdown",
   "id": "46e48091",
   "metadata": {},
   "source": [
    "### Load translation result"
   ]
  },
  {
   "cell_type": "code",
   "execution_count": null,
   "id": "ff87c67c",
   "metadata": {},
   "outputs": [],
   "source": [
    "translation_path = f'{folder_name}/{file_name}_1_train_process_translation.npy'\n",
    "base_path = f'{folder_name}/{file_name}_1_train_process_generated_base.npy'\n",
    "translation = np.load(translation_path)\n",
    "test_base = np.load(base_path)"
   ]
  },
  {
   "cell_type": "markdown",
   "id": "08b7d166",
   "metadata": {},
   "source": [
    "## Make generated base at the center "
   ]
  },
  {
   "cell_type": "code",
   "execution_count": null,
   "id": "ac0d8648",
   "metadata": {},
   "outputs": [],
   "source": [
    "test_base = torch.tensor(test_base.squeeze())\n",
    "print(center_of_mass(test_base,up_mask_list[0],0))"
   ]
  },
  {
   "cell_type": "markdown",
   "id": "421b6edb",
   "metadata": {},
   "source": [
    "## Adjust x, y coordinates to make beam centered"
   ]
  },
  {
   "cell_type": "code",
   "execution_count": null,
   "id": "127ca8b9",
   "metadata": {},
   "outputs": [],
   "source": [
    "adj_x = -0.060434\n",
    "adj_y = 0.056313\n",
    "translate_base(adj_x,adj_y,torch.tensor(test_base), up_mask_list[0])"
   ]
  },
  {
   "cell_type": "markdown",
   "id": "7d469a9d",
   "metadata": {},
   "source": [
    "## Create modified translation parameter"
   ]
  },
  {
   "cell_type": "code",
   "execution_count": null,
   "id": "7595dda7",
   "metadata": {},
   "outputs": [],
   "source": [
    "# create translated matrix\n",
    "trans_after_adjust = np.copy(translation)\n",
    "trans_after_adjust[:,0] = trans_after_adjust[:,0]+adj_x\n",
    "trans_after_adjust[:,1] = trans_after_adjust[:,1]+adj_y"
   ]
  },
  {
   "cell_type": "markdown",
   "id": "5bbb97f3",
   "metadata": {},
   "source": [
    "## Generate translated dataset "
   ]
  },
  {
   "cell_type": "code",
   "execution_count": null,
   "id": "e9ca43e4",
   "metadata": {},
   "outputs": [],
   "source": [
    "# if create_dataset is set True, will reproduce the translated 4dstem dataset, takes about 4 hours\n",
    "create_dataset = False\n",
    "if create_dataset:\n",
    "    data_translated(data_path,\n",
    "                    trans_after_adjust,\n",
    "                    crop = ((2,122),(2,122)),\n",
    "                    transpose = (0,1,2,3),\n",
    "                    save_path = f'{folder_name}/{file_name}')"
   ]
  },
  {
   "cell_type": "markdown",
   "id": "20bba639",
   "metadata": {},
   "source": [
    "## Reproduce result of translated model\n",
    "### Set train class for transformed dataset"
   ]
  },
  {
   "cell_type": "code",
   "execution_count": null,
   "id": "c51fbcb7",
   "metadata": {},
   "outputs": [],
   "source": [
    "data_dir = f'{folder_name}/{file_name}_translated_version.npy'"
   ]
  },
  {
   "cell_type": "code",
   "execution_count": null,
   "id": "77549a2d",
   "metadata": {},
   "outputs": [],
   "source": [
    "real_tc.data_dir = data_dir\n",
    "real_tc.crop = ((0,120),(0,120))\n",
    "real_tc.transpose = (0,1,2)\n",
    "real_tc.standard_scale = 1.5\n",
    "real_tc.up_threshold = 2000\n",
    "real_tc.rotate_clockwise = False\n",
    "real_tc.boundary_filter = False\n",
    "real_tc.scale = True\n",
    "real_tc.shear = True\n",
    "real_tc.rotation = True\n",
    "real_tc.translation = False"
   ]
  },
  {
   "cell_type": "code",
   "execution_count": null,
   "id": "2989225b",
   "metadata": {},
   "outputs": [],
   "source": [
    "real_tc.reset_dataset()"
   ]
  },
  {
   "cell_type": "markdown",
   "id": "3e678aca",
   "metadata": {},
   "source": [
    "### Set mask to separate diffraction images from background noise "
   ]
  },
  {
   "cell_type": "code",
   "execution_count": null,
   "id": "c3bd00d5",
   "metadata": {},
   "outputs": [],
   "source": [
    "radius_list = [[23,96],[72,109],[108,73],[95,24],[46,11],[11,47]]\n",
    "mask_tensor, mask_list = set_mask.mask_round(radius=8,center_list=radius_list)"
   ]
  },
  {
   "cell_type": "markdown",
   "id": "f71336cc",
   "metadata": {},
   "source": [
    "### Select diffraction image"
   ]
  },
  {
   "cell_type": "code",
   "execution_count": null,
   "id": "f639923a",
   "metadata": {},
   "outputs": [],
   "source": [
    "sample_index = select_points(real_tc.data_set,mask_tensor,threshold=478.3,clim=[410,560])"
   ]
  },
  {
   "cell_type": "markdown",
   "id": "600dc861-fbb0-4c6b-8c6a-88b80d1a7790",
   "metadata": {},
   "source": [
    "**Figure 9: Signal intensity mapping of Rot512 $WS_2WSe_2$ Experimental 4DSTEM. a) Intensity mapping on real-space of Rot512 $WS_2WSe_2$. b) Corresponding histogram of the mapping splitted by red threshold line.**"
   ]
  },
  {
   "cell_type": "markdown",
   "id": "c840a49d",
   "metadata": {},
   "source": [
    "### Reproduce strain-mapping results with pretrained weights"
   ]
  },
  {
   "cell_type": "code",
   "execution_count": null,
   "id": "7740c90b",
   "metadata": {},
   "outputs": [],
   "source": [
    "weight_path = f'{folder_name}/{file_name}_1st_training_strain_rotation_weights.pkl'\n",
    "real_tc.load_pretrained_weight(weight_path)"
   ]
  },
  {
   "cell_type": "code",
   "execution_count": null,
   "id": "adf6b060",
   "metadata": {},
   "outputs": [],
   "source": [
    "real_tc.batch_size = 256\n",
    "real_tc.predict(sample_index = sample_index,\n",
    "               train_process='1',\n",
    "               save_rotation = True,\n",
    "               save_strain = True,\n",
    "               file_name=file_name,\n",
    "               )"
   ]
  },
  {
   "cell_type": "markdown",
   "id": "cc312dd5",
   "metadata": {},
   "source": [
    "## Generate correct format of classification "
   ]
  },
  {
   "cell_type": "code",
   "execution_count": null,
   "id": "e15e883c",
   "metadata": {},
   "outputs": [],
   "source": [
    "# geneate cluster based on sample index\n",
    "select_rot = generate_classification(sample_index,\n",
    "                                    sample_position = 0,\n",
    "                                    img_size = [512,512],\n",
    "                                    save_file = True,\n",
    "                                    file_path = f'{folder_name}/{file_name}')"
   ]
  },
  {
   "cell_type": "markdown",
   "id": "db7b4ff4",
   "metadata": {},
   "source": [
    "## Visualization  for real dataset ( only with real data )"
   ]
  },
  {
   "cell_type": "code",
   "execution_count": null,
   "id": "f414c8ff",
   "metadata": {},
   "outputs": [],
   "source": [
    "rotation_2nd = np.load(f'{folder_name}/{file_name}_1_train_process_rotation.npy')\n",
    "scale_shear_2nd = np.load(f'{folder_name}/{file_name}_1_train_process_scale_shear.npy')\n",
    "select_rot = np.load(f'{folder_name}/{file_name}_classification.npy')"
   ]
  },
  {
   "cell_type": "code",
   "execution_count": null,
   "id": "f5eecc29",
   "metadata": {},
   "outputs": [],
   "source": [
    "visual_result = visualize_real_4dstem(rotation = rotation_2nd,\n",
    "                                           scale_shear = scale_shear_2nd,\n",
    "                                           angle_shift = 30,\n",
    "                                           shift_ref = 33,\n",
    "                                           im_size = (512,512),\n",
    "                                           bkg_position = 1,\n",
    "                                           classification = select_rot,\n",
    "                                           title_name = 'Rot512',\n",
    "                                           cmap_strain = 'viridis',\n",
    "                                           cmap_rotation=cm.vikO,\n",
    "                                           rotation_range = [28.5,30.25],\n",
    "                                            )"
   ]
  },
  {
   "cell_type": "markdown",
   "id": "277c2633-0bd7-44e9-9a8c-22eea8981332",
   "metadata": {},
   "source": [
    "**Figure 10: Rotation map and Histogram measured with Auto4DSTEM. a) Rotation map. b) Histogram.**"
   ]
  },
  {
   "cell_type": "code",
   "execution_count": null,
   "id": "ccfbd733",
   "metadata": {},
   "outputs": [],
   "source": [
    "visual_result.visual_real_strain(strain_range_xx_ae=[-0.035,0.02],\n",
    "                                 strain_range_yy_ae=[-0.035,0.02],\n",
    "                                 strain_range_xy_ae=[-0.02,0.005],\n",
    "                                 )"
   ]
  },
  {
   "cell_type": "markdown",
   "id": "a1157680-9b37-44f1-ab1c-36e621c171dc",
   "metadata": {},
   "source": [
    "**Figure 11: Strain maps of  4D-STEM measured with Auto4DSTEM. a) Strain map and b) histogram in direction . c) Strain map and d) histogram in direction . e) Strain map and f) histogram in direction . g) Strain map and h) histogram in rotation.**"
   ]
  },
  {
   "cell_type": "code",
   "execution_count": null,
   "id": "26439c9b",
   "metadata": {},
   "outputs": [],
   "source": [
    "visual_result.visual_magnitude_of_strain(strain_range = [-0.02,0.035])"
   ]
  },
  {
   "cell_type": "markdown",
   "id": "2a41b4a6-e0f2-4d33-aa30-d8e02242f46f",
   "metadata": {},
   "source": [
    "**Figure 12: Strain magitude mesaured with Auto4DSTEM. a) Strain magnitude mapping on  4D-STEM. b) Corresponding histogram of the strain magnitude.**"
   ]
  },
  {
   "cell_type": "markdown",
   "id": "3b1ce735",
   "metadata": {},
   "source": [
    "## Visualization  for result comparison ( with py4DSTEM )"
   ]
  },
  {
   "cell_type": "code",
   "execution_count": null,
   "id": "ecd8b47a",
   "metadata": {},
   "outputs": [],
   "source": [
    "path_py4DSTEM = f'{folder_name}/analysis_exp_2D_big_triangle__strain.h5'\n",
    "visual_result.file_py4DSTEM = path_py4DSTEM"
   ]
  },
  {
   "cell_type": "code",
   "execution_count": null,
   "id": "be87a36e",
   "metadata": {},
   "outputs": [],
   "source": [
    "visual_result.reset_baseline()"
   ]
  },
  {
   "cell_type": "code",
   "execution_count": null,
   "id": "7b540ddc",
   "metadata": {},
   "outputs": [],
   "source": [
    "visual_result.reset_angle(angle_shift=30,\n",
    "                          shift_ref=33,\n",
    "                          rotation_range=[28.5,30.25],\n",
    "                          ref_rotation_range=[3,35]\n",
    "                         )"
   ]
  },
  {
   "cell_type": "markdown",
   "id": "1e548f0a-a4b5-4e71-9cc0-ebbae14151b6",
   "metadata": {},
   "source": [
    "**Figure 13: Rotation map and Histogram measured with Py4dSETM and Auto4DSTEM. a) Rotation map and c) histogram measured with Py4dSTEM. b) Rotation map and d) histogram measured with Auto4DSTEM.**"
   ]
  },
  {
   "cell_type": "code",
   "execution_count": null,
   "id": "5559f94b",
   "metadata": {},
   "outputs": [],
   "source": [
    "visual_result.visual_strain(strain_range_xx_ae=[-0.035,0.02],\n",
    "                            strain_range_yy_ae=[-0.035,0.02],\n",
    "                            strain_range_xy_ae=[-0.02,0.005],\n",
    "                            strain_range_xx_cross=[-0.04,0.06],\n",
    "                            strain_range_yy_cross=[-0.04,0.06],\n",
    "                            strain_range_xy_cross=[-0.04,0.04],\n",
    "                            )"
   ]
  },
  {
   "cell_type": "markdown",
   "id": "75548954-9c33-4180-814a-1d36023b0070",
   "metadata": {},
   "source": [
    "**Figure 14: Strain maps of Rot512 $WS_2WSe_2$ 4D-STEM measured with Py4DSTEM and Auto4DSTEM. a) Strain map and b) histogram in direction $ε_{xx}$ meansured with Py4DSTEM. e) Strain map and f) histogram in direction $ε_{yy}$ meansured with Py4DSTEM. i) Strain map and j) histogram in direction $ε_{xy}$ meansured with Py4DSTEM. m) Strain map and n) histogram in rotation meansured with Py4DSTEM. c) Strain map and d) histogram in direction $ε_{xx}$ meansured with Auto4DSTEM. g) Strain map and h) histogram in direction $ε_{yy}$ meansured with Auto4DSTEM. k) Strain map and l) histogram in direction $ε_{xy}$ meansured with Auto4DSTEM. o) Strain map and p) histogram in rotation meansured with Auto4DSTEM.**"
   ]
  },
  {
   "cell_type": "code",
   "execution_count": null,
   "id": "d6091cd3",
   "metadata": {},
   "outputs": [],
   "source": [
    "visual_result.visual_magnitude_of_strain(strain_range = [-0.02,0.035],\n",
    "                                           ref_range = [-0.03,0.035])"
   ]
  },
  {
   "cell_type": "markdown",
   "id": "bee617c2-e386-4ac8-a66f-3a3452e7de24",
   "metadata": {},
   "source": [
    "**Figure 15: Strain magitude. a) Strain magnitude mapping on 4D-STEM and c) Corresponding histogram measursed with Py4DSTEM. b) Strain magnitude mapping on 4D-STEM and d) Corresponding histogram measursed with Auto4DSTEM.**"
   ]
  },
  {
   "cell_type": "code",
   "execution_count": null,
   "id": "acce68a2-4981-4ce8-b793-b8d18096a1ca",
   "metadata": {},
   "outputs": [],
   "source": []
  }
 ],
 "metadata": {
  "kernelspec": {
   "display_name": "HAWQ",
   "language": "python",
   "name": "python3"
  },
  "language_info": {
   "codemirror_mode": {
    "name": "ipython",
    "version": 3
   },
   "file_extension": ".py",
   "mimetype": "text/x-python",
   "name": "python",
   "nbconvert_exporter": "python",
   "pygments_lexer": "ipython3",
   "skip-execution": true,
   "version": "3.10.14"
  }
 },
 "nbformat": 4,
 "nbformat_minor": 5
}
