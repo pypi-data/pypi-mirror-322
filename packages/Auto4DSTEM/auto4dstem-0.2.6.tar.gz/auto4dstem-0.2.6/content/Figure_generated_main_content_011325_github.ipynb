{
 "cells": [
  {
   "cell_type": "markdown",
   "id": "cb55bdcd-8d7a-4fec-a18b-0ff35b997464",
   "metadata": {},
   "source": [
    "# Notebook of Generating Figures in Paper Main content"
   ]
  },
  {
   "cell_type": "markdown",
   "id": "e14b64d5-aac3-4ad7-b274-8f2385807035",
   "metadata": {},
   "source": [
    "## Download auto4dstem package"
   ]
  },
  {
   "cell_type": "code",
   "execution_count": null,
   "id": "d75168be-2fbe-4bfa-b8c7-26991bc03262",
   "metadata": {},
   "outputs": [],
   "source": [
    "import sys\n",
    "#!{sys.executable} -m pip install -i https://test.pypi.org/simple/ Auto4DSTEM==0.7.1\n",
    "!{sys.executable} -m pip install -U Auto4DSTEM==0.2.3"
   ]
  },
  {
   "cell_type": "markdown",
   "id": "1856898c-da1c-4d06-b4e5-14d62a92d8b4",
   "metadata": {},
   "source": [
    "### load packages "
   ]
  },
  {
   "cell_type": "code",
   "execution_count": null,
   "id": "8815f0b0-9094-447d-b9e9-a7314fa7232b",
   "metadata": {},
   "outputs": [],
   "source": [
    "%load_ext autoreload\n",
    "%autoreload 2\n",
    "from m3util.viz.layout import layout_subfigures_inches,scalebar,imagemap\n",
    "from m3util.viz.images import display_image\n",
    "from m3util.viz.text import labelfigs\n",
    "from auto4dstem.nn.CC_ST_AE import revise_size_on_affine_gpu,spatial_trans\n",
    "from auto4dstem.nn.Train_Function import TrainClass\n",
    "from auto4dstem.Viz.util import mask_class, mask_function,find_nearby_dot_group,custom_formatter\n",
    "from auto4dstem.Viz.viz import set_format_Auto4D, visualize_simulate_result,\\\n",
    "                                                visual_performance_plot,normalized_strain_matrices,image_with_colorbar,generate_plot_fig3,\\\n",
    "                                                extract_ele_from_dic_fig3,normalized_comparison_fig3,hist_plotter\n",
    "from m3util.util.IO import download_files_from_txt"
   ]
  },
  {
   "cell_type": "code",
   "execution_count": null,
   "id": "c39d5e4c-0b59-4def-a7e1-75fc8ee980b5",
   "metadata": {},
   "outputs": [],
   "source": [
    "import os\n",
    "import numpy as np\n",
    "import h5py\n",
    "import matplotlib.pyplot as plt\n",
    "import pickle\n",
    "import matplotlib.colors as mcolors\n",
    "from cmcrameri import cm\n",
    "from matplotlib.ticker import FuncFormatter\n",
    "import matplotlib.patches as patches"
   ]
  },
  {
   "cell_type": "markdown",
   "id": "7082c4bb-40e2-4761-8a01-2dd5d97f3f35",
   "metadata": {},
   "source": [
    "## Download pretrained data from Zenodo"
   ]
  },
  {
   "cell_type": "code",
   "execution_count": null,
   "id": "7f4fb17e-4013-4a97-b519-c220efca05d5",
   "metadata": {},
   "outputs": [],
   "source": [
    "folder_path = 'Figures_4_notebook'\n",
    "file_download =  \"files_generate_figures_for_notebook.txt\""
   ]
  },
  {
   "cell_type": "code",
   "execution_count": null,
   "id": "5deb8fdc-d033-4abb-9e37-95bf3cd7202e",
   "metadata": {},
   "outputs": [],
   "source": [
    "# check where are you from the root path\n",
    "download_files_from_txt(file_download,folder_path)"
   ]
  },
  {
   "cell_type": "code",
   "execution_count": null,
   "id": "94c49f05",
   "metadata": {},
   "outputs": [],
   "source": [
    "# turn the load_data_from_file to be False to directly load the images without downloading the 4dstem data\n",
    "load_data_from_file = False\n",
    "if load_data_from_file:\n",
    "    # set the 4dstem data path if needed\n",
    "    data_path = os.path.abspath(\"Simulated_4dstem/Extremely_Noisy_4DSTEM_Strain_Mapping_Using_CC_ST_AE_Simulated/polycrystal_output4D.mat\")\n",
    "    with h5py.File(data_path, 'r') as f:  # Open the file in read mode\n",
    "        stem4d_data = f['output4D'][0,0]  \n",
    "    stem4d_data = stem4d_data*1e5/4\n",
    "    test_data = np.copy(stem4d_data)\n",
    "else:\n",
    "    test_data = np.load(f'{folder_path}/sample_img.npy')"
   ]
  },
  {
   "cell_type": "markdown",
   "id": "dfb9a7d2-7f16-4732-bb8a-a86d9015ce9b",
   "metadata": {},
   "source": [
    "# Generate Strained Images for Figure 1"
   ]
  },
  {
   "cell_type": "code",
   "execution_count": null,
   "id": "659e029c",
   "metadata": {},
   "outputs": [],
   "source": [
    "# set correct image size for adding mask\n",
    "mean_ = np.zeros([256,256])\n",
    "# generate mask region \n",
    "mask_0 = mask_function(mean_,radius=15,center_coordinates=(128,128))"
   ]
  },
  {
   "cell_type": "code",
   "execution_count": null,
   "id": "90ee187f",
   "metadata": {},
   "outputs": [],
   "source": [
    "# make image binary\n",
    "test_data[test_data>=0.3]=1\n",
    "test_data[test_data<0.3] = 0 \n",
    "# emphasize center spot \n",
    "test_data[mask_0] = test_data[mask_0]*2"
   ]
  },
  {
   "cell_type": "code",
   "execution_count": null,
   "id": "110d16ff",
   "metadata": {},
   "outputs": [],
   "source": [
    "# Select color map to represest the color on spots before and after spatial transform\n",
    "plasma = plt.cm.get_cmap('plasma', 256)\n",
    "viridis = plt.cm.get_cmap('viridis', 256)\n",
    "# Get the original plasma colormap\n",
    "newcolors1 = plasma(np.linspace(0, 1, 256))\n",
    "newcolors2 = viridis(np.linspace(0, 1, 256))\n",
    "# make center spot black in each color map\n",
    "white = np.array([0, 0, 0, 0]) \n",
    "black = np.array([0, 0, 0, 1])\n",
    "# RGBA for white color\n",
    "newcolors1[0, :] = white  # Set the first row to white (for zeros)\n",
    "newcolors2[0, :] = white\n",
    "newcolors1[-1, :] = black  # Set the last row to black (for zeros)\n",
    "newcolors2[-1, :] = black\n",
    "# Create a new colormap with the modified color\n",
    "newcmp1 = mcolors.ListedColormap(newcolors1)\n",
    "newcmp2 = mcolors.ListedColormap(newcolors2)"
   ]
  },
  {
   "cell_type": "markdown",
   "id": "3e70476f",
   "metadata": {},
   "source": [
    "## Apply scale on sample image"
   ]
  },
  {
   "cell_type": "code",
   "execution_count": null,
   "id": "85f896eb-8410-4e39-b5b4-ad81e1f90110",
   "metadata": {},
   "outputs": [],
   "source": [
    "sam_scale = spatial_trans(test_data,matrix = [[0.8,0,0],[0,0.8,0]],mask_0 = mask_0)"
   ]
  },
  {
   "cell_type": "markdown",
   "id": "5f52d41b",
   "metadata": {},
   "source": [
    "# Shear"
   ]
  },
  {
   "cell_type": "code",
   "execution_count": null,
   "id": "b2f9b332-ac43-462c-b818-e8cff997f149",
   "metadata": {},
   "outputs": [],
   "source": [
    "sam_shear = spatial_trans(test_data,matrix = [[1,0.15,0],[0.15,1,0]])"
   ]
  },
  {
   "cell_type": "markdown",
   "id": "5c0507f2",
   "metadata": {},
   "source": [
    "# Rotation"
   ]
  },
  {
   "cell_type": "code",
   "execution_count": null,
   "id": "ff21ea20-9c6a-4346-a85e-4d03768676c7",
   "metadata": {},
   "outputs": [],
   "source": [
    "sam_rotation = spatial_trans(test_data,matrix =[[0.866, 0.5 , 0],[-0.5,0.866, 0]])"
   ]
  },
  {
   "cell_type": "code",
   "execution_count": null,
   "id": "df5c0ae8-fb76-4232-a154-5ee39dda7d11",
   "metadata": {},
   "outputs": [],
   "source": [
    "# Visualize the affine transform on image\n",
    "fig,ax=plt.subplots(1,3,figsize=(9,3))\n",
    "for i in range(3):\n",
    "    ax[i].imshow(test_data,clim=[0,2],cmap=newcmp2,interpolation = 'none')\n",
    "ax[0].imshow(sam_scale,clim=[0,2],cmap=newcmp1,interpolation = 'none')\n",
    "ax[1].imshow(sam_shear,clim=[0,2],cmap=newcmp1,interpolation = 'none')\n",
    "ax[2].imshow(sam_rotation,clim=[0,2],cmap=newcmp1,interpolation = 'none')"
   ]
  },
  {
   "cell_type": "markdown",
   "id": "ce86b250-396c-4d65-acfa-da456c677196",
   "metadata": {},
   "source": [
    "# Genearte Figure 1 "
   ]
  },
  {
   "cell_type": "code",
   "execution_count": null,
   "id": "bb640a93",
   "metadata": {},
   "outputs": [],
   "source": [
    "# initial parameters of the figure\n",
    "y_max = 2.8558\n",
    "x_max = 4.3284\n",
    "width = 1.3805\n",
    "space_x = (x_max-3*width)/2.0\n",
    "space_y = (y_max-2*width)"
   ]
  },
  {
   "cell_type": "code",
   "execution_count": null,
   "id": "37ca1d63-ac23-4d59-b533-b143f17b947a",
   "metadata": {},
   "outputs": [],
   "source": [
    "dict = {\"4dstem\": {\"position\":(0, width+space_y, width,width),\"skip_margin\": True},\n",
    "        \"strain_4dstem\": {\"position\":(width+space_x,width+space_y, width,width),\"skip_margin\": True},\n",
    "        \"rotate_4dstem\": {\"position\":(2*width+2*space_x,width+space_y, width,width),\"skip_margin\": True},\n",
    "        \"scale\": {\"position\":(0,0, width,width),\"skip_margin\": True},\n",
    "        \"shear\": {\"position\":(width+space_x,0, width,width),\"skip_margin\": True},\n",
    "        \"rotation\": {\"position\":(2*width+2*space_x,0, width,width),\"skip_margin\": True},\n",
    "        }"
   ]
  },
  {
   "cell_type": "code",
   "execution_count": null,
   "id": "d580228f",
   "metadata": {},
   "outputs": [],
   "source": [
    "# Generate figure 1\n",
    "fig, ax = layout_subfigures_inches(size=(4.3284, 2.8558 ), subfigures_dict=dict)\n",
    "display_image(ax[\"4dstem\"], f\"{folder_path}/EMPAD_OG.jpg\")\n",
    "display_image(ax[\"strain_4dstem\"], f\"{folder_path}/EMPAD_Scaled.jpg\")\n",
    "display_image(ax[\"rotate_4dstem\"], f\"{folder_path}/EMPAD_Rotated.jpg\")\n",
    "ax['scale'].imshow(test_data,clim=[0,2],cmap=newcmp2,interpolation = 'none')\n",
    "ax['scale'].imshow(sam_scale,clim=[0,2], cmap=newcmp1, alpha=0.9,interpolation = 'none')\n",
    "ax['shear'].imshow(test_data,clim=[0,2],cmap=newcmp2,interpolation = 'none')\n",
    "ax['shear'].imshow(sam_shear,clim=[0,2], cmap=newcmp1, alpha=0.9,interpolation = 'none')\n",
    "ax['rotation'].imshow(test_data,clim=[0,2],cmap=newcmp2,interpolation = 'none')\n",
    "ax['rotation'].imshow(sam_rotation,clim=[0,2], cmap=newcmp1, alpha=0.9,interpolation = 'none')\n",
    "\n",
    "for idx, item in enumerate(list(dict.keys())):\n",
    "    ax[item].tick_params(length=0)\n",
    "    ax[item].set_xticklabels([])\n",
    "    ax[item].set_yticklabels([])\n",
    "    for spine in ax[item].spines.values():\n",
    "        spine.set_linewidth(0.5)  # Boundary size (thicker)\n",
    "#    ax[item].tick_params(left=False, bottom=False, labelleft=False, labelbottom=False)\n",
    "    \n",
    "    labelfigs(ax[item], \n",
    "            number = idx,\n",
    "            style = 'b',\n",
    "            loc ='tl',\n",
    "            size=10,\n",
    "            inset_fraction=(0.1, 0.1)\n",
    "            )\n",
    "plt.savefig('figure1.png',dpi=600)\n",
    "plt.savefig('figure1.svg',dpi=600)"
   ]
  },
  {
   "cell_type": "markdown",
   "id": "d0f0e5e7-93e0-47a2-9a2c-015fb5c465cf",
   "metadata": {},
   "source": [
    "# Figure 2"
   ]
  },
  {
   "cell_type": "code",
   "execution_count": null,
   "id": "a089f94d-3177-4a30-87fa-c3968de81a35",
   "metadata": {},
   "outputs": [],
   "source": [
    "dict = {\n",
    "        \"Model_Structure\": {\"position\":(0, 0, x_max,y_max),\"skip_margin\": True},\n",
    "        }"
   ]
  },
  {
   "cell_type": "code",
   "execution_count": null,
   "id": "fd904bb9-9c19-4024-aa95-d47f0efc0d17",
   "metadata": {},
   "outputs": [],
   "source": [
    "y_max = 2.29\n",
    "x_max = 5.76"
   ]
  },
  {
   "cell_type": "code",
   "execution_count": null,
   "id": "ad713bd0-d211-4708-a5e6-e35361874509",
   "metadata": {},
   "outputs": [],
   "source": [
    "fig, ax = layout_subfigures_inches(size=(x_max, y_max), subfigures_dict=dict)\n",
    "display_image(ax[\"Model_Structure\"], f\"{folder_path}/figure-2-docx.jpg\")\n",
    "plt.savefig('figure2.png',dpi=600)\n",
    "plt.savefig('figure2.svg',dpi=600)"
   ]
  },
  {
   "cell_type": "markdown",
   "id": "06afd940-af66-44c5-9a89-5330ab48b197",
   "metadata": {},
   "source": [
    "# Generate Figure 3"
   ]
  },
  {
   "cell_type": "code",
   "execution_count": null,
   "id": "62f1524a-c7da-4a73-a28c-2e8505f1deec",
   "metadata": {},
   "outputs": [],
   "source": [
    "# load the noise image and put in list\n",
    "hf = h5py.File(f'{folder_path}/[0, 0.25, 0.6].h5','r')\n",
    "with open(f'{folder_path}/MAE_list_simulated_4dstem.pickle', 'rb') as pickle_file:\n",
    "    mae_list = pickle.load(pickle_file)"
   ]
  },
  {
   "cell_type": "code",
   "execution_count": null,
   "id": "5aba246d-f1d2-4730-9e6c-c50fdd13dc7c",
   "metadata": {},
   "outputs": [],
   "source": [
    "# load the strain label of simulated 4dstem\n",
    "data_list = [f\"{folder_path}/Label_strain_xx.npy\", f\"{folder_path}/Label_strain_yy.npy\", \n",
    "             f\"{folder_path}/Label_shear_xy.npy\", f\"{folder_path}/Label_rotation.npy\"]"
   ]
  },
  {
   "cell_type": "code",
   "execution_count": null,
   "id": "2b5a364f-c245-4944-956e-ef1ec42652b1",
   "metadata": {},
   "outputs": [],
   "source": [
    "# figure parameters\n",
    "y_max = 6.95\n",
    "x_max = 5.21\n",
    "width = 0.9722\n",
    "width_label_1 = 1.1917\n",
    "width_label_2 = 1.1932\n",
    "height_1 = 0.9722\n",
    "height_2 = 1.0556\n",
    "height_3 = 0.8333\n",
    "x_initial_1 = 0.7291\n",
    "x_end_1 = 4.2574\n",
    "x_initial_2 = 0.1656\n",
    "x_end_2 = 4.969\n",
    "y_end_2 = y_max - 0.1344\n",
    "y_end_1 = y_max - 3.3199\n",
    "y_initial = y_max - 6.7993\n",
    "\n",
    "space_x_1 = (x_end_1 - x_initial_1 - 3*width)/2.0\n",
    "space_x_2 = (x_end_2 - x_initial_2 - 4*width)/3.0\n",
    "space_y_1 = (y_end_2 - y_end_1 - height_1*2 - height_2)/2\n",
    "space_y_2 = (y_end_1 - y_initial - height_2*2 - height_3)/3"
   ]
  },
  {
   "cell_type": "code",
   "execution_count": null,
   "id": "6f7148ad-2c41-4754-a114-896bdbee96b5",
   "metadata": {},
   "outputs": [],
   "source": [
    "# set the position of each figure\n",
    "dict = {\"1\": {\"position\":(x_initial_1, y_end_1+height_1+height_2+2*space_y_1, width,height_1),\"skip_margin\": True},\n",
    "        \"2\": {\"position\":(x_initial_1+width+space_x_1,y_end_1+height_1+height_2+2*space_y_1, width,height_1),\"skip_margin\": True},\n",
    "        \"3\": {\"position\":(x_initial_1+2*width+2*space_x_1,y_end_1+height_1+height_2+2*space_y_1, width,height_1),\"skip_margin\": True},\n",
    "        \n",
    "        \"4\": {\"position\":(x_initial_2,y_end_1+height_2+space_y_1, width_label_1,height_1),\"skip_margin\": True},\n",
    "        \"5\": {\"position\":(x_initial_2+width+space_x_2,y_end_1+height_2+space_y_1, width_label_1,height_1),\"skip_margin\": True},\n",
    "        \"6\": {\"position\":(x_initial_2+2*width+2*space_x_2,y_end_1+height_2+space_y_1, width_label_1,height_1),\"skip_margin\": True},\n",
    "        \"7\": {\"position\":(x_initial_2+3*width+3*space_x_2,y_end_1+height_2+space_y_1, width_label_2,height_1),\"skip_margin\": True},\n",
    "        \n",
    "        \"8\": {\"position\":(x_initial_2,y_end_1, width,height_2),\"skip_margin\": True},\n",
    "        \"9\": {\"position\":(x_initial_2+width+space_x_2,y_end_1, width,height_2),\"skip_margin\": True},\n",
    "        \"10\": {\"position\":(x_initial_2+2*width+2*space_x_2,y_end_1, width,height_2),\"skip_margin\": True},\n",
    "        \"11\": {\"position\":(x_initial_2+3*width+3*space_x_2,y_end_1, width,height_2),\"skip_margin\": True},\n",
    "        \n",
    "        \"12\": {\"position\":(x_initial_2,y_initial+2*space_y_2+height_2+height_3, width,height_2),\"skip_margin\": True},\n",
    "        \"13\": {\"position\":(x_initial_2+width+space_x_2,y_initial+2*space_y_2+height_2+height_3, width,height_2),\"skip_margin\": True},\n",
    "        \"14\": {\"position\":(x_initial_2+2*width+2*space_x_2,y_initial+2*space_y_2+height_2+height_3, width,height_2),\"skip_margin\": True},\n",
    "        \"15\": {\"position\":(x_initial_2+3*width+3*space_x_2,y_initial+2*space_y_2+height_2+height_3, width,height_2),\"skip_margin\": True},\n",
    "        \n",
    "        \"16\": {\"position\":(x_initial_2,y_initial+space_y_2+height_3, width,height_2),\"skip_margin\": True},\n",
    "        \"17\": {\"position\":(x_initial_2+width+space_x_2,y_initial+space_y_2+height_3, width,height_2),\"skip_margin\": True},\n",
    "        \"18\": {\"position\":(x_initial_2+2*width+2*space_x_2,y_initial+space_y_2+height_3, width,height_2),\"skip_margin\": True},\n",
    "        \"19\": {\"position\":(x_initial_2+3*width+3*space_x_2,y_initial+space_y_2+height_3, width,height_2),\"skip_margin\": True},\n",
    "        \n",
    "        \"20\": {\"position\":(x_initial_2,y_initial, width,height_3),\"skip_margin\": True},\n",
    "        \"21\": {\"position\":(x_initial_2+width+space_x_2,y_initial, width,height_3),\"skip_margin\": True},\n",
    "        \"22\": {\"position\":(x_initial_2+2*width+2*space_x_2,y_initial, width,height_3),\"skip_margin\": True},\n",
    "        \"23\": {\"position\":(x_initial_2+3*width+3*space_x_2,y_initial, width,height_3),\"skip_margin\": True},\n",
    "\n",
    "        \"24\": {\"position\":(0.8151,y_max-3.9217,0.2778,0.2778),\"skip_margin\": True},\n",
    "        \"25\": {\"position\":(0.8151,y_max-5.2041,0.2778,0.3303),\"skip_margin\": True},\n",
    "        \"26\": {\"position\":(0.2746,y_max-6.3745,0.25,0.25),\"skip_margin\": True},\n",
    "        \"27\": {\"position\":(0.8914,y_max-6.7889,0.2222,0.2642),\"skip_margin\": True},\n",
    "        }"
   ]
  },
  {
   "cell_type": "code",
   "execution_count": null,
   "id": "68350078-f2f6-4491-aa71-92e1e4e817bd",
   "metadata": {},
   "outputs": [],
   "source": [
    "# set save figure format\n",
    "save_format = 'png'\n",
    "# set text positions to each figure\n",
    "xtext_xaxis = 0.5\n",
    "xtext_yaxis = -0.02\n",
    "ytext_xaxis = -0.1\n",
    "ytext_yaxis = 0.5\n",
    "text_font = 5\n",
    "star_x = 20\n",
    "star_y = 45\n",
    "# set text type of each figure\n",
    "color_list = ['blue','green','red']\n",
    "xtext_list = ['Noise-Free', '25% Poisson', '60% Poisson']\n",
    "# generate the figure\n",
    "fig, ax = layout_subfigures_inches(size=(x_max, y_max ), subfigures_dict=dict)\n",
    "# generate image with different noise \n",
    "for i, key in enumerate(list(hf.keys())):\n",
    "    ax[str(i+1)].imshow(hf[key],clim=[0,1])\n",
    "# generate strain map of the label\n",
    "for i in range(4,8):\n",
    "    ax['4'].plot(star_x, star_y, marker='*', markersize=5, linestyle='None')\n",
    "    tmp = np.load(data_list[i-4])\n",
    "    if i<7:\n",
    "        clim = [-0.03,0.03]\n",
    "        set_ticks = [-0.03,0,0.03]\n",
    "        percentage = True\n",
    "    else:\n",
    "        clim = [-40,30]\n",
    "        set_ticks = [-40,0,30]\n",
    "        percentage = False\n",
    "        label_rotation = np.rad2deg(tmp)\n",
    "        # calculate mean value of label rotation in reference region 30,60,10,40\n",
    "        label_ref_rotation = np.mean(label_rotation[30:60,10:40])\n",
    "        # calculate corresponding rotation based on reference \n",
    "        tmp = label_rotation - label_ref_rotation\n",
    "    image_with_colorbar(ax[str(i)],\n",
    "                        tmp,\n",
    "                        cmap = cm.vik,\n",
    "                        clim = clim,\n",
    "                        percentage = percentage,\n",
    "                        set_ticks = set_ticks,\n",
    "                        pad_tick = 0.4,\n",
    "                        tick_size = 5)\n",
    "\n",
    "# genearte histogram of the label  \n",
    "for i in range(8,12):\n",
    "    tmp = np.load(data_list[i-8])\n",
    "    if i<11:\n",
    "        clim = [-0.03,0.03]\n",
    "    else:\n",
    "        clim = [-40,30]\n",
    "        label_rotation = np.rad2deg(tmp)\n",
    "        # calculate mean value of label rotation in reference region 30,60,10,40\n",
    "        label_ref_rotation = np.mean(label_rotation[30:60,10:40])\n",
    "        # calculate corresponding rotation based on reference \n",
    "        tmp = label_rotation - label_ref_rotation\n",
    "    hist_plotter(ax[str(i)],tmp,clim = clim)\n",
    "    if i<11:\n",
    "        ax[str(i)].set_xticks([-0.03,0.03])\n",
    "    else:\n",
    "        ax[str(i)].set_xticks([-40,30])\n",
    "    ax[str(i)].set_yticks([0,1])\n",
    "# add bar to the figure:\n",
    "for i in range(3):\n",
    "    bar = patches.Rectangle((70, 220), width=116, height=10, color=color_list[i], alpha=0.6)\n",
    "    ax[str(i+1)].add_patch(bar)\n",
    "    xtext = xtext_list[i]\n",
    "for i in range(8,24):\n",
    "    if i<20:\n",
    "        ytext = 'Normalized Counts'\n",
    "        xtext = 'Strain'\n",
    "        if (i+1)%4 ==0:\n",
    "            xtext = 'Rotation'\n",
    "        \n",
    "    else:\n",
    "        xtext = 'Noise Intensity'\n",
    "        ytext = 'MAE'\n",
    "    ax[str(i)].text(ytext_xaxis, ytext_yaxis, ytext, transform=ax[str(i)].transAxes, \n",
    "         ha='left', va='center', fontsize=text_font, rotation='vertical')\n",
    "    ax[str(i)].text(xtext_xaxis, xtext_yaxis, xtext, transform=ax[str(i)].transAxes, \n",
    "         ha='center', va='top', fontsize=text_font)\n",
    "    ax[str(i)].tick_params(axis = 'y', labelsize=5, pad = 0.5, width = 0.25)\n",
    "    ax[str(i)].tick_params(axis = 'x', labelsize=5, pad = 0.5, width = 0.25)\n",
    "\n",
    "# generate different bkg noise result\n",
    "ax_list = []\n",
    "for i in range(12,20):\n",
    "    ax_list.append(ax[str(i)])\n",
    "    if i == 15 or i==19:    \n",
    "        ax[str(i)].set_xticks([-40,30])\n",
    "    else:\n",
    "        ax[str(i)].set_xticks([-0.03,0.03]) \n",
    "    ax[str(i)].set_yticks([0,1])\n",
    "normalized_comparison_fig3(ax_list,folder_path)\n",
    "# generate plot \n",
    "for i in range(20,24):\n",
    "    if i == 23:\n",
    "        set_yticks = [0,1.4]\n",
    "        ylim = [0,1.75]\n",
    "    elif i==22:\n",
    "        set_yticks = [0,4e-3]\n",
    "        ylim = [0,4e-3]\n",
    "    else:\n",
    "        set_yticks = [0,5e-3]\n",
    "        ylim = [0,5e-3]        \n",
    "    generate_plot_fig3(ax[str(i)],\n",
    "                      x_list=extract_ele_from_dic_fig3(mae_list,0)[0],\n",
    "                      auto=extract_ele_from_dic_fig3(mae_list,i-16)[1],\n",
    "                      py4d=extract_ele_from_dic_fig3(mae_list,i-20)[1],\n",
    "                      markersize = 1,\n",
    "                      linewidth = 0.5,\n",
    "                      set_xticks=[0,0.7],\n",
    "                      set_yticks = set_yticks,\n",
    "                      ylim = ylim\n",
    "                      )\n",
    "    if i <23:\n",
    "        ax[str(i)].yaxis.set_major_formatter(FuncFormatter(custom_formatter))\n",
    "        \n",
    "display_image(ax[\"24\"], f\"{folder_path}/py4DSTEM_logo.png\")\n",
    "display_image(ax[\"25\"], f\"{folder_path}/auto4dstem_LOGO.png\")\n",
    "display_image(ax[\"26\"], f\"{folder_path}/py4DSTEM_logo.png\")\n",
    "display_image(ax[\"27\"], f\"{folder_path}/auto4dstem_LOGO.png\")\n",
    "\n",
    "for idx, item in enumerate(list(dict.keys())):\n",
    "    style = 'b'\n",
    "    if idx<3:\n",
    "        style = 'w'\n",
    "    if idx<7:\n",
    "        ax[item].tick_params(length=0)\n",
    "    if idx>6:\n",
    "        ax[item].tick_params(direction='in')  \n",
    "    if idx<7:\n",
    "        ax[item].set_xticklabels([])\n",
    "        ax[item].set_yticklabels([])\n",
    "    for spine in ax[item].spines.values():\n",
    "        spine.set_linewidth(0.25)  # Boundary size (thicker)\n",
    "    if idx<23:\n",
    "        labelfigs(ax[item], \n",
    "                number = idx,\n",
    "                style = style,\n",
    "                loc ='tl',\n",
    "                size=6,\n",
    "                inset_fraction=(0.1, 0.1)\n",
    "                )\n",
    "plt.savefig(f'figure3.{save_format}',dpi=600)\n",
    "# plt.savefig('figure1.svg',dpi=600)"
   ]
  },
  {
   "cell_type": "code",
   "execution_count": null,
   "id": "60c2733a-1cec-4364-b867-8de6e241ae92",
   "metadata": {},
   "outputs": [],
   "source": []
  },
  {
   "cell_type": "markdown",
   "id": "d662e319-be24-41ce-a761-07ec8e9724cb",
   "metadata": {},
   "source": [
    "# Generate Figure 4"
   ]
  },
  {
   "cell_type": "markdown",
   "id": "bbd97fbe-dd29-46cf-bcfb-f441de2eb5df",
   "metadata": {},
   "source": [
    "### Generate ABF and ADF of experimental 4dstem"
   ]
  },
  {
   "cell_type": "code",
   "execution_count": null,
   "id": "e9c20ab5-13be-47ff-b20d-d2e41fc4afbc",
   "metadata": {},
   "outputs": [],
   "source": [
    "generate_adf_abf = False\n",
    "if generate_adf_abf:\n",
    "    data_path = os.path.abspath(\"Experimental_4dstem/Extremely_Noisy_4DSTEM_Strain_Mapping_Using_CC_ST_AE_Experimental/data_x256_y256_raw.npy\")\n",
    "    stem4d_data = np.load(data_path)  # Open the file in read mode \n",
    "    real_space = np.mean(stem4d_data.reshape(-1,256,256),axis=0)\n",
    "    diffraction_space = np.mean(stem4d_data.reshape(124,124,-1),axis=2)\n",
    "    mean_ = np.zeros([124,124])\n",
    "    mask_0 = mask_function(mean_,radius=10,center_coordinates=(62,62))\n",
    "    mask_1 = mask_function(mean_,radius=25,center_coordinates=(62,62))\n",
    "    mask_2 = mask_function(mean_,radius=50,center_coordinates=(62,62))\n",
    "    mask_3 = ~mask_1*mask_2\n",
    "    test_diff_bright  = np.copy(diffraction_space)\n",
    "    test_diff_dark  = np.copy(diffraction_space)\n",
    "    test_diff_bright[mask_0] = 0\n",
    "    test_diff_dark[~mask_3]=0\n",
    "    index_ = np.where(mask_0==1)\n",
    "    index_1 = np.where(mask_3 == 1)\n",
    "    white_center = stem4d_data[index_]\n",
    "    dark_center = stem4d_data[index_1]\n",
    "    avg_white = np.mean(white_center,axis=0)\n",
    "    avg_dark = np.mean(dark_center,axis=0)\n",
    "else:\n",
    "    avg_white = np.load(f'{folder_path}/ABF_WS2WSe2.npy')\n",
    "    avg_dark = np.load(f'{folder_path}/ADF_WS2WSe2.npy')"
   ]
  },
  {
   "cell_type": "code",
   "execution_count": null,
   "id": "24cc65e4-a623-46bf-9a85-d2b20927875b",
   "metadata": {},
   "outputs": [],
   "source": [
    "fig,ax = plt.subplots(2,2,figsize=(6,5))\n",
    "clim1 = [2.90e4,3.2e4]\n",
    "clim2 = [50,90]\n",
    "\n",
    "sc1 = ax[0][0].imshow(avg_white,clim = clim1,cmap = 'viridis')\n",
    "cbar1 = plt.colorbar(sc1, ax=ax[0][0], shrink=0.65)\n",
    "ax[0][1].hist(avg_white.reshape(-1),200,range = clim1);\n",
    "\n",
    "sc2 = ax[1][0].imshow(avg_dark,clim = clim2,cmap = 'viridis')\n",
    "cbar2 = plt.colorbar(sc2, ax=ax[1][0], shrink=0.65)\n",
    "ax[1][1].hist(avg_dark.reshape(-1),200,range = clim2);\n",
    "fig.tight_layout()\n",
    "#plt.savefig('bright_dark_real_space.svg')"
   ]
  },
  {
   "cell_type": "markdown",
   "id": "0603cb96-f6d8-4785-bf0c-45c0184f707c",
   "metadata": {},
   "source": [
    "## Strain parameters of experimental dataset"
   ]
  },
  {
   "cell_type": "code",
   "execution_count": null,
   "id": "d5aa4fcc-4df4-4664-b627-ae444d949b65",
   "metadata": {},
   "outputs": [],
   "source": [
    "y_max = 3.4\n",
    "x_max = 5.28\n",
    "width_1 = 1.0417\n",
    "width_2 = 1.26\n",
    "height_1 = 1.0417\n",
    "height_2 = 1.09\n",
    "x_initial_1 = 0.038\n",
    "x_end_1 = 5.0178\n",
    "y_end_1 = y_max - 0.547\n",
    "y_end_2 = y_max - 0.055\n",
    "y_initial_1 = y_max - 2.7759\n",
    "y_initial_2 = y_max - 3.3744\n",
    "\n",
    "space_x_1 = (x_end_1 - x_initial_1 - 4*width_1)/3.0\n",
    "space_y_1 = (y_end_1 - y_initial_1 - height_1 - height_2)\n",
    "space_y_2 = (y_end_2 - y_initial_2 - height_1*3)/2"
   ]
  },
  {
   "cell_type": "code",
   "execution_count": null,
   "id": "c7ab1f4c-9404-4b44-a333-79f3c885ce1d",
   "metadata": {},
   "outputs": [],
   "source": [
    "# Load h5 file of the transformed sample, strain parameters and strain magitude of py4dstem and auto4dstem\n",
    "data_path = os.path.abspath(f'{folder_path}/transformed_sample_of_index_[25820 32170 38520 44870 51220].h5')\n",
    "strain_mag_path = os.path.abspath(f'{folder_path}/WS2WSe2_strain_maginitude_with_py4d.h5')\n",
    "strain_path = os.path.abspath(f'{folder_path}/WS2WSe2_real_strain_list.h5')"
   ]
  },
  {
   "cell_type": "code",
   "execution_count": null,
   "id": "a350ef0b-1eb7-421e-b157-6067627efbe2",
   "metadata": {},
   "outputs": [],
   "source": [
    "# load the data from h5 file\n",
    "h5 = h5py.File(data_path,'r')\n",
    "h_strain_mag = h5py.File(strain_mag_path,'r')\n",
    "h_strain = h5py.File(strain_path,'r')"
   ]
  },
  {
   "cell_type": "code",
   "execution_count": null,
   "id": "1c641bf7-fc32-442b-9bc2-3790ff599b64",
   "metadata": {},
   "outputs": [],
   "source": [
    "# set position of the figure\n",
    "dict = {\"1\": {\"position\":(x_initial_1, y_initial_2+2*space_y_2+2*height_1, width_2,height_1),\"skip_margin\": True},\n",
    "        \"2\": {\"position\":(x_initial_1+width_1+space_x_1,y_initial_2+2*space_y_2+2*height_1, width_2,height_1),\"skip_margin\": True},\n",
    "        \n",
    "        \"3\": {\"position\":(x_initial_1,y_initial_2+space_y_2+height_1, width_1,height_1),\"skip_margin\": True},\n",
    "        \"4\": {\"position\":(x_initial_1+width_1+space_x_1,y_initial_2+space_y_2+height_1, width_1,height_1),\"skip_margin\": True},\n",
    "        \n",
    "        \"5\": {\"position\":(x_initial_1,y_initial_2, width_1,height_1),\"skip_margin\": True},\n",
    "        \"6\": {\"position\":(x_initial_1+width_1+space_x_1,y_initial_2, width_1,height_1),\"skip_margin\": True},\n",
    "        \n",
    "        \"7\": {\"position\":(x_initial_1+2*width_1+2*space_x_1,\n",
    "                          y_initial_1+space_y_1+height_2, width_2,height_1),\"skip_margin\": True},\n",
    "        \"8\": {\"position\":(x_initial_1+3*width_1+3*space_x_1,\n",
    "                          y_initial_1+space_y_1+height_2, width_2,height_1),\"skip_margin\": True},\n",
    "        \n",
    "        \"9\": {\"position\":(x_initial_1+2*width_1+2*space_x_1,\n",
    "                          y_initial_1, width_1,height_2),\"skip_margin\": True},\n",
    "        \"10\": {\"position\":(x_initial_1+3*width_1+3*space_x_1,\n",
    "                          y_initial_1, width_1,height_2),\"skip_margin\": True},\n",
    "\n",
    "        \"11\": {\"position\":(1.5546,y_max - 0.5247, 0.2778,0.3277),\"skip_margin\": True},\n",
    "        \"12\": {\"position\":(2.8507,y_max - 1.0403, 0.2778,0.3277),\"skip_margin\": True},\n",
    "        \"13\": {\"position\":(4.2064,y_max - 0.9655, 0.2778,0.2778),\"skip_margin\": True},\n",
    "        }"
   ]
  },
  {
   "cell_type": "code",
   "execution_count": null,
   "id": "bb36fa05-5b05-4b18-b4fb-38d21e7c03b4",
   "metadata": {},
   "outputs": [],
   "source": [
    "# Generate the figure\n",
    "fig, ax = layout_subfigures_inches(size=(x_max, y_max ), subfigures_dict=dict)\n",
    "#imagemap(ax['1'],avg_dark,colorbars=True,clim=[50,90],cbar_number_format = '%2d')\n",
    "image_with_colorbar(ax['1'],\n",
    "                    avg_dark,\n",
    "                    cmap = 'viridis',\n",
    "                    clim = [50,90],\n",
    "                    tick_size = 5,\n",
    "                    set_ticks = [50,90],\n",
    "                    pad_tick = 1,\n",
    "                    cbar_linewidth = 0.1\n",
    "                   )\n",
    "\n",
    "image_with_colorbar(ax['2'],\n",
    "                    h_strain['auto4d'][3][:],\n",
    "                    cmap = cm.vikO,\n",
    "                    clim = [0,60],\n",
    "                    tick_size = 5,\n",
    "                    set_ticks = [0,60],\n",
    "                    pad_tick = 1,\n",
    "                    cbar_linewidth = 0.1\n",
    "                   )\n",
    "\n",
    "for i in range(3,7):\n",
    "    ax[str(i)].imshow(h5['44870'][i-3])\n",
    "    \n",
    "image_with_colorbar(ax['7'],\n",
    "                    h_strain_mag['auto4d'][:],\n",
    "                    cmap = 'viridis',\n",
    "                    clim = [-0.02,0.02],\n",
    "                    percentage = True,\n",
    "                    tick_size = 5,\n",
    "                    set_ticks = [-0.02,0,0.02],\n",
    "                    pad_tick = 0,\n",
    "                    \n",
    "                    cbar_linewidth = 0.1\n",
    "                   )\n",
    "ax['9'].hist(h_strain_mag['auto4d'][:].reshape(-1),200,range = [-0.02,0.02]);\n",
    "\n",
    "image_with_colorbar(ax['8'],\n",
    "                    h_strain_mag['py4d'][:],\n",
    "                    cmap = 'viridis',\n",
    "                    clim = [-0.02,0.02],\n",
    "                    percentage = True,\n",
    "                    tick_size = 5,\n",
    "                    set_ticks = [-0.02,0,0.02],\n",
    "                    pad_tick = 0,\n",
    "                   )\n",
    "ax['10'].hist(h_strain_mag['py4d'][:].reshape(-1),200,range = [-0.02,0.02]);\n",
    "\n",
    "display_image(ax[\"11\"], f\"{folder_path}/auto4dstem_logo_trans.png\")\n",
    "display_image(ax[\"12\"], f\"{folder_path}/auto4dstem_logo_trans.png\")\n",
    "display_image(ax[\"13\"], f\"{folder_path}/py4dstem_logo_trans.png\")\n",
    "for idx, item in enumerate(list(dict.keys())):\n",
    "    style = 'w'\n",
    "    if idx>7:\n",
    "        ax[item].tick_params(direction='in')  \n",
    "        ax[item].set_xticks([-0.02,0,0.02]) \n",
    "        ax[item].set_yticks([0,600])\n",
    "        ax[item].tick_params(axis = 'y', labelsize=5, pad = 0.5, width = 0.25)\n",
    "        ax[item].tick_params(axis = 'x', labelsize=5, pad = 0.5, width = 0.25)\n",
    "        style = 'b'\n",
    "    if idx<8:\n",
    "        ax[item].tick_params(length=0)\n",
    "        ax[item].set_xticklabels([])\n",
    "        ax[item].set_yticklabels([])\n",
    "    for spine in ax[item].spines.values():\n",
    "        spine.set_linewidth(0.25)  # Boundary size (thicker\n",
    "    if idx<10:\n",
    "        labelfigs(ax[item], \n",
    "                number = idx,\n",
    "                style = style,\n",
    "                loc ='tl',\n",
    "                size=6,\n",
    "                inset_fraction=(0.1, 0.1)\n",
    "                )\n",
    "        \n",
    "plt.savefig(f'figure4.{save_format}',dpi=600)"
   ]
  },
  {
   "cell_type": "code",
   "execution_count": null,
   "id": "1e5c314e",
   "metadata": {},
   "outputs": [],
   "source": []
  }
 ],
 "metadata": {
  "kernelspec": {
   "display_name": "HAWQ",
   "language": "python",
   "name": "python3"
  },
  "language_info": {
   "codemirror_mode": {
    "name": "ipython",
    "version": 3
   },
   "file_extension": ".py",
   "mimetype": "text/x-python",
   "name": "python",
   "nbconvert_exporter": "python",
   "pygments_lexer": "ipython3",
   "skip-execution": true,
   "version": "3.10.14"
  }
 },
 "nbformat": 4,
 "nbformat_minor": 5
}
