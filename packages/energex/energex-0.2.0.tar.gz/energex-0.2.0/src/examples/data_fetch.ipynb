{
 "cells": [
  {
   "cell_type": "code",
   "execution_count": 14,
   "metadata": {},
   "outputs": [],
   "source": [
    "import yfinance as yf\n",
    "import polars as pl\n",
    "import pandas as pd\n",
    "from datetime import datetime, timedelta\n",
    "import pytz"
   ]
  },
  {
   "cell_type": "code",
   "execution_count": 2,
   "metadata": {},
   "outputs": [],
   "source": [
    "# Step 1: Define the tickers for crude oil, brent, and natural gas\n",
    "tickers = {\n",
    "    'crude': 'CL=F',    # Crude Oil Futures\n",
    "    'brent': 'BZ=F',    # Brent Crude Oil Futures\n",
    "    'gas': 'NG=F'       # Natural Gas Futures\n",
    "}"
   ]
  },
  {
   "cell_type": "code",
   "execution_count": 3,
   "metadata": {},
   "outputs": [],
   "source": [
    "# Step 2: Calculate the time range\n",
    "end_time = datetime.now(pytz.UTC)\n",
    "start_time = end_time - timedelta(days=1)"
   ]
  },
  {
   "cell_type": "code",
   "execution_count": 19,
   "metadata": {},
   "outputs": [],
   "source": [
    "# Step 3: Create a function to download and process data for each commodity\n",
    "def get_commodity_data(ticker):\n",
    "    # Download the data using yfinance\n",
    "    data = yf.download(\n",
    "        ticker,\n",
    "        start=start_time,\n",
    "        end=end_time,\n",
    "        interval='1m'  # 1-minute intervals\n",
    "    )\n",
    "    \n",
    "    # Reset index and handle multi-index columns\n",
    "    df = data.reset_index()\n",
    "    \n",
    "    # Standardize column names to remove ticker information\n",
    "    df.columns = [col[0] if isinstance(col, tuple) else col for col in df.columns]\n",
    "    \n",
    "    # Convert to Polars DataFrame and add ticker column\n",
    "    df = pl.from_pandas(df)\n",
    "    df = df.with_columns(pl.lit(ticker).alias('Symbol'))\n",
    "    \n",
    "    return df"
   ]
  },
  {
   "cell_type": "code",
   "execution_count": 20,
   "metadata": {},
   "outputs": [
    {
     "name": "stderr",
     "output_type": "stream",
     "text": [
      "[*********************100%***********************]  1 of 1 completed"
     ]
    },
    {
     "name": "stdout",
     "output_type": "stream",
     "text": [
      "Downloading crude data...\n",
      "Downloading brent data...\n"
     ]
    },
    {
     "name": "stderr",
     "output_type": "stream",
     "text": [
      "\n",
      "[*********************100%***********************]  1 of 1 completed\n",
      "[*********************100%***********************]  1 of 1 completed"
     ]
    },
    {
     "name": "stdout",
     "output_type": "stream",
     "text": [
      "Downloading gas data...\n"
     ]
    },
    {
     "name": "stderr",
     "output_type": "stream",
     "text": [
      "\n"
     ]
    }
   ],
   "source": [
    "# Step 4: Download and combine all data\n",
    "dfs = []\n",
    "for name, ticker in tickers.items():\n",
    "    print(f\"Downloading {name} data...\")\n",
    "    df = get_commodity_data(ticker)\n",
    "    dfs.append(df)"
   ]
  },
  {
   "cell_type": "code",
   "execution_count": 21,
   "metadata": {},
   "outputs": [
    {
     "name": "stdout",
     "output_type": "stream",
     "text": [
      "[shape: (213, 7)\n",
      "┌─────────────────────────┬───────────┬───────────┬───────────┬───────────┬────────┬────────┐\n",
      "│ Datetime                ┆ Close     ┆ High      ┆ Low       ┆ Open      ┆ Volume ┆ Symbol │\n",
      "│ ---                     ┆ ---       ┆ ---       ┆ ---       ┆ ---       ┆ ---    ┆ ---    │\n",
      "│ datetime[ns, UTC]       ┆ f64       ┆ f64       ┆ f64       ┆ f64       ┆ i64    ┆ str    │\n",
      "╞═════════════════════════╪═══════════╪═══════════╪═══════════╪═══════════╪════════╪════════╡\n",
      "│ 2025-01-19 23:30:00 UTC ┆ 78.190002 ┆ 78.190002 ┆ 78.190002 ┆ 78.190002 ┆ 0      ┆ CL=F   │\n",
      "│ 2025-01-19 23:46:00 UTC ┆ 78.300003 ┆ 78.300003 ┆ 78.290001 ┆ 78.290001 ┆ 9      ┆ CL=F   │\n",
      "│ 2025-01-19 23:47:00 UTC ┆ 78.290001 ┆ 78.290001 ┆ 78.290001 ┆ 78.290001 ┆ 4      ┆ CL=F   │\n",
      "│ 2025-01-19 23:49:00 UTC ┆ 78.290001 ┆ 78.290001 ┆ 78.290001 ┆ 78.290001 ┆ 10     ┆ CL=F   │\n",
      "│ 2025-01-20 00:13:00 UTC ┆ 78.330002 ┆ 78.330002 ┆ 78.330002 ┆ 78.330002 ┆ 85     ┆ CL=F   │\n",
      "│ …                       ┆ …         ┆ …         ┆ …         ┆ …         ┆ …      ┆ …      │\n",
      "│ 2025-01-20 15:48:00 UTC ┆ 76.5      ┆ 76.5      ┆ 76.5      ┆ 76.5      ┆ 14     ┆ CL=F   │\n",
      "│ 2025-01-20 15:49:00 UTC ┆ 76.470001 ┆ 76.5      ┆ 76.470001 ┆ 76.5      ┆ 21     ┆ CL=F   │\n",
      "│ 2025-01-20 15:50:00 UTC ┆ 76.400002 ┆ 76.400002 ┆ 76.400002 ┆ 76.400002 ┆ 2      ┆ CL=F   │\n",
      "│ 2025-01-20 15:51:00 UTC ┆ 76.300003 ┆ 76.379997 ┆ 76.300003 ┆ 76.379997 ┆ 212    ┆ CL=F   │\n",
      "│ 2025-01-20 16:02:00 UTC ┆ 76.459999 ┆ 76.459999 ┆ 76.459999 ┆ 76.459999 ┆ 0      ┆ CL=F   │\n",
      "└─────────────────────────┴───────────┴───────────┴───────────┴───────────┴────────┴────────┘, shape: (716, 7)\n",
      "┌─────────────────────────┬───────────┬───────────┬───────────┬───────────┬────────┬────────┐\n",
      "│ Datetime                ┆ Close     ┆ High      ┆ Low       ┆ Open      ┆ Volume ┆ Symbol │\n",
      "│ ---                     ┆ ---       ┆ ---       ┆ ---       ┆ ---       ┆ ---    ┆ ---    │\n",
      "│ datetime[ns, UTC]       ┆ f64       ┆ f64       ┆ f64       ┆ f64       ┆ i64    ┆ str    │\n",
      "╞═════════════════════════╪═══════════╪═══════════╪═══════════╪═══════════╪════════╪════════╡\n",
      "│ 2025-01-19 23:00:00 UTC ┆ 80.68     ┆ 80.949997 ┆ 80.68     ┆ 80.940002 ┆ 0      ┆ BZ=F   │\n",
      "│ 2025-01-19 23:01:00 UTC ┆ 80.690002 ┆ 80.690002 ┆ 80.690002 ┆ 80.690002 ┆ 2      ┆ BZ=F   │\n",
      "│ 2025-01-19 23:03:00 UTC ┆ 80.760002 ┆ 80.760002 ┆ 80.760002 ┆ 80.760002 ┆ 27     ┆ BZ=F   │\n",
      "│ 2025-01-19 23:04:00 UTC ┆ 80.82     ┆ 80.82     ┆ 80.82     ┆ 80.82     ┆ 4      ┆ BZ=F   │\n",
      "│ 2025-01-19 23:05:00 UTC ┆ 80.82     ┆ 80.82     ┆ 80.82     ┆ 80.82     ┆ 14     ┆ BZ=F   │\n",
      "│ …                       ┆ …         ┆ …         ┆ …         ┆ …         ┆ …      ┆ …      │\n",
      "│ 2025-01-20 16:04:00 UTC ┆ 79.550003 ┆ 79.580002 ┆ 79.550003 ┆ 79.550003 ┆ 14     ┆ BZ=F   │\n",
      "│ 2025-01-20 16:05:00 UTC ┆ 79.620003 ┆ 79.620003 ┆ 79.57     ┆ 79.57     ┆ 41     ┆ BZ=F   │\n",
      "│ 2025-01-20 16:06:00 UTC ┆ 79.669998 ┆ 79.669998 ┆ 79.589996 ┆ 79.620003 ┆ 48     ┆ BZ=F   │\n",
      "│ 2025-01-20 16:07:00 UTC ┆ 79.75     ┆ 79.75     ┆ 79.699997 ┆ 79.699997 ┆ 62     ┆ BZ=F   │\n",
      "│ 2025-01-20 16:08:00 UTC ┆ 79.699997 ┆ 79.720001 ┆ 79.660004 ┆ 79.720001 ┆ 0      ┆ BZ=F   │\n",
      "└─────────────────────────┴───────────┴───────────┴───────────┴───────────┴────────┴────────┘, shape: (924, 7)\n",
      "┌─────────────────────────┬───────┬───────┬───────┬───────┬────────┬────────┐\n",
      "│ Datetime                ┆ Close ┆ High  ┆ Low   ┆ Open  ┆ Volume ┆ Symbol │\n",
      "│ ---                     ┆ ---   ┆ ---   ┆ ---   ┆ ---   ┆ ---    ┆ ---    │\n",
      "│ datetime[ns, UTC]       ┆ f64   ┆ f64   ┆ f64   ┆ f64   ┆ i64    ┆ str    │\n",
      "╞═════════════════════════╪═══════╪═══════╪═══════╪═══════╪════════╪════════╡\n",
      "│ 2025-01-19 23:00:00 UTC ┆ 3.768 ┆ 3.819 ┆ 3.763 ┆ 3.815 ┆ 0      ┆ NG=F   │\n",
      "│ 2025-01-19 23:01:00 UTC ┆ 3.771 ┆ 3.777 ┆ 3.765 ┆ 3.768 ┆ 293    ┆ NG=F   │\n",
      "│ 2025-01-19 23:02:00 UTC ┆ 3.781 ┆ 3.782 ┆ 3.771 ┆ 3.775 ┆ 693    ┆ NG=F   │\n",
      "│ 2025-01-19 23:03:00 UTC ┆ 3.792 ┆ 3.793 ┆ 3.781 ┆ 3.782 ┆ 158    ┆ NG=F   │\n",
      "│ 2025-01-19 23:04:00 UTC ┆ 3.787 ┆ 3.797 ┆ 3.787 ┆ 3.794 ┆ 176    ┆ NG=F   │\n",
      "│ …                       ┆ …     ┆ …     ┆ …     ┆ …     ┆ …      ┆ …      │\n",
      "│ 2025-01-20 16:04:00 UTC ┆ 3.806 ┆ 3.806 ┆ 3.796 ┆ 3.797 ┆ 53     ┆ NG=F   │\n",
      "│ 2025-01-20 16:05:00 UTC ┆ 3.801 ┆ 3.804 ┆ 3.801 ┆ 3.804 ┆ 20     ┆ NG=F   │\n",
      "│ 2025-01-20 16:06:00 UTC ┆ 3.802 ┆ 3.802 ┆ 3.798 ┆ 3.802 ┆ 25     ┆ NG=F   │\n",
      "│ 2025-01-20 16:07:00 UTC ┆ 3.805 ┆ 3.806 ┆ 3.801 ┆ 3.801 ┆ 17     ┆ NG=F   │\n",
      "│ 2025-01-20 16:08:00 UTC ┆ 3.8   ┆ 3.804 ┆ 3.8   ┆ 3.804 ┆ 0      ┆ NG=F   │\n",
      "└─────────────────────────┴───────┴───────┴───────┴───────┴────────┴────────┘]\n"
     ]
    }
   ],
   "source": [
    "print(dfs)"
   ]
  },
  {
   "cell_type": "code",
   "execution_count": 22,
   "metadata": {},
   "outputs": [],
   "source": [
    "# Step 5: Combine all dataframes\n",
    "combined_data = pl.concat(dfs)\n"
   ]
  },
  {
   "cell_type": "code",
   "execution_count": 23,
   "metadata": {},
   "outputs": [
    {
     "name": "stdout",
     "output_type": "stream",
     "text": [
      "shape: (1_853, 7)\n",
      "┌─────────────────────────┬───────────┬───────────┬───────────┬───────────┬────────┬────────┐\n",
      "│ Datetime                ┆ Close     ┆ High      ┆ Low       ┆ Open      ┆ Volume ┆ Symbol │\n",
      "│ ---                     ┆ ---       ┆ ---       ┆ ---       ┆ ---       ┆ ---    ┆ ---    │\n",
      "│ datetime[ns, UTC]       ┆ f64       ┆ f64       ┆ f64       ┆ f64       ┆ i64    ┆ str    │\n",
      "╞═════════════════════════╪═══════════╪═══════════╪═══════════╪═══════════╪════════╪════════╡\n",
      "│ 2025-01-19 23:30:00 UTC ┆ 78.190002 ┆ 78.190002 ┆ 78.190002 ┆ 78.190002 ┆ 0      ┆ CL=F   │\n",
      "│ 2025-01-19 23:46:00 UTC ┆ 78.300003 ┆ 78.300003 ┆ 78.290001 ┆ 78.290001 ┆ 9      ┆ CL=F   │\n",
      "│ 2025-01-19 23:47:00 UTC ┆ 78.290001 ┆ 78.290001 ┆ 78.290001 ┆ 78.290001 ┆ 4      ┆ CL=F   │\n",
      "│ 2025-01-19 23:49:00 UTC ┆ 78.290001 ┆ 78.290001 ┆ 78.290001 ┆ 78.290001 ┆ 10     ┆ CL=F   │\n",
      "│ 2025-01-20 00:13:00 UTC ┆ 78.330002 ┆ 78.330002 ┆ 78.330002 ┆ 78.330002 ┆ 85     ┆ CL=F   │\n",
      "│ …                       ┆ …         ┆ …         ┆ …         ┆ …         ┆ …      ┆ …      │\n",
      "│ 2025-01-20 16:04:00 UTC ┆ 3.806     ┆ 3.806     ┆ 3.796     ┆ 3.797     ┆ 53     ┆ NG=F   │\n",
      "│ 2025-01-20 16:05:00 UTC ┆ 3.801     ┆ 3.804     ┆ 3.801     ┆ 3.804     ┆ 20     ┆ NG=F   │\n",
      "│ 2025-01-20 16:06:00 UTC ┆ 3.802     ┆ 3.802     ┆ 3.798     ┆ 3.802     ┆ 25     ┆ NG=F   │\n",
      "│ 2025-01-20 16:07:00 UTC ┆ 3.805     ┆ 3.806     ┆ 3.801     ┆ 3.801     ┆ 17     ┆ NG=F   │\n",
      "│ 2025-01-20 16:08:00 UTC ┆ 3.8       ┆ 3.804     ┆ 3.8       ┆ 3.804     ┆ 0      ┆ NG=F   │\n",
      "└─────────────────────────┴───────────┴───────────┴───────────┴───────────┴────────┴────────┘\n"
     ]
    }
   ],
   "source": [
    "print(combined_data)"
   ]
  },
  {
   "cell_type": "code",
   "execution_count": 24,
   "metadata": {},
   "outputs": [],
   "source": [
    "# Step 6: Clean and organize the final dataset\n",
    "final_data = (\n",
    "    combined_data\n",
    "    .sort(['Symbol', 'Datetime'])\n",
    "    .select([\n",
    "        'Datetime',\n",
    "        'Symbol',\n",
    "        'Open',\n",
    "        'High',\n",
    "        'Low',\n",
    "        'Close',\n",
    "        'Volume'\n",
    "    ])\n",
    ")"
   ]
  },
  {
   "cell_type": "code",
   "execution_count": 25,
   "metadata": {},
   "outputs": [
    {
     "name": "stdout",
     "output_type": "stream",
     "text": [
      "\n",
      "First few rows of the data:\n",
      "shape: (5, 7)\n",
      "┌─────────────────────────┬────────┬───────────┬───────────┬───────────┬───────────┬────────┐\n",
      "│ Datetime                ┆ Symbol ┆ Open      ┆ High      ┆ Low       ┆ Close     ┆ Volume │\n",
      "│ ---                     ┆ ---    ┆ ---       ┆ ---       ┆ ---       ┆ ---       ┆ ---    │\n",
      "│ datetime[ns, UTC]       ┆ str    ┆ f64       ┆ f64       ┆ f64       ┆ f64       ┆ i64    │\n",
      "╞═════════════════════════╪════════╪═══════════╪═══════════╪═══════════╪═══════════╪════════╡\n",
      "│ 2025-01-19 23:00:00 UTC ┆ BZ=F   ┆ 80.940002 ┆ 80.949997 ┆ 80.68     ┆ 80.68     ┆ 0      │\n",
      "│ 2025-01-19 23:01:00 UTC ┆ BZ=F   ┆ 80.690002 ┆ 80.690002 ┆ 80.690002 ┆ 80.690002 ┆ 2      │\n",
      "│ 2025-01-19 23:03:00 UTC ┆ BZ=F   ┆ 80.760002 ┆ 80.760002 ┆ 80.760002 ┆ 80.760002 ┆ 27     │\n",
      "│ 2025-01-19 23:04:00 UTC ┆ BZ=F   ┆ 80.82     ┆ 80.82     ┆ 80.82     ┆ 80.82     ┆ 4      │\n",
      "│ 2025-01-19 23:05:00 UTC ┆ BZ=F   ┆ 80.82     ┆ 80.82     ┆ 80.82     ┆ 80.82     ┆ 14     │\n",
      "└─────────────────────────┴────────┴───────────┴───────────┴───────────┴───────────┴────────┘\n",
      "\n",
      "Basic statistics:\n",
      "shape: (3, 3)\n",
      "┌────────┬───────────┬──────────────┐\n",
      "│ Symbol ┆ Avg_Price ┆ Total_Volume │\n",
      "│ ---    ┆ ---       ┆ ---          │\n",
      "│ str    ┆ f64       ┆ i64          │\n",
      "╞════════╪═══════════╪══════════════╡\n",
      "│ CL=F   ┆ 77.460329 ┆ 4310         │\n",
      "│ BZ=F   ┆ 80.473282 ┆ 25095        │\n",
      "│ NG=F   ┆ 3.792509  ┆ 46326        │\n",
      "└────────┴───────────┴──────────────┘\n"
     ]
    }
   ],
   "source": [
    "# Display the first few rows\n",
    "print(\"\\nFirst few rows of the data:\")\n",
    "print(final_data.head())\n",
    "\n",
    "# Display basic statistics\n",
    "print(\"\\nBasic statistics:\")\n",
    "print(final_data.group_by('Symbol').agg([\n",
    "    pl.col('Close').mean().alias('Avg_Price'),\n",
    "    pl.col('Volume').sum().alias('Total_Volume')\n",
    "]))"
   ]
  }
 ],
 "metadata": {
  "kernelspec": {
   "display_name": ".venv",
   "language": "python",
   "name": "python3"
  },
  "language_info": {
   "codemirror_mode": {
    "name": "ipython",
    "version": 3
   },
   "file_extension": ".py",
   "mimetype": "text/x-python",
   "name": "python",
   "nbconvert_exporter": "python",
   "pygments_lexer": "ipython3",
   "version": "3.12.3"
  }
 },
 "nbformat": 4,
 "nbformat_minor": 2
}
