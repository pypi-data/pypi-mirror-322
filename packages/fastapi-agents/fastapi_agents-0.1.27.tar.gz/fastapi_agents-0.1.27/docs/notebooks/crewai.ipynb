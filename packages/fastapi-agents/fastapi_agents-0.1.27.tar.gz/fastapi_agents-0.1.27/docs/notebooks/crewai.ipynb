{
 "cells": [
  {
   "cell_type": "markdown",
   "metadata": {},
   "source": [
    "crewai"
   ]
  },
  {
   "cell_type": "code",
   "execution_count": 1,
   "metadata": {},
   "outputs": [
    {
     "name": "stdout",
     "output_type": "stream",
     "text": [
      "\u001b[1m\u001b[95m# Agent:\u001b[00m \u001b[1m\u001b[92mPoet\u001b[00m\n",
      "\u001b[95m## Task:\u001b[00m \u001b[92mWrite a beautiful poem.\u001b[00m\n",
      "\n",
      "\n",
      "\u001b[1m\u001b[95m# Agent:\u001b[00m \u001b[1m\u001b[92mPoet\u001b[00m\n",
      "\u001b[95m## Final Answer:\u001b[00m \u001b[92m\n",
      "Beneath the moon’s soft, silver veil,  \n",
      "The winds of night begin their tale.  \n",
      "Through whispering leaves and dreams unspoken,  \n",
      "A truth emerges, bold yet broken.  \n",
      "\n",
      "The stars, like lanterns, guide the way,  \n",
      "Through ebony seas where shadows play.  \n",
      "Each spark a wish, a tender cry,  \n",
      "That soars beyond the velvet sky.  \n",
      "\n",
      "Oh fleeting time, your silent pace,  \n",
      "Leaves traces none can dare erase.  \n",
      "Yet in the stillness, hearts ignite,  \n",
      "A flame eternal, born of night.\u001b[00m\n",
      "\n",
      "\n"
     ]
    }
   ],
   "source": [
    "from crewai import Agent, Crew, Task, LLM\n",
    "from crewai.process import Process\n",
    "import os\n",
    "\n",
    "os.environ['OPENAI_API_BASE'] = os.environ['OPENAI_BASE_URL']\n",
    "\n",
    "# Define the agent\n",
    "poet = Agent(\n",
    "    role=\"Poet\",\n",
    "    goal=\"Write beautiful poetry.\",\n",
    "    backstory=\"Experienced poetry, author of 60 poems.\",\n",
    "    verbose=True,\n",
    "    llm=LLM('openai/gpt-4o')\n",
    ")\n",
    "\n",
    "# Define the task\n",
    "writing_task = Task(\n",
    "    description=\"Write a beautiful poem.\",\n",
    "    expected_output=\"A poem with 3 stanzas.\",\n",
    "    agent=poet\n",
    ")\n",
    "\n",
    "# Create a crew with the agent and task\n",
    "ai_crew = Crew(\n",
    "    agents=[poet],\n",
    "    tasks=[writing_task],\n",
    "    process=Process.sequential,  # Tasks will be executed sequentially\n",
    "    verbose=True\n",
    ")\n",
    "\n",
    "# Execute the tasks\n",
    "# result = ai_crew.kickoff()"
   ]
  },
  {
   "cell_type": "code",
   "execution_count": 2,
   "metadata": {},
   "outputs": [
    {
     "data": {
      "text/plain": [
       "'Beneath the moon’s soft, silver veil,  \\nThe winds of night begin their tale.  \\nThrough whispering leaves and dreams unspoken,  \\nA truth emerges, bold yet broken.  \\n\\nThe stars, like lanterns, guide the way,  \\nThrough ebony seas where shadows play.  \\nEach spark a wish, a tender cry,  \\nThat soars beyond the velvet sky.  \\n\\nOh fleeting time, your silent pace,  \\nLeaves traces none can dare erase.  \\nYet in the stillness, hearts ignite,  \\nA flame eternal, born of night.'"
      ]
     },
     "execution_count": 2,
     "metadata": {},
     "output_type": "execute_result"
    }
   ],
   "source": [
    "result.raw"
   ]
  },
  {
   "cell_type": "code",
   "execution_count": 3,
   "metadata": {},
   "outputs": [],
   "source": [
    "from fastapi_agents import FastAPIAgents\n",
    "from fastapi_agents.crewai import CrewAIAgent\n",
    "\n",
    "# IMPORTANT: mode = 'openai'\n",
    "app = FastAPIAgents.as_app(mode='openai')\n",
    "app.register(\"crew\", CrewAIAgent(ai_crew))\n"
   ]
  },
  {
   "cell_type": "markdown",
   "metadata": {},
   "source": [
    "## Run our API in the background\n",
    "\n",
    "Since we're in Jupyter, we're going to run our API as a thread so we can execute the cells following it. We also need to nest asyncio since Jupyter is already running its own asyncio event loop."
   ]
  },
  {
   "cell_type": "code",
   "execution_count": null,
   "metadata": {},
   "outputs": [
    {
     "name": "stderr",
     "output_type": "stream",
     "text": [
      "INFO:     Started server process [3691]\n",
      "INFO:     Waiting for application startup.\n",
      "INFO:     Application startup complete.\n",
      "INFO:     Uvicorn running on http://127.0.0.1:8000 (Press CTRL+C to quit)\n"
     ]
    },
    {
     "name": "stdout",
     "output_type": "stream",
     "text": [
      "INFO:     127.0.0.1:65252 - \"POST /chat/completions HTTP/1.1\" 422 Unprocessable Entity\n",
      "\u001b[1m\u001b[95m# Agent:\u001b[00m \u001b[1m\u001b[92mPoet\u001b[00m\n",
      "\u001b[95m## Task:\u001b[00m \u001b[92mWrite a beautiful poem.\u001b[00m\n",
      "\n",
      "\n",
      "\u001b[1m\u001b[95m# Agent:\u001b[00m \u001b[1m\u001b[92mPoet\u001b[00m\n",
      "\u001b[95m## Final Answer:\u001b[00m \u001b[92m\n",
      "Beneath the blush of twilight's hue,  \n",
      "A world adorned in emerald dew,  \n",
      "The whispering winds in soft caress,  \n",
      "Bestow the night its gentle dress.  \n",
      "\n",
      "Stars awaken, a lantern's gleam,  \n",
      "Scattered sparks in a cosmic stream,  \n",
      "Their mirthful gaze, a timeless lore,  \n",
      "Guides us to dream and to explore.  \n",
      "\n",
      "The moon ascends with royal grace,  \n",
      "She bathes the earth in silken lace,  \n",
      "And in her glow, the hearts belong,  \n",
      "To night's eternal, silent song.\u001b[00m\n",
      "\n",
      "\n",
      "INFO:     127.0.0.1:65252 - \"POST /chat/completions HTTP/1.1\" 200 OK\n",
      "\u001b[1m\u001b[95m# Agent:\u001b[00m \u001b[1m\u001b[92mPoet\u001b[00m\n",
      "\u001b[95m## Task:\u001b[00m \u001b[92mWrite a beautiful poem.\u001b[00m\n",
      "\n",
      "\n",
      "\u001b[1m\u001b[95m# Agent:\u001b[00m \u001b[1m\u001b[92mPoet\u001b[00m\n",
      "\u001b[95m## Final Answer:\u001b[00m \u001b[92m\n",
      "Beneath the hush of twilight's grace,  \n",
      "Where shadows dance and stars embrace,  \n",
      "The whispers hum, a soft refrain,  \n",
      "Of dreams awash in evening's vein.  \n",
      "\n",
      "The emerald leaves in moonlight's glow,  \n",
      "Sing lullabies the rivers know,  \n",
      "Their currents hum a gentle tune,  \n",
      "Beneath the gaze of watchful moon.  \n",
      "\n",
      "So wander here, where silence speaks,  \n",
      "Through velvet skies and mountain peaks,  \n",
      "Find solace deep, where hearts align,  \n",
      "In nature's song, divine, divine.\u001b[00m\n",
      "\n",
      "\n",
      "INFO:     127.0.0.1:65267 - \"POST /chat/completions HTTP/1.1\" 200 OK\n"
     ]
    }
   ],
   "source": [
    "import nest_asyncio\n",
    "nest_asyncio.apply()\n",
    "\n",
    "import uvicorn\n",
    "uvicorn.run(app=app)"
   ]
  }
 ],
 "metadata": {
  "kernelspec": {
   "display_name": ".venv",
   "language": "python",
   "name": "python3"
  },
  "language_info": {
   "codemirror_mode": {
    "name": "ipython",
    "version": 3
   },
   "file_extension": ".py",
   "mimetype": "text/x-python",
   "name": "python",
   "nbconvert_exporter": "python",
   "pygments_lexer": "ipython3",
   "version": "3.12.7"
  }
 },
 "nbformat": 4,
 "nbformat_minor": 2
}
