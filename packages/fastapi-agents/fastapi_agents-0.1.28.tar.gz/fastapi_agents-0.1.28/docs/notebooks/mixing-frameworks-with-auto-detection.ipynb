{
 "cells": [
  {
   "cell_type": "markdown",
   "metadata": {},
   "source": [
    "# Mixing Frameworks with Auto-Detection\n",
    "\n",
    "FastAPI Agents supports concurrent registration of agents from multiple different frameworks to the same FastAPI app. It can also detect your agent framework automatically. \n",
    "\n",
    "This notebook demonstrates how to use the `FastAPIAgent` class from `fastapi-agents` with multiple different agent frameworks seamlessly.\n",
    "\n",
    "To run this notebook, make sure you have `fastapi`, `fastapi-agents`, `crewai` and `pydantic-ai` installed (e.g. `pip install fastapi fastapi-agents crewai pydantic-ai`)."
   ]
  },
  {
   "cell_type": "markdown",
   "metadata": {},
   "source": [
    "## First Framework: CrewAI\n",
    "\n",
    "Let's start by defining an agent with CrewAI, which FastAPI Agents supports."
   ]
  },
  {
   "cell_type": "code",
   "execution_count": 1,
   "metadata": {},
   "outputs": [],
   "source": [
    "from crewai import Agent, Crew, Task, LLM\n",
    "from crewai.process import Process\n",
    "import os\n",
    "\n",
    "os.environ['OPENAI_API_BASE'] = os.environ['OPENAI_BASE_URL']\n",
    "\n",
    "# Define the agent\n",
    "poet = Agent(\n",
    "    role=\"Poet\",\n",
    "    goal=\"Write beautiful poetry.\",\n",
    "    backstory=\"Experienced poetry, author of 60 poems.\",\n",
    "    verbose=True,\n",
    "    llm=LLM('openai/gpt-4o')\n",
    ")\n",
    "\n",
    "# Define the task\n",
    "writing_task = Task(\n",
    "    description=\"Write a beautiful poem.\",\n",
    "    expected_output=\"A poem with 3 stanzas.\",\n",
    "    agent=poet\n",
    ")\n",
    "\n",
    "# Create a crew with the agent and task\n",
    "ai_crew = Crew(\n",
    "    agents=[poet],\n",
    "    tasks=[writing_task],\n",
    "    process=Process.sequential,  # Tasks will be executed sequentially\n",
    "    verbose=True\n",
    ")"
   ]
  },
  {
   "cell_type": "markdown",
   "metadata": {},
   "source": [
    "You can run your crew with `.kickoff()` to make sure it's working as expected."
   ]
  },
  {
   "cell_type": "code",
   "execution_count": null,
   "metadata": {},
   "outputs": [],
   "source": [
    "result = ai_crew.kickoff()"
   ]
  },
  {
   "cell_type": "markdown",
   "metadata": {},
   "source": [
    "## Second Framework: PydanticAI\n",
    "\n",
    "Next, let's define an agent with PydanticAI, which FastAPI Agents also supports."
   ]
  },
  {
   "cell_type": "code",
   "execution_count": 2,
   "metadata": {},
   "outputs": [],
   "source": [
    "from typing import List\n",
    "from pydantic_ai import Agent\n",
    "\n",
    "todo_agent = Agent(\n",
    "    \"openai:gpt-4o\",\n",
    "    system_prompt=\"You are managing the user's todo list.\"\n",
    ")\n",
    "\n",
    "todos: List[str] = []\n",
    "\n",
    "@todo_agent.tool\n",
    "def list_todos(context):\n",
    "    return f\"{len(todos)} todos: {\"\".join(todos) if len(todos) > 0 else \"empty\"}\"\n",
    "\n",
    "@todo_agent.tool\n",
    "def add_todo(context, description: str):\n",
    "    todos.append(description)\n",
    "    return f\"added {description} to todos\"\n",
    "\n",
    "@todo_agent.tool\n",
    "def delete_todo(context, description: str):\n",
    "    todos.remove(description)\n",
    "    return f\"removed {description} from todos\""
   ]
  },
  {
   "cell_type": "markdown",
   "metadata": {},
   "source": [
    "You can run your agent with `.run_sync()` to make sure it's working as expected. Since we are using Jupyter which uses asyncio for execution, we need to tell asyncio to nest the execution loop so we execute our Pydantic AI, which also uses asyncio. (You won't need this outside of Jupyter.)"
   ]
  },
  {
   "cell_type": "code",
   "execution_count": null,
   "metadata": {},
   "outputs": [],
   "source": [
    "import nest_asyncio\n",
    "nest_asyncio.apply()\n",
    "\n",
    "result = todo_agent.run_sync(\"make up 3 todos and add them then tell me what do i need to do\")\n",
    "result.data"
   ]
  },
  {
   "cell_type": "markdown",
   "metadata": {},
   "source": [
    "## Registering Multiple Agents with Automatic Framework Detection\n",
    "\n",
    "Finally, let's register both agents with FastAPI Agents, using automatic detection to determine which agent framework is being used.\n",
    "\n",
    "This means we don't need to specify the agent framework when registering the agent with FastAPI Agents, or explicitly use the framework-specific adapter classes. (They are still used under the hood, but you don't need to worry about them.)"
   ]
  },
  {
   "cell_type": "code",
   "execution_count": null,
   "metadata": {},
   "outputs": [],
   "source": [
    "from fastapi_agents import FastAPIAgents\n",
    "\n",
    "app = FastAPIAgents.as_app()\n",
    "app.register(\"poet\", ai_crew)\n",
    "app.register(\"todo\", todo_agent)"
   ]
  },
  {
   "cell_type": "markdown",
   "metadata": {},
   "source": [
    "## Run with Uvicorn\n",
    "\n",
    "Finally, we'll run our FastAPI app with uvicorn to see our agents in action.\n",
    "\n",
    "Since we're in Jupyter, we're going to run our API as a thread so we can execute the cells following it. We also need to nest asyncio since Jupyter is already running its own asyncio event loop."
   ]
  },
  {
   "cell_type": "code",
   "execution_count": null,
   "metadata": {},
   "outputs": [],
   "source": [
    "import nest_asyncio\n",
    "nest_asyncio.apply()\n",
    "\n",
    "import uvicorn\n",
    "uvicorn.run(app)"
   ]
  },
  {
   "cell_type": "markdown",
   "metadata": {},
   "source": [
    "Open the API in your browser to see the Swagger UI and test your agents.\n",
    "\n",
    "By default, your interactive docs will be available at [http://127.0.0.1:8000/docs](http://127.0.0.1:8000/docs)."
   ]
  }
 ],
 "metadata": {
  "kernelspec": {
   "display_name": ".venv",
   "language": "python",
   "name": "python3"
  },
  "language_info": {
   "codemirror_mode": {
    "name": "ipython",
    "version": 3
   },
   "file_extension": ".py",
   "mimetype": "text/x-python",
   "name": "python",
   "nbconvert_exporter": "python",
   "pygments_lexer": "ipython3",
   "version": "3.12.7"
  }
 },
 "nbformat": 4,
 "nbformat_minor": 2
}
