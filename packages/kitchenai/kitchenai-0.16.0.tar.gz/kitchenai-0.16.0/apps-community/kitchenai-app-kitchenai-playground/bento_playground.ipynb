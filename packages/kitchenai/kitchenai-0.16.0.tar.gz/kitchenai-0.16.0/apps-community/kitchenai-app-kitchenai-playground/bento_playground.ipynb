{
 "cells": [
  {
   "cell_type": "markdown",
   "metadata": {},
   "source": [
    "# Bento Playground\n",
    "This notebook integrates with kitchenai bento magic commands so you can experiment and serve a lightweight bento to integrate. \n"
   ]
  },
  {
   "cell_type": "code",
   "execution_count": null,
   "metadata": {},
   "outputs": [],
   "source": [
    "%pip install llama-index llama-index-llms-openai\n",
    "%load_ext kitchenai.contrib.notebooks\n",
    "%kitchenai_set_project kitchenai-app-kitchenai-playground\n"
   ]
  },
  {
   "cell_type": "markdown",
   "metadata": {},
   "source": [
    "# Imports\n",
    "\n",
    "Register your imports. "
   ]
  },
  {
   "cell_type": "code",
   "execution_count": null,
   "metadata": {},
   "outputs": [],
   "source": [
    "%%kitchenai_import kitchenai-app-kitchenai-playground-imports"
   ]
  },
  {
   "cell_type": "markdown",
   "metadata": {},
   "source": [
    "# Global Variables"
   ]
  },
  {
   "cell_type": "code",
   "execution_count": null,
   "metadata": {},
   "outputs": [],
   "source": [
    "%%kitchenai_setup kitchenai-app-kitchenai-playground-setup"
   ]
  },
  {
   "cell_type": "markdown",
   "metadata": {},
   "source": [
    "# Storage Function"
   ]
  },
  {
   "cell_type": "code",
   "execution_count": null,
   "metadata": {},
   "outputs": [],
   "source": [
    "#These storage variables are the input for the storage function. Use it in your storage logic cell.\n",
    "dir = \"./data/\" #dir is the directory where the temporary file for processing will be placed.\n",
    "metadata = {} #metadata is the metadata for the storage function.\n",
    "kwargs = {} #kwargs is the keyword arguments for the storage function."
   ]
  },
  {
   "cell_type": "code",
   "execution_count": null,
   "metadata": {},
   "outputs": [],
   "source": [
    "%%kitchenai_register storage kitchenai-app-kitchenai-playground\n",
    "\"\"\"\n",
    "Storage logic cell\n",
    "\"\"\""
   ]
  },
  {
   "cell_type": "markdown",
   "metadata": {},
   "source": [
    "# Query Function\n"
   ]
  },
  {
   "cell_type": "code",
   "execution_count": null,
   "metadata": {},
   "outputs": [],
   "source": [
    "from kitchenai.contrib.kitchenai_sdk.api import QuerySchema\n",
    "\n",
    "#Query Schema is the input for the query function. Use it in your query logic cell.\n",
    "data =  QuerySchema(query=\"summarize llama2\", metadata={})"
   ]
  },
  {
   "cell_type": "code",
   "execution_count": null,
   "metadata": {},
   "outputs": [],
   "source": [
    "%%kitchenai_register query kitchenai-app-kitchenai-playground\n",
    "\"\"\"\n",
    "Query logic cell\n",
    "\"\"\""
   ]
  },
  {
   "cell_type": "markdown",
   "metadata": {},
   "source": [
    "# Embedding Function"
   ]
  },
  {
   "cell_type": "code",
   "execution_count": null,
   "metadata": {},
   "outputs": [],
   "source": [
    "from kitchenai.contrib.kitchenai_sdk.api import EmbedSchema\n",
    "\n",
    "embeddings = EmbedSchema(text=\"this is my first text\")"
   ]
  },
  {
   "cell_type": "code",
   "execution_count": null,
   "metadata": {},
   "outputs": [],
   "source": [
    "%%kitchenai_register embed kitchenai-app-kitchenai-playground\n",
    "\"\"\"\n",
    "Embedding logic cell\n",
    "\"\"\"\n"
   ]
  },
  {
   "cell_type": "markdown",
   "metadata": {},
   "source": [
    "# Create a KitchenAI Module \n",
    "\n",
    "This transforms your registered functions into a module that can be served directly. To create it, run the %kitchenai_create_module magic command.\n",
    "\n",
    "make sure this is the last cell in the notebook.\n"
   ]
  },
  {
   "cell_type": "code",
   "execution_count": null,
   "metadata": {},
   "outputs": [],
   "source": [
    "%kitchenai_create_module"
   ]
  },
  {
   "cell_type": "code",
   "execution_count": null,
   "metadata": {},
   "outputs": [],
   "source": []
  }
 ],
 "metadata": {
  "language_info": {
   "name": "python"
  }
 },
 "nbformat": 4,
 "nbformat_minor": 2
}
