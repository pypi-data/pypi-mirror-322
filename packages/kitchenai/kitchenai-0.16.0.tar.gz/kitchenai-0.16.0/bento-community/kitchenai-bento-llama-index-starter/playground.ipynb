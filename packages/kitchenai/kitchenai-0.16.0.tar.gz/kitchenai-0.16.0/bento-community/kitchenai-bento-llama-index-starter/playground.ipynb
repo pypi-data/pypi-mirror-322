{
 "cells": [
  {
   "cell_type": "markdown",
   "metadata": {},
   "source": [
    "# KitchenAI Playground\n",
    "This notebook uses the kitchenai environment so you can directly interact with it's bento boxes, plugins, apps, and other components. \n"
   ]
  },
  {
   "cell_type": "code",
   "execution_count": 1,
   "metadata": {},
   "outputs": [
    {
     "data": {
      "application/vnd.jupyter.widget-view+json": {
       "model_id": "58b68b702b714bfe81b677afe5a33b99",
       "version_major": 2,
       "version_minor": 0
      },
      "text/plain": [
       "Output()"
      ]
     },
     "metadata": {},
     "output_type": "display_data"
    },
    {
     "data": {
      "text/html": [
       "<pre style=\"white-space:pre;overflow-x:auto;line-height:normal;font-family:Menlo,'DejaVu Sans Mono',consolas,'Courier New',monospace\">/home/epuerta/.local/share/hatch/env/pip-compile/llama-index-starter-bento/UrwETRuf/dev/lib/python3.11/site-package\n",
       "s/django/db/backends/utils.py:98: RuntimeWarning: Accessing the database during app initialization is discouraged. \n",
       "To fix this warning, avoid executing queries in AppConfig.ready() or when your app modules are imported.\n",
       "  warnings.warn(self.APPS_NOT_READY_WARNING_MSG, category=RuntimeWarning)\n",
       "</pre>\n"
      ],
      "text/plain": [
       "/home/epuerta/.local/share/hatch/env/pip-compile/llama-index-starter-bento/UrwETRuf/dev/lib/python3.11/site-package\n",
       "s/django/db/backends/utils.py:98: RuntimeWarning: Accessing the database during app initialization is discouraged. \n",
       "To fix this warning, avoid executing queries in AppConfig.ready() or when your app modules are imported.\n",
       "  warnings.warn(self.APPS_NOT_READY_WARNING_MSG, category=RuntimeWarning)\n"
      ]
     },
     "metadata": {},
     "output_type": "display_data"
    },
    {
     "data": {
      "text/html": [
       "<pre style=\"white-space:pre;overflow-x:auto;line-height:normal;font-family:Menlo,'DejaVu Sans Mono',consolas,'Courier New',monospace\">/home/epuerta/.local/share/hatch/env/pip-compile/llama-index-starter-bento/UrwETRuf/dev/lib/python3.11/site-package\n",
       "s/dj_notebook/__init__.py:76: UserWarning: Django is running in production mode with dj-notebook.\n",
       "  warnings.warn(\"Django is running in production mode with dj-notebook.\")\n",
       "</pre>\n"
      ],
      "text/plain": [
       "/home/epuerta/.local/share/hatch/env/pip-compile/llama-index-starter-bento/UrwETRuf/dev/lib/python3.11/site-package\n",
       "s/dj_notebook/__init__.py:76: UserWarning: Django is running in production mode with dj-notebook.\n",
       "  warnings.warn(\"Django is running in production mode with dj-notebook.\")\n"
      ]
     },
     "metadata": {},
     "output_type": "display_data"
    },
    {
     "data": {
      "text/html": [
       "<pre style=\"white-space:pre;overflow-x:auto;line-height:normal;font-family:Menlo,'DejaVu Sans Mono',consolas,'Courier New',monospace\"></pre>\n"
      ],
      "text/plain": []
     },
     "metadata": {},
     "output_type": "display_data"
    }
   ],
   "source": [
    "from dj_notebook import activate\n",
    "import os \n",
    "\n",
    "os.environ[\"DJANGO_SETTINGS_MODULE\"] = \"kitchenai.settings\"\n",
    "\n",
    "plus = activate()"
   ]
  }
 ],
 "metadata": {
  "kernelspec": {
   "display_name": "dev",
   "language": "python",
   "name": "python3"
  },
  "language_info": {
   "codemirror_mode": {
    "name": "ipython",
    "version": 3
   },
   "file_extension": ".py",
   "mimetype": "text/x-python",
   "name": "python",
   "nbconvert_exporter": "python",
   "pygments_lexer": "ipython3",
   "version": "3.11.8"
  }
 },
 "nbformat": 4,
 "nbformat_minor": 2
}
