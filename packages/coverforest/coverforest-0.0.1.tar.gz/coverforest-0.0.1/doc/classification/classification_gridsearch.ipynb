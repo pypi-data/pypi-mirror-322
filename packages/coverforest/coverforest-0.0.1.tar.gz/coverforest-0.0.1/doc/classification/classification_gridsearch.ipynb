{
 "cells": [
  {
   "cell_type": "markdown",
   "id": "192f9035-a727-482e-9e19-edd6379a11f1",
   "metadata": {},
   "source": [
    "# Searching $k$ and $\\lambda$ using scikit-learn's `GridSearchCV`"
   ]
  },
  {
   "cell_type": "markdown",
   "id": "64f29941-60c1-4f93-bc00-6cd2c8ad20dd",
   "metadata": {},
   "source": [
    "The parameter $k$ is essentially the upper limit on the sizes of the prediction sets. Thus, by its definition, we should choose $k$ so that the true class $y$ are within the top-$k$ most likely classes for most samples. Specifically, if we want our prediction set to contain the true class $(1-\\alpha)\\%$ of the time, a suitable choice of $k$ is the ($1-\\alpha$) quantile of the ranks of the true classes based on their predicted probabilities, from highest to lowest.\n",
    "\n",
    "The `CoverForestClassifier` class provides the `search_k_and_lambda()` method that searches for $k$ using the method described in the previous paragraph; while $\\lambda$ is chosen from the candidates $0.001, 0.01, 0.1, 0.2, 0.5, 1$ using cross-validation. In this tutorial, we will instead use the grid-search functionality provided by scikit-learn to search for $k$ and $\\lambda$ over any choice of search spaces.\n",
    "\n",
    "This tutorial demonstrates how to perform grid-search cross-validation for `CoverForestClassifier`'s $k$ and $\\lambda$ parameters on the MNIST dataset."
   ]
  },
  {
   "cell_type": "code",
   "execution_count": 1,
   "id": "a1480a5a-a9e6-4e6e-a4fc-7f139bfa4be3",
   "metadata": {},
   "outputs": [],
   "source": [
    "import numpy as np\n",
    "from matplotlib import pyplot as plt\n",
    "from sklearn.datasets import load_digits\n",
    "from sklearn.metrics import make_scorer\n",
    "from sklearn.model_selection import GridSearchCV, train_test_split\n",
    "\n",
    "from coverforest import CoverForestClassifier\n",
    "from coverforest.metrics import average_set_size_loss"
   ]
  },
  {
   "cell_type": "markdown",
   "id": "14abb88b-19fb-41b0-88c2-3e8411ac9549",
   "metadata": {},
   "source": [
    "Load the dataset and take a look at the first few images."
   ]
  },
  {
   "cell_type": "code",
   "execution_count": 2,
   "id": "c662d7a4-8f4c-4769-bd88-b80892e2dca6",
   "metadata": {},
   "outputs": [
    {
     "data": {
      "image/png": "[encoded data removed]",
      "text/plain": [
       "<Figure size 1000x300 with 4 Axes>"
      ]
     },
     "metadata": {},
     "output_type": "display_data"
    }
   ],
   "source": [
    "digits = load_digits()\n",
    "\n",
    "_, axes = plt.subplots(nrows=1, ncols=4, figsize=(10, 3))\n",
    "for ax, image, label in zip(axes, digits.images, digits.target):\n",
    "    ax.set_axis_off()\n",
    "    ax.imshow(image, cmap=plt.cm.gray_r, interpolation=\"nearest\")\n",
    "    ax.set_title(\"Training: %i\" % label)"
   ]
  },
  {
   "cell_type": "markdown",
   "id": "b50b6dbb-5637-469c-8837-a31f4bbda55d",
   "metadata": {},
   "source": [
    "We'll split the data into 50% training and 50% testing sets"
   ]
  },
  {
   "cell_type": "code",
   "execution_count": 3,
   "id": "a22d7730-643b-491c-ba0a-61f02df2790f",
   "metadata": {},
   "outputs": [],
   "source": [
    "X_train, X_test, y_train, y_test = train_test_split(\n",
    "    digits.data, digits.target, test_size=0.5, shuffle=False\n",
    ")"
   ]
  },
  {
   "cell_type": "markdown",
   "id": "0f00091c-c344-4059-b084-fb3f92869f7b",
   "metadata": {},
   "source": [
    "## Limiting the search space"
   ]
  },
  {
   "cell_type": "markdown",
   "id": "be1a9971-81df-48f5-97be-aff809806491",
   "metadata": {},
   "source": [
    "When dealing with problems that have many possible classes, searching through all possible values of $k$ (from 1 up to the total number of classes) would be computationally expensive. Instead, we can narrow down the search range for $k$ using the quantile-based approach described at the beginning. In particular, we will use the `search_k_and_lambda()` method, which will output a particular value of $k$, then we will limit our search space to integers near this value.\n",
    "\n",
    "To search for $k$, we specify `k_init=\"auto\"` and `lambda_init=0`. We also set`alpha_default=0.05` which will not be used for now, but it will be used when `GridSearchCV` calls `clf`'s `predict()` method during fitting."
   ]
  },
  {
   "cell_type": "code",
   "execution_count": 4,
   "id": "b6628ee7-4fc0-4eae-88cb-7675cb36d7a8",
   "metadata": {},
   "outputs": [
    {
     "data": {
      "text/plain": [
       "(1, 0)"
      ]
     },
     "execution_count": 4,
     "metadata": {},
     "output_type": "execute_result"
    }
   ],
   "source": [
    "clf = CoverForestClassifier(\n",
    "    n_estimators=100,\n",
    "    method=\"cv\",\n",
    "    cv=5,\n",
    "    k_init=\"auto\",\n",
    "    lambda_init=0,\n",
    "    alpha_default=0.05,\n",
    "    random_state=0,\n",
    ")\n",
    "clf.search_k_and_lambda(X_train, y_train)"
   ]
  },
  {
   "cell_type": "markdown",
   "id": "d230a0c3-9848-4bf2-b3db-94ffd7e8a615",
   "metadata": {},
   "source": [
    "We obtain $k=1$. From this, we will perform grid-search cross validation with $k$ ranging from $1$ to $3$ and $\\lambda$ from $0.001$ to $10$."
   ]
  },
  {
   "cell_type": "code",
   "execution_count": 5,
   "id": "743a90f8-c03e-49e8-950a-388181763411",
   "metadata": {},
   "outputs": [
    {
     "name": "stdout",
     "output_type": "stream",
     "text": [
      "Best parameters: {'k_init': 1, 'lambda_init': 1.0}\n",
      "Best score: -1.922\n"
     ]
    }
   ],
   "source": [
    "param_grid = {\"k_init\": [1, 2, 3], \"lambda_init\": [0.001, 0.01, 0.1, 1.0, 10.0]}\n",
    "\n",
    "average_set_size_score = make_scorer(average_set_size_loss, greater_is_better=False)\n",
    "\n",
    "grid_search = GridSearchCV(\n",
    "    clf, param_grid, cv=5, scoring=average_set_size_score, n_jobs=-1\n",
    ")\n",
    "\n",
    "grid_search.fit(X_train, y_train)\n",
    "\n",
    "print(f\"Best parameters: {grid_search.best_params_}\")\n",
    "print(f\"Best score: {grid_search.best_score_:.3f}\")"
   ]
  },
  {
   "cell_type": "markdown",
   "id": "4c801e49-252b-4131-b346-549c655e59c3",
   "metadata": {},
   "source": [
    "From the grid-search, the best parameters are $k=1$ and $\\lambda=1.0$ which yield the smallest average set size of $1.839$."
   ]
  },
  {
   "cell_type": "markdown",
   "id": "5e36cea0-4421-4c5f-ae4a-542ba0a9be0c",
   "metadata": {},
   "source": [
    "## Comparison between models with and without regularization"
   ]
  },
  {
   "cell_type": "markdown",
   "id": "fa8fca1b-0bac-4210-9072-e10afc96df1c",
   "metadata": {},
   "source": [
    "Let's see if the regularization actually improve the model in terms of average set size.\n",
    "\n",
    "First, we fit another model without regularization ($k=0$ and $\\lambda=0$)."
   ]
  },
  {
   "cell_type": "code",
   "execution_count": 6,
   "id": "cb0727a3-e1e4-460a-ab3a-799f7a400aec",
   "metadata": {},
   "outputs": [],
   "source": [
    "another_clf = CoverForestClassifier(\n",
    "    n_estimators=100, method=\"cv\", cv=5, k_init=0, lambda_init=0, random_state=0\n",
    ")\n",
    "another_clf.fit(X_train, y_train)\n",
    "y_pred, y_sets = another_clf.predict(X_test, alpha=0.05)"
   ]
  },
  {
   "cell_type": "code",
   "execution_count": 7,
   "id": "669241d7-91c9-4f30-b977-d8f198a73927",
   "metadata": {},
   "outputs": [
    {
     "name": "stdout",
     "output_type": "stream",
     "text": [
      "Test coverage: 0.970\n",
      "Average set size: 2.241\n"
     ]
    }
   ],
   "source": [
    "contain_y = [y_test[i] in y_sets[i] for i in range(len(y_test))]\n",
    "set_sizes = [len(s) for s in y_sets]\n",
    "print(f\"Test coverage: {np.mean(contain_y):.3f}\")\n",
    "print(f\"Average set size: {np.mean(set_sizes):.3f}\")"
   ]
  },
  {
   "cell_type": "markdown",
   "id": "23d43233-cb40-4645-afc2-d3fbf99e699c",
   "metadata": {},
   "source": [
    "Let's compare the result to that of our grid-searched model."
   ]
  },
  {
   "cell_type": "code",
   "execution_count": 8,
   "id": "7c1ef2bc-e61c-4ff8-ba73-825ab3db8b57",
   "metadata": {},
   "outputs": [],
   "source": [
    "best_clf = grid_search.best_estimator_\n",
    "y_pred, y_sets = best_clf.predict(X_test, alpha=0.05)"
   ]
  },
  {
   "cell_type": "code",
   "execution_count": 9,
   "id": "8c613864-3c7c-412c-9c48-c7afbb3759d8",
   "metadata": {},
   "outputs": [
    {
     "name": "stdout",
     "output_type": "stream",
     "text": [
      "Test coverage: 0.970\n",
      "Average set size: 2.004\n"
     ]
    }
   ],
   "source": [
    "contain_y = [y_test[i] in y_sets[i] for i in range(len(y_test))]\n",
    "set_sizes = [len(s) for s in y_sets]\n",
    "print(f\"Test coverage: {np.mean(contain_y):.3f}\")\n",
    "print(f\"Average set size: {np.mean(set_sizes):.3f}\")"
   ]
  },
  {
   "cell_type": "markdown",
   "id": "c0c0a3d6-bc12-413e-a2cc-2afba79f8d07",
   "metadata": {},
   "source": [
    "In this example, the regularization actually helps decrease the average set size."
   ]
  },
  {
   "cell_type": "markdown",
   "id": "29e26535-5edc-42d4-be49-ab6dcc827e33",
   "metadata": {},
   "source": [
    "## Inspecting a difficult image"
   ]
  },
  {
   "cell_type": "markdown",
   "id": "864b2131-87b0-4421-9564-7bd2687443c1",
   "metadata": {},
   "source": [
    "Let's now take a look at an image with the largest prediction set."
   ]
  },
  {
   "cell_type": "code",
   "execution_count": 10,
   "id": "83a92f80-11d9-4331-a641-801d8274e639",
   "metadata": {},
   "outputs": [
    {
     "name": "stdout",
     "output_type": "stream",
     "text": [
      "Largest set size: 7\n"
     ]
    }
   ],
   "source": [
    "print(f\"Largest set size: {max(set_sizes)}\")"
   ]
  },
  {
   "cell_type": "markdown",
   "id": "9f611f2b-7bbe-4e1b-87c2-fad1452c5c72",
   "metadata": {},
   "source": [
    "Below, we plot a test image whose prediction set has seven classes."
   ]
  },
  {
   "cell_type": "code",
   "execution_count": 13,
   "id": "4bcd4e01-2329-4338-980f-d7def83d0f54",
   "metadata": {},
   "outputs": [
    {
     "data": {
      "image/png": "[encoded data removed]",
      "text/plain": [
       "<Figure size 300x300 with 1 Axes>"
      ]
     },
     "metadata": {},
     "output_type": "display_data"
    }
   ],
   "source": [
    "idx = set_sizes.index(7)\n",
    "\n",
    "img_idx = X_test[idx].reshape(8, 8)\n",
    "\n",
    "_, ax = plt.subplots(figsize=(3, 3))\n",
    "ax.set_axis_off()\n",
    "ax.imshow(img_idx, cmap=plt.cm.gray_r, interpolation=\"nearest\");"
   ]
  },
  {
   "cell_type": "markdown",
   "id": "4003391b-c21a-42b5-8513-f7c50570dfd9",
   "metadata": {},
   "source": [
    "This is most likely a 9, a 5 or an 8 might be possible. Let's see the model's set prediction."
   ]
  },
  {
   "cell_type": "code",
   "execution_count": 15,
   "id": "cd2ad6f4-4021-4ad0-8932-b92d79966fd8",
   "metadata": {},
   "outputs": [
    {
     "name": "stdout",
     "output_type": "stream",
     "text": [
      "True class: 8\n",
      "Single prediction: 9\n",
      "Set prediction: [0 1 3 5 7 8 9]\n"
     ]
    }
   ],
   "source": [
    "print(f\"True class: {y_test[idx]}\")\n",
    "print(f\"Single prediction: {y_pred[idx]}\")\n",
    "print(f\"Set prediction: {y_sets[idx]}\")"
   ]
  }
 ],
 "metadata": {
  "kernelspec": {
   "display_name": "Python 3 (ipykernel)",
   "language": "python",
   "name": "python3"
  },
  "language_info": {
   "codemirror_mode": {
    "name": "ipython",
    "version": 3
   },
   "file_extension": ".py",
   "mimetype": "text/x-python",
   "name": "python",
   "nbconvert_exporter": "python",
   "pygments_lexer": "ipython3",
   "version": "3.10.12"
  }
 },
 "nbformat": 4,
 "nbformat_minor": 5
}
