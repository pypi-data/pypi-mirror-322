{
 "cells": [
  {
   "cell_type": "markdown",
   "id": "367182cdbb25b3e5",
   "metadata": {},
   "source": [
    "# Computer Topic Classifier Evaluation\n",
    "\n",
    "This notebook demonstrates how to evaluate a simple LLM-based classifier that determines whether a piece of text is about computer-related topics or not. We use `pytest-evals` to run our evaluation and analyze the results.\n",
    "\n",
    "## Setup\n",
    "First, we'll load the required extensions and import necessary libraries."
   ]
  },
  {
   "cell_type": "code",
   "execution_count": 1,
   "id": "ca67ed74e03caa26",
   "metadata": {
    "ExecuteTime": {
     "end_time": "2025-01-14T20:52:45.450891Z",
     "start_time": "2025-01-14T20:52:45.371516Z"
    }
   },
   "outputs": [],
   "source": [
    "%load_ext pytest_evals"
   ]
  },
  {
   "cell_type": "markdown",
   "id": "aa0e586aef4e19e0",
   "metadata": {},
   "source": [
    "## Classifier Implementation\n",
    "\n",
    "Below is our classifier implementation that uses GPT-4 to determine if text is computer-related. The classifier returns a boolean value:\n",
    "- `True`: Text is computer-related\n",
    "- `False`: Text is not computer-related"
   ]
  },
  {
   "cell_type": "code",
   "execution_count": 2,
   "id": "c957edc789a1fda2",
   "metadata": {
    "ExecuteTime": {
     "end_time": "2025-01-14T20:52:52.720778Z",
     "start_time": "2025-01-14T20:52:52.461019Z"
    }
   },
   "outputs": [],
   "source": [
    "import openai\n",
    "\n",
    "\n",
    "def classify(text: str) -> bool:\n",
    "    \"\"\"Classify text as computer-related or not using GPT-4.\n",
    "\n",
    "    Args:\n",
    "        text (str): The input text to classify\n",
    "\n",
    "    Returns:\n",
    "        bool: True if the text is computer-related, False otherwise\n",
    "    \"\"\"\n",
    "    resp = openai.chat.completions.create(\n",
    "        model=\"gpt-4o-mini\",\n",
    "        messages=[\n",
    "            {\n",
    "                \"role\": \"system\",\n",
    "                \"content\": \"Is this text about a computer-related subject? \"\n",
    "                \"Reply ONLY with either true or false.\",\n",
    "            },\n",
    "            {\"role\": \"user\", \"content\": text},\n",
    "        ],\n",
    "    )\n",
    "    return resp.choices[0].message.content.lower() == \"true\""
   ]
  },
  {
   "cell_type": "markdown",
   "id": "132870eda457b817",
   "metadata": {},
   "source": [
    "## Test Data\n",
    "\n",
    "We define a set of test cases to evaluate our classifier. Each test case contains:\n",
    "- `text`: The input text to classify\n",
    "- `label`: The expected classification (True for computer-related, False otherwise)"
   ]
  },
  {
   "cell_type": "code",
   "execution_count": 3,
   "id": "f071596bb3a7d1d5",
   "metadata": {
    "ExecuteTime": {
     "end_time": "2025-01-14T20:52:55.778825Z",
     "start_time": "2025-01-14T20:52:55.775541Z"
    }
   },
   "outputs": [],
   "source": [
    "TEST_DATA = [\n",
    "    {\"text\": \"I need to debug this Python code\", \"label\": True},\n",
    "    {\"text\": \"The cat jumped over the lazy dog\", \"label\": False},\n",
    "    {\"text\": \"My monitor keeps flickering\", \"label\": True},\n",
    "]"
   ]
  },
  {
   "cell_type": "markdown",
   "id": "3f5ff914f7ba5295",
   "metadata": {},
   "source": [
    "## Evaluation Tests\n",
    "\n",
    "We use pytest-evals to:\n",
    "1. Run individual test cases and collect results\n",
    "2. Analyze the overall performance of our classifier\n",
    "\n",
    "The evaluation requires:\n",
    "- Accuracy >= 70%\n",
    "- All test cases must match their expected labels"
   ]
  },
  {
   "cell_type": "code",
   "execution_count": 5,
   "id": "4caa983f934e9d8f",
   "metadata": {
    "ExecuteTime": {
     "end_time": "2025-01-14T20:53:08.847747Z",
     "start_time": "2025-01-14T20:53:06.447532Z"
    }
   },
   "outputs": [
    {
     "name": "stdout",
     "output_type": "stream",
     "text": [
      "\n",
      "t_70590e19e8ac4ec9aae799248d529934.py::test_classifier[case0] Input: I need to debug this Python code\n",
      "Prediction: True\n",
      "\u001B[32mPASSED\u001B[0m\n",
      "t_70590e19e8ac4ec9aae799248d529934.py::test_classifier[case1] Input: The cat jumped over the lazy dog\n",
      "Prediction: False\n",
      "\u001B[32mPASSED\u001B[0m\n",
      "t_70590e19e8ac4ec9aae799248d529934.py::test_classifier[case2] Input: My monitor keeps flickering\n",
      "Prediction: True\n",
      "\u001B[32mPASSED\u001B[0m\n",
      "t_70590e19e8ac4ec9aae799248d529934.py::test_analysis Accuracy: 100.00%\n",
      "\u001B[32mPASSED\u001B[0m\n",
      "\n",
      "\u001B[32m======================================== \u001B[32m\u001B[1m4 passed\u001B[0m\u001B[32m in 2.37s\u001B[0m\u001B[32m =========================================\u001B[0m\n"
     ]
    }
   ],
   "source": [
    "%%ipytest_evals\n",
    "import pytest\n",
    "\n",
    "@pytest.mark.eval(name=\"computer_classifier\")\n",
    "@pytest.mark.parametrize(\"case\", TEST_DATA)\n",
    "def test_classifier(case: dict, eval_bag):\n",
    "    \"\"\"Test individual classification cases.\n",
    "    \n",
    "    Args:\n",
    "        case (dict): Test case containing text and expected label\n",
    "        eval_bag: Container for test results\n",
    "        classifier: The classification function\n",
    "    \"\"\"\n",
    "    # Store inputs and results in eval_bag for analysis\n",
    "    eval_bag.input_text = case[\"text\"]\n",
    "    eval_bag.label = case[\"label\"]\n",
    "    eval_bag.prediction = classify(case[\"text\"])\n",
    "\n",
    "    # Log results for visibility\n",
    "    print(f\"Input: {eval_bag.input_text}\")\n",
    "    print(f\"Prediction: {eval_bag.prediction}\")\n",
    "\n",
    "    assert eval_bag.prediction == eval_bag.label\n",
    "\n",
    "\n",
    "@pytest.mark.eval_analysis(name=\"computer_classifier\")\n",
    "def test_analysis(eval_results):\n",
    "    \"\"\"Analyze overall classifier performance.\n",
    "    \n",
    "    Args:\n",
    "        eval_results: Collection of all test results\n",
    "    \"\"\"\n",
    "    total = len(eval_results)\n",
    "    correct = sum(1 for r in eval_results if r.result.prediction == r.result.label)\n",
    "    accuracy = correct / total\n",
    "\n",
    "    print(f\"Accuracy: {accuracy:.2%}\")\n",
    "    assert accuracy >= 0.7  # Require at least 70% accuracy"
   ]
  }
 ],
 "metadata": {
  "kernelspec": {
   "display_name": "Python 3",
   "language": "python",
   "name": "python3"
  },
  "language_info": {
   "codemirror_mode": {
    "name": "ipython",
    "version": 2
   },
   "file_extension": ".py",
   "mimetype": "text/x-python",
   "name": "python",
   "nbconvert_exporter": "python",
   "pygments_lexer": "ipython2",
   "version": "2.7.6"
  }
 },
 "nbformat": 4,
 "nbformat_minor": 5
}
