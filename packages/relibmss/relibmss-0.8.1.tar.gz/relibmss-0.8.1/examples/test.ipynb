{
 "cells": [
  {
   "cell_type": "code",
   "execution_count": 1,
   "metadata": {},
   "outputs": [],
   "source": [
    "import relibmss as ms"
   ]
  },
  {
   "cell_type": "code",
   "execution_count": 2,
   "metadata": {},
   "outputs": [],
   "source": [
    "mdd = ms.MDD()"
   ]
  },
  {
   "cell_type": "code",
   "execution_count": 3,
   "metadata": {},
   "outputs": [],
   "source": [
    "a = mdd.defvar('a', 3)\n",
    "b = mdd.defvar('b', 3)\n",
    "c = mdd.defvar('c', 3)"
   ]
  },
  {
   "cell_type": "code",
   "execution_count": null,
   "metadata": {},
   "outputs": [
    {
     "data": {
      "text/plain": [
       "(4, 0)"
      ]
     },
     "execution_count": 4,
     "metadata": {},
     "output_type": "execute_result"
    }
   ],
   "source": [
    "a.get_id()"
   ]
  },
  {
   "cell_type": "code",
   "execution_count": 5,
   "metadata": {},
   "outputs": [
    {
     "data": {
      "text/plain": [
       "[MddNode((1, 0)), MddNode((2, 0)), MddNode((3, 0))]"
      ]
     },
     "execution_count": 5,
     "metadata": {},
     "output_type": "execute_result"
    }
   ],
   "source": [
    "a.get_children()"
   ]
  },
  {
   "cell_type": "code",
   "execution_count": 6,
   "metadata": {},
   "outputs": [],
   "source": [
    "z = a + mdd.const(0)"
   ]
  },
  {
   "cell_type": "code",
   "execution_count": 18,
   "metadata": {},
   "outputs": [],
   "source": [
    "tmpt = set([a.get_id()])"
   ]
  },
  {
   "cell_type": "code",
   "execution_count": 7,
   "metadata": {},
   "outputs": [],
   "source": [
    "bss = ms.BDD()"
   ]
  },
  {
   "cell_type": "code",
   "execution_count": 8,
   "metadata": {},
   "outputs": [],
   "source": [
    "a = bss.defvar('a')"
   ]
  },
  {
   "cell_type": "code",
   "execution_count": 9,
   "metadata": {},
   "outputs": [
    {
     "data": {
      "text/plain": [
       "0"
      ]
     },
     "execution_count": 9,
     "metadata": {},
     "output_type": "execute_result"
    }
   ],
   "source": [
    "a.get_level()"
   ]
  },
  {
   "cell_type": "code",
   "execution_count": 10,
   "metadata": {},
   "outputs": [
    {
     "data": {
      "text/plain": [
       "'a'"
      ]
     },
     "execution_count": 10,
     "metadata": {},
     "output_type": "execute_result"
    }
   ],
   "source": [
    "a.get_label()"
   ]
  },
  {
   "cell_type": "code",
   "execution_count": 15,
   "metadata": {},
   "outputs": [
    {
     "data": {
      "text/plain": [
       "0"
      ]
     },
     "execution_count": 15,
     "metadata": {},
     "output_type": "execute_result"
    }
   ],
   "source": [
    "a.get_header()"
   ]
  },
  {
   "cell_type": "code",
   "execution_count": 12,
   "metadata": {},
   "outputs": [],
   "source": [
    "x = a.get_children()"
   ]
  },
  {
   "cell_type": "code",
   "execution_count": 14,
   "metadata": {},
   "outputs": [
    {
     "data": {
      "text/plain": [
       "MddNode((4, 0))"
      ]
     },
     "execution_count": 14,
     "metadata": {},
     "output_type": "execute_result"
    }
   ],
   "source": [
    "z"
   ]
  },
  {
   "cell_type": "code",
   "execution_count": 10,
   "metadata": {},
   "outputs": [],
   "source": [
    "z = bss.create_node(a.get_header(), x)"
   ]
  },
  {
   "cell_type": "code",
   "execution_count": 11,
   "metadata": {},
   "outputs": [
    {
     "data": {
      "text/plain": [
       "3"
      ]
     },
     "execution_count": 11,
     "metadata": {},
     "output_type": "execute_result"
    }
   ],
   "source": [
    "z.get_id()"
   ]
  },
  {
   "cell_type": "code",
   "execution_count": 12,
   "metadata": {},
   "outputs": [
    {
     "data": {
      "text/plain": [
       "3"
      ]
     },
     "execution_count": 12,
     "metadata": {},
     "output_type": "execute_result"
    }
   ],
   "source": [
    "a.get_id()"
   ]
  },
  {
   "cell_type": "code",
   "execution_count": 16,
   "metadata": {},
   "outputs": [
    {
     "name": "stdout",
     "output_type": "stream",
     "text": [
      "0.314\n",
      "{'B': 0.06999999999999999, 'C': 0.98, 'A': 0.13999999999999999}\n",
      "[0.312, 0.442]\n",
      "{'C': [0.94, 0.98], 'B': [0.06, 0.13999999999999999], 'A': [0.12, 0.21]}\n",
      "{'B': 0.25, 'C': 0.75, 'A': 0.25}\n",
      "0.314\n",
      "[0.312, 0.442]\n",
      "{'A': 0.13999999999999999, 'C': 0.98, 'B': 0.06999999999999999}\n",
      "{'A': [0.12, 0.21], 'C': [0.94, 0.98], 'B': [0.06, 0.13999999999999999]}\n",
      "{'A': 0.25, 'B': 0.25, 'C': 0.75}\n"
     ]
    }
   ],
   "source": [
    "import relibmss as ms\n",
    "\n",
    "# Create a binary system (fault tree)\n",
    "bss = ms.BSS()\n",
    "\n",
    "# Define events (This version only supports repeated events)\n",
    "A = bss.defvar('A')\n",
    "B = bss.defvar('B')\n",
    "C = bss.defvar('C')\n",
    "\n",
    "# Make a tree\n",
    "top = A & B | C # & is AND gate, | is OR gate\n",
    "\n",
    "# Set probabilities\n",
    "prob = {\n",
    "    'A': 0.1,\n",
    "    'B': 0.2,\n",
    "    'C': 0.3\n",
    "}\n",
    "\n",
    "# Calculate the probability\n",
    "print(bss.prob(top, prob))\n",
    "\n",
    "# top = 1-(1-pa*pb)*(1-pc) = pa*pb+pc-pa*pb*pc\n",
    "# top / pa = pb - pb*pc = 0.2 - 0.2*0.3 = 0.14\n",
    "# top / pb = pa - pa*pc = 0.1 - 0.1*0.3 = 0.07\n",
    "# top / pc = 1 - pa*pb = 1 - 0.1*0.2 = 0.98\n",
    "\n",
    "print(bss.bmeas(top, prob))\n",
    "\n",
    "# Set the interval of the probability\n",
    "interval_prob = {\n",
    "    'A': (0.1, 0.2),\n",
    "    'B': (0.2, 0.3),\n",
    "    'C': (0.3, 0.4)\n",
    "}\n",
    "\n",
    "# Calculate the probability\n",
    "print(bss.prob_interval(top, interval_prob))\n",
    "\n",
    "print(bss.bmeas_interval(top, interval_prob))\n",
    "\n",
    "###\n",
    "\n",
    "prob2 = {\n",
    "    'A': 0.5,\n",
    "    'B': 0.5,\n",
    "    'C': 0.5\n",
    "}\n",
    "\n",
    "# structure importance measure\n",
    "print(bss.bmeas(top, prob2))\n",
    "\n",
    "# An example of the direct use of BddNode\n",
    "\n",
    "bdd = ms.BDD()\n",
    "\n",
    "# Define events (This version only supports repeated events)\n",
    "A = bdd.defvar('A')\n",
    "B = bdd.defvar('B')\n",
    "C = bdd.defvar('C')\n",
    "\n",
    "# Make a tree\n",
    "top = A & B | C # & is AND gate, | is OR gate\n",
    "\n",
    "print(top.prob(prob))\n",
    "print(top.prob_interval(interval_prob))\n",
    "\n",
    "print(top.bmeas(prob))\n",
    "print(top.bmeas_interval(interval_prob))\n",
    "\n",
    "print(top.bmeas(prob2))\n"
   ]
  },
  {
   "cell_type": "code",
   "execution_count": null,
   "metadata": {},
   "outputs": [],
   "source": []
  }
 ],
 "metadata": {
  "kernelspec": {
   "display_name": ".venv",
   "language": "python",
   "name": "python3"
  },
  "language_info": {
   "codemirror_mode": {
    "name": "ipython",
    "version": 3
   },
   "file_extension": ".py",
   "mimetype": "text/x-python",
   "name": "python",
   "nbconvert_exporter": "python",
   "pygments_lexer": "ipython3",
   "version": "3.11.2"
  }
 },
 "nbformat": 4,
 "nbformat_minor": 2
}
