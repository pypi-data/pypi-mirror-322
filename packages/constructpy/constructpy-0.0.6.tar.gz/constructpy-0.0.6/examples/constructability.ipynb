{
 "cells": [
  {
   "cell_type": "code",
   "execution_count": 2,
   "metadata": {},
   "outputs": [],
   "source": [
    "from constructpy import Constructability, Standardization, Simplicity, Accessibility\n",
    "import ifcopenshell\n",
    "import ifcopenshell.util"
   ]
  },
  {
   "cell_type": "code",
   "execution_count": 5,
   "metadata": {},
   "outputs": [],
   "source": [
    "ifc_file = \"rstadvancedsampleproject_patched.ifc\"\n",
    "ifc = ifcopenshell.open(ifc_file)"
   ]
  },
  {
   "cell_type": "code",
   "execution_count": 4,
   "metadata": {},
   "outputs": [
    {
     "ename": "FileNotFoundError",
     "evalue": "[Errno 2] No such file or directory: 'worldcities.csv'",
     "output_type": "error",
     "traceback": [
      "\u001b[0;31m---------------------------------------------------------------------------\u001b[0m",
      "\u001b[0;31mFileNotFoundError\u001b[0m                         Traceback (most recent call last)",
      "Cell \u001b[0;32mIn[4], line 1\u001b[0m\n\u001b[0;32m----> 1\u001b[0m Constructability(ifc)\n",
      "File \u001b[0;32m~/.conda/envs/ifcopenshell/lib/python3.12/site-packages/constructpy/constructpy.py:76\u001b[0m, in \u001b[0;36mConstructability.__init__\u001b[0;34m(self, ifc_obj, standardization_weight, simplicity_weight, accessibility_weight, structural_types_weight, floor2floor_height_weight, basement_weight, length_weight, pcast_weight, area_weight, location_weight)\u001b[0m\n\u001b[1;32m     72\u001b[0m \u001b[38;5;28mself\u001b[39m\u001b[38;5;241m.\u001b[39msimplicity: Simplicity \u001b[38;5;241m=\u001b[39m Simplicity(\n\u001b[1;32m     73\u001b[0m     ifc_obj, basement_weight, length_weight, pcast_weight\n\u001b[1;32m     74\u001b[0m )\n\u001b[1;32m     75\u001b[0m \u001b[38;5;28mself\u001b[39m\u001b[38;5;241m.\u001b[39msimplicity_score: \u001b[38;5;28mfloat\u001b[39m \u001b[38;5;241m|\u001b[39m \u001b[38;5;28;01mNone\u001b[39;00m \u001b[38;5;241m=\u001b[39m \u001b[38;5;28mself\u001b[39m\u001b[38;5;241m.\u001b[39msimplicity\u001b[38;5;241m.\u001b[39msimplicity_score\n\u001b[0;32m---> 76\u001b[0m \u001b[38;5;28mself\u001b[39m\u001b[38;5;241m.\u001b[39maccessibility: Accessibility \u001b[38;5;241m=\u001b[39m Accessibility(\n\u001b[1;32m     77\u001b[0m     ifc_obj, area_weight, location_weight\n\u001b[1;32m     78\u001b[0m )\n\u001b[1;32m     79\u001b[0m \u001b[38;5;28mself\u001b[39m\u001b[38;5;241m.\u001b[39maccessibility_score: \u001b[38;5;28mfloat\u001b[39m \u001b[38;5;241m|\u001b[39m \u001b[38;5;28;01mNone\u001b[39;00m \u001b[38;5;241m=\u001b[39m \u001b[38;5;28mself\u001b[39m\u001b[38;5;241m.\u001b[39maccessibility\u001b[38;5;241m.\u001b[39maccessibility_score\n\u001b[1;32m     80\u001b[0m \u001b[38;5;28mself\u001b[39m\u001b[38;5;241m.\u001b[39mconstructability_score: \u001b[38;5;28mfloat\u001b[39m \u001b[38;5;241m|\u001b[39m \u001b[38;5;28;01mNone\u001b[39;00m \u001b[38;5;241m=\u001b[39m \u001b[38;5;28mself\u001b[39m\u001b[38;5;241m.\u001b[39mcalculate_score(\n\u001b[1;32m     81\u001b[0m     [\n\u001b[1;32m     82\u001b[0m         (\u001b[38;5;28mself\u001b[39m\u001b[38;5;241m.\u001b[39mstandardization_score, \u001b[38;5;28mself\u001b[39m\u001b[38;5;241m.\u001b[39mstandardization_weight),\n\u001b[0;32m   (...)\u001b[0m\n\u001b[1;32m     85\u001b[0m     ]\n\u001b[1;32m     86\u001b[0m )\n",
      "File \u001b[0;32m~/.conda/envs/ifcopenshell/lib/python3.12/site-packages/constructpy/constructpy.py:411\u001b[0m, in \u001b[0;36mAccessibility.__init__\u001b[0;34m(self, ifc_obj, area_weight, location_weight)\u001b[0m\n\u001b[1;32m    409\u001b[0m \u001b[38;5;28mself\u001b[39m\u001b[38;5;241m.\u001b[39marea_score: \u001b[38;5;28mfloat\u001b[39m \u001b[38;5;241m|\u001b[39m \u001b[38;5;28;01mNone\u001b[39;00m \u001b[38;5;241m=\u001b[39m \u001b[38;5;28mself\u001b[39m\u001b[38;5;241m.\u001b[39mbuilt_area_accessibility(ifc_obj)\n\u001b[1;32m    410\u001b[0m \u001b[38;5;28mself\u001b[39m\u001b[38;5;241m.\u001b[39marea_weight: \u001b[38;5;28mfloat\u001b[39m \u001b[38;5;241m=\u001b[39m area_weight\n\u001b[0;32m--> 411\u001b[0m \u001b[38;5;28mself\u001b[39m\u001b[38;5;241m.\u001b[39mlocation_score, \u001b[38;5;28mself\u001b[39m\u001b[38;5;241m.\u001b[39mlocation_city \u001b[38;5;241m=\u001b[39m \u001b[38;5;28mself\u001b[39m\u001b[38;5;241m.\u001b[39mlocation_accessibility(ifc_obj)\n\u001b[1;32m    412\u001b[0m \u001b[38;5;28mself\u001b[39m\u001b[38;5;241m.\u001b[39mlocation_weight: \u001b[38;5;28mfloat\u001b[39m \u001b[38;5;241m=\u001b[39m location_weight\n\u001b[1;32m    413\u001b[0m \u001b[38;5;28mself\u001b[39m\u001b[38;5;241m.\u001b[39maccessibility_score: \u001b[38;5;28mfloat\u001b[39m \u001b[38;5;241m|\u001b[39m \u001b[38;5;28;01mNone\u001b[39;00m \u001b[38;5;241m=\u001b[39m \u001b[38;5;28mself\u001b[39m\u001b[38;5;241m.\u001b[39mcalculate_score(\n\u001b[1;32m    414\u001b[0m     [\n\u001b[1;32m    415\u001b[0m         (\u001b[38;5;28mself\u001b[39m\u001b[38;5;241m.\u001b[39marea_score, \u001b[38;5;28mself\u001b[39m\u001b[38;5;241m.\u001b[39marea_weight),\n\u001b[1;32m    416\u001b[0m         (\u001b[38;5;28mself\u001b[39m\u001b[38;5;241m.\u001b[39mlocation_score, \u001b[38;5;28mself\u001b[39m\u001b[38;5;241m.\u001b[39mlocation_weight),\n\u001b[1;32m    417\u001b[0m     ]\n\u001b[1;32m    418\u001b[0m )\n",
      "File \u001b[0;32m~/.conda/envs/ifcopenshell/lib/python3.12/site-packages/constructpy/constructpy.py:462\u001b[0m, in \u001b[0;36mAccessibility.location_accessibility\u001b[0;34m(self, ifc)\u001b[0m\n\u001b[1;32m    459\u001b[0m site_coordinates \u001b[38;5;241m=\u001b[39m (site_lat, site_lng)\n\u001b[1;32m    461\u001b[0m cities \u001b[38;5;241m=\u001b[39m []\n\u001b[0;32m--> 462\u001b[0m \u001b[38;5;28;01mwith\u001b[39;00m \u001b[38;5;28mopen\u001b[39m(\u001b[38;5;124m\"\u001b[39m\u001b[38;5;124mworldcities.csv\u001b[39m\u001b[38;5;124m\"\u001b[39m) \u001b[38;5;28;01mas\u001b[39;00m file:\n\u001b[1;32m    463\u001b[0m     main_cities \u001b[38;5;241m=\u001b[39m csv\u001b[38;5;241m.\u001b[39mDictReader(file)\n\u001b[1;32m    464\u001b[0m     \u001b[38;5;28;01mfor\u001b[39;00m row \u001b[38;5;129;01min\u001b[39;00m main_cities:\n",
      "\u001b[0;31mFileNotFoundError\u001b[0m: [Errno 2] No such file or directory: 'worldcities.csv'"
     ]
    }
   ],
   "source": [
    "Constructability(ifc)"
   ]
  }
 ],
 "metadata": {
  "kernelspec": {
   "display_name": "ifcopenshell",
   "language": "python",
   "name": "python3"
  },
  "language_info": {
   "codemirror_mode": {
    "name": "ipython",
    "version": 3
   },
   "file_extension": ".py",
   "mimetype": "text/x-python",
   "name": "python",
   "nbconvert_exporter": "python",
   "pygments_lexer": "ipython3",
   "version": "3.12.7"
  }
 },
 "nbformat": 4,
 "nbformat_minor": 2
}
