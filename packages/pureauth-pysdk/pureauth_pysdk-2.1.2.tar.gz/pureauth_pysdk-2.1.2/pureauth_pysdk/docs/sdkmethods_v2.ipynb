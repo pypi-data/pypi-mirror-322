{
 "cells": [
  {
   "cell_type": "code",
   "execution_count": 1,
   "metadata": {},
   "outputs": [],
   "source": [
    "from pureauth_pysdk import Pureauth\n",
    "from pureauth_pysdk.sync.v2.dto import EmployeeAccessMappingDTO, EmployeeCustomDatasetDTO, EmployeeDatasetDTO, EmployeePrimaryDatasetDTO, EmployeeSecondaryDatasetDTO\n",
    "from pureauth_pysdk.sync.v1.dto import EmployeePrimaryDatasetDTO as EmployeeDatasetDTOv1"
   ]
  },
  {
   "cell_type": "code",
   "execution_count": 2,
   "metadata": {},
   "outputs": [],
   "source": [
    "# Local\n",
    "# PUREAUTH_ACCESS_TOKEN=\"VnBD1CV6ZFDqIvSRt8NwevgsscP9USU9HZsj6kJj7m4\"\n",
    "# PUREAUTH_ORG_ID=\"pureid.io\"\n",
    "# PUREAUTH_PRIVATE_KEY = \"\"\"MHQCAQEEIAWG9Ov87A4+0+zaG6nVxXwdCIA8mBBCX9jvveVVZAy4oAcGBSuBBAAKoUQDQgAEQ+kRn3lrA0VB2IbG0ssh7RE9DSH9OLnEmc03dwTvTRCzxRaAYGvXqIPB9dTNtLX8zy6qn2+VZU9/UXT4egq39w==\"\"\"\n",
    "# PUREAUTH_PUBLIC_KEY = \"\"\"MFYwEAYHKoZIzj0CAQYFK4EEAAoDQgAEQ+kRn3lrA0VB2IbG0ssh7RE9DSH9OLnEmc03dwTvTRCzxRaAYGvXqIPB9dTNtLX8zy6qn2+VZU9/UXT4egq39w==\"\"\"\n",
    "# PUREAUTH_BASE_URL=\"http://127.0.0.1:5000\"\n",
    "# PUREAUTH_ACCESS_TOKEN=\"cAn4-ulaQFQC8ay04y12RABAifqHM5WdrQxDoecMkos\"\n",
    "# PUREAUTH_PRIVATE_KEY=\"MHQCAQEEIM//Bav8GaSO3kLlAzKOfVKFawpPGOvYKamXAC7ZmB/soAcGBSuBBAAKoUQDQgAECZjhTxKDqgbVYF5ADzYfeMaMmm4ZWXYbGgmErUEfx6wdL8y2UQzDzuz3Ag0PqPkNvrtBsFgTqPDNnrPtWOOYYw==\"\n",
    "# PUREAUTH_BASE_URL=\"https://dev.pureauth.tech\"\n",
    "# PUREAUTH_ORG_ID=\"xshield.com\"\n",
    "\n",
    "# Ptech dev\n",
    "PUREAUTH_ACCESS_TOKEN=\"r0zJv26AZgVqRdPeA5eoHqsQ3IuFX-hBi5tus6P3ZOQ\"\n",
    "PUREAUTH_PRIVATE_KEY=\"MHQCAQEEILN4hir0suh6gfrZPq7uc0C+OUq0wwl5UdIXinaxBxZToAcGBSuBBAAKoUQDQgAE0MVEJ7L77NN7ol4v6OrUL6kum7WKb+cI3C1tBQmatB63NHNf8hsJiZDf0RX5tLTX17UVND/r1M6LeYGRCd0srQ==\"\n",
    "PUREAUTH_BASE_URL=\"https://dev.pureauth.tech\"\n",
    "PUREAUTH_ORG_ID=\"pureauth.tech\""
   ]
  },
  {
   "cell_type": "code",
   "execution_count": 3,
   "metadata": {},
   "outputs": [],
   "source": [
    "# pureauth = Pureauth(organization_id=PUREAUTH_ORG_ID, access_token=PUREAUTH_ACCESS_TOKEN, private_key=PUREAUTH_PRIVATE_KEY)\n",
    "pureauth = Pureauth(\n",
    "    organization_id=PUREAUTH_ORG_ID,\n",
    "    access_token=PUREAUTH_ACCESS_TOKEN,\n",
    "    private_key=PUREAUTH_PRIVATE_KEY,\n",
    "    base_url=PUREAUTH_BASE_URL\n",
    ")\n"
   ]
  },
  {
   "cell_type": "code",
   "execution_count": 4,
   "metadata": {},
   "outputs": [],
   "source": [
    "employees = [\n",
    "    EmployeeDatasetDTO(\n",
    "        primary_dataset=EmployeePrimaryDatasetDTO(\n",
    "            full_name=\"DEV Profile2\",\n",
    "            primary_email=\"atharva@pureid.io\",\n",
    "            corporate_email=\"atharva@pureid.io\",\n",
    "            phone_number=\"+919764656473\"\n",
    "        ),\n",
    "        secondary_dataset=EmployeeSecondaryDatasetDTO(\n",
    "            username=\"username\",\n",
    "            user_principal_name=\"UPN\"\n",
    "        ),\n",
    "        mapping_dataset=EmployeeAccessMappingDTO(\n",
    "            corporate_email=\"atharva@pureid.io\",\n",
    "            roles=[\"role1\"],\n",
    "            groups=[\"gggg\"]\n",
    "        ),\n",
    "        custom_dataset=EmployeeCustomDatasetDTO(data={\n",
    "            \"Mirror\": None\n",
    "        })\n",
    "    ), \n",
    "]\n",
    "# empv1 = EmployeeDatasetDTOv1()"
   ]
  },
  {
   "cell_type": "code",
   "execution_count": 5,
   "metadata": {},
   "outputs": [
    {
     "name": "stdout",
     "output_type": "stream",
     "text": [
      "Mirror, 1\n",
      "MT, 2\n",
      "Botree2, 3\n",
      "DMS, 4\n",
      "PureID, 5\n"
     ]
    }
   ],
   "source": [
    "# # datasets = pureauth.sync.v1.organization.datasets()\n",
    "ds = EmployeeCustomDatasetDTO._get_custom_dataset(datasets=pureauth.sync.v2.organization.datasets())\n",
    "employees[0].custom_dataset.serialize(dataset=ds)\n",
    "for x in ds.get(\"attributes\", []):\n",
    "    print(f'{x.get(\"name\")}, {x.get(\"order\")}')\n",
    "# # datasets\n",
    "# print(pureauth.sync.v2.organization.datasets())"
   ]
  },
  {
   "cell_type": "code",
   "execution_count": 6,
   "metadata": {},
   "outputs": [
    {
     "data": {
      "text/plain": [
       "'{\"Mirror\": \"\", \"MT\": \"\", \"Botree2\": \"\", \"DMS\": \"\", \"PureID\": \"\"}'"
      ]
     },
     "execution_count": 6,
     "metadata": {},
     "output_type": "execute_result"
    }
   ],
   "source": [
    "employees[0].custom_dataset.serialized"
   ]
  },
  {
   "cell_type": "code",
   "execution_count": 5,
   "metadata": {},
   "outputs": [],
   "source": [
    "resp = pureauth.sync.v2.employees.add(employee_datasets=employees, send_email=True)"
   ]
  },
  {
   "cell_type": "code",
   "execution_count": 7,
   "metadata": {},
   "outputs": [],
   "source": [
    "resp = pureauth.sync.v2.employees.update(employee_datasets=employees, send_email=True)"
   ]
  },
  {
   "cell_type": "code",
   "execution_count": 8,
   "metadata": {},
   "outputs": [
    {
     "data": {
      "text/plain": [
       "[]"
      ]
     },
     "execution_count": 8,
     "metadata": {},
     "output_type": "execute_result"
    }
   ],
   "source": [
    "resp"
   ]
  },
  {
   "cell_type": "code",
   "execution_count": null,
   "metadata": {},
   "outputs": [],
   "source": []
  },
  {
   "cell_type": "code",
   "execution_count": null,
   "metadata": {},
   "outputs": [],
   "source": [
    "resp = pureauth.sync.v2.employees.add(employee_datasets=employees, send_email=True)"
   ]
  },
  {
   "cell_type": "code",
   "execution_count": null,
   "metadata": {},
   "outputs": [],
   "source": [
    "resp"
   ]
  },
  {
   "cell_type": "code",
   "execution_count": null,
   "metadata": {},
   "outputs": [],
   "source": [
    "pureauth.sync.v2.employees.activate(corporate_emails=[\"atharva+2@pureid.io\"])"
   ]
  },
  {
   "cell_type": "code",
   "execution_count": null,
   "metadata": {},
   "outputs": [],
   "source": [
    "pureauth.sync.v2.employees.send_welcome_email([employees[0].primary_dataset])"
   ]
  },
  {
   "cell_type": "code",
   "execution_count": null,
   "metadata": {},
   "outputs": [],
   "source": [
    "pureauth.sync.v1.organization.create_group(name=\"sdk\", description=\"SDK Group\")"
   ]
  },
  {
   "cell_type": "code",
   "execution_count": null,
   "metadata": {},
   "outputs": [],
   "source": [
    "pureauth.sync.v1.organization.create_role(name=\"sdkrole\", description=\"SDK ROLE\", application_username=\"skduser@pureid.io\")"
   ]
  },
  {
   "cell_type": "code",
   "execution_count": null,
   "metadata": {},
   "outputs": [],
   "source": [
    "pureauth.sync.v2.organization.datasets()"
   ]
  },
  {
   "cell_type": "code",
   "execution_count": null,
   "metadata": {},
   "outputs": [],
   "source": [
    "def _get_custom_dataset(datasets: dict = None) -> dict:\n",
    "    for ds in datasets:\n",
    "        if ds.get(\"name\") == \"Custom\":\n",
    "            return ds\n",
    "    return None"
   ]
  },
  {
   "cell_type": "code",
   "execution_count": null,
   "metadata": {},
   "outputs": [],
   "source": [
    "datasets = [\n",
    "    {\n",
    "        \"attributes\": [\n",
    "            {\"name\": \"Full Name\", \"order\": 1, \"type\": \"string\"},\n",
    "            {\"name\": \"Corporate Email\", \"order\": 2, \"type\": \"email\"},\n",
    "            {\"name\": \"Personal Email\", \"order\": 3, \"type\": \"email\"},\n",
    "            {\"name\": \"Phone Number\", \"order\": 4, \"type\": \"phone_number\"},\n",
    "        ],\n",
    "        \"encrypted\": False,\n",
    "        \"id\": 1,\n",
    "        \"name\": \"Primary\",\n",
    "        \"public_id\": \"7553c280-2f29-4b8b-aff9-4667a090643f\",\n",
    "        \"type\": \"primary\",\n",
    "    },\n",
    "    {\n",
    "        \"attributes\": [\n",
    "            {\"name\": \"Username\", \"order\": 1, \"type\": \"string\"},\n",
    "            {\"name\": \"UserPrincipalName\", \"order\": 2, \"type\": \"email\"},\n",
    "            {\"name\": \"EmployeeID\", \"order\": 3, \"type\": \"string\"},\n",
    "            {\"name\": \"ObjectID\", \"order\": 4, \"type\": \"string\"},\n",
    "            {\"name\": \"EmployeeType\", \"order\": 5, \"type\": \"string\"},\n",
    "            {\"name\": \"OtherAttribute\", \"order\": 6, \"type\": \"string\"},\n",
    "        ],\n",
    "        \"encrypted\": True,\n",
    "        \"id\": 2,\n",
    "        \"name\": \"Attribute\",\n",
    "        \"public_id\": \"f8e80c0b-e283-49dc-a91b-410cc012d1f3\",\n",
    "        \"type\": \"secondary\",\n",
    "    },\n",
    "    {\n",
    "        \"attributes\": [\n",
    "            {\"name\": \"CA1\", \"order\": 1, \"type\": \"string\"},\n",
    "            {\"name\": \"CA2\", \"order\": 2, \"type\": \"string\"},\n",
    "        ],\n",
    "        \"encrypted\": True,\n",
    "        \"id\": 3,\n",
    "        \"name\": \"Custom\",\n",
    "        \"public_id\": \"4fa09101-881e-4de3-bc91-c2ff6539fc47\",\n",
    "        \"type\": \"secondary\",\n",
    "    },\n",
    "]"
   ]
  },
  {
   "cell_type": "code",
   "execution_count": null,
   "metadata": {},
   "outputs": [],
   "source": [
    "data = {\n",
    "    \"CA2\": \"CA2Value\",\n",
    "    \"CA1\": \"CA1Value\",\n",
    "    \"CA3\": \"C3\"\n",
    "}"
   ]
  },
  {
   "cell_type": "code",
   "execution_count": null,
   "metadata": {},
   "outputs": [],
   "source": [
    "from collections import OrderedDict\n",
    "import json\n",
    "def get_serialized(data, datasets: dict) -> str:\n",
    "    custom_dataset = _get_custom_dataset(datasets=datasets)\n",
    "    if custom_dataset is None:\n",
    "        return None\n",
    "    ordered = OrderedDict()\n",
    "    for i in range(1, len(custom_dataset.get(\"attributes\"))+1):\n",
    "        for attr in custom_dataset.get(\"attributes\"):\n",
    "            if attr.get(\"order\") == i:\n",
    "                ordered.update({attr.get(\"name\"): data.get(attr.get(\"name\"), \"\")})\n",
    "                break\n",
    "    return json.dumps(ordered)\n",
    "\n"
   ]
  },
  {
   "cell_type": "code",
   "execution_count": null,
   "metadata": {},
   "outputs": [],
   "source": [
    "get_serialized(data=data, datasets=datasets)"
   ]
  },
  {
   "cell_type": "code",
   "execution_count": null,
   "metadata": {},
   "outputs": [],
   "source": [
    "ordered = OrderedDict()"
   ]
  },
  {
   "cell_type": "code",
   "execution_count": null,
   "metadata": {},
   "outputs": [],
   "source": [
    "ordered.update({\"0\": 0})\n",
    "ordered.update({\"a\": 1})"
   ]
  },
  {
   "cell_type": "code",
   "execution_count": null,
   "metadata": {},
   "outputs": [],
   "source": [
    "ordered.get(\"0\")"
   ]
  },
  {
   "cell_type": "code",
   "execution_count": null,
   "metadata": {},
   "outputs": [],
   "source": [
    "ordered"
   ]
  },
  {
   "cell_type": "code",
   "execution_count": 37,
   "metadata": {},
   "outputs": [],
   "source": [
    "pureauth.sync.v1.organization.add_custom_attribute(\"Myattribute\", \"string\")"
   ]
  },
  {
   "cell_type": "code",
   "execution_count": 62,
   "metadata": {},
   "outputs": [],
   "source": [
    "pureauth.sync.v1.organization.delete_custom_attribute(\"DMS\")"
   ]
  },
  {
   "cell_type": "code",
   "execution_count": 10,
   "metadata": {},
   "outputs": [
    {
     "data": {
      "text/plain": [
       "'[Attribute] OtherAttribute,[Primary] Full Name,[Attribute] UserPrincipalName,[Attribute] EmployeeID,Groups,[Attribute] ObjectID,Roles,uploaded,[Primary] Personal Email,[Attribute] EmployeeType,[Primary] Corporate Email,[Primary] Phone Number,[Attribute] Username\\r\\n'"
      ]
     },
     "execution_count": 10,
     "metadata": {},
     "output_type": "execute_result"
    }
   ],
   "source": [
    "pureauth.sync.v1.organization.fetch_csv_template()"
   ]
  },
  {
   "cell_type": "code",
   "execution_count": 12,
   "metadata": {},
   "outputs": [
    {
     "data": {
      "text/plain": [
       "['[Attribute] OtherAttribute',\n",
       " '[Primary] Full Name',\n",
       " '[Attribute] UserPrincipalName',\n",
       " '[Attribute] EmployeeID',\n",
       " 'Groups',\n",
       " '[Attribute] ObjectID',\n",
       " 'Roles',\n",
       " 'uploaded',\n",
       " '[Primary] Personal Email',\n",
       " '[Attribute] EmployeeType',\n",
       " '[Primary] Corporate Email',\n",
       " '[Primary] Phone Number',\n",
       " '[Attribute] Username\\r\\n']"
      ]
     },
     "execution_count": 12,
     "metadata": {},
     "output_type": "execute_result"
    }
   ],
   "source": [
    "pureauth.sync.v2.organization.fetch_csv_template().split(\",\")"
   ]
  },
  {
   "cell_type": "code",
   "execution_count": 6,
   "metadata": {},
   "outputs": [
    {
     "data": {
      "text/plain": [
       "'6e4b807a96220da3f94affb66e08abc4a02ac82b4a213ef764ca8dd43fde6ed1'"
      ]
     },
     "execution_count": 6,
     "metadata": {},
     "output_type": "execute_result"
    }
   ],
   "source": [
    "from pureauth_pysdk.utils import employee_id\n",
    "\n",
    "employee_id(\"rsbl\", \"aap0086@rajarambapubank.org\")"
   ]
  },
  {
   "cell_type": "code",
   "execution_count": 7,
   "metadata": {},
   "outputs": [
    {
     "data": {
      "text/plain": [
       "[{'attributes': [{'name': 'Full Name', 'order': 1, 'type': 'string'},\n",
       "   {'name': 'Corporate Email', 'order': 2, 'type': 'email'},\n",
       "   {'name': 'Personal Email', 'order': 3, 'type': 'email'},\n",
       "   {'name': 'Phone Number', 'order': 4, 'type': 'phone_number'}],\n",
       "  'encrypted': False,\n",
       "  'id': 1,\n",
       "  'name': 'Primary',\n",
       "  'public_id': '986c66e7-9c31-4bc5-88bd-507008d05416',\n",
       "  'type': 'primary'},\n",
       " {'attributes': [{'name': 'Username', 'order': 1, 'type': 'string'},\n",
       "   {'name': 'UserPrincipalName', 'order': 2, 'type': 'email'},\n",
       "   {'name': 'EmployeeID', 'order': 3, 'type': 'string'},\n",
       "   {'name': 'ObjectID', 'order': 4, 'type': 'string'},\n",
       "   {'name': 'EmployeeType', 'order': 5, 'type': 'string'},\n",
       "   {'name': 'OtherAttribute', 'order': 6, 'type': 'string'}],\n",
       "  'encrypted': True,\n",
       "  'id': 2,\n",
       "  'name': 'Attribute',\n",
       "  'public_id': '2d580c1e-8797-4d68-b33d-6d7008dba5bd',\n",
       "  'type': 'secondary'}]"
      ]
     },
     "execution_count": 7,
     "metadata": {},
     "output_type": "execute_result"
    }
   ],
   "source": [
    "pureauth.sync.v1.organization.datasets()"
   ]
  },
  {
   "cell_type": "code",
   "execution_count": 34,
   "metadata": {},
   "outputs": [],
   "source": [
    "attr = [\n",
    "    {\n",
    "        \"id\": \"iFZBxd_RiRtemODh868la\",\n",
    "        \"created_at\": \"2025-01-21T11:31:07.718251Z\",\n",
    "        \"updated_at\": \"2025-01-21T11:31:07.718258Z\",\n",
    "        \"name\": \"Mirror\",\n",
    "        \"slug\": \"mirror\",\n",
    "        \"attribute_type\": \"string\",\n",
    "        \"description\": \"DMA application\",\n",
    "        \"tenant\": \"W17y4Ov7kYRjGlJ7p03-a\"\n",
    "    },\n",
    "    {\n",
    "        \"id\": \"upCgJWyIj-6IolEBhSYsM\",\n",
    "        \"created_at\": \"2025-01-21T11:31:12.564072Z\",\n",
    "        \"updated_at\": \"2025-01-21T11:31:12.564081Z\",\n",
    "        \"name\": \"DMS\",\n",
    "        \"slug\": \"dms\",\n",
    "        \"attribute_type\": \"string\",\n",
    "        \"description\": \"DMA application\",\n",
    "        \"tenant\": \"W17y4Ov7kYRjGlJ7p03-a\"\n",
    "    },\n",
    "    {\n",
    "        \"id\": \"upCgJWyIj-6IolEBhSll\",\n",
    "        \"created_at\": \"2025-01-21T11:31:12.564072Z\",\n",
    "        \"updated_at\": \"2025-01-21T11:31:12.564081Z\",\n",
    "        \"name\": \"MT\",\n",
    "        \"slug\": \"mt\",\n",
    "        \"attribute_type\": \"string\",\n",
    "        \"description\": \"mt application\",\n",
    "        \"tenant\": \"W17y4Ov7kYRjGlJ7p03-a\"\n",
    "    }\n",
    "]"
   ]
  },
  {
   "cell_type": "code",
   "execution_count": 57,
   "metadata": {},
   "outputs": [],
   "source": [
    "def sync_attributes(attributes):\n",
    "    try:\n",
    "        renegadir_attr_name_list = {x.get(\"name\").strip() for x in attributes if x.get(\"name\")}\n",
    "        pureauth_datasets = pureauth.sync.v2.organization.datasets()\n",
    "        custom_dataset = EmployeeCustomDatasetDTO._get_custom_dataset(pureauth_datasets)\n",
    "        if not custom_dataset:\n",
    "            raise Exception(\"Custom dataset not found.\")\n",
    "        pureauth_attr_name_list = {x.get(\"name\").strip() for x in custom_dataset.get(\"attributes\", {}) if x.get(\"name\")} \n",
    "\n",
    "        attributes_to_delete_from_pureauth = pureauth_attr_name_list.difference(renegadir_attr_name_list)\n",
    "        attributes_to_add_to_pureauth = renegadir_attr_name_list.difference(pureauth_attr_name_list)\n",
    "\n",
    "        for attr in attributes_to_delete_from_pureauth:\n",
    "            pureauth.sync.v1.organization.delete_custom_attribute(name=attr)\n",
    "\n",
    "        for attribute in attributes:\n",
    "           if attribute.get(\"name\").strip() in attributes_to_add_to_pureauth:\n",
    "                pureauth.sync.v1.organization.add_custom_attribute(\n",
    "                    name=attribute.get(\"name\").strip(), attribute_type=attribute.get(\"attribute_type\", \"string\")\n",
    "                )\n",
    "\n",
    "    except Exception as e:\n",
    "        errors = str(e)\n",
    "        print(f\"Something went wrong : {e}\")\n",
    "        pass"
   ]
  },
  {
   "cell_type": "code",
   "execution_count": 55,
   "metadata": {},
   "outputs": [
    {
     "name": "stdout",
     "output_type": "stream",
     "text": [
      "++++++++++++++++++++++++++++++++++++++++++++++++++++++++++++++++++++++++++++++++++++++++++++++++++++\n",
      "PureAUTH Attr: {'Myattribute', 'Mirror', 'DMS'}\n",
      "Renegadir Attr: {'MT', 'Mirror', 'DMS'}\n",
      "Delete from PureAUTH: {'Myattribute'}\n",
      "Add to PureAUTH: {'MT'}\n"
     ]
    }
   ],
   "source": [
    "sync_attributes(attr)"
   ]
  },
  {
   "cell_type": "code",
   "execution_count": null,
   "metadata": {},
   "outputs": [],
   "source": []
  }
 ],
 "metadata": {
  "kernelspec": {
   "display_name": "pureauth-pysdk-OjtMq6L5-py3.11",
   "language": "python",
   "name": "python3"
  },
  "language_info": {
   "codemirror_mode": {
    "name": "ipython",
    "version": 3
   },
   "file_extension": ".py",
   "mimetype": "text/x-python",
   "name": "python",
   "nbconvert_exporter": "python",
   "pygments_lexer": "ipython3",
   "version": "3.11.10"
  }
 },
 "nbformat": 4,
 "nbformat_minor": 2
}
