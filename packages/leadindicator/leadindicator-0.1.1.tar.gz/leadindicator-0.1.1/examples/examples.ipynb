{
 "cells": [
  {
   "cell_type": "code",
   "execution_count": 1,
   "metadata": {},
   "outputs": [
    {
     "data": {
      "text/html": [
       "<div><style>\n",
       ".dataframe > thead > tr,\n",
       ".dataframe > tbody > tr {\n",
       "  text-align: right;\n",
       "  white-space: pre-wrap;\n",
       "}\n",
       "</style>\n",
       "<small>shape: (5, 7)</small><table border=\"1\" class=\"dataframe\"><thead><tr><th>Date</th><th>Fruit</th><th>SUM Severity of Spoil</th><th>Extra field. Not used 2</th><th>Extra field. Not used</th><th>Leading Indicator Score (High is Bad)</th><th>Fruit Spoil Count</th></tr><tr><td>date</td><td>str</td><td>f64</td><td>f64</td><td>f64</td><td>f64</td><td>i64</td></tr></thead><tbody><tr><td>2021-10-01</td><td>&quot;Banana&quot;</td><td>0.0</td><td>21.0</td><td>0.0</td><td>0.0</td><td>0</td></tr><tr><td>2021-10-01</td><td>&quot;Grape&quot;</td><td>0.0</td><td>4.25</td><td>22.9</td><td>29.428571</td><td>0</td></tr><tr><td>2021-11-01</td><td>&quot;Apple&quot;</td><td>0.0</td><td>0.75</td><td>0.0</td><td>0.0</td><td>0</td></tr><tr><td>2021-11-01</td><td>&quot;Banana&quot;</td><td>0.2</td><td>1.5</td><td>4.666667</td><td>5.444444</td><td>0</td></tr><tr><td>2021-11-01</td><td>&quot;Grape&quot;</td><td>0.0</td><td>1.0</td><td>14.0</td><td>10.5</td><td>0</td></tr></tbody></table></div>"
      ],
      "text/plain": [
       "shape: (5, 7)\n",
       "┌────────────┬────────┬───────────────┬───────────────┬──────────────┬──────────────┬──────────────┐\n",
       "│ Date       ┆ Fruit  ┆ SUM Severity  ┆ Extra field.  ┆ Extra field. ┆ Leading      ┆ Fruit Spoil  │\n",
       "│ ---        ┆ ---    ┆ of Spoil      ┆ Not used 2    ┆ Not used     ┆ Indicator    ┆ Count        │\n",
       "│ date       ┆ str    ┆ ---           ┆ ---           ┆ ---          ┆ Score (High  ┆ ---          │\n",
       "│            ┆        ┆ f64           ┆ f64           ┆ f64          ┆ …            ┆ i64          │\n",
       "│            ┆        ┆               ┆               ┆              ┆ ---          ┆              │\n",
       "│            ┆        ┆               ┆               ┆              ┆ f64          ┆              │\n",
       "╞════════════╪════════╪═══════════════╪═══════════════╪══════════════╪══════════════╪══════════════╡\n",
       "│ 2021-10-01 ┆ Banana ┆ 0.0           ┆ 21.0          ┆ 0.0          ┆ 0.0          ┆ 0            │\n",
       "│ 2021-10-01 ┆ Grape  ┆ 0.0           ┆ 4.25          ┆ 22.9         ┆ 29.428571    ┆ 0            │\n",
       "│ 2021-11-01 ┆ Apple  ┆ 0.0           ┆ 0.75          ┆ 0.0          ┆ 0.0          ┆ 0            │\n",
       "│ 2021-11-01 ┆ Banana ┆ 0.2           ┆ 1.5           ┆ 4.666667     ┆ 5.444444     ┆ 0            │\n",
       "│ 2021-11-01 ┆ Grape  ┆ 0.0           ┆ 1.0           ┆ 14.0         ┆ 10.5         ┆ 0            │\n",
       "└────────────┴────────┴───────────────┴───────────────┴──────────────┴──────────────┴──────────────┘"
      ]
     },
     "execution_count": 1,
     "metadata": {},
     "output_type": "execute_result"
    }
   ],
   "source": [
    "import polars as pl\n",
    "from leadindicator import ThresholdAnalyzer\n",
    "\n",
    "df = pl.read_excel(\"sample_data.xlsx\")\n",
    "df.head()"
   ]
  },
  {
   "cell_type": "code",
   "execution_count": 3,
   "metadata": {},
   "outputs": [
    {
     "name": "stdout",
     "output_type": "stream",
     "text": [
      "Analysis Results:\n",
      "\n",
      "Warning Threshold:\n",
      "Threshold ≥ 1.45\n",
      "  Sensitivity: 75.0%\n",
      "  Specificity: 50.0%\n",
      "  Precision: 13.2%\n",
      "  F1 Score: 22.4%\n",
      "  Event Probability: 13.2%\n",
      "  Observations: 91\n",
      "\n",
      "High Risk Threshold:\n",
      "Threshold ≥ 1.74\n",
      "  Sensitivity: 62.5%\n",
      "  Specificity: 52.5%\n",
      "  Precision: 11.8%\n",
      "  F1 Score: 19.8%\n",
      "  Event Probability: 11.8%\n",
      "  Observations: 85\n",
      "\n",
      "Critical Threshold:\n",
      "Threshold ≥ 1.95\n",
      "  Sensitivity: 56.2%\n",
      "  Specificity: 57.0%\n",
      "  Precision: 11.7%\n",
      "  F1 Score: 19.4%\n",
      "  Event Probability: 11.7%\n",
      "  Observations: 77\n"
     ]
    }
   ],
   "source": [
    "# Create analyzer with default settings\n",
    "analyzer = ThresholdAnalyzer(\n",
    "    score_column=\"Leading Indicator Score (High is Bad)\",  # Leading indicator\n",
    "    target_column=\"Fruit Spoil Count\",  # Target event\n",
    "    category_column=\"Fruit\"  # Category for segmentation\n",
    ")\n",
    "\n",
    "results = analyzer.analyze(df)\n",
    "print(results)"
   ]
  },
  {
   "cell_type": "code",
   "execution_count": 4,
   "metadata": {},
   "outputs": [],
   "source": [
    "analyzer.save_report(\"fruit_spoilage_analysis.html\")"
   ]
  },
  {
   "cell_type": "code",
   "execution_count": 7,
   "metadata": {},
   "outputs": [
    {
     "name": "stdout",
     "output_type": "stream",
     "text": [
      "Analysis Results:\n",
      "\n",
      "Warning Threshold:\n",
      "Threshold ≥ 1.45\n",
      "  Sensitivity: 75.0%\n",
      "  Specificity: 50.0%\n",
      "  Precision: 13.2%\n",
      "  F1 Score: 22.4%\n",
      "  Event Probability: 13.2%\n",
      "  Observations: 91\n",
      "\n",
      "High Risk Threshold:\n",
      "Threshold ≥ 1.74\n",
      "  Sensitivity: 62.5%\n",
      "  Specificity: 52.5%\n",
      "  Precision: 11.8%\n",
      "  F1 Score: 19.8%\n",
      "  Event Probability: 11.8%\n",
      "  Observations: 85\n",
      "\n",
      "Critical Threshold:\n",
      "Threshold ≥ 1.95\n",
      "  Sensitivity: 56.2%\n",
      "  Specificity: 57.0%\n",
      "  Precision: 11.7%\n",
      "  F1 Score: 19.4%\n",
      "  Event Probability: 11.7%\n",
      "  Observations: 77\n"
     ]
    }
   ],
   "source": [
    "analyzer2 = ThresholdAnalyzer(\n",
    "    score_column=\"Leading Indicator Score (High is Bad)\",  # Leading indicator\n",
    "    target_column=\"Fruit Spoil Count\",  # Target event\n",
    "    category_column=\"Fruit\",  # Category for segmentation\n",
    "    percentile_thresholds=[.2,.5,.9]\n",
    ")\n",
    "\n",
    "results2 = analyzer2.analyze(df)\n",
    "print(results2)"
   ]
  },
  {
   "cell_type": "code",
   "execution_count": null,
   "metadata": {},
   "outputs": [],
   "source": [
    "analyzer2.save_report(\"fruit_spoilage_analysis_2.html\")"
   ]
  }
 ],
 "metadata": {
  "kernelspec": {
   "display_name": "base",
   "language": "python",
   "name": "python3"
  },
  "language_info": {
   "codemirror_mode": {
    "name": "ipython",
    "version": 3
   },
   "file_extension": ".py",
   "mimetype": "text/x-python",
   "name": "python",
   "nbconvert_exporter": "python",
   "pygments_lexer": "ipython3",
   "version": "3.12.3"
  }
 },
 "nbformat": 4,
 "nbformat_minor": 2
}
