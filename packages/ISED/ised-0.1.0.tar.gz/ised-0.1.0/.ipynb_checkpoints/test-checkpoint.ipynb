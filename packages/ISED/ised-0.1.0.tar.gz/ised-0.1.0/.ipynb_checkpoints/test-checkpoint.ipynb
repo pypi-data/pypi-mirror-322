{
 "cells": [
  {
   "cell_type": "markdown",
   "metadata": {},
   "source": [
    "# Runnable Jupyter notebook to reproduce the learned smooth embedding dynamics for simulation data (alpha = 0.5 case)\n",
    "\n",
    "\n",
    "## Needed library:\n",
    "\n",
    "1. Tensorflow\n",
    "\n",
    "2. Numpy \n",
    "\n",
    "3. Scipy\n",
    "\n",
    "4. Skdim (for estimation of d)\n",
    "\n",
    "5. Skimage (for sliding window approach to attain subsequences)\n",
    "\n",
    "\n",
    "## Notebook structure \n",
    "\n",
    "\n",
    "### Loading and preprocess the data\n",
    "\n",
    "\n",
    "### ISED learner instantation \n",
    "\n",
    "\n",
    "### Training ISED on training dataset\n",
    "\n",
    "\n",
    "### Applied the learned ISED learner onto Test set to get embedding dynamics z\n",
    "\n",
    "\n",
    "### Evaluation on smoothness, reconstruction accuracy (r2 scores) on both latent and feature dynamics"
   ]
  },
  {
   "cell_type": "markdown",
   "metadata": {},
   "source": [
    "### 1 Loading and preprocess data"
   ]
  },
  {
   "cell_type": "code",
   "execution_count": null,
   "metadata": {},
   "outputs": [],
   "source": [
    "## Loading the crafted ground truth and projected high-dimensional feature dynamics\n",
    "\n",
    "## Stored in /data/Simulation_data \n",
    "\n",
    "\n"
   ]
  },
  {
   "cell_type": "code",
   "execution_count": 1,
   "metadata": {},
   "outputs": [],
   "source": [
    "import scipy.io\n",
    "\n",
    "%matplotlib inline\n",
    "\n",
    "import matplotlib.pyplot as plt\n",
    "import numpy as np\n",
    "import pickle\n",
    "\n",
    "\n",
    "with open('../ISED_learner/ISED/data/Simulation_data/Xs.pkl', 'rb') as file:\n",
    "    \n",
    "    raw_data = pickle.load(file)\n",
    "    \n",
    "\n",
    "## For example we extract the case of alpha = 0.5, the middle one in the Fig.2 leftmost panel\n",
    "\n",
    "from sklearn import preprocessing\n",
    "\n",
    "X_normalized = preprocessing.MinMaxScaler().fit_transform(raw_data[1])\n",
    "\n",
    "train_data = X_normalized[:500]\n",
    "test_data = X_normalized[500:500+320]"
   ]
  },
  {
   "cell_type": "code",
   "execution_count": 2,
   "metadata": {},
   "outputs": [
    {
     "data": {
      "text/plain": [
       "[<matplotlib.lines.Line2D at 0x133197bd0>]"
      ]
     },
     "execution_count": 2,
     "metadata": {},
     "output_type": "execute_result"
    },
    {
     "data": {
      "image/png": "[encoded data removed]",
      "text/plain": [
       "<Figure size 432x288 with 1 Axes>"
      ]
     },
     "metadata": {
      "needs_background": "light"
     },
     "output_type": "display_data"
    }
   ],
   "source": [
    "## Checking everythings ok for 1st dimension of X\n",
    "\n",
    "plt.plot(X_normalized[:,0])"
   ]
  },
  {
   "cell_type": "code",
   "execution_count": 3,
   "metadata": {},
   "outputs": [
    {
     "name": "stdout",
     "output_type": "stream",
     "text": [
      "19.0\n"
     ]
    }
   ],
   "source": [
    "\n",
    "## Estimating the small d here using local intrinsic dimension reduction technique\n",
    "\n",
    "import skdim \n",
    "\n",
    "lpca = skdim.id.lPCA().fit_pw(X_normalized,\n",
    "                              n_neighbors = 20,\n",
    "                              n_jobs = 1)\n",
    "print (np.mean(lpca.dimension_pw_))\n",
    "\n",
    "\n",
    "## For convenience, we set d = 20 here\n",
    "\n",
    "\n",
    "\n"
   ]
  },
  {
   "cell_type": "code",
   "execution_count": 4,
   "metadata": {},
   "outputs": [
    {
     "name": "stdout",
     "output_type": "stream",
     "text": [
      "Optimal subsequence length = 125.0\n"
     ]
    }
   ],
   "source": [
    "## Estimating the optimal length of k: Dominate period/4\n",
    "\n",
    "\n",
    "import numpy as np\n",
    "import pandas as pd\n",
    "import matplotlib.pyplot as plt\n",
    "from scipy.signal import periodogram\n",
    "from sklearn import preprocessing\n",
    "from nilearn.connectome import ConnectivityMeasure\n",
    "from skimage.util import view_as_blocks, view_as_windows\n",
    "\n",
    "\n",
    "frequencies = None\n",
    "power_spectra = []\n",
    "\n",
    "data = X_normalized\n",
    "\n",
    "\n",
    "wavelengths = []\n",
    "power_values = []\n",
    "for i in range(data.shape[1]):\n",
    "    f, Pxx = periodogram(data[:, i], fs=1)  # Assuming time unit is 1\n",
    "    peak_frequency = f[np.argmax(Pxx)]\n",
    "    peak_idx = np.argmax(Pxx)\n",
    "    peak_power = Pxx[peak_idx]\n",
    "    wavelength = 1 / peak_frequency if peak_frequency != 0 else np.inf\n",
    "    if wavelength != np.inf:\n",
    "        wavelengths.append(wavelength)\n",
    "        power_values.append(peak_power)\n",
    "\n",
    "    wavelengths.append(wavelength)\n",
    "\n",
    "    \n",
    "dominant_period = wavelengths[np.argmax(power_values)]\n",
    "\n",
    "print ('Optimal subsequence length =', 1/4*(dominant_period))"
   ]
  },
  {
   "cell_type": "code",
   "execution_count": 5,
   "metadata": {},
   "outputs": [
    {
     "data": {
      "text/plain": [
       "125.0"
      ]
     },
     "execution_count": 5,
     "metadata": {},
     "output_type": "execute_result"
    }
   ],
   "source": [
    "500/4"
   ]
  },
  {
   "cell_type": "code",
   "execution_count": 6,
   "metadata": {},
   "outputs": [
    {
     "name": "stdout",
     "output_type": "stream",
     "text": [
      "(876, 125, 100)\n",
      "100\n"
     ]
    }
   ],
   "source": [
    "### Prepare the subsequences and X train and X test\n",
    "\n",
    "from skimage.util import view_as_blocks, view_as_windows\n",
    "\n",
    "X_subsequence = np.squeeze(view_as_windows(np.asarray(X_normalized),window_shape=(125, 100)))\n",
    "\n",
    "X_normal_smooth = np.mean(X_subsequence, axis = 1)[:500]\n",
    "print (X_subsequence.shape)\n",
    "\n",
    "X_train = X_subsequence[:500]\n",
    "\n",
    "X_test = X_subsequence[500:]\n",
    "\n",
    "print (X_train.shape[2])"
   ]
  },
  {
   "cell_type": "code",
   "execution_count": 7,
   "metadata": {},
   "outputs": [
    {
     "data": {
      "text/plain": [
       "((500, 125, 100), (1000, 100))"
      ]
     },
     "execution_count": 7,
     "metadata": {},
     "output_type": "execute_result"
    }
   ],
   "source": [
    "X_train.shape, X_normalized.shape"
   ]
  },
  {
   "cell_type": "markdown",
   "metadata": {},
   "source": [
    "### 2. ISED learner Instantation"
   ]
  },
  {
   "cell_type": "code",
   "execution_count": null,
   "metadata": {},
   "outputs": [],
   "source": []
  },
  {
   "cell_type": "code",
   "execution_count": 8,
   "metadata": {},
   "outputs": [],
   "source": [
    "from tensorflow.keras import layers\n",
    "from tensorflow import keras\n",
    "#import tensorflow.compat.v1 as tf\n",
    "from tensorflow.keras.models import Model\n",
    "from tensorflow.keras import backend as K\n",
    "import tensorflow as tf\n",
    "latent_dim = 20\n",
    "\n",
    "\n",
    "tf.keras.backend.set_floatx('float64')\n",
    "mydtype = tf.float64\n",
    "\n",
    "initializer = tf.keras.initializers.Orthogonal()\n",
    "\n",
    "class Jacobian(layers.Layer):\n",
    "\n",
    "  def __init__(self, func,  **kwargs):\n",
    "    ''' input-output shapes of func should be (batch, dim) -> (batch, dim)\n",
    "    '''\n",
    "    self.func = func\n",
    "    super(Jacobian, self).__init__(**kwargs)\n",
    "\n",
    "  def call(self, X, t_length=None):\n",
    "    # x have (batch, timestep, dim)\n",
    "    if t_length == None:\n",
    "      t_length = X.shape[1]\n",
    "    batch_size = X.shape[0]\n",
    "\n",
    "    X = tf.reshape(X, [batch_size*t_length, X.shape[2]])\n",
    "    #X = tf.reshape(X, [-1, 2])\n",
    "    with tf.GradientTape(persistent=True,watch_accessed_variables=True) as tape:\n",
    "      tape.watch(X)\n",
    "      X_next, _ = self.func(X,[X])\n",
    "\n",
    "    Jxs = tape.batch_jacobian(X_next, X)\n",
    "\n",
    "    Jxs = tf.reshape(Jxs, [batch_size, t_length, X.shape[1], X.shape[1]])\n",
    "    return Jxs\n",
    "\n",
    "class MinimalRNNCell(keras.layers.Layer):\n",
    "\n",
    "    def __init__(self, units, **kwargs):\n",
    "        self.units = units\n",
    "        self.state_size = units\n",
    "        super(MinimalRNNCell, self).__init__(**kwargs)\n",
    "\n",
    "    def build(self, input_shape):\n",
    "        self.kernel = self.add_weight(shape=(input_shape[-1], self.units),\n",
    "                                      initializer='uniform',\n",
    "                                      name='kernel')\n",
    "        self.recurrent_kernel = self.add_weight(\n",
    "            shape=(self.units, self.units),\n",
    "            initializer='uniform',\n",
    "            name='recurrent_kernel')\n",
    "        self.built = True\n",
    "\n",
    "    def call(self, inputs, states):\n",
    "        prev_output = states[0]\n",
    "        h = backend.dot(inputs, self.kernel)\n",
    "        output = h + backend.dot(prev_output, self.recurrent_kernel)\n",
    "        #output = tf.stack([output])\n",
    "        return output, [output]\n",
    "\n",
    "class QRDcell(layers.Layer):\n",
    "  '''\n",
    "  performing successive QR decomposition.\n",
    "  This class can be used as a RNN cell in Keras RNN Layer\n",
    "  '''\n",
    "\n",
    "  def __init__(self, dim, **kwargs):\n",
    "    super(QRDcell, self).__init__(**kwargs)\n",
    "    self.dim = dim\n",
    "    # d x d dimension (d is a dimension of dynamical systems)\n",
    "    self.state_size = tf.constant([dim, dim])\n",
    "    self.output_size = tf.constant(dim)\n",
    "\n",
    "  def get_initial_state(self, inputs=None, batch_size=None, dtype=mydtype):\n",
    "    ''' return identity matrices'''\n",
    "\n",
    "    return tf.linalg.eye(self.dim, self.dim, batch_shape=[batch_size], dtype=mydtype)\n",
    "\n",
    "  def call(self, inputs, states):\n",
    "    # inputs is  J_{n} (batch, dim, dim)\n",
    "    # states is Q_{n-1} (batch, dim,dim). Q_{0} is identity matrix\n",
    "    # Q_{n}R_{n} = J_{n}Q_{n-1}\n",
    "    # Q_{n} is the next state. (Q_new)\n",
    "    # R_{n} is the output. (R_new)\n",
    "\n",
    "    J = inputs\n",
    "    Q = states[0]\n",
    "    Q_new, R_new = tf.linalg.qr(J@Q)\n",
    "    return R_new, [Q_new]\n",
    "\n",
    "\n"
   ]
  },
  {
   "cell_type": "code",
   "execution_count": null,
   "metadata": {},
   "outputs": [],
   "source": []
  },
  {
   "cell_type": "code",
   "execution_count": null,
   "metadata": {},
   "outputs": [],
   "source": []
  },
  {
   "cell_type": "code",
   "execution_count": null,
   "metadata": {},
   "outputs": [],
   "source": []
  },
  {
   "cell_type": "markdown",
   "metadata": {},
   "source": [
    "### 3  Training ISED on training dataset"
   ]
  },
  {
   "cell_type": "code",
   "execution_count": 14,
   "metadata": {},
   "outputs": [],
   "source": [
    "from tensorflow.keras.layers import *\n",
    "from tensorflow.keras.losses import mse,binary_crossentropy\n",
    "from tensorflow.keras.callbacks import EarlyStopping\n",
    "\n",
    "class ISEDModel:\n",
    "    def __init__(self, \n",
    "                 input_dim=100, \n",
    "                 seq_length=125, \n",
    "                 latent_dim=20, \n",
    "                 batch_size=50, \n",
    "                 epochs=300,\n",
    "                 use_early_stopping=True,\n",
    "                 encoder_layers=[(50, 'relu'), (20, 'relu')],\n",
    "                 rnn_layers=[(30, 'gru'), (20, 'gru')],\n",
    "                 decoder_layers=[(20, 'relu'), (30, 'relu')],\n",
    "                 optimizer='adam',\n",
    "                 loss_weights=None,\n",
    "                 verbose = 1):\n",
    "        \"\"\"\n",
    "        Initialize the ISED model with the given parameters.\n",
    "\n",
    "        Parameters:\n",
    "        - input_dim (int): Dimensionality of the input features.\n",
    "        - seq_length (int): Length of the input sequences.\n",
    "        - latent_dim (int): Dimensionality of the latent space.\n",
    "        - batch_size (int): Batch size used in training.\n",
    "        - epochs (int): Number of training epochs.\n",
    "        - use_early_stopping (bool): Whether to use early stopping.\n",
    "        - encoder_layers (list of tuples): List of encoder layers with (units, activation).\n",
    "        - rnn_layers (list of tuples): List of RNN layers with (units, type ('gru' or 'lstm')).\n",
    "        - decoder_layers (list of tuples): List of decoder layers with (units, activation).\n",
    "        - optimizer (str): Optimizer for model compilation.\n",
    "        - loss_weights (dict): Weights for different losses.\n",
    "        \"\"\"\n",
    "        self.input_dim = input_dim\n",
    "        self.seq_length = seq_length\n",
    "        self.latent_dim = latent_dim\n",
    "        self.batch_size = batch_size\n",
    "        self.epochs = epochs\n",
    "        self.use_early_stopping = use_early_stopping\n",
    "        self.encoder_layers = encoder_layers\n",
    "        self.rnn_layers = rnn_layers\n",
    "        self.decoder_layers = decoder_layers\n",
    "        self.optimizer = optimizer\n",
    "        self.loss_weights = loss_weights or {'MI_loss': 1.0, 'GSM_loss': 1.0, 'LSM_loss': 1.0, 'kl_loss': 1.0}\n",
    "        self.verbose = verbose\n",
    "        self.model = None\n",
    "        self.embedding_transformer = None\n",
    "\n",
    "    def _build_model(self):\n",
    "        \"\"\"\n",
    "        Build the ISED model with customizable layers.\n",
    "\n",
    "        Returns:\n",
    "        - Model: Compiled Keras model ready for training.\n",
    "        \"\"\"\n",
    "        # Input layer\n",
    "        x_inputs = layers.Input((self.seq_length, self.input_dim), batch_size=self.batch_size)\n",
    "        encoder_input = Input(self.input_dim)\n",
    "\n",
    "        # Encoder network\n",
    "        x = encoder_input\n",
    "        for units, activation in self.encoder_layers:\n",
    "            x = Dense(units=units, activation=activation)(x)\n",
    "            x = BatchNormalization()(x)\n",
    "\n",
    "        encoder_output = Dense(self.latent_dim, activation=None, name='encoder_embedding',\n",
    "                              kernel_initializer = initializer)(x)\n",
    "        encoder_model = Model(encoder_input, encoder_output, name='encoder')\n",
    "\n",
    "        x_encoded_sequence = TimeDistributed(encoder_model)(x_inputs)\n",
    "\n",
    "        # RNN Layers for Temporal Learning\n",
    "        x = x_encoded_sequence\n",
    "        for units, layer_type in self.rnn_layers:\n",
    "            if layer_type.lower() == 'gru':\n",
    "                x = RNN(GRUCell(units), return_sequences=True)(x)\n",
    "            elif layer_type.lower() == 'lstm':\n",
    "                x = RNN(LSTMCell(units), return_sequences=True)(x)\n",
    "\n",
    "        # Jacobian Layer\n",
    "        jl = Jacobian(layers.GRUCell(self.latent_dim))\n",
    "        js = jl(x, t_length=self.seq_length)\n",
    "\n",
    "        # QR Decomposition RNN\n",
    "        qrd_rnn = layers.RNN(QRDcell(dim=self.latent_dim), return_sequences=True)\n",
    "        rs = qrd_rnn(js)\n",
    "\n",
    "        # Latent space processing\n",
    "        z = GRU(self.latent_dim)(x)\n",
    "        z_mean = Dense(self.latent_dim)(z)\n",
    "        z_log_sigma = Dense(self.latent_dim)(z)\n",
    "\n",
    "        # Reparameterization trick\n",
    "        def sampling(args):\n",
    "            z_mean, z_log_sigma = args\n",
    "            epsilon = K.random_normal(shape=(K.shape(z_mean)[0], self.latent_dim), mean=0., stddev=0.1)\n",
    "            return z_mean + K.exp(z_log_sigma) * epsilon\n",
    "\n",
    "        z_all = Lambda(sampling)([z_mean, z_log_sigma])\n",
    "        \n",
    "        decoded = self._network_prediction(z_mean)\n",
    "        \n",
    "        # Decoder network\n",
    "        latent_inputs = layers.Input(shape=(self.latent_dim,))\n",
    "        x = latent_inputs\n",
    "        for units, activation in self.decoder_layers:\n",
    "            x = Dense(units=units, activation=activation)(x)\n",
    "            x = BatchNormalization()(x)\n",
    "        Outputs = Dense(self.input_dim, activation='linear')(x)\n",
    "        decoder = Model(latent_inputs, [Outputs], name='decoder')\n",
    "\n",
    "        Output = decoder(z_mean)\n",
    "\n",
    "        # Additional inputs\n",
    "        y_inputs = layers.Input((self.seq_length, self.input_dim), batch_size=self.batch_size)\n",
    "        y_input_ = layers.Input(self.input_dim)\n",
    "\n",
    "        # Encode y_inputs using the encoder model\n",
    "        y_encoded = TimeDistributed(encoder_model)(y_inputs)\n",
    "\n",
    "        # Loss functions\n",
    "        dot_product = K.mean(y_encoded * decoded, axis=-1)\n",
    "        dot_product = K.mean(dot_product, axis=-1, keepdims=True)\n",
    "\n",
    "        MI_loss = mse(y_input_, Output) * self.loss_weights['MI_loss']\n",
    "        GSM_loss = K.sigmoid(dot_product) * self.loss_weights['GSM_loss']\n",
    "        LSM_loss = K.sigmoid(K.sum(tf.math.reduce_mean(tf.math.log(tf.math.abs(tf.linalg.diag_part(rs))), axis=1))) * self.loss_weights['LSM_loss']\n",
    "        kl_loss = 1 + z_log_sigma - K.square(z_mean) - K.exp(z_log_sigma)\n",
    "        kl_loss = K.sum(kl_loss, axis=-1) * -0.5 * self.loss_weights['kl_loss']\n",
    "\n",
    "        # Build the model\n",
    "        training_model = Model([x_inputs, y_inputs, y_input_], [decoded, Output])\n",
    "        total_loss = MI_loss  + GSM_loss + LSM_loss + kl_loss\n",
    "        training_model.add_loss(total_loss)\n",
    "        training_model.compile(optimizer=self.optimizer)\n",
    "        \n",
    "        embedding_transformer = Model(x_inputs, z_mean, name='embedding_transformer')\n",
    "\n",
    "        return training_model, embedding_transformer\n",
    "    \n",
    "    def _network_prediction(self, z_mean):\n",
    "        \"\"\"\n",
    "        Predict future steps from the latent space.\n",
    "\n",
    "        Parameters:\n",
    "        - z_mean (Tensor): Mean representation in the latent space.\n",
    "\n",
    "        Returns:\n",
    "        - Tensor: Predicted output.\n",
    "        \"\"\"\n",
    "        outputs = [Dense(self.latent_dim, activation=\"linear\")(z_mean) for _ in range(self.seq_length)]\n",
    "        if len(outputs) == 1:\n",
    "            output =Lambda(lambda x: K.expand_dims(x, axis=1))(outputs[0])\n",
    "        else:\n",
    "            output =Lambda(lambda x: K.stack(x, axis=1))(outputs)\n",
    "\n",
    "        return output\n",
    "        #return Lambda(lambda x: K.stack(x, axis=1))(outputs)\n",
    "\n",
    "    def fit(self, X_train, X_data):\n",
    "        \"\"\"\n",
    "        Fit the ISED model on the training data.\n",
    "\n",
    "        Parameters:\n",
    "        - X_train (ndarray): Training data, shaped as (n_samples, seq_length, input_dim).\n",
    "        - X_data (ndarray): Non-subsequenced training data.\n",
    "        \"\"\"\n",
    "        self.model, self.embedding_transformer = self._build_model()\n",
    "        callbacks = []\n",
    "        if self.use_early_stopping:\n",
    "            callbacks.append(EarlyStopping(monitor='loss', patience=10, restore_best_weights=True))\n",
    "\n",
    "        x_inputs = X_train  # Input for x_inputs\n",
    "        y_inputs = X_train  # Input for y_inputs (same shape as x_inputs)\n",
    "        y_input_ = X_data   # Input for y_input_ (different shape)\n",
    "\n",
    "        # Fit the model\n",
    "        self.model.fit([x_inputs, y_inputs, y_input_],\n",
    "                       epochs=self.epochs, batch_size=self.batch_size,\n",
    "                       shuffle=True, verbose=self.verbose, callbacks=callbacks)\n",
    "        \n",
    "        #self.embedding_transformer.set_weights(self.model.get_layer('embedding_transformer').get_weights())\n",
    "\n",
    "\n",
    "    def transform(self, X):\n",
    "        \"\"\"\n",
    "        Apply the learned encoder model to transform new data.\n",
    "\n",
    "        Parameters:\n",
    "        - X (ndarray): Input data to transform, shaped as (n_samples, seq_length, input_dim).\n",
    "\n",
    "        Returns:\n",
    "        - ndarray: Transformed data (embedding dynamics) with learned latent representations.\n",
    "        \"\"\"\n",
    "        #self.model = self._build_model()\n",
    "        # Use the encoder model to transform the input data\n",
    "        return self.embedding_transformer.predict(X, verbose=self.verbose)\n",
    "\n",
    "    def fit_transform(self, X_train, X_data):\n",
    "        \"\"\"\n",
    "        Fit the model to the training data and transform it in one step.\n",
    "\n",
    "        Parameters:\n",
    "        - X_train (ndarray): Training data, shaped as (n_samples, seq_length, input_dim).\n",
    "        - X_data (ndarray): Non-subsequenced data, same shape as train_data.\n",
    "\n",
    "        Returns:\n",
    "        - ndarray: Transformed data after fitting the model.\n",
    "        \"\"\"\n",
    "        self.fit(X_train, X_data)\n",
    "        return self.transform(X_train)\n"
   ]
  },
  {
   "cell_type": "code",
   "execution_count": 15,
   "metadata": {},
   "outputs": [],
   "source": [
    "model = ISEDModel(\n",
    "    input_dim=100, \n",
    "    seq_length=125, \n",
    "    latent_dim=20, \n",
    "    batch_size=50, \n",
    "    epochs=300,\n",
    "    encoder_layers=[(50, 'relu'), (20, 'relu')],\n",
    "    rnn_layers=[(30, 'gru'), (20, 'gru')],\n",
    "    decoder_layers=[(20, 'relu'), (30, 'relu')],\n",
    "    optimizer='adam', verbose = 0\n",
    ")\n"
   ]
  },
  {
   "cell_type": "code",
   "execution_count": 16,
   "metadata": {},
   "outputs": [],
   "source": [
    "model.fit(X_train,X_normalized[:500])"
   ]
  },
  {
   "cell_type": "code",
   "execution_count": null,
   "metadata": {},
   "outputs": [],
   "source": []
  },
  {
   "cell_type": "markdown",
   "metadata": {},
   "source": [
    "### 4. Applied the learned ISED learner onto Test set to get embedding dynamics z"
   ]
  },
  {
   "cell_type": "code",
   "execution_count": 17,
   "metadata": {},
   "outputs": [
    {
     "name": "stdout",
     "output_type": "stream",
     "text": [
      "WARNING:tensorflow:Model was constructed with shape (50, 125, 100) for input KerasTensor(type_spec=TensorSpec(shape=(50, 125, 100), dtype=tf.float64, name='input_6'), name='input_6', description=\"created by layer 'input_6'\"), but it was called on an input with incompatible shape (32, 125, 100).\n"
     ]
    }
   ],
   "source": [
    "## On test feature dynamcis to see the embedding performance \n",
    "## \n",
    "\n",
    "\n",
    "from sklearn import preprocessing\n",
    "\n",
    "z_y = model.transform(X_test[:352])\n",
    "\n",
    "encoded_data = preprocessing.MinMaxScaler().fit_transform(z_y)\n",
    "\n",
    "#zs.append(encoded_data)"
   ]
  },
  {
   "cell_type": "code",
   "execution_count": 18,
   "metadata": {},
   "outputs": [
    {
     "name": "stdout",
     "output_type": "stream",
     "text": [
      "Top 2 pc component variance: 0.7275141589052416\n"
     ]
    },
    {
     "data": {
      "image/png": "[encoded data removed]",
      "text/plain": [
       "<Figure size 300x300 with 1 Axes>"
      ]
     },
     "metadata": {},
     "output_type": "display_data"
    }
   ],
   "source": [
    "## Visualize the 1st and 2nd dimension \n",
    "\n",
    "## or projected onto 2D space for visualization\n",
    "\n",
    "## Note that: the embedding shapes are subject to some degree of difference to the reported one to the different parameter used in training\n",
    "## and whehter or not projected onto the \n",
    "\n",
    "\n",
    "from sklearn import preprocessing\n",
    "\n",
    "from sklearn.decomposition import PCA\n",
    "\n",
    "pca = PCA(n_components=3)\n",
    "        \n",
    "pca_emb = pca.fit_transform(encoded_data)\n",
    "\n",
    "print ('Top 2 pc component variance:', sum(pca.explained_variance_ratio_))\n",
    "\n",
    "plt.style.use('seaborn-white')\n",
    "fig = plt.figure(figsize=(3,3), dpi = 100)\n",
    "ax = fig.add_subplot(111)\n",
    "time_points = np.arange(encoded_data.shape[0])\n",
    "sc = ax.scatter(pca_emb[:,0],\n",
    "                pca_emb[:,1],\n",
    "           c=time_points,\n",
    "           cmap='coolwarm', s=40)\n",
    "\n",
    "ax.grid(False)\n",
    "ax.set_axis_off()\n",
    "#cbar = fig.colorbar(sc, orientation='horizontal',shrink=.5, pad = -0.2)\n",
    "#cbar.set_ticks([])\n",
    "#cbar.set_label('Time', fontsize=12)"
   ]
  },
  {
   "cell_type": "code",
   "execution_count": null,
   "metadata": {},
   "outputs": [],
   "source": []
  },
  {
   "cell_type": "markdown",
   "metadata": {},
   "source": [
    "### 5. Evaluation on smoothness, reconstruction accuracy (r2 scores) on both latent and feature dynamics"
   ]
  },
  {
   "cell_type": "code",
   "execution_count": 19,
   "metadata": {},
   "outputs": [],
   "source": [
    "### Assessing the Smoothness\n",
    "\n",
    "\n",
    "from scipy.spatial.distance import euclidean\n",
    "from fastdtw import fastdtw\n",
    "from sklearn.metrics.pairwise import cosine_similarity\n",
    "from sklearn.svm import SVR\n",
    "\n",
    "\n",
    "def compute_smoothness(data):\n",
    "    diff = np.diff(data, axis=0)\n",
    "    bending_energy = np.sum(np.linalg.norm(diff, axis=1)**2)  ## conventional 1-degree time difference\n",
    "    return 1/bending_energy   ### to ensure it is monotonic increasing properity \n",
    "\n",
    "### Assessing the reconstruction error \n",
    "\n",
    "import sklearn.linear_model\n",
    "\n",
    "def reconstruction_score(x, y):\n",
    "\n",
    "    def _linear_fitting(x, y):\n",
    "        lin_model = sklearn.linear_model.LinearRegression()\n",
    "        #lin_model = SVR(kernel='rbf')\n",
    "        lin_model.fit(x, y)\n",
    "        return lin_model.score(x, y)\n",
    "\n",
    "    return _linear_fitting(x, y)\n"
   ]
  },
  {
   "cell_type": "code",
   "execution_count": 21,
   "metadata": {},
   "outputs": [
    {
     "name": "stdout",
     "output_type": "stream",
     "text": [
      "Evaluated smoothness: 0.11602695889889289\n"
     ]
    }
   ],
   "source": [
    "print ('Evaluated smoothness:', compute_smoothness(pca_emb))"
   ]
  },
  {
   "cell_type": "code",
   "execution_count": 144,
   "metadata": {},
   "outputs": [
    {
     "name": "stdout",
     "output_type": "stream",
     "text": [
      "Reconstruction error on latent: 0.10212354287301678\n"
     ]
    }
   ],
   "source": [
    "with open('../ISED_learner/ISED/data/Simulation_data/z_true.pkl', 'rb') as file:\n",
    "    \n",
    "    true_z = pickle.load(file)\n",
    "    \n",
    "\n",
    "print ('Reconstruction error on latent:', reconstruction_score(pca_emb, true_z[1][500:500+352,:]))\n"
   ]
  },
  {
   "cell_type": "code",
   "execution_count": 136,
   "metadata": {},
   "outputs": [
    {
     "name": "stdout",
     "output_type": "stream",
     "text": [
      "11/11 [==============================] - 0s 29ms/step\n",
      "Reconstruction error on feature: 0.11196288612970089\n"
     ]
    }
   ],
   "source": [
    "_, re_x = level2_s.predict([X_test[:352],X_test[:352], X_normalized[500:500+352,:]])\n",
    "\n",
    "re_x_ = preprocessing.MinMaxScaler().fit_transform(re_x)\n",
    "\n",
    "print ('Reconstruction error on feature:', reconstruction_score(re_x_, X_normalized[500:500+352,:]))\n"
   ]
  },
  {
   "cell_type": "code",
   "execution_count": null,
   "metadata": {},
   "outputs": [],
   "source": []
  },
  {
   "cell_type": "code",
   "execution_count": null,
   "metadata": {},
   "outputs": [],
   "source": []
  },
  {
   "cell_type": "code",
   "execution_count": null,
   "metadata": {},
   "outputs": [],
   "source": []
  },
  {
   "cell_type": "code",
   "execution_count": null,
   "metadata": {},
   "outputs": [],
   "source": []
  },
  {
   "cell_type": "code",
   "execution_count": null,
   "metadata": {},
   "outputs": [],
   "source": []
  }
 ],
 "metadata": {
  "kernelspec": {
   "display_name": "Python 3",
   "language": "python",
   "name": "python3"
  },
  "language_info": {
   "codemirror_mode": {
    "name": "ipython",
    "version": 3
   },
   "file_extension": ".py",
   "mimetype": "text/x-python",
   "name": "python",
   "nbconvert_exporter": "python",
   "pygments_lexer": "ipython3",
   "version": "3.7.9"
  }
 },
 "nbformat": 4,
 "nbformat_minor": 4
}
