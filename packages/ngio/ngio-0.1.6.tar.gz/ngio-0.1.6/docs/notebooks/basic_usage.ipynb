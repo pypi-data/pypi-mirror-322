{
 "cells": [
  {
   "cell_type": "markdown",
   "metadata": {},
   "source": [
    "# OME-Zarr Image Exploration\n",
    "\n",
    "In this notebook we will show how to use the 'NgffImage' class to explore and manage an OME-NGFF image.\n",
    "\n",
    "For this example we will use a small example image that can be downloaded from the following link: [example ome-zarr](https://zenodo.org/records/13305156)\n",
    "\n",
    "## Setup\n",
    "\n",
    "You can download the example image (on Linux and Mac os) by running the following command:\n",
    "\n",
    "```bash\n",
    "bash setup_data.sh\n",
    "```\n",
    "from the root of the repository.\n",
    "\n",
    "## NgffImage\n",
    "\n",
    "The `NgffImage` provides a high-level interface to read, write and manipulate NGFF images.\n",
    "A `NgffImage` can be created from a storelike object (e.g. a path to a directory, or a url) or from a `zarr.Group` object. "
   ]
  },
  {
   "cell_type": "code",
   "execution_count": null,
   "metadata": {},
   "outputs": [],
   "source": [
    "from ngio.core import NgffImage\n",
    "\n",
    "# Ngio can stream data from any fsspec-compatible store\n",
    "path = \"../../data/20200812-CardiomyocyteDifferentiation14-Cycle1_mip.zarr/B/03/0\"\n",
    "ngff_image = NgffImage(path, \"r\")"
   ]
  },
  {
   "cell_type": "markdown",
   "metadata": {},
   "source": [
    "\n",
    "The `ngff_image` object provides a high-level interface to read, write and manipulate OME-Zarr images.\n",
    "\n",
    "Print the image will show some overview information like:\n",
    "* The path to the image\n",
    "* The multiscale pyramid paths\n",
    "* The labels contained in the image\n",
    "* The tables contained in the imag"
   ]
  },
  {
   "cell_type": "code",
   "execution_count": null,
   "metadata": {},
   "outputs": [],
   "source": [
    "print(ngff_image)"
   ]
  },
  {
   "cell_type": "markdown",
   "metadata": {},
   "source": [
    "From the `NgffImage` object we can easily access access the image data (at any resolution level), the labels and the tables."
   ]
  },
  {
   "cell_type": "markdown",
   "metadata": {},
   "source": [
    "Get a single `level` of the image pyramid as `Image` (to know more about the `Image` class, please refer to the [Image notebook](./image.ipynb)\n",
    "The `Image` object is the main object to interact with the image. \n",
    "It contains methods to interact with the image data and metadata."
   ]
  },
  {
   "cell_type": "code",
   "execution_count": null,
   "metadata": {},
   "outputs": [],
   "source": [
    "from ngio.ngff_meta import PixelSize\n",
    "\n",
    "# 1. Get image from highest resolution (default)\n",
    "image = ngff_image.get_image()\n",
    "print(image)\n",
    "\n",
    "# 2. Get image from a specific level using the path keyword\n",
    "image = ngff_image.get_image(path=\"1\")\n",
    "print(image)\n",
    "\n",
    "# 3. Get image from a specific pixel size using the pixel_size keyword\n",
    "image = ngff_image.get_image(pixel_size=PixelSize(x=0.65, y=0.65, z=1))\n",
    "print(image)"
   ]
  },
  {
   "cell_type": "markdown",
   "metadata": {},
   "source": [
    "The `Image` object provides a high-level interface to read and write image data at a specific resolution level."
   ]
  },
  {
   "cell_type": "code",
   "execution_count": null,
   "metadata": {},
   "outputs": [],
   "source": [
    "print(\"Shape\", image.shape)\n",
    "print(\"Axes\", image.axes_names)\n",
    "print(\"PixelSize\", image.pixel_size)\n",
    "print(\"Dimensions\", image.dimensions)\n",
    "print(\"Channel Names\", image.channel_labels)"
   ]
  },
  {
   "cell_type": "code",
   "execution_count": null,
   "metadata": {},
   "outputs": [],
   "source": [
    "# Get data as a numpy array or a dask array\n",
    "data = image.get_array(c=0, mode=\"numpy\")\n",
    "print(data)\n",
    "\n",
    "dask_data = image.get_array(c=0, mode=\"dask\")\n",
    "dask_data"
   ]
  },
  {
   "cell_type": "markdown",
   "metadata": {},
   "source": [
    "`ngio` design is to always provide the data in a canonical axis order (`t`, `c`, `z`, `y`, `x`) no matter what is the order on disk.  \n",
    "The `Image` object provides methods to access the data in this order.  \n",
    "If you want to access data or metadata in the on-disk order, you can by using `on_disk_{method_name}` methods.\n"
   ]
  },
  {
   "cell_type": "code",
   "execution_count": null,
   "metadata": {},
   "outputs": [],
   "source": [
    "print(\"On-disk shape\", image.on_disk_shape)\n",
    "print(\"On-disk array\", image.on_disk_array)\n",
    "print(\"On-disk dask array\", image.on_disk_dask_array)"
   ]
  },
  {
   "cell_type": "markdown",
   "metadata": {},
   "source": [
    "## Labels\n",
    "\n",
    "The `NgffImage` can also be used to load labels from a `OME-NGFF` file and behave similarly to the `Image` object."
   ]
  },
  {
   "cell_type": "code",
   "execution_count": null,
   "metadata": {},
   "outputs": [],
   "source": [
    "print(\"List of Labels: \", ngff_image.labels.list())\n",
    "\n",
    "label_nuclei = ngff_image.labels.get_label(\"nuclei\", path=\"0\")\n",
    "print(label_nuclei)"
   ]
  },
  {
   "cell_type": "markdown",
   "metadata": {},
   "source": [
    "## Tables\n",
    "\n",
    "The `NgffImage` can also be used to load tables from a `OME-NGFF` file.\n",
    "\n",
    "`ngio` supports three types of tables:\n",
    " - `features table` A simple table to store features associated with a label.\n",
    " - `roi table` A table to store regions of interest.\n",
    " - `masking roi tables` A table to store single objects bounding boxes associated with a label."
   ]
  },
  {
   "cell_type": "code",
   "execution_count": null,
   "metadata": {},
   "outputs": [],
   "source": [
    "print(\"List of Tables: \", ngff_image.tables.list())\n",
    "print(\" - Feature tables: \", ngff_image.tables.list(table_type=\"feature_table\"))\n",
    "print(\" - Roi tables: \", ngff_image.tables.list(table_type=\"roi_table\"))\n",
    "print(\" - Masking Roi tables: \", ngff_image.tables.list(table_type=\"masking_roi_table\"))"
   ]
  },
  {
   "cell_type": "code",
   "execution_count": null,
   "metadata": {},
   "outputs": [],
   "source": [
    "# Loading a table\n",
    "feature_table = ngff_image.tables.get_table(\"regionprops_DAPI\")\n",
    "feature_table.table"
   ]
  },
  {
   "cell_type": "code",
   "execution_count": null,
   "metadata": {},
   "outputs": [],
   "source": [
    "# Loading a roi table\n",
    "roi_table = ngff_image.tables.get_table(\"FOV_ROI_table\")\n",
    "\n",
    "print(f\"{roi_table.field_indexes=}\")\n",
    "print(f\"{roi_table.get_roi('FOV_1')=}\")\n",
    "\n",
    "roi_table.table"
   ]
  },
  {
   "cell_type": "markdown",
   "metadata": {},
   "source": [
    "Rois can be used to index image and label data."
   ]
  },
  {
   "cell_type": "code",
   "execution_count": null,
   "metadata": {},
   "outputs": [],
   "source": [
    "import matplotlib.pyplot as plt\n",
    "\n",
    "# Plotting a single ROI\n",
    "roi = roi_table.get_roi(\"FOV_1\")\n",
    "roi_data = image.get_array_from_roi(roi, c=0, mode=\"numpy\")\n",
    "plt.title(\"ROI: FOV_1\")\n",
    "plt.imshow(roi_data[0], cmap=\"gray\")\n",
    "plt.axis(\"off\")\n",
    "plt.show()"
   ]
  },
  {
   "cell_type": "markdown",
   "metadata": {},
   "source": [
    "## Derive a new NgffImage\n",
    "\n",
    "When processing an image, it is often useful to derive a new image from the original image.\n",
    "The `NgffImage` class provides a method to derive a new image from the original image.\n",
    "When deriving a new image, a new `NgffImage` object is created with the same metadata as the original image. Optionally the \n",
    "user can specify different metadata for the new image(.e.g. different channels names)."
   ]
  },
  {
   "cell_type": "code",
   "execution_count": null,
   "metadata": {},
   "outputs": [],
   "source": [
    "new_ngff_image = ngff_image.derive_new_image(\n",
    "    \"../../data/new_ome.zarr\", name=\"new_image\"\n",
    ")\n",
    "print(new_ngff_image)"
   ]
  },
  {
   "cell_type": "markdown",
   "metadata": {},
   "source": [
    "## Steam an NgffImage over HTTP\n",
    "\n",
    "The `NgffImage` class can also be used to stream an image over HTTP. This is useful when the image is stored on a remote server and you want to access it without downloading the entire image. All features of the `NgffImage` class are available when streaming an image over HTTP (besides anything that requires writing to the image)."
   ]
  },
  {
   "cell_type": "code",
   "execution_count": null,
   "metadata": {},
   "outputs": [],
   "source": [
    "from ngio.core.utils import get_fsspec_http_store\n",
    "\n",
    "# Ngio can stream data from any fsspec-compatible store\n",
    "url = \"https://raw.githubusercontent.com/fractal-analytics-platform/fractal-ome-zarr-examples/refs/heads/main/v04/20200812-CardiomyocyteDifferentiation14-Cycle1_B_03_mip.zarr/\"\n",
    "store = get_fsspec_http_store(url)\n",
    "ngff_image = NgffImage(store, \"r\")\n",
    "\n",
    "print(ngff_image)"
   ]
  }
 ],
 "metadata": {
  "kernelspec": {
   "display_name": "ngio",
   "language": "python",
   "name": "python3"
  },
  "language_info": {
   "codemirror_mode": {
    "name": "ipython",
    "version": 3
   },
   "file_extension": ".py",
   "mimetype": "text/x-python",
   "name": "python",
   "nbconvert_exporter": "python",
   "pygments_lexer": "ipython3",
   "version": "3.12.7"
  }
 },
 "nbformat": 4,
 "nbformat_minor": 2
}
