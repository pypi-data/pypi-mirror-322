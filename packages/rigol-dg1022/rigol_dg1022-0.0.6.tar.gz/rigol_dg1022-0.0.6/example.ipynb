{
 "cells": [
  {
   "cell_type": "markdown",
   "metadata": {},
   "source": [
    "# Rigol DG1022 Driver Example\n",
    "\n",
    "This notebook demonstrates how to use the Rigol DG1022 Function Generator driver.\n"
   ]
  },
  {
   "cell_type": "code",
   "execution_count": 11,
   "metadata": {},
   "outputs": [],
   "source": [
    "# Import\n",
    "from rigol_dg1022 import RigolDG1022\n",
    "import time\n",
    "\n",
    "# Initialize the device\n",
    "dg = RigolDG1022()  # It will auto-detect the device"
   ]
  },
  {
   "cell_type": "code",
   "execution_count": 12,
   "metadata": {},
   "outputs": [],
   "source": [
    "# Basic Operations\n",
    "# Set sine wave on Channel 1: 1 kHz, 2 Vpp, 0 V offset\n",
    "dg.set_waveform(1, \"SIN\", 1000, 2, 0)\n",
    "dg.set_output(1, True)  # Turn on output"
   ]
  },
  {
   "cell_type": "code",
   "execution_count": 13,
   "metadata": {},
   "outputs": [
    {
     "name": "stdout",
     "output_type": "stream",
     "text": [
      "\n",
      "Updated Channel 1 frequency:\n",
      "Frequency: 2000.0 Hz\n"
     ]
    }
   ],
   "source": [
    "# Modify Frequency\n",
    "dg.set_frequency(1, 2000)  # Change frequency to 2 kHz\n",
    "\n",
    "print(\"\\nUpdated Channel 1 frequency:\")\n",
    "print(f\"Frequency: {dg.get_frequency(1)} Hz\")"
   ]
  },
  {
   "cell_type": "code",
   "execution_count": 14,
   "metadata": {},
   "outputs": [],
   "source": [
    "# Set square wave on Channel 2: 500 Hz, 1 Vpp, 0.5 V offset\n",
    "dg.set_waveform(2, \"SQU\", 500, 1, 0.5)\n",
    "dg.set_output(2, True)  # Turn on output"
   ]
  },
  {
   "cell_type": "code",
   "execution_count": 15,
   "metadata": {},
   "outputs": [],
   "source": [
    "# Modify Channel 1\n",
    "dg.set_amplitude(1, 3)  # Change amplitude to 3 Vpp\n",
    "dg.set_offset(1, 0.5)   # Add 0.5 V offset\n",
    "\n",
    "# Modify Channel 2\n",
    "dg.set_frequency(2, 1000)  # Change frequency to 1 kHz\n",
    "dg.set_phase(2, 90)        # Set phase to 90 degrees"
   ]
  },
  {
   "cell_type": "code",
   "execution_count": 16,
   "metadata": {},
   "outputs": [],
   "source": [
    "# Set Different Waveforms\n",
    "dg.set_waveform(1, \"RAMP\", 200, 4, 0)  # Ramp wave on Channel 1\n",
    "dg.set_waveform(2, \"PULS\", 100, 2, 0)  # Pulse wave on Channel 2"
   ]
  },
  {
   "cell_type": "code",
   "execution_count": 17,
   "metadata": {},
   "outputs": [
    {
     "name": "stdout",
     "output_type": "stream",
     "text": [
      "Starting sequence demo...\n",
      "{'waveform': 'SIN', 'frequency': 1000.0, 'amplitude': 2.0, 'offset': 0.0, 'phase': 0.0, 'output_state': True}\n",
      "{'waveform': 'SIN', 'frequency': 2000.0, 'amplitude': 3.0, 'offset': 0.0, 'phase': 0.0, 'output_state': True}\n",
      "{'waveform': 'SQU', 'frequency': 500.0, 'amplitude': 1.0, 'offset': 0.5, 'phase': 90.0, 'output_state': True}\n",
      "{'waveform': 'SIN', 'frequency': 2000.0, 'amplitude': 3.0, 'offset': 0.0, 'phase': 45.0, 'output_state': True}\n",
      "{'waveform': 'SQU', 'frequency': 500.0, 'amplitude': 1.0, 'offset': 0.5, 'phase': 90.0, 'output_state': True}\n"
     ]
    }
   ],
   "source": [
    "# Sequencing Operations\n",
    "\n",
    "def sequence_demo():\n",
    "    print(\"Starting sequence demo...\")\n",
    "\n",
    "    # Step 1: Set up Channel 1\n",
    "    dg.set_waveform(1, \"SIN\", 1000, 2, 0)\n",
    "    dg.set_output(1, True)\n",
    "    print(dg.get_all_parameters(1))\n",
    "    time.sleep(2)\n",
    "\n",
    "    # Step 2: Modify Channel 1\n",
    "    dg.set_frequency(1, 2000)\n",
    "    dg.set_amplitude(1, 3)\n",
    "    print(dg.get_all_parameters(1))\n",
    "    time.sleep(2)\n",
    "\n",
    "    # Step 3: Set up Channel 2\n",
    "    dg.set_waveform(2, \"SQU\", 500, 1, 0.5)\n",
    "    dg.set_output(2, True)\n",
    "    print(dg.get_all_parameters(2))\n",
    "    time.sleep(2)\n",
    "\n",
    "    # Step 4: Modify both channels\n",
    "    dg.set_phase(1, 45)\n",
    "    dg.set_phase(2, 90)\n",
    "    print(dg.get_all_parameters(1))\n",
    "    print(dg.get_all_parameters(2))\n",
    "    time.sleep(2)\n",
    "\n",
    "    # Step 5: Turn off outputs\n",
    "    dg.set_output(1, False)\n",
    "    dg.set_output(2, False)\n",
    "\n",
    "# Run the sequence demo\n",
    "sequence_demo()"
   ]
  }
 ],
 "metadata": {
  "kernelspec": {
   "display_name": "Python 3",
   "language": "python",
   "name": "python3"
  },
  "language_info": {
   "codemirror_mode": {
    "name": "ipython",
    "version": 3
   },
   "file_extension": ".py",
   "mimetype": "text/x-python",
   "name": "python",
   "nbconvert_exporter": "python",
   "pygments_lexer": "ipython3",
   "version": "3.10.10"
  }
 },
 "nbformat": 4,
 "nbformat_minor": 2
}
