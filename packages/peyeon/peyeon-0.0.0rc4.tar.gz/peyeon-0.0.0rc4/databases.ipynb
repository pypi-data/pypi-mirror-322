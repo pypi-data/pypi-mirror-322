{
 "cells": [
  {
   "cell_type": "code",
   "execution_count": 1,
   "id": "bfc8bae8-4e8e-4235-876a-6e7826c5e561",
   "metadata": {},
   "outputs": [],
   "source": [
    "import duckdb"
   ]
  },
  {
   "cell_type": "code",
   "execution_count": 5,
   "id": "71e0aab5-27a6-41e9-b346-9b43bbcc3d95",
   "metadata": {},
   "outputs": [],
   "source": [
    "con = duckdb.connect(\"/workdir/tests/data/eyeon/dbhelpers/eyeon-20240627.db\")"
   ]
  },
  {
   "cell_type": "code",
   "execution_count": 16,
   "id": "fd4cbc87-b977-4d18-998c-0646621e59ea",
   "metadata": {},
   "outputs": [
    {
     "data": {
      "text/plain": [
       "┌────────────────┬──────────────┬──────────────────────┬───┬──────────┬───────────────┬───────────────┐\n",
       "│ table_catalog  │ table_schema │      table_name      │ … │ is_typed │ commit_action │ TABLE_COMMENT │\n",
       "│    varchar     │   varchar    │       varchar        │   │ varchar  │    varchar    │    varchar    │\n",
       "├────────────────┼──────────────┼──────────────────────┼───┼──────────┼───────────────┼───────────────┤\n",
       "│ eyeon-20240627 │ main         │ raw_pf               │ … │ NO       │ NULL          │ NULL          │\n",
       "│ eyeon-20240627 │ main         │ raw_cert_issuer_fi…  │ … │ NO       │ NULL          │ NULL          │\n",
       "│ eyeon-20240627 │ main         │ raw_cert_subject_f…  │ … │ NO       │ NULL          │ NULL          │\n",
       "│ eyeon-20240627 │ main         │ raw_sigs             │ … │ NO       │ NULL          │ NULL          │\n",
       "│ eyeon-20240627 │ main         │ raw_uniq_certs       │ … │ NO       │ NULL          │ NULL          │\n",
       "├────────────────┴──────────────┴──────────────────────┴───┴──────────┴───────────────┴───────────────┤\n",
       "│ 5 rows                                                                         13 columns (6 shown) │\n",
       "└─────────────────────────────────────────────────────────────────────────────────────────────────────┘"
      ]
     },
     "execution_count": 16,
     "metadata": {},
     "output_type": "execute_result"
    }
   ],
   "source": [
    "con.sql(\"select * from information_schema.tables;\")\n"
   ]
  },
  {
   "cell_type": "code",
   "execution_count": 24,
   "id": "4ce0505f-f78a-4929-bd18-1b36d6026118",
   "metadata": {},
   "outputs": [
    {
     "data": {
      "text/plain": [
       "(UUID('dc5086ff-b4b8-4032-a363-2693fea93fb6'),\n",
       " 190,\n",
       " '+Connect to New Data Source.odc',\n",
       " [],\n",
       " 'N/A',\n",
       " 'HTML document, ASCII text, with CRLF line terminators',\n",
       " datetime.datetime(2024, 2, 9, 17, 50, 12),\n",
       " datetime.datetime(2024, 5, 6, 14, 24, 48),\n",
       " '0o100555',\n",
       " UUID('16a8a9a2-b0a8-b65f-af28-e1007db6733f'),\n",
       " '6f3f3fa4219fccee5abafeb4ca0f61dbd2b8e8b8',\n",
       " '3a13080059292811e5ac3f9e8b04b2c8eea95d6a5538116ad751d11c834e6056',\n",
       " {'default_filename': 'test_config.toml',\n",
       "  'manufacturer': {'org': 'test_manf'},\n",
       "  'location': {'location': 'test_loc', 'filelocation': '/this/is/a/test'},\n",
       "  'machines': {'machines': 'test_machine',\n",
       "   'os': 'TestOS',\n",
       "   'version': '3.01',\n",
       "   'x-version': '3'}},\n",
       " None,\n",
       " None)"
      ]
     },
     "execution_count": 24,
     "metadata": {},
     "output_type": "execute_result"
    }
   ],
   "source": [
    "table = con.sql(\"select * from raw_pf;\")\n",
    "con.execute(\"select * from raw_pf\")\n",
    "con.fetchone()"
   ]
  },
  {
   "cell_type": "code",
   "execution_count": 25,
   "id": "408a01da-0ab4-4c35-877a-b3fb280e8e6d",
   "metadata": {},
   "outputs": [
    {
     "data": {
      "text/plain": [
       "['uuid',\n",
       " 'bytecount',\n",
       " 'filename',\n",
       " 'signatures',\n",
       " 'imphash',\n",
       " 'magic',\n",
       " 'modtime',\n",
       " 'observation_ts',\n",
       " 'permissions',\n",
       " 'md5',\n",
       " 'sha1',\n",
       " 'sha256',\n",
       " 'defaults',\n",
       " 'authentihash',\n",
       " 'metadata']"
      ]
     },
     "execution_count": 25,
     "metadata": {},
     "output_type": "execute_result"
    }
   ],
   "source": [
    "table.columns\n"
   ]
  },
  {
   "cell_type": "code",
   "execution_count": 39,
   "id": "03e590c7-b254-4b28-bb57-589a927ea772",
   "metadata": {},
   "outputs": [],
   "source": [
    "meta = con.sql(\"select metadata from raw_pf where metadata is not null\")"
   ]
  },
  {
   "cell_type": "code",
   "execution_count": 54,
   "id": "a6c23591-78c1-4fd3-ab08-21c6b1e75720",
   "metadata": {},
   "outputs": [],
   "source": [
    "import pandas as pd\n",
    "df = meta.to_df()\n",
    "import json"
   ]
  },
  {
   "cell_type": "code",
   "execution_count": 56,
   "id": "5b28b6b2-556a-4294-846e-77104ba47ee3",
   "metadata": {},
   "outputs": [],
   "source": [
    "master = {}\n",
    "for d in df[\"metadata\"]:\n",
    "    d = json.loads(d)\n",
    "    for k, v in d.items():\n",
    "        if k not in master:\n",
    "            master[k] = v"
   ]
  },
  {
   "cell_type": "code",
   "execution_count": 57,
   "id": "0eff61af-1de9-413f-8db2-30a6b22949b8",
   "metadata": {},
   "outputs": [
    {
     "data": {
      "text/plain": [
       "20"
      ]
     },
     "execution_count": 57,
     "metadata": {},
     "output_type": "execute_result"
    }
   ],
   "source": [
    "len(master)"
   ]
  },
  {
   "cell_type": "code",
   "execution_count": 58,
   "id": "b50f485d-be06-4fd2-a0ca-d18ab53376df",
   "metadata": {},
   "outputs": [
    {
     "data": {
      "text/plain": [
       "{'OS': 'Windows',\n",
       " 'peMachine': 'AMD',\n",
       " 'peOperatingSystemVersion': '6.1',\n",
       " 'peSubsystemVersion': '6.1',\n",
       " 'peSubsystem': 'WINDOWS_CUI',\n",
       " 'peLinkerVersion': '14.32',\n",
       " 'peIsExe': False,\n",
       " 'peIsDll': True,\n",
       " 'peIsClr': False,\n",
       " 'FileInfo': {'CompanyName': 'Microsoft Corporation',\n",
       "  'FileDescription': 'Microsoft Office component',\n",
       "  'FileVersion': '16.0.16626.20076',\n",
       "  'InternalName': 'accicons.exe',\n",
       "  'LegalTrademarks1': 'Microsoft® is a registered trademark of Microsoft Corporation.',\n",
       "  'LegalTrademarks2': 'Windows® is a registered trademark of Microsoft Corporation.',\n",
       "  'OriginalFilename': 'accicons.exe',\n",
       "  'ProductName': 'Microsoft Office',\n",
       "  'ProductVersion': '16.0.16626.20076'},\n",
       " 'dllRedirectionLocal': False,\n",
       " 'peImport': ['KERNEL32.dll',\n",
       "  'ole32.dll',\n",
       "  'OLEAUT32.dll',\n",
       "  'ADVAPI32.dll',\n",
       "  'GDI32.dll',\n",
       "  'MSO.dll',\n",
       "  'Mso98Win32Client.dll',\n",
       "  'mso40uiWin32Client.dll',\n",
       "  'Mso30Win32Client.dll',\n",
       "  'Mso20Win32Client.dll',\n",
       "  'VCRUNTIME140_1.dll',\n",
       "  'VCRUNTIME140.dll',\n",
       "  'MSVCP140.dll',\n",
       "  'api-ms-win-crt-heap-l1-1-0.dll',\n",
       "  'api-ms-win-crt-runtime-l1-1-0.dll',\n",
       "  'api-ms-win-crt-string-l1-1-0.dll',\n",
       "  'api-ms-win-crt-stdio-l1-1-0.dll',\n",
       "  'api-ms-win-crt-locale-l1-1-0.dll'],\n",
       " 'peDelayImport': ['USER32.dll'],\n",
       " 'dotnetFlags': {'ILONLY': True,\n",
       "  '32BITREQUIRED': False,\n",
       "  'IL_LIBRARY': False,\n",
       "  'STRONGNAMESIGNED': True,\n",
       "  'NATIVE_ENTRYPOINT': False,\n",
       "  'TRACKDEBUGDATA': False,\n",
       "  '32BITPREFERRED': False},\n",
       " 'dotnetAssembly': [{'Name': 'Accessibility',\n",
       "   'Culture': '',\n",
       "   'Version': '4.0.0.0',\n",
       "   'PublicKey': '<<non-serializable: bytes>>',\n",
       "   'HashAlgId': 0,\n",
       "   'Flags': {'DisableJitCompileOptimizer': False,\n",
       "    'EnableJitCompileTracking': False,\n",
       "    'PublicKey': True,\n",
       "    'Retargetable': False,\n",
       "    'PA_Specified': False,\n",
       "    'PA_None': True,\n",
       "    'PA_MSIL': False,\n",
       "    'PA_x86': False,\n",
       "    'PA_IA64': False,\n",
       "    'PA_AMD64': False,\n",
       "    'PA_ARM': False,\n",
       "    'PA_ARM64': False,\n",
       "    'PA_NoPlatform': False}}],\n",
       " 'dotnetAssemblyRef': [{'Name': 'System.Runtime',\n",
       "   'Culture': '',\n",
       "   'Version': '4.0.0.0',\n",
       "   'PublicKey': '<<non-serializable: bytes>>',\n",
       "   'HashValue': '<<non-serializable: HeapItemBinary>>',\n",
       "   'Flags': {'DisableJitCompileOptimizer': False,\n",
       "    'EnableJitCompileTracking': False,\n",
       "    'PublicKey': False,\n",
       "    'Retargetable': False,\n",
       "    'PA_Specified': False,\n",
       "    'PA_None': True,\n",
       "    'PA_MSIL': False,\n",
       "    'PA_x86': False,\n",
       "    'PA_IA64': False,\n",
       "    'PA_AMD64': False,\n",
       "    'PA_ARM': False,\n",
       "    'PA_ARM64': False,\n",
       "    'PA_NoPlatform': False}},\n",
       "  {'Name': 'System.Runtime.InteropServices',\n",
       "   'Culture': '',\n",
       "   'Version': '4.0.0.0',\n",
       "   'PublicKey': '<<non-serializable: bytes>>',\n",
       "   'HashValue': '<<non-serializable: HeapItemBinary>>',\n",
       "   'Flags': {'DisableJitCompileOptimizer': False,\n",
       "    'EnableJitCompileTracking': False,\n",
       "    'PublicKey': False,\n",
       "    'Retargetable': False,\n",
       "    'PA_Specified': False,\n",
       "    'PA_None': True,\n",
       "    'PA_MSIL': False,\n",
       "    'PA_x86': False,\n",
       "    'PA_IA64': False,\n",
       "    'PA_AMD64': False,\n",
       "    'PA_ARM': False,\n",
       "    'PA_ARM64': False,\n",
       "    'PA_NoPlatform': False}}],\n",
       " 'dotnetImplMap': [{'Name': '<<non-serializable: HeapItemString>>',\n",
       "   'Functions': ['<<non-serializable: HeapItemString>>',\n",
       "    '<<non-serializable: HeapItemString>>',\n",
       "    '<<non-serializable: HeapItemString>>',\n",
       "    '<<non-serializable: HeapItemString>>',\n",
       "    '<<non-serializable: HeapItemString>>']},\n",
       "  {'Name': '<<non-serializable: HeapItemString>>',\n",
       "   'Functions': ['<<non-serializable: HeapItemString>>']},\n",
       "  {'Name': '<<non-serializable: HeapItemString>>',\n",
       "   'Functions': ['<<non-serializable: HeapItemString>>',\n",
       "    '<<non-serializable: HeapItemString>>',\n",
       "    '<<non-serializable: HeapItemString>>',\n",
       "    '<<non-serializable: HeapItemString>>']}],\n",
       " 'manifestFile': {'assemblyIdentity': {'version': '11.0.0.0',\n",
       "   'processorArchitecture': '*',\n",
       "   'name': 'excel',\n",
       "   'type': 'win32'},\n",
       "  'dependency': {'dependentAssembly': [{'assemblyIdentity': {'type': 'win32',\n",
       "      'name': 'Microsoft.Windows.Common-Controls',\n",
       "      'version': '6.0.1.0',\n",
       "      'publicKeyToken': '6595b64144ccf1df',\n",
       "      'language': '*',\n",
       "      'processorArchitecture': '*'}}]}},\n",
       " 'appConfigFile': {'startup': {'supportedRuntime': {'version': 'v4.0'}},\n",
       "  'runtime': {}},\n",
       " 'peBoundImport': ['msvcrt.dll', 'ADVAPI32.dll', 'USER32.dll', 'KERNEL32.dll']}"
      ]
     },
     "execution_count": 58,
     "metadata": {},
     "output_type": "execute_result"
    }
   ],
   "source": [
    "master"
   ]
  },
  {
   "cell_type": "code",
   "execution_count": 60,
   "id": "1a5edcf3-3d46-43e2-9b59-027f23dc0840",
   "metadata": {},
   "outputs": [
    {
     "data": {
      "text/plain": [
       "{'CompanyName': 'Microsoft Corporation',\n",
       " 'FileDescription': 'Microsoft Office component',\n",
       " 'FileVersion': '16.0.16626.20076',\n",
       " 'InternalName': 'accicons.exe',\n",
       " 'LegalTrademarks1': 'Microsoft® is a registered trademark of Microsoft Corporation.',\n",
       " 'LegalTrademarks2': 'Windows® is a registered trademark of Microsoft Corporation.',\n",
       " 'OriginalFilename': 'accicons.exe',\n",
       " 'ProductName': 'Microsoft Office',\n",
       " 'ProductVersion': '16.0.16626.20076',\n",
       " 'OleSelfRegister': '',\n",
       " 'LegalCopyright': '© Microsoft Corporation. All rights reserved.',\n",
       " 'LegalTrademarks': 'Microsoft© is a registered trademark of Microsoft Corporation©',\n",
       " 'Comments': 'Accessibility-version',\n",
       " 'Assembly Version': '6.0.2.0',\n",
       " 'BuildID': '20240408145128',\n",
       " 'DivisionName': 'Natural Language Group',\n",
       " 'SquirrelAwareVersion': '1',\n",
       " 'OriginalVer': '5.4.2024.0207',\n",
       " 'FileStamp': '38AF45A301D0AD4F',\n",
       " 'CompilerVersion': '2.7.61224.0',\n",
       " 'CompileDate': '2015-06-23T00:58:30',\n",
       " 'TopicCount': '7',\n",
       " 'SpecialBuild': 'b/build/2e841105-f51b-09ff-044e-4b080ead967a',\n",
       " 'OLESelfRegister': '6.0',\n",
       " 'MOSEVersion': 'BETA',\n",
       " 'Full Version': '1.8.0_372-b07',\n",
       " 'PrivateBuild': 'MBAM_2.5_SP1_hotfix (by sftbuild on MDOP-BLD5)',\n",
       " 'Platform': 'NT',\n",
       " 'GoldenBits': 'True',\n",
       " 'FileOpenName': 'SharePoint Plug-in for Firefox',\n",
       " 'FileExtents': '',\n",
       " 'MIMEType': 'application/x-sharepoint|application/x-sharepoint-uc',\n",
       " 'DPS Version': '14.0.1869.0401',\n",
       " 'NVSETUP': 'I2.0',\n",
       " 'SourceId': '2814aa20f86be6e8085206338c80cbb01c3881d0 2018-02-27 17:24:44 UTC',\n",
       " 'SQLiteCompanyName': 'D. Richard Hipp, et al.',\n",
       " 'SQLiteDescription': 'SQLite Database Engine',\n",
       " 'SQLiteCopyright': 'https://www.sqlite.org/copyright.html',\n",
       " 'SQLiteVersion': '3.22.0',\n",
       " 'SQLiteSourceId': '2018-01-22 18:45:57 0c55d179733b46d8d0ba4d88e01a25e10677046ee3da1d5b1581e86726f2171d',\n",
       " 'CompanyShortName': 'Microsoft',\n",
       " 'ProductShortName': 'Microsoft Edge Embedded Browser WebView Loader',\n",
       " 'LastChange': 'e6b12af7c39b93e565192afd1d15fe9e26c2ff36',\n",
       " 'Official Build': '1',\n",
       " 'Licence': 'GPLv3',\n",
       " 'Info': 'http://camaya.net/gloox',\n",
       " 'License': 'https://c-ares.org/license.html',\n",
       " 'Build Number': '30',\n",
       " 'Company URL': 'http://www.entrust.com/',\n",
       " 'ProgramName': 'VNC® Viewer'}"
      ]
     },
     "execution_count": 60,
     "metadata": {},
     "output_type": "execute_result"
    }
   ],
   "source": [
    "fim = {}\n",
    "for d in df[\"metadata\"]:\n",
    "    d = json.loads(d)\n",
    "    if \"FileInfo\" in d:\n",
    "        for k, v in d[\"FileInfo\"].items():\n",
    "            if k not in fim:\n",
    "                fim[k] = v\n",
    "\n",
    "fim"
   ]
  },
  {
   "cell_type": "code",
   "execution_count": 63,
   "id": "b2fd204e-ce68-4c1c-b271-98d9b38f60b0",
   "metadata": {},
   "outputs": [
    {
     "name": "stdout",
     "output_type": "stream",
     "text": [
      "CompanyName\n",
      "FileDescription\n",
      "FileVersion\n",
      "InternalName\n",
      "LegalTrademarks1\n",
      "LegalTrademarks2\n",
      "OriginalFilename\n",
      "ProductName\n",
      "ProductVersion\n",
      "OleSelfRegister\n",
      "LegalCopyright\n",
      "LegalTrademarks\n",
      "Comments\n",
      "Assembly Version\n",
      "BuildID\n",
      "DivisionName\n",
      "SquirrelAwareVersion\n",
      "OriginalVer\n",
      "FileStamp\n",
      "CompilerVersion\n",
      "CompileDate\n",
      "TopicCount\n",
      "SpecialBuild\n",
      "OLESelfRegister\n",
      "MOSEVersion\n",
      "Full Version\n",
      "PrivateBuild\n",
      "Platform\n",
      "GoldenBits\n",
      "FileOpenName\n",
      "FileExtents\n",
      "MIMEType\n",
      "DPS Version\n",
      "NVSETUP\n",
      "SourceId\n",
      "SQLiteCompanyName\n",
      "SQLiteDescription\n",
      "SQLiteCopyright\n",
      "SQLiteVersion\n",
      "SQLiteSourceId\n",
      "CompanyShortName\n",
      "ProductShortName\n",
      "LastChange\n",
      "Official Build\n",
      "Licence\n",
      "Info\n",
      "License\n",
      "Build Number\n",
      "Company URL\n",
      "ProgramName\n"
     ]
    }
   ],
   "source": [
    "[print(k) for k in fim.keys()];"
   ]
  },
  {
   "cell_type": "code",
   "execution_count": 64,
   "id": "ca42f11f-372f-453f-9bd9-2842d35871e5",
   "metadata": {},
   "outputs": [
    {
     "name": "stdout",
     "output_type": "stream",
     "text": [
      "OS\n",
      "peMachine\n",
      "peOperatingSystemVersion\n",
      "peSubsystemVersion\n",
      "peSubsystem\n",
      "peLinkerVersion\n",
      "peIsExe\n",
      "peIsDll\n",
      "peIsClr\n",
      "FileInfo\n",
      "dllRedirectionLocal\n",
      "peImport\n",
      "peDelayImport\n",
      "dotnetFlags\n",
      "dotnetAssembly\n",
      "dotnetAssemblyRef\n",
      "dotnetImplMap\n",
      "manifestFile\n",
      "appConfigFile\n",
      "peBoundImport\n"
     ]
    }
   ],
   "source": [
    "[print(k) for k in master.keys()];"
   ]
  },
  {
   "cell_type": "code",
   "execution_count": 65,
   "id": "6aa61033-4fdb-4d4b-9159-c423b47637c0",
   "metadata": {},
   "outputs": [
    {
     "name": "stdout",
     "output_type": "stream",
     "text": [
      "/usr/bin/sh: 1: duckdb: not found\n"
     ]
    }
   ],
   "source": [
    "!duckdb"
   ]
  },
  {
   "cell_type": "code",
   "execution_count": null,
   "id": "6559504e-87bf-4008-84ac-05fdfe7ce207",
   "metadata": {},
   "outputs": [],
   "source": []
  }
 ],
 "metadata": {
  "kernelspec": {
   "display_name": "Python 3 (ipykernel)",
   "language": "python",
   "name": "python3"
  },
  "language_info": {
   "codemirror_mode": {
    "name": "ipython",
    "version": 3
   },
   "file_extension": ".py",
   "mimetype": "text/x-python",
   "name": "python",
   "nbconvert_exporter": "python",
   "pygments_lexer": "ipython3",
   "version": "3.10.12"
  }
 },
 "nbformat": 4,
 "nbformat_minor": 5
}
