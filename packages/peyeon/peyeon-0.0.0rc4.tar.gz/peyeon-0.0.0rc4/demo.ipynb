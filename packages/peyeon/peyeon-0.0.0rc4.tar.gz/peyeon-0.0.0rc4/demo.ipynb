{
 "cells": [
  {
   "cell_type": "markdown",
   "id": "9df36551-c6a4-49a8-9c33-ce0077f2d4d3",
   "metadata": {},
   "source": [
    "## EyeON: Eye on Operational Networks\n",
    "### a firmware inventory/threat analysis tool\n"
   ]
  },
  {
   "cell_type": "code",
   "execution_count": null,
   "id": "a9b8cafe-d7eb-408c-bd9c-f239f465d55e",
   "metadata": {},
   "outputs": [],
   "source": [
    "from eyeon import observe\n",
    "from pprint import pprint"
   ]
  },
  {
   "cell_type": "markdown",
   "id": "7d72ecff-05f9-4422-882d-4618b3a058b8",
   "metadata": {},
   "source": [
    "### Objects\n",
    "EyeON consists of two parts - an `observe` call and a `parse` call. `observe` works on a single file to return a suite of identifying metrics. `parse` calls `observe` recursively, returning an observation for each file in a directory. Both of these can be run either from a library import or a `CLI` command."
   ]
  },
  {
   "cell_type": "code",
   "execution_count": null,
   "id": "e31fb08f-b2fd-4510-b5d3-5455a33e092a",
   "metadata": {},
   "outputs": [],
   "source": [
    "obs = observe.Observe(\"./tests/binaries/Wintap/Wintap.exe\")\n"
   ]
  },
  {
   "cell_type": "markdown",
   "id": "eab761ff-e92e-44b4-b1ce-e8d4e7ffb69e",
   "metadata": {},
   "source": [
    "### Data Standard\n",
    "Depending on the file type, e.g. PE or ELF, different observations will be collected. \n",
    "For instance, PE files typically contain more metadata and have signature information. Here we show some high-level characteristics, and we can dig into the certificates more thoroughly."
   ]
  },
  {
   "cell_type": "code",
   "execution_count": null,
   "id": "ab03089a-4961-411b-992d-522df5280a9a",
   "metadata": {},
   "outputs": [],
   "source": [
    "print(\"authentihash:\", obs.authentihash)\n",
    "print(\"filename:\", obs.filename)\n",
    "print(\"file magic:\", obs.magic)\n",
    "print(\"signature_validation:\", obs.signatures[0][\"verification\"])"
   ]
  },
  {
   "cell_type": "code",
   "execution_count": null,
   "id": "3b73bc8c-cd8a-486f-97e2-5ecd6c5de0c7",
   "metadata": {
    "scrolled": true
   },
   "outputs": [],
   "source": [
    "pprint(obs.metadata)"
   ]
  },
  {
   "cell_type": "code",
   "execution_count": null,
   "id": "61e98697-43bc-4aa5-815e-b4c35fdab70d",
   "metadata": {},
   "outputs": [],
   "source": [
    "for sig in obs.signatures:\n",
    "    print(\"digest algorithm:\", sig[\"digest_algorithm\"])\n",
    "    print(\"digest value:\", sig[\"sha1\"])\n",
    "    print(\"signers\", sig[\"signers\"])\n",
    "    print(\"cert validation:\", sig[\"verification\"])\n",
    "    for cert in sig[\"certs\"]:\n",
    "        pprint(cert)\n",
    "        break\n",
    "    break"
   ]
  },
  {
   "cell_type": "markdown",
   "id": "3bd96841-2560-4b5e-af70-790681501598",
   "metadata": {},
   "source": [
    "There is also a Command Line component installed with the `eyeon` library containing 2 options: `eyeon observe` and `eyeon parse`.\n",
    "`observe` generates output for a single file, whereas `parse` scans a directory.\n",
    "\n",
    "It can be called as below (note `!` executes a terminal command):"
   ]
  },
  {
   "cell_type": "code",
   "execution_count": null,
   "id": "510b7ddf-aca0-4db6-bdc5-a27e885f233a",
   "metadata": {},
   "outputs": [],
   "source": [
    "! eyeon --help"
   ]
  },
  {
   "cell_type": "code",
   "execution_count": null,
   "id": "6ee0d010-7aaf-44b8-bfa3-b02eb0e19af3",
   "metadata": {},
   "outputs": [],
   "source": [
    "! eyeon observe --output-dir ./outputs ./tests/binaries/Wintap/Wintap.exe\n",
    "! jq . ./outputs/Wintap.*"
   ]
  },
  {
   "cell_type": "code",
   "execution_count": null,
   "id": "46ff5d28-78f7-48dd-9db4-413cb95865d7",
   "metadata": {},
   "outputs": [],
   "source": []
  }
 ],
 "metadata": {
  "kernelspec": {
   "display_name": "Python 3 (ipykernel)",
   "language": "python",
   "name": "python3"
  },
  "language_info": {
   "codemirror_mode": {
    "name": "ipython",
    "version": 3
   },
   "file_extension": ".py",
   "mimetype": "text/x-python",
   "name": "python",
   "nbconvert_exporter": "python",
   "pygments_lexer": "ipython3",
   "version": "3.10.12"
  }
 },
 "nbformat": 4,
 "nbformat_minor": 5
}
