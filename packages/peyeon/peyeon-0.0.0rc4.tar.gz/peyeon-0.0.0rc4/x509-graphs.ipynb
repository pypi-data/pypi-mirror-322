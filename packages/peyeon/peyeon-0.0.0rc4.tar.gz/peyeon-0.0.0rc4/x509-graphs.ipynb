{
 "cells": [
  {
   "cell_type": "code",
   "execution_count": null,
   "id": "4fbde64e-b6fc-4cd5-b1f8-9a7b1db5d12b",
   "metadata": {
    "scrolled": true
   },
   "outputs": [],
   "source": [
    " # Load all certs from DER files. These will be complete certs with a reference to their signer/parent in the \"issuer\" field.\n",
    "# Need a wrapper to support complete certs and issuers where we only have the reference to it.\n",
    "import glob\n",
    "import networkx as nx\n",
    "from cryptography import x509\n",
    "import lief\n",
    "\n",
    "def add_to_graph(G, crt):\n",
    "    # Add \n",
    "    try:\n",
    "        G.add_nodes_from([crt.subject,crt.issuer])\n",
    "        G.add_edge(crt.subject,crt.issuer)\n",
    "    except nx.NetworkXError:\n",
    "        print('Yikes!')\n",
    "        print(crt.subject)\n",
    "        print(crt.issuer)\n",
    "    return G\n",
    "\n",
    "certs={}\n",
    "G = nx.DiGraph()\n",
    "for filename in glob.glob('./pf/certs/*.crt', recursive=True):\n",
    "    with open(filename, \"rb\") as f:\n",
    "        crt = x509.load_der_x509_certificate(f.read())\n",
    "        print(crt)\n",
    "        add_to_graph(G,crt)\n",
    "        # c2 = lief.parse(filename)  # f.read()\n",
    "\n",
    "        # break\n",
    "# G"
   ]
  },
  {
   "cell_type": "code",
   "execution_count": null,
   "id": "7cd5c26c-4f2e-49d3-a783-5de4f97e066e",
   "metadata": {},
   "outputs": [],
   "source": [
    "crt.issuer.public_bytes()\n"
   ]
  },
  {
   "cell_type": "code",
   "execution_count": null,
   "id": "10e53057-b9dd-4a9f-a16b-f908a92916d4",
   "metadata": {
    "scrolled": true
   },
   "outputs": [],
   "source": [
    "crt.fingerprint(crt.signature_hash_algorithm).hex(\":\")"
   ]
  },
  {
   "cell_type": "code",
   "execution_count": null,
   "id": "82cab678-a812-4173-a6bc-1d49572ad317",
   "metadata": {},
   "outputs": [],
   "source": [
    "crt.issuer.rdns"
   ]
  },
  {
   "cell_type": "code",
   "execution_count": null,
   "id": "f8daded1-374a-45bc-92e1-d2d2b48e8681",
   "metadata": {},
   "outputs": [],
   "source": [
    "import matplotlib.pyplot as plt\n",
    "plt.figure(figsize=(10, 10));\n",
    "\n",
    "colors = []\n",
    "for deg in G.out_degree:\n",
    "    if deg[1]:\n",
    "        colors.append(\"blue\")\n",
    "    else:\n",
    "        colors.append(\"red\")\n"
   ]
  },
  {
   "cell_type": "code",
   "execution_count": null,
   "id": "47b9b314-e7f2-4bae-bf4d-e459d3a6202e",
   "metadata": {},
   "outputs": [],
   "source": []
  },
  {
   "cell_type": "code",
   "execution_count": null,
   "id": "ebb897c2-48d0-4fbb-a252-c05ca8611ffb",
   "metadata": {},
   "outputs": [],
   "source": [
    "for gg in list(nx.weakly_connected_components(G)):\n",
    "    g2 = G.subgraph(gg)\n",
    "    nx.draw_spring(g2, node_size=5)  # , node_color=[colors[i] for i in gg])\n",
    "    plt.show()"
   ]
  },
  {
   "cell_type": "markdown",
   "id": "bc069530-47b7-4fb9-994b-53f09be08a1b",
   "metadata": {},
   "source": [
    "Multiple outs could be because you can issue several certificates to the same subject, i.e. if one is about to expire just give it an new one.\n",
    "root cert can either be self-signed or cross-signed\n",
    "for the root CA to be accepted, it's a complicated process. easier to get signed by somebody authoritative. want to be a root CA so you can issue them. x-signed usually temporary until people trust you"
   ]
  },
  {
   "cell_type": "code",
   "execution_count": null,
   "id": "41b8db97-388a-4e83-a38a-0555aec10194",
   "metadata": {},
   "outputs": [],
   "source": [
    "len(list(nx.weakly_connected_components(G)))"
   ]
  },
  {
   "cell_type": "code",
   "execution_count": null,
   "id": "8fefd08e-1f32-49a0-8efb-cd9f1fc92d78",
   "metadata": {
    "scrolled": true
   },
   "outputs": [],
   "source": [
    "for node, deg in G.out_degree():\n",
    "    if deg > 1 or deg == 0:\n",
    "        print(node, deg)"
   ]
  },
  {
   "cell_type": "code",
   "execution_count": null,
   "id": "e0d0050d-e68c-421b-a302-4d268a866692",
   "metadata": {},
   "outputs": [],
   "source": []
  }
 ],
 "metadata": {
  "kernelspec": {
   "display_name": "Python 3 (ipykernel)",
   "language": "python",
   "name": "python3"
  },
  "language_info": {
   "codemirror_mode": {
    "name": "ipython",
    "version": 3
   },
   "file_extension": ".py",
   "mimetype": "text/x-python",
   "name": "python",
   "nbconvert_exporter": "python",
   "pygments_lexer": "ipython3",
   "version": "3.10.12"
  }
 },
 "nbformat": 4,
 "nbformat_minor": 5
}
