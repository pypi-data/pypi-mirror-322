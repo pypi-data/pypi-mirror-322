{
 "cells": [
  {
   "cell_type": "markdown",
   "id": "6bb7f461",
   "metadata": {},
   "source": [
    "# Using the ``fancytypes.PreSerializableAndUpdatable`` class #"
   ]
  },
  {
   "cell_type": "markdown",
   "id": "5d6d9cd7",
   "metadata": {},
   "source": [
    "## A NOTE BEFORE STARTING ##"
   ]
  },
  {
   "cell_type": "markdown",
   "id": "880421e9",
   "metadata": {},
   "source": [
    "Since the ``fancytypes`` git repository tracks this notebook under its original\n",
    "basename ``using_PreSerializableAndUpdatable_class.ipynb``, we recommend that \n",
    "you copy the original notebook and rename it to any other basename that is not \n",
    "one of the original basenames that appear in the ``<root>/examples`` directory \n",
    "before executing any of the notebook cells below, where ``<root>`` is the root \n",
    "of the ``fancytypes`` repository. This way you can explore the notebook by \n",
    "executing and modifying cells without changing the original notebook, which is \n",
    "being tracked by git."
   ]
  },
  {
   "cell_type": "markdown",
   "id": "12b0d90e",
   "metadata": {},
   "source": [
    "## Import necessary modules ##"
   ]
  },
  {
   "cell_type": "code",
   "execution_count": null,
   "id": "e7f9787f",
   "metadata": {},
   "outputs": [],
   "source": [
    "# For performing deep copies.\n",
    "import copy\n",
    "\n",
    "# For suspending execution for periods of time.\n",
    "import time\n",
    "\n",
    "\n",
    "\n",
    "# For general array handling and constructing random number generators.\n",
    "import numpy as np\n",
    "\n",
    "# For validating and converting objects.\n",
    "import czekitout.check\n",
    "import czekitout.convert\n",
    "\n",
    "\n",
    "\n",
    "# The library that is the subject of this demonstration.\n",
    "import fancytypes"
   ]
  },
  {
   "cell_type": "markdown",
   "id": "e667d633",
   "metadata": {},
   "source": [
    "## Introduction ##"
   ]
  },
  {
   "cell_type": "markdown",
   "id": "ec7f2509",
   "metadata": {},
   "source": [
    "In this notebook, we use the ``fancytypes.PreSerializableAndUpdatable`` class to\n",
    "define a class of \"slice shufflers\", which we define as objects that can\n",
    "shuffle/re-order the elements in a slice of a given array. This is a somewhat\n",
    "contrived example use of the ``fancytypes.PreSerializableAndUpdatable`` class,\n",
    "however it is simple and complete. You can find the documentation for the\n",
    "``fancytypes.PreSerializableAndUpdatable`` class\n",
    "[here](https://mrfitzpa.github.io/fancytypes/_autosummary/fancytypes.PreSerializableAndUpdatable.html).\n",
    "It is recommended that you consult the documentation of this class as you \n",
    "explore the notebook.\n",
    "\n",
    "This notebook also demonstrates how one can use the helper functions \n",
    "``fancytypes.return_validation_and_conversion_funcs``, \n",
    "``fancytypes.return_pre_serialization_funcs``, and \n",
    "``fancytypes.return_de_pre_serialization_funcs``. We use these functions to\n",
    "define our class of slice shufflers. You can find the documentation for these\n",
    "helper functions \n",
    "[here](https://mrfitzpa.github.io/fancytypes/_autosummary/fancytypes.html)."
   ]
  },
  {
   "cell_type": "markdown",
   "id": "ee0993ba",
   "metadata": {},
   "source": [
    "## Defining the ``SliceShuffler`` class ##"
   ]
  },
  {
   "cell_type": "markdown",
   "id": "21a2529c",
   "metadata": {},
   "source": [
    "We define the ``SliceShuffler`` class as a subclass of the\n",
    "``fancytypes.PreSerializableAndUpdatable`` class."
   ]
  },
  {
   "cell_type": "code",
   "execution_count": null,
   "id": "5bdd09c4",
   "metadata": {},
   "outputs": [],
   "source": [
    "# Define the validation and conversion functions.\n",
    "def _check_and_convert_slice_obj(params):\n",
    "    obj_name = \"slice_obj\"\n",
    "    kwargs = {\"obj\": params[obj_name],\n",
    "              \"obj_name\": obj_name,\n",
    "              \"accepted_types\": (slice,)}\n",
    "    czekitout.check.if_instance_of_any_accepted_types(**kwargs)\n",
    "    slice_obj = copy.deepcopy(params[obj_name])\n",
    "\n",
    "    return slice_obj\n",
    "\n",
    "def _check_and_convert_seed(params):\n",
    "    obj_name = \"seed\"\n",
    "    kwargs = {\"obj\": params[obj_name], \"obj_name\": obj_name}\n",
    "    seed = czekitout.convert.to_nonnegative_int(**kwargs)\n",
    "\n",
    "    return seed\n",
    "\n",
    "\n",
    "\n",
    "# Define the pre-serialization functions.\n",
    "def _pre_serialize_slice_obj(slice_obj):\n",
    "    serializable_rep = {\"start\": slice_obj.start, \n",
    "                        \"stop\": slice_obj.stop, \n",
    "                        \"step\": slice_obj.step}\n",
    "    \n",
    "    return serializable_rep\n",
    "\n",
    "def _pre_serialize_seed(seed):\n",
    "    serializable_rep = seed\n",
    "    \n",
    "    return serializable_rep\n",
    "\n",
    "\n",
    "\n",
    "\n",
    "# Define the de-pre-serialization functions.\n",
    "def _de_pre_serialize_slice_obj(serializable_rep):\n",
    "    slice_obj = slice(serializable_rep[\"start\"], \n",
    "                      serializable_rep[\"stop\"], \n",
    "                      serializable_rep[\"step\"])\n",
    "    \n",
    "    return slice_obj\n",
    "\n",
    "def _de_pre_serialize_seed(serializable_rep):\n",
    "    seed = serializable_rep\n",
    "    \n",
    "    return seed\n",
    "\n",
    "\n",
    "\n",
    "# Define the ``SliceShuffler`` class.\n",
    "class SliceShuffler(fancytypes.PreSerializableAndUpdatable):\n",
    "    ctor_param_names = (\"slice_obj\", \"seed\")\n",
    "    kwargs = {\"namespace_as_dict\": globals(),\n",
    "              \"ctor_param_names\": ctor_param_names}\n",
    "\n",
    "    _validation_and_conversion_funcs_ = \\\n",
    "        fancytypes.return_validation_and_conversion_funcs(**kwargs)\n",
    "    _pre_serialization_funcs_ = \\\n",
    "        fancytypes.return_pre_serialization_funcs(**kwargs)\n",
    "    _de_pre_serialization_funcs_ = \\\n",
    "        fancytypes.return_de_pre_serialization_funcs(**kwargs)\n",
    "\n",
    "    del ctor_param_names, kwargs\n",
    "\n",
    "    def __init__(self, slice_obj, seed, skip_validation_and_conversion=False):\n",
    "        ctor_params = {key: val\n",
    "                       for key, val in locals().items()\n",
    "                       if (key not in (\"self\", \"__class__\"))}\n",
    "\n",
    "        # Set ``skip_cls_tests`` to ``True`` only if you are sure that the\n",
    "        # class that you have defined was done so properly, i.e. without errors.\n",
    "        skip_cls_tests = True\n",
    "\n",
    "        kwargs = ctor_params\n",
    "        kwargs[\"skip_cls_tests\"] = skip_cls_tests\n",
    "        fancytypes.PreSerializableAndUpdatable.__init__(self, **kwargs)\n",
    "\n",
    "        self.execute_post_core_attrs_update_actions()\n",
    "\n",
    "        return None\n",
    "\n",
    "    def execute_post_core_attrs_update_actions(self):\n",
    "        seed = self.core_attrs[\"seed\"]\n",
    "        self._random_generator = np.random.default_rng(seed)\n",
    "\n",
    "        return None\n",
    "\n",
    "    @classmethod\n",
    "    def get_validation_and_conversion_funcs(cls):\n",
    "        validation_and_conversion_funcs = \\\n",
    "            cls._validation_and_conversion_funcs_.copy()\n",
    "\n",
    "        return validation_and_conversion_funcs\n",
    "\n",
    "    @classmethod\n",
    "    def get_pre_serialization_funcs(cls):\n",
    "        pre_serialization_funcs = \\\n",
    "            cls._pre_serialization_funcs_.copy()\n",
    "\n",
    "        return pre_serialization_funcs\n",
    "\n",
    "    @classmethod\n",
    "    def get_de_pre_serialization_funcs(cls):\n",
    "        de_pre_serialization_funcs = \\\n",
    "            cls._de_pre_serialization_funcs_.copy()\n",
    "\n",
    "        return de_pre_serialization_funcs\n",
    "\n",
    "    def shuffle(self, array):\n",
    "        try:\n",
    "            array = np.array(array)\n",
    "        except:\n",
    "            err_msg = (\"The object ``array`` must be array-like.\")\n",
    "            raise TypeError(err_msg)\n",
    "            \n",
    "        slice_obj = self.core_attrs[\"slice_obj\"]\n",
    "        array_slice = array[slice_obj]\n",
    "        self._random_generator.shuffle(array_slice)\n",
    "        array[slice_obj] = array_slice\n",
    "\n",
    "        return array\n",
    "\n",
    "    # Overriding the method ``fancytypes.PreSerializableAndUpdatable.update`` \n",
    "    # such that additional steps are performed after updating any core \n",
    "    # attributes.\n",
    "    def update(self, \n",
    "               new_core_attr_subset_candidate, \n",
    "               skip_validation_and_conversion=False):\n",
    "        kwargs = {key: val\n",
    "                  for key, val in locals().items()\n",
    "                  if (key not in (\"self\", \"__class__\"))}\n",
    "        fancytypes.PreSerializableAndUpdatable.update(self, **kwargs)\n",
    "        self.execute_post_core_attrs_update_actions()\n",
    "\n",
    "        return None"
   ]
  },
  {
   "cell_type": "markdown",
   "id": "fb9e9c81",
   "metadata": {},
   "source": [
    "## Using the ``SliceShuffler`` class ##"
   ]
  },
  {
   "cell_type": "markdown",
   "id": "43339d87-3e04-4e29-a392-35b56fd0c319",
   "metadata": {},
   "source": [
    "First let's construct a valid instance of the ``SliceShuffler`` class with \n",
    "validation and conversion of the parameters to be mapped to the \n",
    "\"core attributes\" enabled."
   ]
  },
  {
   "cell_type": "code",
   "execution_count": null,
   "id": "081ff3dc-f169-4318-b0d2-5db55771eb17",
   "metadata": {},
   "outputs": [],
   "source": [
    "kwargs = {\"slice_obj\": slice(None, 6, 1), \n",
    "          \"seed\": 5.0, \n",
    "          \"skip_validation_and_conversion\": False}\n",
    "slice_shuffler = SliceShuffler(**kwargs)"
   ]
  },
  {
   "cell_type": "markdown",
   "id": "bc5c11ae-c4bc-409e-b4b5-c4557c1d69eb",
   "metadata": {},
   "source": [
    "There are 3 ways of accessing the core attributes via the public API:"
   ]
  },
  {
   "cell_type": "code",
   "execution_count": null,
   "id": "46ce55be-8e72-4476-9024-2da69c6a6df0",
   "metadata": {},
   "outputs": [],
   "source": [
    "# Returns a deep copy.\n",
    "core_attrs = slice_shuffler.core_attrs\n",
    "print(core_attrs)\n",
    "\n",
    "# Returns a deep copy.\n",
    "core_attrs = slice_shuffler.get_core_attrs(deep_copy=True)\n",
    "print(core_attrs)\n",
    "\n",
    "# Returns a reference, i.e. no copy is made. \n",
    "core_attrs = slice_shuffler.get_core_attrs(deep_copy=False)\n",
    "print(core_attrs)"
   ]
  },
  {
   "cell_type": "markdown",
   "id": "746ea728-a174-468b-a43f-4e9502678ec4",
   "metadata": {},
   "source": [
    "There is 1 way of accessing the validation and conversion functions via the \n",
    "public API:"
   ]
  },
  {
   "cell_type": "code",
   "execution_count": null,
   "id": "6069d54e-65b0-4ac8-b644-d6ef25fc3759",
   "metadata": {},
   "outputs": [],
   "source": [
    "# Returns a deep copy.\n",
    "validation_and_conversion_funcs = \\\n",
    "    slice_shuffler.validation_and_conversion_funcs\n",
    "\n",
    "print(validation_and_conversion_funcs)"
   ]
  },
  {
   "cell_type": "markdown",
   "id": "0c9c5e3a-513e-4fe5-a0e3-fc569ba09e9e",
   "metadata": {},
   "source": [
    "There is 1 way of accessing the pre-serialization functions via the public API:"
   ]
  },
  {
   "cell_type": "code",
   "execution_count": null,
   "id": "1b105c65-0929-4867-b28d-7f3b652b7d1f",
   "metadata": {},
   "outputs": [],
   "source": [
    "# Returns a deep copy.\n",
    "pre_serialization_funcs = slice_shuffler.pre_serialization_funcs\n",
    "\n",
    "print(pre_serialization_funcs)"
   ]
  },
  {
   "cell_type": "markdown",
   "id": "fc1f44d9-d6e1-4a45-b856-14e27b4747bb",
   "metadata": {},
   "source": [
    "There is 1 way of accessing the de-pre-serialization functions via the public \n",
    "API:"
   ]
  },
  {
   "cell_type": "code",
   "execution_count": null,
   "id": "31141e83-3e80-473a-9027-0e622bf9d498",
   "metadata": {},
   "outputs": [],
   "source": [
    "# Returns a deep copy.\n",
    "de_pre_serialization_funcs = slice_shuffler.de_pre_serialization_funcs\n",
    "\n",
    "print(pre_serialization_funcs)"
   ]
  },
  {
   "cell_type": "markdown",
   "id": "a1d0eada-df69-4aa6-8bbb-406c48eae532",
   "metadata": {},
   "source": [
    "Next let's construct a valid instance of the ``SliceShuffler`` class with \n",
    "validation and conversion of the parameters to be mapped to the core attributes\n",
    "disabled. This option is desired primarily when the user wants to avoid \n",
    "potentially expensive copies and/or conversions of the parameters to be mapped \n",
    "to the core attributes. However, users must ensure that the construction \n",
    "parameters are valid and require no conversions."
   ]
  },
  {
   "cell_type": "code",
   "execution_count": null,
   "id": "95fef1f0-e3d6-4b49-ad7a-94c8bf7fc01b",
   "metadata": {},
   "outputs": [],
   "source": [
    "kwargs = {\"slice_obj\": slice(None, 6, 1), \n",
    "          \"seed\": 5,  # Manually converted parameter to a `int` as required.\n",
    "          \"skip_validation_and_conversion\": True}\n",
    "slice_shuffler = SliceShuffler(**kwargs)\n",
    "\n",
    "core_attrs = slice_shuffler.core_attrs\n",
    "print(core_attrs)"
   ]
  },
  {
   "cell_type": "markdown",
   "id": "6fe67181-03fe-4ffe-9526-b5626acdd1fb",
   "metadata": {},
   "source": [
    "Let's shuffle an array using the class."
   ]
  },
  {
   "cell_type": "code",
   "execution_count": null,
   "id": "fca82395-65ea-46b5-bc8b-91d30bf52419",
   "metadata": {},
   "outputs": [],
   "source": [
    "array = [0, 1, 2, 3, 4, 5, 6, 7, 8, 9]\n",
    "shuffled_array = slice_shuffler.shuffle(array)\n",
    "shuffled_array"
   ]
  },
  {
   "cell_type": "markdown",
   "id": "ebca364f-3459-47a5-9ba2-1d5a9616b0c4",
   "metadata": {},
   "source": [
    "Let's update the slice shuffler with validations and conversions enabled. Again,\n",
    "users can optionally disable validations and conversions to avoid potentially\n",
    "expensive copies and/or conversions."
   ]
  },
  {
   "cell_type": "code",
   "execution_count": null,
   "id": "7e68cf4b-cb8b-486d-9ab2-c2731d06d19c",
   "metadata": {},
   "outputs": [],
   "source": [
    "new_core_attr_subset_candidate = {\"slice_obj\": slice(3, None, 1)}\n",
    "kwargs = {\"new_core_attr_subset_candidate\": new_core_attr_subset_candidate,\n",
    "          \"skip_validation_and_conversion\": False}\n",
    "slice_shuffler.update(**kwargs)\n",
    "\n",
    "print(slice_shuffler.core_attrs)"
   ]
  },
  {
   "cell_type": "markdown",
   "id": "2defd456-cfe9-4e76-9e02-f767ab7fa4f7",
   "metadata": {},
   "source": [
    "Let's shuffle the original array again."
   ]
  },
  {
   "cell_type": "code",
   "execution_count": null,
   "id": "eedf06cb-789e-411d-b4c3-5f8df733b8e7",
   "metadata": {},
   "outputs": [],
   "source": [
    "shuffled_array = slice_shuffler.shuffle(array)\n",
    "shuffled_array"
   ]
  },
  {
   "cell_type": "markdown",
   "id": "d75cefab-f1fb-4797-a08f-bd06a4f80485",
   "metadata": {},
   "source": [
    "Let's update the slice shuffler again."
   ]
  },
  {
   "cell_type": "code",
   "execution_count": null,
   "id": "36f92551-3837-43a6-a4c5-a3c27dd3183f",
   "metadata": {},
   "outputs": [],
   "source": [
    "new_core_attr_subset_candidate = {\"slice_obj\": slice(3, 7, 1), \"seed\": 2}\n",
    "kwargs = {\"new_core_attr_subset_candidate\": new_core_attr_subset_candidate,\n",
    "          \"skip_validation_and_conversion\": True}\n",
    "slice_shuffler.update(**kwargs)\n",
    "\n",
    "print(slice_shuffler.core_attrs)"
   ]
  },
  {
   "cell_type": "markdown",
   "id": "acc59466-6594-45b8-9da9-776877cfffef",
   "metadata": {},
   "source": [
    "Let's shuffle the original array again."
   ]
  },
  {
   "cell_type": "code",
   "execution_count": null,
   "id": "50c0cc86-bcdb-4844-ab8c-1f705769e004",
   "metadata": {},
   "outputs": [],
   "source": [
    "shuffled_array = slice_shuffler.shuffle(array)\n",
    "shuffled_array"
   ]
  },
  {
   "cell_type": "markdown",
   "id": "0bef3338-a67a-4c68-93ab-307125b3ff28",
   "metadata": {},
   "source": [
    "Let's try constructing instances of the ``SliceShuffler`` class with invalid\n",
    "construction parameters. The following two codes blocks return errors as \n",
    "expected:"
   ]
  },
  {
   "cell_type": "code",
   "execution_count": null,
   "id": "96380c5f-278b-4c67-8c00-b7de9aba4ad6",
   "metadata": {},
   "outputs": [],
   "source": [
    "# Note that by default ``skip_validation_and_conversion == False``.\n",
    "kwargs = {\"slice_obj\": 3, \"seed\": 5.0}\n",
    "slice_shuffler = SliceShuffler(**kwargs)"
   ]
  },
  {
   "cell_type": "code",
   "execution_count": null,
   "id": "30cf6c95-a284-4a37-99c6-40d9d0404d0d",
   "metadata": {},
   "outputs": [],
   "source": [
    "kwargs = {\"slice_obj\": slice(None, 6, 1), \"seed\": \"foo\"}\n",
    "slice_shuffler = SliceShuffler(slice_obj=slice(None, 6, 1), seed=\"foo\")"
   ]
  },
  {
   "cell_type": "markdown",
   "id": "9ee2e491-e6a8-43bd-ae81-6325bbc01e7e",
   "metadata": {},
   "source": [
    "Construct a valid instance of the ``SliceShuffler`` class and print the core attributes."
   ]
  },
  {
   "cell_type": "markdown",
   "id": "fc48dafe-891c-4c74-842f-48761c3a377b",
   "metadata": {},
   "source": [
    "Let's pre-serialize instance. You could then serialize the serializable \n",
    "representation using the ``json`` library."
   ]
  },
  {
   "cell_type": "code",
   "execution_count": null,
   "id": "51978618-0145-4911-9667-4b94c51c4136",
   "metadata": {},
   "outputs": [],
   "source": [
    "serializable_rep = slice_shuffler.pre_serialize()\n",
    "print(serializable_rep)"
   ]
  },
  {
   "cell_type": "markdown",
   "id": "d6905c6e-4739-48a4-9fb5-c06303148103",
   "metadata": {},
   "source": [
    "Alternatively, you could serialize the instance of the class by using the\n",
    "``dumps`` method:"
   ]
  },
  {
   "cell_type": "code",
   "execution_count": null,
   "id": "faea29b8-500a-4c69-9e58-bf0c50d1e280",
   "metadata": {},
   "outputs": [],
   "source": [
    "serialized_rep = slice_shuffler.dumps()\n",
    "print(serialized_rep)"
   ]
  },
  {
   "cell_type": "markdown",
   "id": "df48e0c2-8714-4fae-ae2d-318beae39f37",
   "metadata": {},
   "source": [
    "You can also serialize the instance and save the result to a JSON file in one go\n",
    "using the ``dump`` method:"
   ]
  },
  {
   "cell_type": "code",
   "execution_count": null,
   "id": "c781ee46-3a96-4a05-8128-964d88989a12",
   "metadata": {},
   "outputs": [],
   "source": [
    "filename = \"slice_shuffler.json\"\n",
    "slice_shuffler.dump(filename, overwrite=True)"
   ]
  },
  {
   "cell_type": "markdown",
   "id": "f4646451-b84f-45ba-ab65-cd7bef40e968",
   "metadata": {},
   "source": [
    "Trying to save a serialized representation to a pre-existing that with\n",
    "``overwrite==False`` will raise an exception:"
   ]
  },
  {
   "cell_type": "code",
   "execution_count": null,
   "id": "1c9bf092-002a-4a9b-bb1c-b71dacffc957",
   "metadata": {},
   "outputs": [],
   "source": [
    "filename = \"slice_shuffler.json\"\n",
    "slice_shuffler.dump(filename, overwrite=False)"
   ]
  },
  {
   "cell_type": "markdown",
   "id": "5a6e65a1-1a57-44a2-adb0-2b6fc8ccd3a4",
   "metadata": {},
   "source": [
    "Let's reconstruct the instance of ``SliceShuffler`` from the serialized\n",
    "representation."
   ]
  },
  {
   "cell_type": "code",
   "execution_count": null,
   "id": "b4896adf-b4ab-48c5-8c5c-f212ae6c9933",
   "metadata": {},
   "outputs": [],
   "source": [
    "slice_shuffler = SliceShuffler.loads(serialized_rep)\n",
    "print(slice_shuffler.core_attrs)"
   ]
  },
  {
   "cell_type": "markdown",
   "id": "8a8c7593-7118-410f-8320-e6687f22062a",
   "metadata": {},
   "source": [
    "Let's reconstruct the instance of ``SliceShuffler`` from the serialized\n",
    "representation saved in the JSON file."
   ]
  },
  {
   "cell_type": "code",
   "execution_count": null,
   "id": "7541dd04-1d68-4dec-bb8c-75b12a258611",
   "metadata": {},
   "outputs": [],
   "source": [
    "slice_shuffler = SliceShuffler.load(filename)\n",
    "print(slice_shuffler.core_attrs)"
   ]
  },
  {
   "cell_type": "markdown",
   "id": "de133bb7-5c7b-4dcb-bdaa-8a46d4b8b34b",
   "metadata": {},
   "source": [
    "Let's de-pre-serialize, i.e. construct an instance from the serializable \n",
    "representation generated above."
   ]
  },
  {
   "cell_type": "code",
   "execution_count": null,
   "id": "1728a403-b49a-498b-8c9f-45827e51bd3a",
   "metadata": {},
   "outputs": [],
   "source": [
    "slice_shuffler = SliceShuffler.de_pre_serialize(serializable_rep)\n",
    "print(slice_shuffler.core_attrs)"
   ]
  },
  {
   "cell_type": "markdown",
   "id": "bb6e610c",
   "metadata": {},
   "source": [
    "Note that being a direct subclass of the\n",
    "``fancytypes.PreSerializableAndUpdatable`` class, the ``SliceShuffler`` class\n",
    "supports validation upon construction, and supports pre-serialization and\n",
    "de-pre-serialization, and updatable core attributes.\n",
    "\n",
    "The ``fancytypes.Checkable`` class only supports validation upon constructing\n",
    "instances.\n",
    "\n",
    "The ``fancytypes.Updatable`` class supports updatable core attributes, and\n",
    "validation upon constructing or updating instances, but it does not support\n",
    "pre-serialization or de-pre-serialization.\n",
    "\n",
    "The ``fancytypes.PreSerializable`` class supports pre-serialization,\n",
    "de-serialization, and enforces validation upon constructing or updating\n",
    "instances, but it does not support updatable core attributes."
   ]
  },
  {
   "cell_type": "markdown",
   "id": "0386c88a-d65b-423e-bc53-bb648c136bd2",
   "metadata": {},
   "source": [
    "## Defining the ``SleepySliceShuffler`` class ##"
   ]
  },
  {
   "cell_type": "markdown",
   "id": "4b7fc98f-76f8-44ec-b0ef-68785649cf4e",
   "metadata": {},
   "source": [
    "Let's show how we can extend the ``SliceShuffler`` class, thus extending the\n",
    "``fancytypes.PreSerializableAndUpdatable`` class further."
   ]
  },
  {
   "cell_type": "code",
   "execution_count": null,
   "id": "a8f0adaa-86cc-4923-b1b7-d88c515b6e12",
   "metadata": {},
   "outputs": [],
   "source": [
    "# Define the extra validation and conversion function.\n",
    "def _check_and_convert_sleep_time(params):\n",
    "    obj_name = \"sleep_time\"\n",
    "    kwargs = {\"obj\": params[obj_name], \"obj_name\": obj_name}\n",
    "    sleep_time = czekitout.convert.to_nonnegative_float(**kwargs)\n",
    "\n",
    "    return sleep_time\n",
    "\n",
    "\n",
    "\n",
    "# Define the extra pre-serialization function.\n",
    "def _pre_serialize_sleep_time(sleep_time):\n",
    "    serializable_rep = sleep_time\n",
    "    \n",
    "    return serializable_rep\n",
    "\n",
    "\n",
    "\n",
    "# Define the extra de-pre-serialization function.\n",
    "def _de_pre_serialize_sleep_time(serializable_rep):\n",
    "    sleep_time = serializable_rep\n",
    "    \n",
    "    return sleep_time\n",
    "\n",
    "\n",
    "\n",
    "# Define the ``SleepySliceShuffler`` class.\n",
    "class SleepySliceShuffler(SliceShuffler):\n",
    "    ctor_param_names = (\"slice_obj\", \"seed\", \"sleep_time\")\n",
    "    kwargs = {\"namespace_as_dict\": globals(),\n",
    "              \"ctor_param_names\": ctor_param_names}\n",
    "\n",
    "    _validation_and_conversion_funcs_ = \\\n",
    "        fancytypes.return_validation_and_conversion_funcs(**kwargs)\n",
    "    _pre_serialization_funcs_ = \\\n",
    "        fancytypes.return_pre_serialization_funcs(**kwargs)\n",
    "    _de_pre_serialization_funcs_ = \\\n",
    "        fancytypes.return_de_pre_serialization_funcs(**kwargs)\n",
    "\n",
    "    del ctor_param_names, kwargs\n",
    "\n",
    "    def __init__(self, \n",
    "                 slice_obj, \n",
    "                 seed, \n",
    "                 sleep_time,\n",
    "                 skip_validation_and_conversion=False):\n",
    "        ctor_params = {key: val\n",
    "                       for key, val in locals().items()\n",
    "                       if (key not in (\"self\", \"__class__\"))}\n",
    "        kwargs = ctor_params\n",
    "        fancytypes.PreSerializableAndUpdatable.__init__(self, **kwargs)\n",
    "\n",
    "        self.execute_post_core_attrs_update_actions()\n",
    "\n",
    "        return None\n",
    "\n",
    "    def execute_post_core_attrs_update_actions(self):\n",
    "        super().execute_post_core_attrs_update_actions()\n",
    "\n",
    "        sleep_time = self.core_attrs[\"sleep_time\"]\n",
    "        print(\"Starting a {} second nap...\".format(sleep_time))\n",
    "        time.sleep(sleep_time)\n",
    "        print(\"Finished taking the nap.\")\n",
    "\n",
    "        return None"
   ]
  },
  {
   "cell_type": "markdown",
   "id": "dbb5e2d7-8cc7-40f1-9af4-1e8285063bdd",
   "metadata": {},
   "source": [
    "## Using the ``SleepySliceShuffler`` class ##"
   ]
  },
  {
   "cell_type": "markdown",
   "id": "5af72af8-3084-4eb5-83aa-0dee23e834c8",
   "metadata": {},
   "source": [
    "First let's construct a valid instance of the ``SleepySliceShuffler`` class with \n",
    "validation and conversion of the parameters to be mapped to the \n",
    "\"core attributes\" enabled."
   ]
  },
  {
   "cell_type": "code",
   "execution_count": null,
   "id": "b3146d2b-a642-43d4-a144-2956f82b31d2",
   "metadata": {},
   "outputs": [],
   "source": [
    "kwargs = {\"slice_obj\": slice(None, 6, 1), \n",
    "          \"seed\": 5.0, \n",
    "          \"sleep_time\": 5,\n",
    "          \"skip_validation_and_conversion\": False}\n",
    "sleepy_slice_shuffler = SleepySliceShuffler(**kwargs)\n",
    "print()\n",
    "print(sleepy_slice_shuffler.core_attrs)"
   ]
  },
  {
   "cell_type": "markdown",
   "id": "06ebd171-4789-420c-83df-3bd0c2cf63c0",
   "metadata": {},
   "source": [
    "Let's shuffle an array using the class."
   ]
  },
  {
   "cell_type": "code",
   "execution_count": null,
   "id": "1a947db5-a992-4e3c-ba84-b7ebabe187ad",
   "metadata": {},
   "outputs": [],
   "source": [
    "array = [0, 1, 2, 3, 4, 5, 6, 7, 8, 9]\n",
    "shuffled_array = sleepy_slice_shuffler.shuffle(array)\n",
    "shuffled_array"
   ]
  },
  {
   "cell_type": "markdown",
   "id": "8cedee4b-588e-4575-84ae-c44f1fc4d792",
   "metadata": {},
   "source": [
    "Let's update the sleepy slice shuffler with validations and conversions enabled."
   ]
  },
  {
   "cell_type": "code",
   "execution_count": null,
   "id": "7f0264a8-2c7f-412c-8b8f-afff6dd45429",
   "metadata": {},
   "outputs": [],
   "source": [
    "new_core_attr_subset_candidate = {\"slice_obj\": slice(3, None, 1), \n",
    "                                  \"sleep_time\": 2.5}\n",
    "kwargs = {\"new_core_attr_subset_candidate\": new_core_attr_subset_candidate,\n",
    "          \"skip_validation_and_conversion\": False}\n",
    "sleepy_slice_shuffler.update(**kwargs)\n",
    "\n",
    "print(sleepy_slice_shuffler.core_attrs)"
   ]
  },
  {
   "cell_type": "markdown",
   "id": "e4a86be8-fe00-4d8b-9828-24b9bd05821e",
   "metadata": {},
   "source": [
    "Let's shuffle the original array again."
   ]
  },
  {
   "cell_type": "code",
   "execution_count": null,
   "id": "31f9c4f9-86f3-41ae-a2f8-24258d9f2739",
   "metadata": {},
   "outputs": [],
   "source": [
    "shuffled_array = sleepy_slice_shuffler.shuffle(array)\n",
    "shuffled_array"
   ]
  }
 ],
 "metadata": {
  "kernelspec": {
   "display_name": "Python 3 (ipykernel)",
   "language": "python",
   "name": "python3"
  },
  "language_info": {
   "codemirror_mode": {
    "name": "ipython",
    "version": 3
   },
   "file_extension": ".py",
   "mimetype": "text/x-python",
   "name": "python",
   "nbconvert_exporter": "python",
   "pygments_lexer": "ipython3",
   "version": "3.12.4"
  }
 },
 "nbformat": 4,
 "nbformat_minor": 5
}
