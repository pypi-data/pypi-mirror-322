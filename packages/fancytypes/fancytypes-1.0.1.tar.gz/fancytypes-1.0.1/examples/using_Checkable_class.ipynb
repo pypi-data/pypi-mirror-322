{
 "cells": [
  {
   "cell_type": "markdown",
   "id": "6bb7f461",
   "metadata": {},
   "source": [
    "# Using the ``fancytypes.Checkable`` class #"
   ]
  },
  {
   "cell_type": "markdown",
   "id": "5d6d9cd7",
   "metadata": {},
   "source": [
    "## A NOTE BEFORE STARTING ##"
   ]
  },
  {
   "cell_type": "markdown",
   "id": "880421e9",
   "metadata": {},
   "source": [
    "Since the ``fancytypes`` git repository tracks this notebook under its original\n",
    "basename ``using_Checkable_class.ipynb``, we recommend that you copy the\n",
    "original notebook and rename it to any other basename that is not one of the\n",
    "original basenames that appear in the ``<root>/examples`` directory before\n",
    "executing any of the notebook cells below, where ``<root>`` is the root of the\n",
    "``fancytypes`` repository. This way you can explore the notebook by executing\n",
    "and modifying cells without changing the original notebook, which is being\n",
    "tracked by git."
   ]
  },
  {
   "cell_type": "markdown",
   "id": "12b0d90e",
   "metadata": {},
   "source": [
    "## Import necessary modules ##"
   ]
  },
  {
   "cell_type": "code",
   "execution_count": null,
   "id": "e7f9787f",
   "metadata": {},
   "outputs": [],
   "source": [
    "# For performing deep copies.\n",
    "import copy\n",
    "\n",
    "\n",
    "\n",
    "# For general array handling and constructing random number generators.\n",
    "import numpy as np\n",
    "\n",
    "# For validating and converting objects.\n",
    "import czekitout.check\n",
    "import czekitout.convert\n",
    "\n",
    "\n",
    "\n",
    "# The library that is the subject of this demonstration.\n",
    "import fancytypes"
   ]
  },
  {
   "cell_type": "markdown",
   "id": "e667d633",
   "metadata": {},
   "source": [
    "## Introduction ##"
   ]
  },
  {
   "cell_type": "markdown",
   "id": "ec7f2509",
   "metadata": {},
   "source": [
    "In this notebook, we use the ``fancytypes.Checkable`` class to define a class of\n",
    "\"slice shufflers\", which we define as objects that can shuffle/re-order the\n",
    "elements in a slice of a given array. This is a somewhat contrived example use\n",
    "of the ``fancytypes.Checkable`` class, however it is simple and complete. We \n",
    "also test the exception-raising features of the ``fancytypes.Checkable`` class.\n",
    "You can find the documentation for the ``fancytypes.Checkable`` class\n",
    "[here](https://mrfitzpa.github.io/fancytypes/_autosummary/fancytypes.Checkable.html).\n",
    "It is recommended that you consult the documentation of this class as you \n",
    "explore the notebook.\n",
    "\n",
    "This notebook also demonstrates how one can use the helper function \n",
    "``fancytypes.return_validation_and_conversion_funcs``. We use this function to\n",
    "define our class of slice shufflers. You can find the documentation for this\n",
    "helper function\n",
    "[here](https://mrfitzpa.github.io/fancytypes/_autosummary/fancytypes.return_validation_and_conversion_funcs.html)."
   ]
  },
  {
   "cell_type": "markdown",
   "id": "ee0993ba",
   "metadata": {},
   "source": [
    "## Defining the ``SliceShuffler`` class ##"
   ]
  },
  {
   "cell_type": "markdown",
   "id": "21a2529c",
   "metadata": {},
   "source": [
    "We define the ``SliceShuffler`` class as a subclass of the\n",
    "``fancytypes.Checkable`` class."
   ]
  },
  {
   "cell_type": "code",
   "execution_count": null,
   "id": "5bdd09c4",
   "metadata": {},
   "outputs": [],
   "source": [
    "# Define the validation and conversion functions.\n",
    "def _check_and_convert_slice_obj(params):\n",
    "    obj_name = \"slice_obj\"\n",
    "    kwargs = {\"obj\": params[obj_name],\n",
    "              \"obj_name\": obj_name,\n",
    "              \"accepted_types\": (slice,)}\n",
    "    czekitout.check.if_instance_of_any_accepted_types(**kwargs)\n",
    "    slice_obj = copy.deepcopy(params[obj_name])\n",
    "\n",
    "    return slice_obj\n",
    "\n",
    "def _check_and_convert_seed(params):\n",
    "    obj_name = \"seed\"\n",
    "    kwargs = {\"obj\": params[obj_name], \"obj_name\": obj_name}\n",
    "    seed = czekitout.convert.to_nonnegative_int(**kwargs)\n",
    "\n",
    "    return seed\n",
    "\n",
    "\n",
    "\n",
    "# Define the ``SliceShuffler`` class.\n",
    "class SliceShuffler(fancytypes.Checkable):\n",
    "    ctor_param_names = (\"slice_obj\", \"seed\")\n",
    "    kwargs = {\"namespace_as_dict\": globals(),\n",
    "              \"ctor_param_names\": ctor_param_names}\n",
    "\n",
    "    _validation_and_conversion_funcs_ = \\\n",
    "        fancytypes.return_validation_and_conversion_funcs(**kwargs)\n",
    "\n",
    "    del ctor_param_names, kwargs\n",
    "\n",
    "    def __init__(self, slice_obj, seed, skip_validation_and_conversion=False):\n",
    "        ctor_params = {key: val\n",
    "                       for key, val in locals().items()\n",
    "                       if (key not in (\"self\", \"__class__\"))}\n",
    "\n",
    "        # Set ``skip_cls_tests`` to ``True`` only if you are sure that the\n",
    "        # class that you have defined was done so properly, i.e. without errors.\n",
    "        skip_cls_tests = True\n",
    "\n",
    "        kwargs = ctor_params\n",
    "        kwargs[\"skip_cls_tests\"] = skip_cls_tests\n",
    "        fancytypes.Checkable.__init__(self, **kwargs)\n",
    "\n",
    "        seed = self.core_attrs[\"seed\"]\n",
    "        self._random_generator = np.random.default_rng(seed)\n",
    "\n",
    "        return None\n",
    "\n",
    "    @classmethod\n",
    "    def get_validation_and_conversion_funcs(cls):\n",
    "        validation_and_conversion_funcs = \\\n",
    "            cls._validation_and_conversion_funcs_.copy()\n",
    "\n",
    "        return validation_and_conversion_funcs\n",
    "\n",
    "    def shuffle(self, array):\n",
    "        try:\n",
    "            array = np.array(array)\n",
    "        except:\n",
    "            err_msg = (\"The object ``array`` must be array-like.\")\n",
    "            raise TypeError(err_msg)\n",
    "            \n",
    "        slice_obj = self.core_attrs[\"slice_obj\"]\n",
    "        array_slice = array[slice_obj]\n",
    "        self._random_generator.shuffle(array_slice)\n",
    "        array[slice_obj] = array_slice\n",
    "\n",
    "        return array"
   ]
  },
  {
   "cell_type": "markdown",
   "id": "fb9e9c81",
   "metadata": {},
   "source": [
    "## Using the ``SliceShuffler`` class ##"
   ]
  },
  {
   "cell_type": "markdown",
   "id": "75f51455",
   "metadata": {},
   "source": [
    "First let's construct a valid instance of the ``SliceShuffler`` class with \n",
    "validation and conversion of the parameters to be mapped to the \n",
    "\"core attributes\" enabled."
   ]
  },
  {
   "cell_type": "code",
   "execution_count": null,
   "id": "a886c1d4",
   "metadata": {},
   "outputs": [],
   "source": [
    "kwargs = {\"slice_obj\": slice(None, 6, 1), \n",
    "          \"seed\": 5.0, \n",
    "          \"skip_validation_and_conversion\": False}\n",
    "slice_shuffler = SliceShuffler(**kwargs)"
   ]
  },
  {
   "cell_type": "markdown",
   "id": "93ca4fee-853e-4782-b0ef-e092657e44bf",
   "metadata": {},
   "source": [
    "There are 3 ways of accessing the core attributes via the public API:"
   ]
  },
  {
   "cell_type": "code",
   "execution_count": null,
   "id": "8c427584-b828-4eed-a2e9-8f188bb5ba0b",
   "metadata": {},
   "outputs": [],
   "source": [
    "# Returns a deep copy.\n",
    "core_attrs = slice_shuffler.core_attrs\n",
    "print(core_attrs)\n",
    "\n",
    "# Returns a deep copy.\n",
    "core_attrs = slice_shuffler.get_core_attrs(deep_copy=True)\n",
    "print(core_attrs)\n",
    "\n",
    "# Returns a reference, i.e. no copy is made. \n",
    "core_attrs = slice_shuffler.get_core_attrs(deep_copy=False)\n",
    "print(core_attrs)"
   ]
  },
  {
   "cell_type": "markdown",
   "id": "5ef37699-4d78-4651-85e4-e9003de6f949",
   "metadata": {},
   "source": [
    "There is 1 way of accessing the validation and conversion functions via the \n",
    "public API:"
   ]
  },
  {
   "cell_type": "code",
   "execution_count": null,
   "id": "260b258f-fc16-40c6-941a-3a055be621b3",
   "metadata": {},
   "outputs": [],
   "source": [
    "# Returns a deep copy.\n",
    "validation_and_conversion_funcs = \\\n",
    "    slice_shuffler.validation_and_conversion_funcs\n",
    "\n",
    "print(validation_and_conversion_funcs)"
   ]
  },
  {
   "cell_type": "markdown",
   "id": "19fc0396-f715-4f37-9039-51f787a9110a",
   "metadata": {},
   "source": [
    "Next let's construct a valid instance of the ``SliceShuffler`` class with \n",
    "validation and conversion of the parameters to be mapped to the core attributes\n",
    "disabled. This option is desired primarily when the user wants to avoid \n",
    "potentially expensive copies and/or conversions of the parameters to be mapped \n",
    "to the core attributes. However, users must ensure that the construction \n",
    "parameters are valid and require no conversions."
   ]
  },
  {
   "cell_type": "code",
   "execution_count": null,
   "id": "3c854bf5-9f95-4369-9e08-4967c7d8bd21",
   "metadata": {},
   "outputs": [],
   "source": [
    "kwargs = {\"slice_obj\": slice(None, 6, 1), \n",
    "          \"seed\": 5,  # Manually converted parameter to a `int` as required.\n",
    "          \"skip_validation_and_conversion\": True}\n",
    "slice_shuffler = SliceShuffler(**kwargs)\n",
    "\n",
    "core_attrs = slice_shuffler.core_attrs\n",
    "print(core_attrs)"
   ]
  },
  {
   "cell_type": "markdown",
   "id": "82d272bb",
   "metadata": {},
   "source": [
    "Let's shuffle an array using the class."
   ]
  },
  {
   "cell_type": "code",
   "execution_count": null,
   "id": "840cef98",
   "metadata": {},
   "outputs": [],
   "source": [
    "array = [0, 1, 2, 3, 4, 5, 6, 7, 8, 9]\n",
    "shuffled_array = slice_shuffler.shuffle(array)\n",
    "shuffled_array"
   ]
  },
  {
   "cell_type": "markdown",
   "id": "0a5fa68b",
   "metadata": {},
   "source": [
    "Let's try constructing instances of the ``SliceShuffler`` class with invalid\n",
    "construction parameters. The following two codes blocks return errors as \n",
    "expected:"
   ]
  },
  {
   "cell_type": "code",
   "execution_count": null,
   "id": "2d62da34",
   "metadata": {},
   "outputs": [],
   "source": [
    "# Note that by default ``skip_validation_and_conversion == False``.\n",
    "kwargs = {\"slice_obj\": 3, \"seed\": 5.0}\n",
    "slice_shuffler = SliceShuffler(**kwargs)"
   ]
  },
  {
   "cell_type": "code",
   "execution_count": null,
   "id": "b1feabd7",
   "metadata": {},
   "outputs": [],
   "source": [
    "kwargs = {\"slice_obj\": slice(None, 6, 1), \"seed\": \"foo\"}\n",
    "slice_shuffler = SliceShuffler(slice_obj=slice(None, 6, 1), seed=\"foo\")"
   ]
  },
  {
   "cell_type": "markdown",
   "id": "bb6e610c",
   "metadata": {},
   "source": [
    "Note that being a direct subclass of the ``fancytypes.Checkable`` class, the\n",
    "``SliceShuffler`` class supports validation upon construction, but it does not\n",
    "support updatable core attributes, pre-serialization, or de-pre-serialization.\n",
    "\n",
    "The ``fancytypes.Updatable`` class supports updatable core attributes, and\n",
    "validation upon constructing or updating instances.\n",
    "\n",
    "The ``fancytypes.PreSerializable`` class supports pre-serialization,\n",
    "de-serialization, and enforces validation upon constructing instances.\n",
    "\n",
    "The ``fancytypes.PreSerializableAndUpdatable`` class supports pre-serialization,\n",
    "de-serialization, updatable core attributes, and enforces validation upon\n",
    "constructing or updating instances."
   ]
  }
 ],
 "metadata": {
  "kernelspec": {
   "display_name": "Python 3 (ipykernel)",
   "language": "python",
   "name": "python3"
  },
  "language_info": {
   "codemirror_mode": {
    "name": "ipython",
    "version": 3
   },
   "file_extension": ".py",
   "mimetype": "text/x-python",
   "name": "python",
   "nbconvert_exporter": "python",
   "pygments_lexer": "ipython3",
   "version": "3.12.4"
  }
 },
 "nbformat": 4,
 "nbformat_minor": 5
}
