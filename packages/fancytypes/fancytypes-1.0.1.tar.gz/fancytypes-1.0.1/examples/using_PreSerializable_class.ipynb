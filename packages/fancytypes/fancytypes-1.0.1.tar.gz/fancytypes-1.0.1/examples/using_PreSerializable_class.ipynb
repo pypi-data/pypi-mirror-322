{
 "cells": [
  {
   "cell_type": "markdown",
   "id": "6bb7f461",
   "metadata": {},
   "source": [
    "# Using the ``fancytypes.PreSerializable`` class #"
   ]
  },
  {
   "cell_type": "markdown",
   "id": "5d6d9cd7",
   "metadata": {},
   "source": [
    "## A NOTE BEFORE STARTING ##"
   ]
  },
  {
   "cell_type": "markdown",
   "id": "880421e9",
   "metadata": {},
   "source": [
    "Since the ``fancytypes`` git repository tracks this notebook under its original\n",
    "basename ``using_PreSerializable_class.ipynb``, we recommend that you copy the\n",
    "original notebook and rename it to any other basename that is not one of the\n",
    "original basenames that appear in the ``<root>/examples`` directory before\n",
    "executing any of the notebook cells below, where ``<root>`` is the root of the\n",
    "``fancytypes`` repository. This way you can explore the notebook by executing\n",
    "and modifying cells without changing the original notebook, which is being\n",
    "tracked by git."
   ]
  },
  {
   "cell_type": "markdown",
   "id": "12b0d90e",
   "metadata": {},
   "source": [
    "## Import necessary modules ##"
   ]
  },
  {
   "cell_type": "code",
   "execution_count": null,
   "id": "e7f9787f",
   "metadata": {},
   "outputs": [],
   "source": [
    "# For performing deep copies.\n",
    "import copy\n",
    "\n",
    "\n",
    "\n",
    "# For general array handling and constructing random number generators.\n",
    "import numpy as np\n",
    "\n",
    "# For validating and converting objects.\n",
    "import czekitout.check\n",
    "import czekitout.convert\n",
    "\n",
    "\n",
    "\n",
    "# The library that is the subject of this demonstration.\n",
    "import fancytypes"
   ]
  },
  {
   "cell_type": "markdown",
   "id": "e667d633",
   "metadata": {},
   "source": [
    "## Introduction ##"
   ]
  },
  {
   "cell_type": "markdown",
   "id": "ec7f2509",
   "metadata": {},
   "source": [
    "In this notebook, we use the ``fancytypes.PreSerializable`` class to define a\n",
    "class of \"slice shufflers\", which we define as objects that can shuffle/re-order\n",
    "the elements in a slice of a given array. This is a somewhat contrived example\n",
    "use of the ``fancytypes.PreSerializable`` class, however it is simple and\n",
    "complete. We also test the exception-raising features of the\n",
    "``fancytypes.PreSerializable`` class. You can find the documentation for the \n",
    "``fancytypes.PreSerializable`` class\n",
    "[here](https://mrfitzpa.github.io/fancytypes/_autosummary/fancytypes.PreSerializable.html). \n",
    "It is recommended that you consult the documentation of this class as you \n",
    "explore the notebook.\n",
    "\n",
    "This notebook also demonstrates how one can use the helper functions \n",
    "``fancytypes.return_validation_and_conversion_funcs``, \n",
    "``fancytypes.return_pre_serialization_funcs``, and \n",
    "``fancytypes.return_de_pre_serialization_funcs``. We use these functions to\n",
    "define our class of slice shufflers. You can find the documentation for these\n",
    "helper functions \n",
    "[here](https://mrfitzpa.github.io/fancytypes/_autosummary/fancytypes.html)."
   ]
  },
  {
   "cell_type": "markdown",
   "id": "ee0993ba",
   "metadata": {},
   "source": [
    "## Defining the ``SliceShuffler`` class ##"
   ]
  },
  {
   "cell_type": "markdown",
   "id": "21a2529c",
   "metadata": {},
   "source": [
    "We define the ``SliceShuffler`` class as a subclass of the\n",
    "``fancytypes.PreSerializable`` class."
   ]
  },
  {
   "cell_type": "code",
   "execution_count": null,
   "id": "5bdd09c4",
   "metadata": {},
   "outputs": [],
   "source": [
    "# Define the validation and conversion functions.\n",
    "def _check_and_convert_slice_obj(params):\n",
    "    obj_name = \"slice_obj\"\n",
    "    kwargs = {\"obj\": params[obj_name],\n",
    "              \"obj_name\": obj_name,\n",
    "              \"accepted_types\": (slice,)}\n",
    "    czekitout.check.if_instance_of_any_accepted_types(**kwargs)\n",
    "    slice_obj = copy.deepcopy(params[obj_name])\n",
    "\n",
    "    return slice_obj\n",
    "\n",
    "def _check_and_convert_seed(params):\n",
    "    obj_name = \"seed\"\n",
    "    kwargs = {\"obj\": params[obj_name], \"obj_name\": obj_name}\n",
    "    seed = czekitout.convert.to_nonnegative_int(**kwargs)\n",
    "\n",
    "    return seed\n",
    "\n",
    "\n",
    "\n",
    "# Define the pre-serialization functions.\n",
    "def _pre_serialize_slice_obj(slice_obj):\n",
    "    serializable_rep = {\"start\": slice_obj.start, \n",
    "                        \"stop\": slice_obj.stop, \n",
    "                        \"step\": slice_obj.step}\n",
    "    \n",
    "    return serializable_rep\n",
    "\n",
    "def _pre_serialize_seed(seed):\n",
    "    serializable_rep = seed\n",
    "    \n",
    "    return serializable_rep\n",
    "\n",
    "\n",
    "\n",
    "# Define the de-pre-serialization functions.\n",
    "def _de_pre_serialize_slice_obj(serializable_rep):\n",
    "    slice_obj = slice(serializable_rep[\"start\"], \n",
    "                      serializable_rep[\"stop\"], \n",
    "                      serializable_rep[\"step\"])\n",
    "    \n",
    "    return slice_obj\n",
    "\n",
    "def _de_pre_serialize_seed(serializable_rep):\n",
    "    seed = serializable_rep\n",
    "    \n",
    "    return seed\n",
    "\n",
    "\n",
    "\n",
    "# Define the ``SliceShuffler`` class.\n",
    "class SliceShuffler(fancytypes.PreSerializable):\n",
    "    ctor_param_names = (\"slice_obj\", \"seed\")\n",
    "    kwargs = {\"namespace_as_dict\": globals(),\n",
    "              \"ctor_param_names\": ctor_param_names}\n",
    "\n",
    "    _validation_and_conversion_funcs_ = \\\n",
    "        fancytypes.return_validation_and_conversion_funcs(**kwargs)\n",
    "    _pre_serialization_funcs_ = \\\n",
    "        fancytypes.return_pre_serialization_funcs(**kwargs)\n",
    "    _de_pre_serialization_funcs_ = \\\n",
    "        fancytypes.return_de_pre_serialization_funcs(**kwargs)\n",
    "\n",
    "    del ctor_param_names, kwargs\n",
    "    \n",
    "    def __init__(self, slice_obj, seed, skip_validation_and_conversion=False):\n",
    "        ctor_params = {key: val\n",
    "                       for key, val in locals().items()\n",
    "                       if (key not in (\"self\", \"__class__\"))}\n",
    "\n",
    "        # Set ``skip_cls_tests`` to ``True`` only if you are sure that the\n",
    "        # class that you have defined was done so properly, i.e. without errors.\n",
    "        skip_cls_tests = True\n",
    "\n",
    "        kwargs = ctor_params\n",
    "        kwargs[\"skip_cls_tests\"] = skip_cls_tests\n",
    "        fancytypes.PreSerializable.__init__(self, **kwargs)\n",
    "\n",
    "        seed = self.core_attrs[\"seed\"]\n",
    "        self._random_generator = np.random.default_rng(seed)\n",
    "\n",
    "        return None\n",
    "\n",
    "    @classmethod\n",
    "    def get_validation_and_conversion_funcs(cls):\n",
    "        validation_and_conversion_funcs = \\\n",
    "            cls._validation_and_conversion_funcs_.copy()\n",
    "\n",
    "        return validation_and_conversion_funcs\n",
    "\n",
    "    @classmethod\n",
    "    def get_pre_serialization_funcs(cls):\n",
    "        pre_serialization_funcs = \\\n",
    "            cls._pre_serialization_funcs_.copy()\n",
    "\n",
    "        return pre_serialization_funcs\n",
    "\n",
    "    @classmethod\n",
    "    def get_de_pre_serialization_funcs(cls):\n",
    "        de_pre_serialization_funcs = \\\n",
    "            cls._de_pre_serialization_funcs_.copy()\n",
    "\n",
    "        return de_pre_serialization_funcs\n",
    "\n",
    "    def shuffle(self, array):\n",
    "        try:\n",
    "            array = np.array(array)\n",
    "        except:\n",
    "            err_msg = (\"The object ``array`` must be array-like.\")\n",
    "            raise TypeError(err_msg)\n",
    "            \n",
    "        slice_obj = self.core_attrs[\"slice_obj\"]\n",
    "        array_slice = array[slice_obj]\n",
    "        self._random_generator.shuffle(array_slice)\n",
    "        array[slice_obj] = array_slice\n",
    "\n",
    "        return array"
   ]
  },
  {
   "cell_type": "markdown",
   "id": "fb9e9c81",
   "metadata": {},
   "source": [
    "## Using the ``SliceShuffler`` class ##"
   ]
  },
  {
   "cell_type": "markdown",
   "id": "9401e8b3-3b63-4707-96bd-27c80efaf662",
   "metadata": {},
   "source": [
    "First let's construct a valid instance of the ``SliceShuffler`` class with \n",
    "validation and conversion of the parameters to be mapped to the \n",
    "\"core attributes\" enabled."
   ]
  },
  {
   "cell_type": "code",
   "execution_count": null,
   "id": "ce494804-8de1-427b-89d8-dfdb9eb02103",
   "metadata": {},
   "outputs": [],
   "source": [
    "kwargs = {\"slice_obj\": slice(None, 6, 1), \n",
    "          \"seed\": 5.0, \n",
    "          \"skip_validation_and_conversion\": False}\n",
    "slice_shuffler = SliceShuffler(**kwargs)"
   ]
  },
  {
   "cell_type": "markdown",
   "id": "1a1f9a91-d0d7-47c1-8c60-edd7e5a37d78",
   "metadata": {},
   "source": [
    "There are 3 ways of accessing the core attributes via the public API:"
   ]
  },
  {
   "cell_type": "code",
   "execution_count": null,
   "id": "4b7a3a26-5e07-4279-9917-b9361481ad40",
   "metadata": {},
   "outputs": [],
   "source": [
    "# Returns a deep copy.\n",
    "core_attrs = slice_shuffler.core_attrs\n",
    "print(core_attrs)\n",
    "\n",
    "# Returns a deep copy.\n",
    "core_attrs = slice_shuffler.get_core_attrs(deep_copy=True)\n",
    "print(core_attrs)\n",
    "\n",
    "# Returns a reference, i.e. no copy is made. \n",
    "core_attrs = slice_shuffler.get_core_attrs(deep_copy=False)\n",
    "print(core_attrs)"
   ]
  },
  {
   "cell_type": "markdown",
   "id": "1848cf5a-27e6-42c2-a172-c93eab170d48",
   "metadata": {},
   "source": [
    "There is 1 way of accessing the validation and conversion functions via the \n",
    "public API:"
   ]
  },
  {
   "cell_type": "code",
   "execution_count": null,
   "id": "939d9c10-e124-4274-b5df-47e0cc38b66d",
   "metadata": {},
   "outputs": [],
   "source": [
    "# Returns a deep copy.\n",
    "validation_and_conversion_funcs = \\\n",
    "    slice_shuffler.validation_and_conversion_funcs\n",
    "\n",
    "print(validation_and_conversion_funcs)"
   ]
  },
  {
   "cell_type": "markdown",
   "id": "4712e2d7-d427-474d-a722-3fb13497eb02",
   "metadata": {},
   "source": [
    "There is 1 way of accessing the pre-serialization functions via the public API:"
   ]
  },
  {
   "cell_type": "code",
   "execution_count": null,
   "id": "8664a629-96fa-4202-9a58-e58fc2b9abbf",
   "metadata": {},
   "outputs": [],
   "source": [
    "# Returns a deep copy.\n",
    "pre_serialization_funcs = slice_shuffler.pre_serialization_funcs\n",
    "\n",
    "print(pre_serialization_funcs)"
   ]
  },
  {
   "cell_type": "markdown",
   "id": "4079806a-3e8b-4513-a89c-0c92da0bb924",
   "metadata": {},
   "source": [
    "There is 1 way of accessing the de-pre-serialization functions via the public \n",
    "API:"
   ]
  },
  {
   "cell_type": "code",
   "execution_count": null,
   "id": "2fc3be4b-abd7-40d0-850b-78e6121863ba",
   "metadata": {},
   "outputs": [],
   "source": [
    "# Returns a deep copy.\n",
    "de_pre_serialization_funcs = slice_shuffler.de_pre_serialization_funcs\n",
    "\n",
    "print(pre_serialization_funcs)"
   ]
  },
  {
   "cell_type": "markdown",
   "id": "8c6acaaa-a8ce-4f9b-91dc-6f1a2954a4e7",
   "metadata": {},
   "source": [
    "Next let's construct a valid instance of the ``SliceShuffler`` class with \n",
    "validation and conversion of the parameters to be mapped to the core attributes\n",
    "disabled. This option is desired primarily when the user wants to avoid \n",
    "potentially expensive copies and/or conversions of the parameters to be mapped \n",
    "to the core attributes. However, users must ensure that the construction \n",
    "parameters are valid and require no conversions."
   ]
  },
  {
   "cell_type": "code",
   "execution_count": null,
   "id": "a8c5c8a4-b451-43f6-a5d7-24ca18678059",
   "metadata": {},
   "outputs": [],
   "source": [
    "kwargs = {\"slice_obj\": slice(None, 6, 1), \n",
    "          \"seed\": 5,  # Manually converted parameter to a `int` as required.\n",
    "          \"skip_validation_and_conversion\": True}\n",
    "slice_shuffler = SliceShuffler(**kwargs)\n",
    "\n",
    "core_attrs = slice_shuffler.core_attrs\n",
    "print(core_attrs)"
   ]
  },
  {
   "cell_type": "markdown",
   "id": "0e17d577-d109-48a8-9f03-82ef675409e5",
   "metadata": {},
   "source": [
    "Let's shuffle an array using the class."
   ]
  },
  {
   "cell_type": "code",
   "execution_count": null,
   "id": "26e7ba3d-78b4-4c69-aa3c-aaf1984b6dad",
   "metadata": {},
   "outputs": [],
   "source": [
    "array = [0, 1, 2, 3, 4, 5, 6, 7, 8, 9]\n",
    "shuffled_array = slice_shuffler.shuffle(array)\n",
    "shuffled_array"
   ]
  },
  {
   "cell_type": "markdown",
   "id": "6db48dbd-05db-4a11-b75b-b8bb1dfca6e5",
   "metadata": {},
   "source": [
    "Let's try constructing instances of the ``SliceShuffler`` class with invalid\n",
    "construction parameters. The following two codes blocks return errors as \n",
    "expected:"
   ]
  },
  {
   "cell_type": "code",
   "execution_count": null,
   "id": "596015f4-b9c7-453a-9c75-fc43e7dd0d11",
   "metadata": {},
   "outputs": [],
   "source": [
    "# Note that by default ``skip_validation_and_conversion == False``.\n",
    "kwargs = {\"slice_obj\": 3, \"seed\": 5.0}\n",
    "slice_shuffler = SliceShuffler(**kwargs)"
   ]
  },
  {
   "cell_type": "code",
   "execution_count": null,
   "id": "bebe086a-f55b-4d59-af65-55f019428bf5",
   "metadata": {},
   "outputs": [],
   "source": [
    "kwargs = {\"slice_obj\": slice(None, 6, 1), \"seed\": \"foo\"}\n",
    "slice_shuffler = SliceShuffler(slice_obj=slice(None, 6, 1), seed=\"foo\")"
   ]
  },
  {
   "cell_type": "markdown",
   "id": "75f51455",
   "metadata": {},
   "source": [
    "Construct a valid instance of the ``SliceShuffler`` class and print the core attributes."
   ]
  },
  {
   "cell_type": "markdown",
   "id": "81b99182-8905-4024-884b-033880a869bc",
   "metadata": {},
   "source": [
    "Let's pre-serialize instance. You could then serialize the serializable \n",
    "representation using the ``json`` library."
   ]
  },
  {
   "cell_type": "code",
   "execution_count": null,
   "id": "af49aadb-b7d9-4f3f-a787-b06bd208ba2c",
   "metadata": {},
   "outputs": [],
   "source": [
    "serializable_rep = slice_shuffler.pre_serialize()\n",
    "print(serializable_rep)"
   ]
  },
  {
   "cell_type": "markdown",
   "id": "2a4a48d3-00e5-4d10-8157-cdf289fd14ee",
   "metadata": {},
   "source": [
    "Alternatively, you could serialize the instance of the class by using the\n",
    "``dumps`` method:"
   ]
  },
  {
   "cell_type": "code",
   "execution_count": null,
   "id": "42713192-4d3f-47f7-87c9-baeebf8b423e",
   "metadata": {},
   "outputs": [],
   "source": [
    "serialized_rep = slice_shuffler.dumps()\n",
    "print(serialized_rep)"
   ]
  },
  {
   "cell_type": "markdown",
   "id": "03ee4cbb-fe6f-4785-92ba-7847c166469b",
   "metadata": {},
   "source": [
    "You can also serialize the instance and save the result to a JSON file in one go\n",
    "using the ``dump`` method:"
   ]
  },
  {
   "cell_type": "code",
   "execution_count": null,
   "id": "8415e5e8-2d59-426a-9886-72910f8b5778",
   "metadata": {},
   "outputs": [],
   "source": [
    "filename = \"slice_shuffler.json\"\n",
    "slice_shuffler.dump(filename, overwrite=True)"
   ]
  },
  {
   "cell_type": "markdown",
   "id": "55623f27-3c84-4319-91e5-b6c3a1055759",
   "metadata": {},
   "source": [
    "Trying to save a serialized representation to a pre-existing that with\n",
    "``overwrite==False`` will raise an exception:"
   ]
  },
  {
   "cell_type": "code",
   "execution_count": null,
   "id": "9d017e73-db01-46f8-a386-3fa3598078f2",
   "metadata": {},
   "outputs": [],
   "source": [
    "filename = \"slice_shuffler.json\"\n",
    "slice_shuffler.dump(filename, overwrite=False)"
   ]
  },
  {
   "cell_type": "markdown",
   "id": "b176fae2-7a95-41f8-9adf-6b39f5a0d9ad",
   "metadata": {},
   "source": [
    "Let's reconstruct the instance of ``SliceShuffler`` from the serialized\n",
    "representation."
   ]
  },
  {
   "cell_type": "code",
   "execution_count": null,
   "id": "0ea88c88-93c3-4490-a2b4-1bc20f0f7892",
   "metadata": {},
   "outputs": [],
   "source": [
    "slice_shuffler = SliceShuffler.loads(serialized_rep)\n",
    "print(slice_shuffler.core_attrs)"
   ]
  },
  {
   "cell_type": "markdown",
   "id": "b51aaea6-6819-4f98-b4cd-82cc17149253",
   "metadata": {},
   "source": [
    "Let's reconstruct the instance of ``SliceShuffler`` from the serialized\n",
    "representation saved in the JSON file."
   ]
  },
  {
   "cell_type": "code",
   "execution_count": null,
   "id": "3e3a2f38-aa0c-44d6-86df-475ca9136f71",
   "metadata": {},
   "outputs": [],
   "source": [
    "slice_shuffler = SliceShuffler.load(filename)\n",
    "print(slice_shuffler.core_attrs)"
   ]
  },
  {
   "cell_type": "markdown",
   "id": "231ff8b7-b722-48c8-b285-bc5ef8e4f8ce",
   "metadata": {},
   "source": [
    "Let's de-pre-serialize, i.e. construct an instance from the serializable \n",
    "representation generated above."
   ]
  },
  {
   "cell_type": "code",
   "execution_count": null,
   "id": "3c64b87d-d0a0-4e2e-b4ef-d5d1d92acf99",
   "metadata": {},
   "outputs": [],
   "source": [
    "slice_shuffler = SliceShuffler.de_pre_serialize(serializable_rep)\n",
    "print(slice_shuffler.core_attrs)"
   ]
  },
  {
   "cell_type": "markdown",
   "id": "bb6e610c",
   "metadata": {},
   "source": [
    "Note that being a direct subclass of the ``fancytypes.PreSerializable`` class,\n",
    "the ``SliceShuffler`` class supports validation upon construction, and supports\n",
    "pre-serialization and de-pre-serialization, but it does not support updatable\n",
    "core attributes.\n",
    "\n",
    "The ``fancytypes.Checkable`` class only supports validation upon constructing\n",
    "instances.\n",
    "\n",
    "The ``fancytypes.Updatable`` class supports updatable core attributes, and\n",
    "validation upon constructing or updating instances, but it does not support\n",
    "pre-serialization or de-pre-serialization.\n",
    "\n",
    "The ``fancytypes.PreSerializableAndUpdatable`` class supports pre-serialization,\n",
    "de-serialization, updatable core attributes, and enforces validation upon\n",
    "constructing or updating instances."
   ]
  }
 ],
 "metadata": {
  "kernelspec": {
   "display_name": "Python 3 (ipykernel)",
   "language": "python",
   "name": "python3"
  },
  "language_info": {
   "codemirror_mode": {
    "name": "ipython",
    "version": 3
   },
   "file_extension": ".py",
   "mimetype": "text/x-python",
   "name": "python",
   "nbconvert_exporter": "python",
   "pygments_lexer": "ipython3",
   "version": "3.12.4"
  }
 },
 "nbformat": 4,
 "nbformat_minor": 5
}
