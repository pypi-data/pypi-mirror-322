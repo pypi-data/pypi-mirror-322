{
 "cells": [
  {
   "cell_type": "markdown",
   "id": "6bb7f461",
   "metadata": {},
   "source": [
    "# Using the ``fancytypes.Updatable`` class #"
   ]
  },
  {
   "cell_type": "markdown",
   "id": "5d6d9cd7",
   "metadata": {},
   "source": [
    "## A NOTE BEFORE STARTING ##"
   ]
  },
  {
   "cell_type": "markdown",
   "id": "880421e9",
   "metadata": {},
   "source": [
    "Since the ``fancytypes`` git repository tracks this notebook under its original\n",
    "basename ``using_Updatable_class.ipynb``, we recommend that you copy the\n",
    "original notebook and rename it to any other basename that is not one of the\n",
    "original basenames that appear in the ``<root>/examples`` directory before\n",
    "executing any of the notebook cells below, where ``<root>`` is the root of the\n",
    "``fancytypes`` repository. This way you can explore the notebook by executing\n",
    "and modifying cells without changing the original notebook, which is being\n",
    "tracked by git."
   ]
  },
  {
   "cell_type": "markdown",
   "id": "12b0d90e",
   "metadata": {},
   "source": [
    "## Import necessary modules ##"
   ]
  },
  {
   "cell_type": "code",
   "execution_count": null,
   "id": "e7f9787f",
   "metadata": {},
   "outputs": [],
   "source": [
    "# For performing deep copies.\n",
    "import copy\n",
    "\n",
    "\n",
    "\n",
    "# For general array handling and constructing random number generators.\n",
    "import numpy as np\n",
    "\n",
    "# For validating and converting objects.\n",
    "import czekitout.check\n",
    "import czekitout.convert\n",
    "\n",
    "\n",
    "\n",
    "# The library that is the subject of this demonstration.\n",
    "import fancytypes"
   ]
  },
  {
   "cell_type": "markdown",
   "id": "e667d633",
   "metadata": {},
   "source": [
    "## Introduction ##"
   ]
  },
  {
   "cell_type": "markdown",
   "id": "ec7f2509",
   "metadata": {},
   "source": [
    "In this notebook, we use the ``fancytypes.Updatable`` class to define a class of\n",
    "\"slice shufflers\", which we define as objects that can shuffle/re-order the\n",
    "elements in a slice of a given array. This is a somewhat contrived example use\n",
    "of the ``fancytypes.Updatable`` class, however it is simple and complete. You \n",
    "can find the documentation for the ``fancytypes.Updatable`` class\n",
    "[here](https://mrfitzpa.github.io/fancytypes/_autosummary/fancytypes.Updatable.html).\n",
    "It is recommended that you consult the documentation of this class as you \n",
    "explore the notebook.\n",
    "\n",
    "This notebook also demonstrates how one can use the helper function \n",
    "``fancytypes.return_validation_and_conversion_funcs``. We use this function to\n",
    "define our class of slice shufflers. You can find the documentation for this\n",
    "helper function\n",
    "[here](https://mrfitzpa.github.io/fancytypes/_autosummary/fancytypes.return_validation_and_conversion_funcs.html)."
   ]
  },
  {
   "cell_type": "markdown",
   "id": "ee0993ba",
   "metadata": {},
   "source": [
    "## Defining the ``SliceShuffler`` class ##"
   ]
  },
  {
   "cell_type": "markdown",
   "id": "21a2529c",
   "metadata": {},
   "source": [
    "We define the ``SliceShuffler`` class as a subclass of the\n",
    "``fancytypes.Updatable`` class."
   ]
  },
  {
   "cell_type": "code",
   "execution_count": null,
   "id": "5bdd09c4",
   "metadata": {},
   "outputs": [],
   "source": [
    "# Define the validation and conversion functions.\n",
    "def _check_and_convert_slice_obj(params):\n",
    "    obj_name = \"slice_obj\"\n",
    "    kwargs = {\"obj\": params[obj_name],\n",
    "              \"obj_name\": obj_name,\n",
    "              \"accepted_types\": (slice,)}\n",
    "    czekitout.check.if_instance_of_any_accepted_types(**kwargs)\n",
    "    slice_obj = copy.deepcopy(params[obj_name])\n",
    "\n",
    "    return slice_obj\n",
    "\n",
    "def _check_and_convert_seed(params):\n",
    "    obj_name = \"seed\"\n",
    "    kwargs = {\"obj\": params[obj_name], \"obj_name\": obj_name}\n",
    "    seed = czekitout.convert.to_nonnegative_int(**kwargs)\n",
    "\n",
    "    return seed\n",
    "\n",
    "\n",
    "\n",
    "# Define the ``SliceShuffler`` class.\n",
    "class SliceShuffler(fancytypes.Updatable):\n",
    "    ctor_param_names = (\"slice_obj\", \"seed\")\n",
    "    kwargs = {\"namespace_as_dict\": globals(),\n",
    "              \"ctor_param_names\": ctor_param_names}\n",
    "\n",
    "    _validation_and_conversion_funcs_ = \\\n",
    "        fancytypes.return_validation_and_conversion_funcs(**kwargs)\n",
    "\n",
    "    del ctor_param_names, kwargs\n",
    "\n",
    "    def __init__(self, slice_obj, seed, skip_validation_and_conversion=False):\n",
    "        ctor_params = {key: val\n",
    "                       for key, val in locals().items()\n",
    "                       if (key not in (\"self\", \"__class__\"))}\n",
    "\n",
    "        # Set ``skip_cls_tests`` to ``True`` only if you are sure that the\n",
    "        # class that you have defined was done so properly, i.e. without errors.\n",
    "        skip_cls_tests = True\n",
    "\n",
    "        kwargs = ctor_params\n",
    "        kwargs[\"skip_cls_tests\"] = skip_cls_tests\n",
    "        fancytypes.Updatable.__init__(self, **kwargs)\n",
    "\n",
    "        self.execute_post_core_attrs_update_actions()\n",
    "\n",
    "        return None\n",
    "\n",
    "    def execute_post_core_attrs_update_actions(self):\n",
    "        seed = self.core_attrs[\"seed\"]\n",
    "        self._random_generator = np.random.default_rng(seed)\n",
    "\n",
    "        return None\n",
    "\n",
    "    @classmethod\n",
    "    def get_validation_and_conversion_funcs(cls):\n",
    "        validation_and_conversion_funcs = \\\n",
    "            cls._validation_and_conversion_funcs_.copy()\n",
    "\n",
    "        return validation_and_conversion_funcs\n",
    "\n",
    "    def shuffle(self, array):\n",
    "        try:\n",
    "            array = np.array(array)\n",
    "        except:\n",
    "            err_msg = (\"The object ``array`` must be array-like.\")\n",
    "            raise TypeError(err_msg)\n",
    "            \n",
    "        slice_obj = self.core_attrs[\"slice_obj\"]\n",
    "        array_slice = array[slice_obj]\n",
    "        self._random_generator.shuffle(array_slice)\n",
    "        array[slice_obj] = array_slice\n",
    "\n",
    "        return array\n",
    "\n",
    "    # Overriding the method ``fancytypes.Updatable.update`` such that additional\n",
    "    # steps are performed after updating any core attributes.\n",
    "    def update(self, \n",
    "               new_core_attr_subset_candidate, \n",
    "               skip_validation_and_conversion=False):\n",
    "        kwargs = {key: val\n",
    "                  for key, val in locals().items()\n",
    "                  if (key not in (\"self\", \"__class__\"))}\n",
    "        fancytypes.Updatable.update(self, **kwargs)\n",
    "        self.execute_post_core_attrs_update_actions()\n",
    "\n",
    "        return None"
   ]
  },
  {
   "cell_type": "markdown",
   "id": "75d799c1",
   "metadata": {},
   "source": [
    "## Using the ``SliceShuffler`` class ##"
   ]
  },
  {
   "cell_type": "markdown",
   "id": "6666ce06",
   "metadata": {},
   "source": [
    "First let's construct a valid instance of the ``SliceShuffler`` class with \n",
    "validation and conversion of the parameters to be mapped to the \n",
    "\"core attributes\" enabled."
   ]
  },
  {
   "cell_type": "code",
   "execution_count": null,
   "id": "bfc7801c",
   "metadata": {},
   "outputs": [],
   "source": [
    "kwargs = {\"slice_obj\": slice(None, 6, 1), \n",
    "          \"seed\": 5.0, \n",
    "          \"skip_validation_and_conversion\": False}\n",
    "slice_shuffler = SliceShuffler(**kwargs)"
   ]
  },
  {
   "cell_type": "markdown",
   "id": "4278954d-fef9-40b4-8e31-1f6e9022c289",
   "metadata": {},
   "source": [
    "There are 3 ways of accessing the core attributes via the public API:"
   ]
  },
  {
   "cell_type": "code",
   "execution_count": null,
   "id": "db5ddda9-b02a-4a88-bd3e-bf3062693f24",
   "metadata": {},
   "outputs": [],
   "source": [
    "# Returns a deep copy.\n",
    "core_attrs = slice_shuffler.core_attrs\n",
    "print(core_attrs)\n",
    "\n",
    "# Returns a deep copy.\n",
    "core_attrs = slice_shuffler.get_core_attrs(deep_copy=True)\n",
    "print(core_attrs)\n",
    "\n",
    "# Returns a reference, i.e. no copy is made. \n",
    "core_attrs = slice_shuffler.get_core_attrs(deep_copy=False)\n",
    "print(core_attrs)"
   ]
  },
  {
   "cell_type": "markdown",
   "id": "b9cc7d1b-6d00-44c1-a7d3-a801d48f9d61",
   "metadata": {},
   "source": [
    "There is 1 way of accessing the validation and conversion functions via the \n",
    "public API:"
   ]
  },
  {
   "cell_type": "code",
   "execution_count": null,
   "id": "cfb7974e-6759-4ee4-950b-87b92879a426",
   "metadata": {},
   "outputs": [],
   "source": [
    "# Returns a deep copy.\n",
    "validation_and_conversion_funcs = \\\n",
    "    slice_shuffler.validation_and_conversion_funcs\n",
    "\n",
    "print(validation_and_conversion_funcs)"
   ]
  },
  {
   "cell_type": "markdown",
   "id": "04d710e2-d8fe-4336-be3e-1a2853ebfe26",
   "metadata": {},
   "source": [
    "Next let's construct a valid instance of the SliceShuffler class with validation\n",
    "and conversion of the parameters to be mapped to the core attributes disabled. \n",
    "This option is desired primarily when the user wants to avoid potentially \n",
    "expensive copies and/or conversions of the parameters to be mapped to the core \n",
    "attributes. However, users must ensure that the construction parameters are \n",
    "valid and require no conversions."
   ]
  },
  {
   "cell_type": "code",
   "execution_count": null,
   "id": "e275772b-c80d-4966-8992-9481c95043eb",
   "metadata": {},
   "outputs": [],
   "source": [
    "kwargs = {\"slice_obj\": slice(None, 6, 1), \n",
    "          \"seed\": 5,  # Manually converted parameter to a `int` as required.\n",
    "          \"skip_validation_and_conversion\": True}\n",
    "slice_shuffler = SliceShuffler(**kwargs)\n",
    "\n",
    "core_attrs = slice_shuffler.core_attrs\n",
    "print(core_attrs)"
   ]
  },
  {
   "cell_type": "markdown",
   "id": "b65c3b10",
   "metadata": {},
   "source": [
    "Let's shuffle an array using the class."
   ]
  },
  {
   "cell_type": "code",
   "execution_count": null,
   "id": "63b797ed",
   "metadata": {},
   "outputs": [],
   "source": [
    "array = [0, 1, 2, 3, 4, 5, 6, 7, 8, 9]\n",
    "shuffled_array = slice_shuffler.shuffle(array)\n",
    "shuffled_array"
   ]
  },
  {
   "cell_type": "markdown",
   "id": "8545a2ac-d913-442e-9c7c-c331c2ccf20d",
   "metadata": {},
   "source": [
    "Let's update the slice shuffler with validations and conversions enabled. Again,\n",
    "users can optionally disable validations and conversions to avoid potentially\n",
    "expensive copies and/or conversions."
   ]
  },
  {
   "cell_type": "code",
   "execution_count": null,
   "id": "ab654d7f-cacc-4790-9ca5-1d27c110f478",
   "metadata": {},
   "outputs": [],
   "source": [
    "new_core_attr_subset_candidate = {\"slice_obj\": slice(3, None, 1)}\n",
    "kwargs = {\"new_core_attr_subset_candidate\": new_core_attr_subset_candidate,\n",
    "          \"skip_validation_and_conversion\": False}\n",
    "slice_shuffler.update(**kwargs)\n",
    "\n",
    "print(slice_shuffler.core_attrs)"
   ]
  },
  {
   "cell_type": "markdown",
   "id": "d0470ee9",
   "metadata": {},
   "source": [
    "Let's shuffle the original array again."
   ]
  },
  {
   "cell_type": "code",
   "execution_count": null,
   "id": "f4a8fb70",
   "metadata": {},
   "outputs": [],
   "source": [
    "shuffled_array = slice_shuffler.shuffle(array)\n",
    "shuffled_array"
   ]
  },
  {
   "cell_type": "markdown",
   "id": "ef68ba33",
   "metadata": {},
   "source": [
    "Let's update the slice shuffler again."
   ]
  },
  {
   "cell_type": "code",
   "execution_count": null,
   "id": "52a271e8-0df1-44f8-92d2-b90be6454b71",
   "metadata": {},
   "outputs": [],
   "source": [
    "new_core_attr_subset_candidate = {\"slice_obj\": slice(3, 7, 1), \"seed\": 2}\n",
    "kwargs = {\"new_core_attr_subset_candidate\": new_core_attr_subset_candidate,\n",
    "          \"skip_validation_and_conversion\": True}\n",
    "slice_shuffler.update(**kwargs)\n",
    "\n",
    "print(slice_shuffler.core_attrs)"
   ]
  },
  {
   "cell_type": "markdown",
   "id": "569f6517",
   "metadata": {},
   "source": [
    "Let's shuffle the original array again."
   ]
  },
  {
   "cell_type": "code",
   "execution_count": null,
   "id": "96fff60c",
   "metadata": {},
   "outputs": [],
   "source": [
    "shuffled_array = slice_shuffler.shuffle(array)\n",
    "shuffled_array"
   ]
  },
  {
   "cell_type": "markdown",
   "id": "326eb18b",
   "metadata": {},
   "source": [
    "Let's try constructing instances of the ``SliceShuffler`` class with invalid\n",
    "construction parameters. The following two codes blocks return errors as \n",
    "expected:"
   ]
  },
  {
   "cell_type": "code",
   "execution_count": null,
   "id": "f3d03af8",
   "metadata": {},
   "outputs": [],
   "source": [
    "# Note that by default ``skip_validation_and_conversion == False``.\n",
    "kwargs = {\"slice_obj\": 3, \"seed\": 5.0}\n",
    "slice_shuffler = SliceShuffler(**kwargs)"
   ]
  },
  {
   "cell_type": "code",
   "execution_count": null,
   "id": "18357d52",
   "metadata": {},
   "outputs": [],
   "source": [
    "kwargs = {\"slice_obj\": slice(None, 6, 1), \"seed\": \"foo\"}\n",
    "slice_shuffler = SliceShuffler(slice_obj=slice(None, 6, 1), seed=\"foo\")"
   ]
  },
  {
   "cell_type": "markdown",
   "id": "9b0157b2",
   "metadata": {},
   "source": [
    "Note that being a direct subclass of the ``fancytypes.Updatable`` class, the\n",
    "``SliceShuffler`` class supports updatable core attributes, and validation upon\n",
    "construction and updates, but it does not support pre-serialization, or\n",
    "de-pre-serializable.\n",
    "\n",
    "The ``fancytypes.Checkable`` class only supports validation upon constructing\n",
    "instances.\n",
    "\n",
    "The ``fancytypes.PreSerializable`` class supports pre-serialization,\n",
    "de-serialization, and enforces validation upon constructing instances, but it\n",
    "does not support updatable core attributes.\n",
    "\n",
    "The ``fancytypes.PreSerializableAndUpdatable`` class supports pre-serialization,\n",
    "de-serialization, updatable core attributes, and enforces validation upon\n",
    "constructing or updating instances."
   ]
  }
 ],
 "metadata": {
  "kernelspec": {
   "display_name": "Python 3 (ipykernel)",
   "language": "python",
   "name": "python3"
  },
  "language_info": {
   "codemirror_mode": {
    "name": "ipython",
    "version": 3
   },
   "file_extension": ".py",
   "mimetype": "text/x-python",
   "name": "python",
   "nbconvert_exporter": "python",
   "pygments_lexer": "ipython3",
   "version": "3.12.4"
  }
 },
 "nbformat": 4,
 "nbformat_minor": 5
}
