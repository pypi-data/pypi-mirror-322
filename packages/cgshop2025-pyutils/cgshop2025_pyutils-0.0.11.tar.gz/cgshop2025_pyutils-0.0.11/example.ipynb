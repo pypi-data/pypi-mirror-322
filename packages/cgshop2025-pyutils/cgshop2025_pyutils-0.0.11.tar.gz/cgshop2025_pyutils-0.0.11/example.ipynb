{
 "cells": [
  {
   "cell_type": "markdown",
   "metadata": {},
   "source": [
    "# Example usage of the PyUtils to verify your solutions\n",
    "\n",
    "We will use the instance database to easily iterate over all instances in the benchmark.\n",
    "We will compute a solution for each of them using the naive solver, which is essentially only a constrained delaunay triangulation, without the use of steiner points.\n",
    "We will use the ZipWriter to easily create a valid submission file.\n",
    "Finally, we will check the validity of the solution using the SolutionChecker."
   ]
  },
  {
   "cell_type": "code",
   "execution_count": 1,
   "metadata": {},
   "outputs": [],
   "source": [
    "from pathlib import Path\n",
    "\n",
    "from cgshop2025_pyutils import (\n",
    "    DelaunayBasedSolver,\n",
    "    InstanceDatabase,\n",
    "    ZipSolutionIterator,\n",
    "    ZipWriter,\n",
    "    verify,\n",
    ")"
   ]
  },
  {
   "cell_type": "code",
   "execution_count": 2,
   "metadata": {},
   "outputs": [],
   "source": [
    "# Load the instances from the example_instances folder. Instead of referring to the folder,\n",
    "# you can also give a path to a zip file.\n",
    "idb = InstanceDatabase(\"example_instances/\")"
   ]
  },
  {
   "cell_type": "code",
   "execution_count": 3,
   "metadata": {},
   "outputs": [],
   "source": [
    "# If the solution zip file already exists, delete it\n",
    "if Path(\"example_solutions.zip\").exists():\n",
    "    Path(\"example_solutions.zip\").unlink()"
   ]
  },
  {
   "cell_type": "code",
   "execution_count": 4,
   "metadata": {},
   "outputs": [],
   "source": [
    "# Compute solutions for all instances using the provided (naive) solver\n",
    "solutions = []\n",
    "for instance in idb:\n",
    "    solver = DelaunayBasedSolver(instance)\n",
    "    solution = solver.solve()\n",
    "    solutions.append(solution)"
   ]
  },
  {
   "cell_type": "code",
   "execution_count": 5,
   "metadata": {},
   "outputs": [],
   "source": [
    "# Write the solutions to a new zip file\n",
    "with ZipWriter(\"example_solutions.zip\") as zw:\n",
    "    for solution in solutions:\n",
    "        zw.add_solution(solution)"
   ]
  },
  {
   "cell_type": "code",
   "execution_count": 6,
   "metadata": {},
   "outputs": [
    {
     "name": "stdout",
     "output_type": "stream",
     "text": [
      "cgshop2025_examples_simple-polygon_250_7129aa6f: num_obtuse_triangles=105 num_steiner_points=0 errors=[]\n",
      "cgshop2025_examples_point-set_80_3d8b193e: num_obtuse_triangles=90 num_steiner_points=0 errors=[]\n",
      "cgshop2025_examples_simple-polygon_60_72ceda18: num_obtuse_triangles=27 num_steiner_points=0 errors=[]\n",
      "cgshop2025_examples_simple-polygon_150_93dc034e: num_obtuse_triangles=67 num_steiner_points=0 errors=[]\n",
      "cgshop2025_examples_simple-polygon-exterior-20_80_23272e96: num_obtuse_triangles=89 num_steiner_points=0 errors=[]\n",
      "cgshop2025_examples_simple-polygon-exterior_20_98b56c77: num_obtuse_triangles=18 num_steiner_points=0 errors=[]\n",
      "cgshop2025_examples_ortho_20_b099d1fe: num_obtuse_triangles=11 num_steiner_points=0 errors=[]\n",
      "cgshop2025_examples_simple-polygon-exterior-20_20_80175658: num_obtuse_triangles=21 num_steiner_points=0 errors=[]\n",
      "cgshop2025_examples_ortho_40_e5365b34: num_obtuse_triangles=17 num_steiner_points=0 errors=[]\n",
      "cgshop2025_examples_point-set_40_16c501a5: num_obtuse_triangles=45 num_steiner_points=0 errors=[]\n",
      "cgshop2025_examples_simple-polygon-exterior-20_150_b988b15c: num_obtuse_triangles=169 num_steiner_points=0 errors=[]\n",
      "cgshop2025_examples_simple-polygon-exterior_100_cab2e84d: num_obtuse_triangles=105 num_steiner_points=0 errors=[]\n",
      "cgshop2025_examples_ortho_10_ff68423e: num_obtuse_triangles=2 num_steiner_points=0 errors=[]\n",
      "cgshop2025_examples_point-set_150_3334f8a1: num_obtuse_triangles=145 num_steiner_points=0 errors=[]\n",
      "cgshop2025_examples_simple-polygon_80_9365715c: num_obtuse_triangles=36 num_steiner_points=0 errors=[]\n",
      "cgshop2025_examples_ortho_150_a39ede60: num_obtuse_triangles=57 num_steiner_points=0 errors=[]\n",
      "cgshop2025_examples_simple-polygon_100_3b35441e: num_obtuse_triangles=56 num_steiner_points=0 errors=[]\n",
      "cgshop2025_examples_ortho_250_d9594e89: num_obtuse_triangles=110 num_steiner_points=0 errors=[]\n",
      "cgshop2025_examples_point-set_20_9816a49d: num_obtuse_triangles=20 num_steiner_points=0 errors=[]\n",
      "cgshop2025_examples_simple-polygon_10_81177380: num_obtuse_triangles=3 num_steiner_points=0 errors=[]\n",
      "cgshop2025_examples_simple-polygon-exterior_250_e264ffed: num_obtuse_triangles=235 num_steiner_points=0 errors=[]\n",
      "cgshop2025_examples_simple-polygon_20_4a633781: num_obtuse_triangles=7 num_steiner_points=0 errors=[]\n",
      "cgshop2025_examples_simple-polygon-exterior-20_10_a557fecb: num_obtuse_triangles=6 num_steiner_points=0 errors=[]\n",
      "cgshop2025_examples_simple-polygon-exterior_10_34daa0f6: num_obtuse_triangles=10 num_steiner_points=0 errors=[]\n",
      "cgshop2025_examples_simple-polygon-exterior_40_3df495b2: num_obtuse_triangles=41 num_steiner_points=0 errors=[]\n",
      "cgshop2025_examples_simple-polygon-exterior-20_40_97467655: num_obtuse_triangles=48 num_steiner_points=0 errors=[]\n",
      "cgshop2025_examples_simple-polygon_40_986defab: num_obtuse_triangles=20 num_steiner_points=0 errors=[]\n",
      "cgshop2025_examples_simple-polygon-exterior-20_60_5da99fdb: num_obtuse_triangles=53 num_steiner_points=0 errors=[]\n",
      "cgshop2025_examples_simple-polygon-exterior_60_82e60438: num_obtuse_triangles=60 num_steiner_points=0 errors=[]\n",
      "cgshop2025_examples_point-set_60_340abec8: num_obtuse_triangles=62 num_steiner_points=0 errors=[]\n",
      "cgshop2025_examples_point-set_250_c4545664: num_obtuse_triangles=242 num_steiner_points=0 errors=[]\n",
      "cgshop2025_examples_point-set_100_5da0b4c3: num_obtuse_triangles=96 num_steiner_points=0 errors=[]\n",
      "cgshop2025_examples_simple-polygon-exterior-20_100_a61e9aed: num_obtuse_triangles=105 num_steiner_points=0 errors=[]\n",
      "cgshop2025_examples_simple-polygon-exterior_80_a3bb9743: num_obtuse_triangles=96 num_steiner_points=0 errors=[]\n",
      "cgshop2025_examples_ortho_100_5b9b478f: num_obtuse_triangles=46 num_steiner_points=0 errors=[]\n",
      "cgshop2025_examples_point-set_10_b4ff36df: num_obtuse_triangles=7 num_steiner_points=0 errors=[]\n",
      "cgshop2025_examples_ortho_80_f9b89ad1: num_obtuse_triangles=37 num_steiner_points=0 errors=[]\n",
      "cgshop2025_examples_ortho_60_f31194db: num_obtuse_triangles=27 num_steiner_points=0 errors=[]\n",
      "cgshop2025_examples_simple-polygon-exterior_150_c5de53a9: num_obtuse_triangles=155 num_steiner_points=0 errors=[]\n",
      "cgshop2025_examples_simple-polygon-exterior-20_250_329290ff: num_obtuse_triangles=244 num_steiner_points=0 errors=[]\n"
     ]
    }
   ],
   "source": [
    "# Verify the solutions\n",
    "for solution in ZipSolutionIterator(\"example_solutions.zip\"):\n",
    "    instance = idb[solution.instance_uid]\n",
    "    result = verify(instance, solution)\n",
    "    print(f\"{solution.instance_uid}: {result}\")\n",
    "    assert not result.errors, \"Expect no errors.\""
   ]
  }
 ],
 "metadata": {
  "kernelspec": {
   "display_name": "mo312",
   "language": "python",
   "name": "python3"
  },
  "language_info": {
   "codemirror_mode": {
    "name": "ipython",
    "version": 3
   },
   "file_extension": ".py",
   "mimetype": "text/x-python",
   "name": "python",
   "nbconvert_exporter": "python",
   "pygments_lexer": "ipython3",
   "version": "3.12.2"
  }
 },
 "nbformat": 4,
 "nbformat_minor": 2
}
