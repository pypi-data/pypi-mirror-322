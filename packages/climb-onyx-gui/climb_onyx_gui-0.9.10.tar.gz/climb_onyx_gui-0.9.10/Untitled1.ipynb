{
 "cells": [
  {
   "cell_type": "markdown",
   "id": "bc555393-930f-4287-8019-1c0aec50e4b7",
   "metadata": {},
   "source": [
    "## Reading RabitMQ"
   ]
  },
  {
   "cell_type": "code",
   "execution_count": 1,
   "id": "73ad48af-cdfa-4a14-b687-e89eb5ac066d",
   "metadata": {},
   "outputs": [],
   "source": [
    "from varys import Varys\n",
    "\n",
    "open('varys_test.log', 'w').close()\n",
    "\n",
    "varys_client = Varys(\n",
    "    config_path  = \"varys_config.cfg\",\n",
    "    profile=\"test\",\n",
    "    logfile=\"varys_test.log\",\n",
    "    log_level=\"DEBUG\"\n",
    ")"
   ]
  },
  {
   "cell_type": "code",
   "execution_count": 2,
   "id": "cfe6bbda-aa8b-422d-b28e-aaf715db99ca",
   "metadata": {},
   "outputs": [],
   "source": [
    "message = {\"foo\": \"bar\"}\n",
    "\n",
    "varys_client.send(message=message,\n",
    "    exchange=\"test_exchange\",\n",
    "    queue_suffix=\"test_suffix\"\n",
    ")"
   ]
  },
  {
   "cell_type": "code",
   "execution_count": 3,
   "id": "5211275b-bb76-47c7-9003-229561d51328",
   "metadata": {},
   "outputs": [
    {
     "name": "stdout",
     "output_type": "stream",
     "text": [
      "[varys_message(basic_deliver=<Basic.Deliver(['consumer_tag=ctag1.622baac6940b48ac9fb52d95998e7132', 'delivery_tag=1', 'exchange=test_exchange', 'redelivered=False', 'routing_key=arbitrary_string'])>, properties=<BasicProperties(['content_type=json', 'delivery_mode=2'])>, body=b'{\"foo\": \"bar\"}')]\n"
     ]
    }
   ],
   "source": [
    "import json\n",
    "\n",
    "message = varys_client.receive_batch(exchange=\"test_exchange\",\n",
    "    queue_suffix=\"test_suffix\",\n",
    "    timeout=5,\n",
    ")\n",
    "\n",
    "print(message)"
   ]
  },
  {
   "cell_type": "code",
   "execution_count": 4,
   "id": "46a001e0-c9d6-4aed-9334-46eb03a4d24f",
   "metadata": {},
   "outputs": [
    {
     "name": "stderr",
     "output_type": "stream",
     "text": [
      "Producer caught exception:\n",
      "Traceback (most recent call last):\n",
      "  File \"C:\\Users\\butchena\\.conda\\envs\\jupyterlab-ext\\Lib\\site-packages\\varys\\producer.py\", line 91, in run\n",
      "    self._connection.process_data_events(time_limit=1)\n",
      "  File \"C:\\Users\\butchena\\.conda\\envs\\jupyterlab-ext\\Lib\\site-packages\\pika\\adapters\\blocking_connection.py\", line 844, in process_data_events\n",
      "    with _IoloopTimerContext(time_limit, self._impl) as timer:\n",
      "  File \"C:\\Users\\butchena\\.conda\\envs\\jupyterlab-ext\\Lib\\site-packages\\pika\\adapters\\blocking_connection.py\", line 190, in __enter__\n",
      "    self._timer_handle = self._connection._adapter_call_later(\n",
      "                         ^^^^^^^^^^^^^^^^^^^^^^^^^^^^^^^^^^^^^\n",
      "  File \"C:\\Users\\butchena\\.conda\\envs\\jupyterlab-ext\\Lib\\site-packages\\pika\\adapters\\base_connection.py\", line 205, in _adapter_call_later\n",
      "    return self._nbio.call_later(delay, callback)\n",
      "           ^^^^^^^^^^^^^^^^^^^^^^^^^^^^^^^^^^^^^^\n",
      "  File \"C:\\Users\\butchena\\.conda\\envs\\jupyterlab-ext\\Lib\\site-packages\\pika\\adapters\\utils\\selector_ioloop_adapter.py\", line 222, in call_later\n",
      "    return _TimerHandle(self._loop.call_later(delay, callback), self._loop)\n",
      "                        ^^^^^^^^^^^^^^^^^^^^^^^^^^^^^^^^^^^^^^\n",
      "  File \"C:\\Users\\butchena\\.conda\\envs\\jupyterlab-ext\\Lib\\site-packages\\pika\\adapters\\select_connection.py\", line 447, in call_later\n",
      "    return self._timer.call_later(delay, callback)\n",
      "           ^^^^^^^^^^^^^^^^^^^^^^^^^^^^^^^^^^^^^^^\n",
      "  File \"C:\\Users\\butchena\\.conda\\envs\\jupyterlab-ext\\Lib\\site-packages\\pika\\adapters\\select_connection.py\", line 251, in call_later\n",
      "    raise ValueError(\"Timeout closed before call\")\n",
      "ValueError: Timeout closed before call\n"
     ]
    }
   ],
   "source": [
    "varys_client.close()"
   ]
  },
  {
   "cell_type": "code",
   "execution_count": null,
   "id": "b154796b-bc92-4656-b27d-a3cf4eb20f5c",
   "metadata": {},
   "outputs": [],
   "source": []
  }
 ],
 "metadata": {
  "kernelspec": {
   "display_name": "Python 3 (ipykernel)",
   "language": "python",
   "name": "python3"
  },
  "language_info": {
   "codemirror_mode": {
    "name": "ipython",
    "version": 3
   },
   "file_extension": ".py",
   "mimetype": "text/x-python",
   "name": "python",
   "nbconvert_exporter": "python",
   "pygments_lexer": "ipython3",
   "version": "3.12.3"
  }
 },
 "nbformat": 4,
 "nbformat_minor": 5
}
