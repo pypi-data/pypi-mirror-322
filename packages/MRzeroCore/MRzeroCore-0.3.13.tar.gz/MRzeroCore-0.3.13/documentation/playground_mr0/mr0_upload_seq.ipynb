{
 "cells": [
  {
   "cell_type": "code",
   "execution_count": null,
   "metadata": {},
   "outputs": [],
   "source": [
    "# @title On Google Colab, you need to restart the runtime after executing this cell\n",
    "!pip install numpy==1.24"
   ]
  },
  {
   "cell_type": "code",
   "execution_count": null,
   "metadata": {
    "executionInfo": {
     "elapsed": 35977,
     "status": "ok",
     "timestamp": 1697530207452,
     "user": {
      "displayName": "Nam Dang Hoai",
      "userId": "02635860293668533842"
     },
     "user_tz": -120
    },
    "id": "vTjDmgyofjbF",
    "tags": []
   },
   "outputs": [],
   "source": [
    "# NOTE: you must install the version of pypulseq that matches the .seq file,\n",
    "# becuase pypulseq file loading is not backwards compatible.\n",
    "\n",
    "# for 1.3 files:\n",
    "!pip install pypulseq==1.3.1post1 &> /dev/null\n",
    "# for 1.4 files, use one of:\n",
    "# !pip install pypulseq &> /dev/null\n",
    "# !pip install git+https://github.com/imr-framework/pypulseq.git@dev &> /dev/null\n",
    "\n",
    "!pip install MRzeroCore &> /dev/null\n",
    "!wget https://github.com/MRsources/MRzero-Core/raw/main/documentation/playground_mr0/numerical_brain_cropped.mat &> /dev/null"
   ]
  },
  {
   "cell_type": "markdown",
   "metadata": {
    "id": "kW_eOCdVUzNa"
   },
   "source": [
    "(mr0_upload_seq)=\n",
    "# Upload own seq files\n",
    "Here  you can upload and simulate own seq files.\n",
    "Some tested seq-files can be found [here](https://drive.google.com/drive/folders/1EfQRpSXypv3O-t8qn0C6m16xlya_B2Pg). You can download them and then reupload one of these, or an own own seq-file and then simulate them in a brain phantom.\n"
   ]
  },
  {
   "cell_type": "code",
   "execution_count": null,
   "metadata": {
    "colab": {
     "base_uri": "https://localhost:8080/",
     "height": 1000
    },
    "executionInfo": {
     "elapsed": 1088880,
     "status": "ok",
     "timestamp": 1697531346993,
     "user": {
      "displayName": "Nam Dang Hoai",
      "userId": "02635860293668533842"
     },
     "user_tz": -120
    },
    "id": "HTYTghFLjeCY",
    "outputId": "76547d2c-9955-4e50-cc32-dd1be588b650"
   },
   "outputs": [],
   "source": [
    "#@title 1. Imports\n",
    "import numpy as np\n",
    "# newer numpy versions don't contain this, but pypulseq still relies on it\n",
    "np.int = int\n",
    "np.float = float\n",
    "np.complex = complex\n",
    "\n",
    "import MRzeroCore as mr0\n",
    "import pypulseq as pp\n",
    "import torch\n",
    "import matplotlib.pyplot as plt\n",
    "\n",
    "plt.rcParams['figure.figsize'] = [10, 5]\n",
    "plt.rcParams['figure.dpi'] = 100 # 200 e.g. is really fine, but slower"
   ]
  },
  {
   "cell_type": "code",
   "execution_count": null,
   "metadata": {
    "colab": {
     "base_uri": "https://localhost:8080/",
     "height": 73
    },
    "executionInfo": {
     "elapsed": 25350,
     "status": "ok",
     "timestamp": 1697530238778,
     "user": {
      "displayName": "Nam Dang Hoai",
      "userId": "02635860293668533842"
     },
     "user_tz": -120
    },
    "id": "O-_sr6lZjR_n",
    "outputId": "aba3fa41-b025-462f-ac23-f6074afb978d"
   },
   "outputs": [],
   "source": [
    "#@title 2. upload seq file\n",
    "try:\n",
    "    # This only runs on google colab\n",
    "    from google.colab import files\n",
    "    uploaded = files.upload()\n",
    "    seq_file = next(iter(uploaded))\n",
    "except ImportError:\n",
    "    # Local example file for doc build\n",
    "    seq_file = \"tse_pypulseq.seq\"\n",
    "\n",
    "seq = pp.Sequence()\n",
    "seq.read(seq_file)"
   ]
  },
  {
   "cell_type": "code",
   "execution_count": null,
   "metadata": {
    "tags": []
   },
   "outputs": [],
   "source": [
    "#@title 3. Set up spin system and simulate sequence\n",
    "plot_phantom = False #@param {type:\"boolean\"}\n",
    "pixel_phantom = False #@param {type:\"boolean\"}\n",
    "sz = [64, 64]\n",
    "\n",
    "print('load phantom')\n",
    "if pixel_phantom:\n",
    "    obj_p = mr0.CustomVoxelPhantom(\n",
    "        pos=[[-0.25, -0.25, 0]],\n",
    "        PD=[1.0],\n",
    "        T1=[3.0],\n",
    "        T2=[0.5],\n",
    "        T2dash=[30e-3],\n",
    "        D=[0.0],\n",
    "        B0=0,\n",
    "        voxel_size=0.1,\n",
    "        voxel_shape=\"box\"\n",
    "    )\n",
    "else:\n",
    "    obj_p = mr0.VoxelGridPhantom.load_mat('numerical_brain_cropped.mat')\n",
    "    brain_phantom_res = 64 #@param {type:\"slider\", min:16, max:128, step:16}\n",
    "    obj_p = obj_p.interpolate(brain_phantom_res, brain_phantom_res, 1)\n",
    "    obj_p.B0[:] = 0\n",
    "    # obj_p.D[:] = 0\n",
    "\n",
    "if plot_phantom:\n",
    "    obj_p.plot()\n",
    "obj_p = obj_p.build()\n",
    "\n",
    "# obj_p.size = torch.tensor([0.3, 0.5, 0.003])\n",
    "\n",
    "print('simulate (2D) \\n' + seq_file)\n",
    "\n",
    "# exact_trajectories are only important for diffusion weighted sequences\n",
    "seq0 = mr0.Sequence.import_file(seq_file)\n",
    "\n",
    "# Simulate the sequence\n",
    "graph = mr0.compute_graph(seq0, obj_p, 200, 1e-3)\n",
    "signal = mr0.execute_graph(graph, seq0, obj_p, print_progress=False)"
   ]
  },
  {
   "cell_type": "code",
   "execution_count": null,
   "metadata": {
    "colab": {
     "base_uri": "https://localhost:8080/",
     "height": 887
    },
    "executionInfo": {
     "elapsed": 4415,
     "status": "ok",
     "timestamp": 1689758233954,
     "user": {
      "displayName": "Jonathan Endres",
      "userId": "15767859839481375594"
     },
     "user_tz": -120
    },
    "id": "uLlcta8qwU5L",
    "outputId": "96170a14-7667-4805-a5ed-57c298070176"
   },
   "outputs": [],
   "source": [
    "#@title 3. Plot sequence and reconstructed image\n",
    "\n",
    "if False:\n",
    "    # This works since pypulseq 1.4, which introduced the plot_now argument\n",
    "    seq.plot(plot_now=False)\n",
    "    mr0.util.insert_signal_plot(seq, signal.numpy())\n",
    "    plt.show()\n",
    "else:\n",
    "    # This works for older pypulseq versions expect the newest dev branch\n",
    "    sp_adc, t_adc = mr0.util.pulseq_plot(seq=seq,signal=signal.numpy())\n",
    "\n",
    "# Unfortunately, we need to limit the resolution as reco_adjoint is very RAM-hungy\n",
    "print('reconstruct and plot')\n",
    "seq0.plot_kspace_trajectory()\n",
    "\n",
    "reco = mr0.reco_adjoint(signal, seq0.get_kspace(), resolution=(64, 64, 1), FOV=(0.2, 0.2, 1))\n",
    "plt.figure()\n",
    "plt.subplot(121)\n",
    "plt.title(\"Magnitude\")\n",
    "plt.imshow(reco[:, :, 0].T.abs(), origin=\"lower\")\n",
    "plt.colorbar()\n",
    "plt.subplot(122)\n",
    "plt.title(\"Phase\")\n",
    "plt.imshow(reco[:, :, 0].T.angle(), origin=\"lower\", vmin=-np.pi, vmax=np.pi)\n",
    "plt.colorbar()\n",
    "plt.show()"
   ]
  }
 ],
 "metadata": {
  "colab": {
   "provenance": [
    {
     "file_id": "1uTk3lc-O3xZS-rLDSkOLEYVV1rM0UTDJ",
     "timestamp": 1676904915190
    },
    {
     "file_id": "1lnFKubthQBxkz19cY7ScS-S0Hj9vHjEj",
     "timestamp": 1676708491940
    }
   ]
  },
  "kernelspec": {
   "display_name": ".env",
   "language": "python",
   "name": "python3"
  },
  "language_info": {
   "codemirror_mode": {
    "name": "ipython",
    "version": 3
   },
   "file_extension": ".py",
   "mimetype": "text/x-python",
   "name": "python",
   "nbconvert_exporter": "python",
   "pygments_lexer": "ipython3",
   "version": "3.11.4"
  }
 },
 "nbformat": 4,
 "nbformat_minor": 0
}
