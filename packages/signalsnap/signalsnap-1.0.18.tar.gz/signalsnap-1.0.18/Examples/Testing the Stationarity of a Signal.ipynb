{
 "cells": [
  {
   "cell_type": "markdown",
   "source": [
    "# Testing the Stationarity of a Signal"
   ],
   "metadata": {
    "collapsed": false
   }
  },
  {
   "cell_type": "code",
   "execution_count": 1,
   "source": [
    "from signalsnap import SpectrumCalculator, SpectrumConfig, PlotConfig\n",
    "import numpy as np"
   ],
   "metadata": {
    "collapsed": false,
    "ExecuteTime": {
     "end_time": "2023-10-17T09:48:55.538832Z",
     "start_time": "2023-10-17T09:48:51.853218Z"
    }
   },
   "outputs": []
  },
  {
   "cell_type": "markdown",
   "source": [
    "From a mathematical point of view, a signal must be stationary in order to calculate a spectrum from it. This means that each windows follows the same statistical properties. Here, we show one way to test if a signal is stationary. We are generating a counterexample, where the frequency of an oscillation is increasing over time."
   ],
   "metadata": {
    "collapsed": false
   }
  },
  {
   "cell_type": "code",
   "execution_count": 2,
   "source": [
    "# ------- creat complex noise --------\n",
    "t_array = np.arange(0, 1e6, 1) # in s\n",
    "dt = t_array[1] - t_array[0]\n",
    "f_max = 1 / dt / 2\n",
    "print('f_Nyquist =', f_max, 'Hz')\n",
    "\n",
    "white_noise_real = np.random.normal(size=len(t_array))\n",
    "white_noise_imag = 1j * np.random.normal(size=len(t_array))\n",
    "\n",
    "noise = white_noise_real + white_noise_imag\n",
    "\n",
    "# ------- filter noise ---------\n",
    "def dydt(y, t, omega_0, gamma, noise):\n",
    "    return + 1j * omega_0[int(t)] * y - gamma * y + noise[int(t)] / 10\n",
    "\n",
    "y0 = 0\n",
    "omega_0 = 2 * np.pi * np.linspace(0.001, 0.004, len(t_array))\n",
    "gamma = 0.001\n",
    "\n",
    "# ------- integrate with euler method --------\n",
    "y = 1j * np.empty_like(t_array)\n",
    "y[0] = y0\n",
    "for i in range(1, len(t_array)):\n",
    "    y[i] = y[i-1] + dt * dydt(y[i-1], t_array[i-1], omega_0, gamma, noise)"
   ],
   "metadata": {
    "collapsed": false,
    "ExecuteTime": {
     "end_time": "2023-10-17T09:48:57.161955Z",
     "start_time": "2023-10-17T09:48:55.538258Z"
    }
   },
   "outputs": []
  },
  {
   "cell_type": "code",
   "execution_count": 5,
   "source": [
    "config = SpectrumConfig(data=np.real(y), delta_t=dt, f_unit='Hz', \n",
    "                        spectrum_size=51, order_in='all', \n",
    "                        f_max=0.01, backend='cpu', m_stationarity=1)\n",
    "\n",
    "spec = SpectrumCalculator(config)\n",
    "\n",
    "f, s, serr = spec.calc_spec()"
   ],
   "metadata": {
    "collapsed": false,
    "ExecuteTime": {
     "end_time": "2023-10-17T09:50:43.919132Z",
     "start_time": "2023-10-17T09:50:43.237722Z"
    }
   },
   "outputs": []
  },
  {
   "cell_type": "code",
   "execution_count": 6,
   "source": [
    "plot_config = PlotConfig(green_alpha=0.1, sigma=3)\n",
    "fig = spec.plot(plot_config)"
   ],
   "metadata": {
    "collapsed": false,
    "ExecuteTime": {
     "end_time": "2023-10-17T09:50:48.399601Z",
     "start_time": "2023-10-17T09:50:47.574254Z"
    }
   },
   "outputs": []
  },
  {
   "cell_type": "markdown",
   "source": [
    "The power spectrum shows a smeared out peak due to the averaging over all frames. However, the drifting frequency can be visualized by plotting power spectrum from `m_stationarity` frames against time."
   ],
   "metadata": {
    "collapsed": false
   }
  },
  {
   "cell_type": "code",
   "execution_count": 7,
   "source": [
    "fig = spec.stationarity_plot()"
   ],
   "metadata": {
    "collapsed": false,
    "ExecuteTime": {
     "end_time": "2023-10-17T09:51:00.889119Z",
     "start_time": "2023-10-17T09:51:00.357978Z"
    }
   },
   "outputs": []
  },
  {
   "cell_type": "code",
   "execution_count": null,
   "source": [],
   "metadata": {
    "collapsed": false
   },
   "outputs": []
  }
 ],
 "metadata": {
  "kernelspec": {
   "display_name": "Python 3",
   "language": "python",
   "name": "python3"
  },
  "language_info": {
   "codemirror_mode": {
    "name": "ipython",
    "version": 2
   },
   "file_extension": ".py",
   "mimetype": "text/x-python",
   "name": "python",
   "nbconvert_exporter": "python",
   "pygments_lexer": "ipython2",
   "version": "2.7.6"
  }
 },
 "nbformat": 4,
 "nbformat_minor": 0
}
