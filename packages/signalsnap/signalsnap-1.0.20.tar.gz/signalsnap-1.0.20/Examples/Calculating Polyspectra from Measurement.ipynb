{
 "cells": [
  {
   "cell_type": "markdown",
   "metadata": {
    "collapsed": true
   },
   "source": [
    "## Calculating Polyspectra from Dataset\n",
    "\n",
    "### Objective\n",
    "\n",
    "In this example, we will demonstrate how to calculate polyspectra up to a certain order from an HDF5 dataset using the `SpectrumCalculator` class from the `signalsnap` library."
   ]
  },
  {
   "cell_type": "markdown",
   "source": [
    "### Import Required Libraries"
   ],
   "metadata": {
    "collapsed": false
   }
  },
  {
   "cell_type": "code",
   "execution_count": 1,
   "source": [
    "from signalsnap import SpectrumCalculator, SpectrumConfig, PlotConfig"
   ],
   "metadata": {
    "collapsed": false,
    "pycharm": {
     "name": "#%% \n"
    },
    "ExecuteTime": {
     "end_time": "2024-01-25T15:26:55.813147Z",
     "start_time": "2024-01-25T15:26:52.674279Z"
    }
   },
   "outputs": []
  },
  {
   "cell_type": "markdown",
   "source": [
    "\n",
    "### Initialize Configuration\n",
    "\n",
    "Here, we set up a `SpectrumConfig` object to define various parameters for calculating the spectra. The parameters include:\n",
    "\n",
    "- `path`: The path to the HDF5 dataset.\n",
    "- `group_key`: The group within the HDF5 file where the dataset resides.\n",
    "- `dataset`: The specific dataset name within the group.\n",
    "- `f_unit`: The unit of frequency to be used in the spectra (e.g., 'kHz').\n",
    "- `spectrum_size`: The number of points in the resulting spectra.\n",
    "- `order_in`: The orders of the spectra to be calculated. `'all'` means orders 1 to 4.\n",
    "- `f_max`: The maximum frequency for the spectra.\n",
    "- `backend`: Computational backend to be used. Choose from 'cpu', 'opencl' for AMD GPUs, or 'cuda' for Nvidia GPUs.\n"
   ],
   "metadata": {
    "collapsed": false
   }
  },
  {
   "cell_type": "code",
   "execution_count": 2,
   "source": [
    "path = 'example_data/measurement.h5'\n",
    "group_key = 'day1'\n",
    "data_set = 'measurement1'\n",
    "f_unit = 'kHz'\n",
    "\n",
    "config = SpectrumConfig(\n",
    "    path=path,\n",
    "    group_key=group_key,\n",
    "    dataset=data_set,\n",
    "    f_unit=f_unit,\n",
    "    spectrum_size=100,\n",
    "    order_in='all',\n",
    "    f_max=2,\n",
    "    backend='opencl'\n",
    ")"
   ],
   "metadata": {
    "collapsed": false,
    "ExecuteTime": {
     "end_time": "2024-01-25T15:26:59.976975Z",
     "start_time": "2024-01-25T15:26:59.971702Z"
    }
   },
   "outputs": []
  },
  {
   "cell_type": "markdown",
   "source": [
    "### Create Spectrum Calculator Object\n",
    "\n",
    "We initialize a `SpectrumCalculator` object with the configuration settings. This object will be responsible for performing the actual calculations.\n"
   ],
   "metadata": {
    "collapsed": false
   }
  },
  {
   "cell_type": "code",
   "execution_count": 3,
   "source": [
    "spec = SpectrumCalculator(config)"
   ],
   "metadata": {
    "collapsed": false,
    "ExecuteTime": {
     "end_time": "2024-01-25T15:27:00.302886Z",
     "start_time": "2024-01-25T15:27:00.297386Z"
    }
   },
   "outputs": []
  },
  {
   "cell_type": "markdown",
   "source": [
    "### Calculate the Spectra\n",
    "\n",
    "Now, we invoke the `calc_spec()` method to calculate the spectra along with their errors.\n"
   ],
   "metadata": {
    "collapsed": false
   }
  },
  {
   "cell_type": "code",
   "execution_count": 4,
   "source": [
    "f, s, serr = spec.calc_spec()"
   ],
   "metadata": {
    "collapsed": false,
    "ExecuteTime": {
     "end_time": "2024-01-25T15:27:05.533948Z",
     "start_time": "2024-01-25T15:27:00.597835Z"
    }
   },
   "outputs": []
  },
  {
   "cell_type": "markdown",
   "source": [
    "### Plotting the Spectra\n",
    "\n",
    "Finally, we plot the calculated spectra. The significance of the spectra is shown using error bands. In 2D higher-order spectra, green pixels indicate statistically non-significant results, meaning more data would be needed for an accurate estimation.\n",
    "\n",
    "- `plot_orders`: Orders of the spectra to plot.\n",
    "- `sigma`: The number of standard deviations to use for calculating error bands.\n"
   ],
   "metadata": {
    "collapsed": false
   }
  },
  {
   "cell_type": "code",
   "execution_count": 19,
   "source": [
    "plot_config = PlotConfig(plot_orders=[2,3,4], sigma=3)\n",
    "fig = spec.plot(plot_config)"
   ],
   "metadata": {
    "collapsed": false,
    "ExecuteTime": {
     "end_time": "2024-01-25T13:43:02.162235Z",
     "start_time": "2024-01-25T13:43:01.148846Z"
    }
   },
   "outputs": []
  },
  {
   "cell_type": "code",
   "execution_count": 19,
   "source": [],
   "metadata": {
    "collapsed": false,
    "ExecuteTime": {
     "end_time": "2024-01-25T13:43:02.162802Z",
     "start_time": "2024-01-25T13:43:02.156543Z"
    }
   },
   "outputs": []
  },
  {
   "cell_type": "code",
   "execution_count": 19,
   "source": [],
   "metadata": {
    "collapsed": false,
    "ExecuteTime": {
     "end_time": "2024-01-25T13:43:02.173014Z",
     "start_time": "2024-01-25T13:43:02.161250Z"
    }
   },
   "outputs": []
  },
  {
   "cell_type": "code",
   "execution_count": 19,
   "source": [],
   "metadata": {
    "collapsed": false,
    "ExecuteTime": {
     "end_time": "2024-01-25T13:43:02.173373Z",
     "start_time": "2024-01-25T13:43:02.167659Z"
    }
   },
   "outputs": []
  },
  {
   "cell_type": "code",
   "execution_count": null,
   "source": [],
   "metadata": {
    "collapsed": false
   },
   "outputs": []
  }
 ],
 "metadata": {
  "kernelspec": {
   "display_name": "Python 3",
   "language": "python",
   "name": "python3"
  },
  "language_info": {
   "codemirror_mode": {
    "name": "ipython",
    "version": 2
   },
   "file_extension": ".py",
   "mimetype": "text/x-python",
   "name": "python",
   "nbconvert_exporter": "python",
   "pygments_lexer": "ipython2",
   "version": "2.7.6"
  },
  "pycharm": {
   "stem_cell": {
    "cell_type": "raw",
    "source": [],
    "metadata": {
     "collapsed": false
    }
   }
  }
 },
 "nbformat": 4,
 "nbformat_minor": 0
}
