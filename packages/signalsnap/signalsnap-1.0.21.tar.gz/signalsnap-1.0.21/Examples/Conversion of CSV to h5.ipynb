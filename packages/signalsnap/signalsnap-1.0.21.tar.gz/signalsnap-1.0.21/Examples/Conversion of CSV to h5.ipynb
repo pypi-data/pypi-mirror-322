{
 "cells": [
  {
   "cell_type": "markdown",
   "metadata": {
    "collapsed": true
   },
   "source": [
    "# Conversion of NumPy array to HDF files\n",
    "\n",
    "Since the SignalSnap package only deals with hdf files, we have included a function for the conversion between NumPy array and hdf called **to_hdf**. As an example, we load a dataset called `measurement.csv` data and store it as hdf5 file called `measurement.h5`."
   ]
  },
  {
   "cell_type": "code",
   "execution_count": 2,
   "source": [
    "import pandas as pd\n",
    "from signalsnap.spectrum_calculator import to_hdf"
   ],
   "metadata": {
    "collapsed": false,
    "pycharm": {
     "name": "#%% \n"
    }
   },
   "outputs": []
  },
  {
   "cell_type": "markdown",
   "source": [
    "First we have to load the csv and extract the relevant column and the duration of the time steps."
   ],
   "metadata": {
    "collapsed": false
   }
  },
  {
   "cell_type": "code",
   "execution_count": 3,
   "source": [
    "csv_data = pd.read_csv('example_data/measurement.csv', delimiter=',', index_col=0)\n",
    "print(csv_data.head())"
   ],
   "metadata": {
    "collapsed": false
   },
   "outputs": []
  },
  {
   "cell_type": "markdown",
   "source": [
    "Let's say our measurement is located in column **n** and the time step duration can be inferred from column **t**"
   ],
   "metadata": {
    "collapsed": false,
    "pycharm": {
     "is_executing": false
    }
   }
  },
  {
   "cell_type": "code",
   "execution_count": 4,
   "source": [
    "dt = csv_data.t[1] - csv_data.t[0]\n",
    "measurement = csv_data.n"
   ],
   "metadata": {
    "collapsed": false
   },
   "outputs": []
  },
  {
   "cell_type": "markdown",
   "source": [
    "This information is going to be saved as hdf file. We can choose any group and dataset name. The variable **dt** is \n",
    "saved as an attribute to the dataset."
   ],
   "metadata": {
    "collapsed": false
   }
  },
  {
   "cell_type": "code",
   "execution_count": 6,
   "source": [
    "to_hdf(dt, measurement, 'example_data/measurement_2.h5', 'day1', 'measurement1')"
   ],
   "metadata": {
    "collapsed": false
   },
   "outputs": []
  }
 ],
 "metadata": {
  "kernelspec": {
   "display_name": "Python 3",
   "language": "python",
   "name": "python3"
  },
  "language_info": {
   "codemirror_mode": {
    "name": "ipython",
    "version": 2
   },
   "file_extension": ".py",
   "mimetype": "text/x-python",
   "name": "python",
   "nbconvert_exporter": "python",
   "pygments_lexer": "ipython2",
   "version": "2.7.6"
  },
  "pycharm": {
   "stem_cell": {
    "cell_type": "raw",
    "source": [],
    "metadata": {
     "collapsed": false
    }
   }
  }
 },
 "nbformat": 4,
 "nbformat_minor": 0
}
