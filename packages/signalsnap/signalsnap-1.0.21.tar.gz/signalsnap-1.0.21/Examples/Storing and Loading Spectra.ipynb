{
 "cells": [
  {
   "cell_type": "markdown",
   "source": [
    "# Storing and Loading Spectra"
   ],
   "metadata": {
    "collapsed": false
   }
  },
  {
   "cell_type": "markdown",
   "source": [
    "## Create Spectrum object"
   ],
   "metadata": {
    "collapsed": false
   }
  },
  {
   "cell_type": "code",
   "execution_count": 1,
   "source": [
    "from signalsnap import SpectrumCalculator, SpectrumConfig, PlotConfig"
   ],
   "metadata": {
    "collapsed": false,
    "ExecuteTime": {
     "end_time": "2023-10-17T09:46:30.547041Z",
     "start_time": "2023-10-17T09:46:27.219323Z"
    }
   },
   "outputs": []
  },
  {
   "cell_type": "code",
   "execution_count": 3,
   "source": [
    "path = 'example_data/measurement.h5'\n",
    "group_key = 'day1'\n",
    "data_set = 'measurement1'\n",
    "f_unit = 'kHz'\n",
    "\n",
    "config = SpectrumConfig(path, group_key, data_set, f_unit=f_unit, \n",
    "                        spectrum_size=100, order_in='all', \n",
    "                        f_max=2, backend='cpu')\n",
    "\n",
    "spec = SpectrumCalculator(config)\n",
    "\n",
    "f, s, serr = spec.calc_spec()"
   ],
   "metadata": {
    "collapsed": false,
    "ExecuteTime": {
     "end_time": "2023-10-17T09:44:55.229977Z",
     "start_time": "2023-10-17T09:44:54.821266Z"
    }
   },
   "outputs": []
  },
  {
   "cell_type": "markdown",
   "source": [
    "## Store Spectrum object as pickled object"
   ],
   "metadata": {
    "collapsed": false
   }
  },
  {
   "cell_type": "markdown",
   "source": [
    "The stored object will not only contain the calculated spectra but also metadata stored as attribute in the object."
   ],
   "metadata": {
    "collapsed": false
   }
  },
  {
   "cell_type": "code",
   "execution_count": 5,
   "source": [
    "path = 'example_data/example_spectrum.pkl'\n",
    "spec.save_spec(path)"
   ],
   "metadata": {
    "collapsed": false,
    "ExecuteTime": {
     "end_time": "2023-10-17T09:47:04.873175Z",
     "start_time": "2023-10-17T09:47:04.869125Z"
    }
   },
   "outputs": []
  },
  {
   "cell_type": "markdown",
   "source": [
    "## Load Spectrum object"
   ],
   "metadata": {
    "collapsed": false
   }
  },
  {
   "cell_type": "code",
   "execution_count": 3,
   "source": [
    "from signalsnap import load_spec"
   ],
   "metadata": {
    "collapsed": false,
    "ExecuteTime": {
     "end_time": "2023-10-17T09:46:58.489313Z",
     "start_time": "2023-10-17T09:46:58.482952Z"
    }
   },
   "outputs": []
  },
  {
   "cell_type": "code",
   "execution_count": 6,
   "source": [
    "spec_loaded = load_spec(path)"
   ],
   "metadata": {
    "collapsed": false,
    "ExecuteTime": {
     "end_time": "2023-10-17T09:47:09.105936Z",
     "start_time": "2023-10-17T09:47:09.074812Z"
    }
   },
   "outputs": []
  },
  {
   "cell_type": "code",
   "execution_count": 7,
   "source": [
    "plot_config = PlotConfig(plot_orders=(2,3,4), plot_f_max=2, green_alpha=0.1, sigma=3)\n",
    "fig = spec_loaded.plot(plot_config)"
   ],
   "metadata": {
    "collapsed": false,
    "ExecuteTime": {
     "end_time": "2023-10-17T09:47:40.839677Z",
     "start_time": "2023-10-17T09:47:39.810134Z"
    }
   },
   "outputs": []
  },
  {
   "cell_type": "code",
   "execution_count": 8,
   "source": [
    "print('m for each order: ', spec_loaded.m)\n",
    "print('T_window: ', spec_loaded.T_window, spec_loaded.t_unit)"
   ],
   "metadata": {
    "collapsed": false,
    "ExecuteTime": {
     "end_time": "2023-10-17T09:47:45.679431Z",
     "start_time": "2023-10-17T09:47:45.665025Z"
    }
   },
   "outputs": []
  },
  {
   "cell_type": "code",
   "execution_count": null,
   "source": [],
   "metadata": {
    "collapsed": false
   },
   "outputs": []
  }
 ],
 "metadata": {
  "kernelspec": {
   "display_name": "Python 3",
   "language": "python",
   "name": "python3"
  },
  "language_info": {
   "codemirror_mode": {
    "name": "ipython",
    "version": 2
   },
   "file_extension": ".py",
   "mimetype": "text/x-python",
   "name": "python",
   "nbconvert_exporter": "python",
   "pygments_lexer": "ipython2",
   "version": "2.7.6"
  }
 },
 "nbformat": 4,
 "nbformat_minor": 0
}
