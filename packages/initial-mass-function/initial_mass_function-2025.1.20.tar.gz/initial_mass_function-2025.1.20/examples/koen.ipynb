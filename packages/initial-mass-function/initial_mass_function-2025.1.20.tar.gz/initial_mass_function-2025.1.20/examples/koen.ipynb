{
 "cells": [
  {
   "cell_type": "markdown",
   "id": "b8a3d7e6-48a2-4153-8aa6-b7e7cfa6d2b9",
   "metadata": {},
   "source": [
    "# Koen & Kondlo (2009) Mass Function\n",
    "\n",
    "One of the available mass functions in imf is an implementation of the \"error-convolved power law\" defined in Equations (3) and (5) of the [Koen & Kondlo 2009](https://ui.adsabs.harvard.edu/abs/2009MNRAS.397..495K/abstract) paper, \"Fitting power-law distributions to data with measurement errors\".\n",
    "\n",
    "$$f_y(y) = \\frac{1}{\\sqrt{2\\pi}\\sigma} \\frac{\\gamma}{L^{-\\gamma}-U^{-\\gamma}} \\int_L^U x^{-(\\gamma+1)} \\exp\\left[-\\frac{1}{2}\\left(\\frac{y-x}{\\sigma}\\right)^2\\right]$$\n",
    "\n",
    "$$F_y(y) = \\Phi\\left(\\frac{y-U}{\\sigma}\\right)+\\frac{1}{\\sqrt{2\\pi}\\sigma}\\frac{1}{L^{-\\gamma}-U^{-\\gamma}}\\times\\int_L^U \\left(L^{-\\gamma}-x^{-\\gamma}\\right) \\exp\\left[-\\frac{1}{2}\\left(\\frac{y-x}{\\sigma}\\right)^2\\right]$$\n",
    "\n",
    "$$\\Phi(v) = \\frac{1}{\\sqrt{2\\pi}}\\int_{-\\infty}^{v}e^{-t^2/2}dt$$\n",
    "\n",
    "This function has to be integrated numerically.  It can therefore be prone to significant numerical error. (See [issue #12](https://github.com/keflavich/imf/issues/12) on the imf repository for an example.)\n",
    "\n",
    "As of [PR #38](a13e2a64e32528a2dc08294906cb73f8b9fc6392), ``KoenConvolvedPowerLaw`` is more accurate. \n",
    "\n",
    "\n",
    "Instead of performing the KK09 integrals when called, ``KoenConvolvedPowerLaw`` constructs a lookup table of values at log-spaced points when instantiated and interpolates between these points.  \n",
    "\n",
    "However, there are significant enough drawbacks to this method that we have elected to preserve the original infrastructure in a new MassFunction class, ``SpotKoenConvolvedPowerLaw`` (so named because it does all the integration \"on the spot\"). In this notebook, we demonstrate the differences between the two."
   ]
  },
  {
   "cell_type": "code",
   "execution_count": 1,
   "id": "61303759-dc38-4e6a-889c-d2b7e6c65438",
   "metadata": {},
   "outputs": [],
   "source": [
    "import numpy as np\n",
    "import matplotlib.pyplot as plt\n",
    "from imf import KoenConvolvedPowerLaw, SpotKoenConvolvedPowerLaw\n",
    "from time import perf_counter"
   ]
  },
  {
   "cell_type": "code",
   "execution_count": 2,
   "id": "064c3989-a9fd-452c-9fd7-b3a9c11386a7",
   "metadata": {},
   "outputs": [],
   "source": [
    "L = 0.03\n",
    "U = 120\n",
    "gamma = 0.9\n",
    "sigma = 0.4"
   ]
  },
  {
   "cell_type": "code",
   "execution_count": 3,
   "id": "f8e33205-35f1-4925-88e0-a049d77ceb5f",
   "metadata": {},
   "outputs": [],
   "source": [
    "ntrials = 10"
   ]
  },
  {
   "cell_type": "markdown",
   "id": "1d7b2f9e-fc1c-49fb-8d9b-b8ae468ba196",
   "metadata": {},
   "source": [
    "\n",
    "When instantiated, KoenConvolvedPowerLaws are evaluated at a number of evenly log-spaced points (default 200, but can be more or less depending on user preference). \n",
    "\n",
    "SpotKoenConvolvedPowerLaw does not perform any integrations on instantiation and is therefore faster to create."
   ]
  },
  {
   "cell_type": "code",
   "execution_count": 4,
   "id": "84c36b30-479c-4be5-ac5b-e2a9e4b433ce",
   "metadata": {},
   "outputs": [
    {
     "name": "stdout",
     "output_type": "stream",
     "text": [
      "Average time to create on-the-spot powerlaw: 0.011616653390228748 s\n"
     ]
    }
   ],
   "source": [
    "t0 = perf_counter()\n",
    "for n in range(ntrials):\n",
    "    spot_koc = SpotKoenConvolvedPowerLaw(L,U,gamma,sigma)\n",
    "avg_spot_time = (perf_counter() - t0)/ntrials\n",
    "print(f'Average time to create on-the-spot powerlaw: {avg_spot_time} s')"
   ]
  },
  {
   "cell_type": "code",
   "execution_count": 5,
   "id": "4b4a2123-5fb9-4f20-9025-4a4ac7241500",
   "metadata": {},
   "outputs": [
    {
     "name": "stdout",
     "output_type": "stream",
     "text": [
      "Average time to create interpolated powerlaw: 10.344878901075571 s\n"
     ]
    }
   ],
   "source": [
    "t0 = perf_counter()\n",
    "for n in range(ntrials):\n",
    "    int_koc = KoenConvolvedPowerLaw(L,U,gamma,sigma)\n",
    "avg_int_time = (perf_counter() - t0)/ntrials\n",
    "print(f'Average time to create interpolated powerlaw: {avg_int_time} s')"
   ]
  },
  {
   "cell_type": "code",
   "execution_count": 6,
   "id": "69fe6e3f-a429-4bc4-99d5-8801e0cadc3b",
   "metadata": {},
   "outputs": [
    {
     "name": "stdout",
     "output_type": "stream",
     "text": [
      "Interp/spot creation ratio: 890.521439658093\n"
     ]
    }
   ],
   "source": [
    "print(f'Interp/spot creation ratio: {avg_int_time/avg_spot_time}')"
   ]
  },
  {
   "cell_type": "markdown",
   "id": "894d37a9-fbf8-470e-bacb-1959fe8bd7f7",
   "metadata": {},
   "source": [
    "``SpotKoenConvolvedPowerLaw`` is slower to evaluate than ``KoenConvolvedPowerLaw``. The difference between the two is large, but in absolute time, evaluating both functions at a single point is still fairly fast."
   ]
  },
  {
   "cell_type": "code",
   "execution_count": 7,
   "id": "bc13df29-1beb-4540-b453-f698d1469c63",
   "metadata": {},
   "outputs": [],
   "source": [
    "integral_form = False"
   ]
  },
  {
   "cell_type": "code",
   "execution_count": 8,
   "id": "7f3b816a-b471-495f-9b37-de8edfdd40b2",
   "metadata": {},
   "outputs": [
    {
     "name": "stdout",
     "output_type": "stream",
     "text": [
      "Average time to evaluate scalar on the spot: 0.03687896430492401 s\n"
     ]
    }
   ],
   "source": [
    "t0 = perf_counter()\n",
    "for n in range(ntrials):\n",
    "    spot_func = spot_koc(10,integral_form=integral_form)\n",
    "avg_spot_time = (perf_counter() - t0)/ntrials\n",
    "print(f'Average time to evaluate scalar on the spot: {avg_spot_time} s')"
   ]
  },
  {
   "cell_type": "code",
   "execution_count": 9,
   "id": "40f6d948-267d-4536-aae9-9ac7a47b2561",
   "metadata": {},
   "outputs": [
    {
     "name": "stdout",
     "output_type": "stream",
     "text": [
      "Average time to interpolate scalar: 1.8801074475049973e-05 s\n"
     ]
    }
   ],
   "source": [
    "t0 = perf_counter()\n",
    "for n in range(ntrials):\n",
    "    int_func = int_koc(10,integral_form=integral_form)\n",
    "avg_int_time = (perf_counter() - t0)/ntrials\n",
    "print(f'Average time to interpolate scalar: {avg_int_time} s')"
   ]
  },
  {
   "cell_type": "code",
   "execution_count": 10,
   "id": "716155a9-2e46-43e6-a9ed-c6a5f6220ed6",
   "metadata": {},
   "outputs": [
    {
     "name": "stdout",
     "output_type": "stream",
     "text": [
      "Interp/spot scalar evaluation ratio: 0.0005098048394092154\n"
     ]
    }
   ],
   "source": [
    "print(f'Interp/spot scalar evaluation ratio: {avg_int_time/avg_spot_time}')"
   ]
  },
  {
   "cell_type": "markdown",
   "id": "35a26157-116c-4ba4-ac34-9bc63c225f0a",
   "metadata": {},
   "source": [
    "However, if you need to evaluate the function at multiple points, the time difference can accumulate."
   ]
  },
  {
   "cell_type": "code",
   "execution_count": 11,
   "id": "065ccf8a-2f76-4cbf-90ea-bf660ffcd1e0",
   "metadata": {},
   "outputs": [],
   "source": [
    "m = np.geomspace(L,U,100)"
   ]
  },
  {
   "cell_type": "code",
   "execution_count": 12,
   "id": "f270e4ed-4462-4426-b535-4b29fb4ddb32",
   "metadata": {},
   "outputs": [
    {
     "name": "stdout",
     "output_type": "stream",
     "text": [
      "Average time to evaluate array on the spot: 1.0681172168813646 s\n"
     ]
    }
   ],
   "source": [
    "t0 = perf_counter()\n",
    "for n in range(ntrials):\n",
    "    spot_func = spot_koc(m,integral_form=integral_form)\n",
    "avg_spot_time = (perf_counter() - t0)/ntrials\n",
    "print(f'Average time to evaluate array on the spot: {avg_spot_time} s')"
   ]
  },
  {
   "cell_type": "code",
   "execution_count": 13,
   "id": "f8957c0c-db67-4fc0-abc5-f32366dbd6c7",
   "metadata": {},
   "outputs": [
    {
     "name": "stdout",
     "output_type": "stream",
     "text": [
      "Average time to interpolate array: 1.608799211680889e-05 s\n"
     ]
    }
   ],
   "source": [
    "t0 = perf_counter()\n",
    "for n in range(ntrials):\n",
    "    int_func = int_koc(m,integral_form=integral_form)\n",
    "avg_int_time = (perf_counter() - t0)/ntrials\n",
    "print(f'Average time to interpolate array: {avg_int_time} s')"
   ]
  },
  {
   "cell_type": "code",
   "execution_count": 14,
   "id": "98806701-5516-41ca-82bd-df2566efad0c",
   "metadata": {},
   "outputs": [
    {
     "name": "stdout",
     "output_type": "stream",
     "text": [
      "Interp/spot array evaluation ratio: 1.5062009920392264e-05\n"
     ]
    }
   ],
   "source": [
    "print(f'Interp/spot array evaluation ratio: {avg_int_time/avg_spot_time}')"
   ]
  },
  {
   "cell_type": "markdown",
   "id": "30bf409e-70fe-4e3d-85b0-6beb3794acba",
   "metadata": {},
   "source": [
    "## Accuracy\n",
    "\n",
    "``KoenConvolvedPowerLaw`` relies on interpolation, which produces small inaccuracies. \n",
    "\n",
    " The default number of points in the lookup table is sufficient to capture the behavior of the mass function, but the values diverge from on-the-spot integration (though they can be expected to remain within .01% of the \"true\" values)."
   ]
  },
  {
   "cell_type": "code",
   "execution_count": 15,
   "id": "aea75563-247e-4f70-bf2a-bac26723c282",
   "metadata": {},
   "outputs": [
    {
     "data": {
      "text/plain": [
       "Text(0, 0.5, 'PDF')"
      ]
     },
     "execution_count": 15,
     "metadata": {},
     "output_type": "execute_result"
    },
    {
     "data": {
      "image/png": "[encoded data removed]",
      "text/plain": [
       "<Figure size 640x480 with 1 Axes>"
      ]
     },
     "metadata": {},
     "output_type": "display_data"
    }
   ],
   "source": [
    "plt.plot(m,spot_func,label='on-the-spot')\n",
    "plt.plot(m,int_func,label='interpolated')\n",
    "plt.xscale('log'); plt.yscale('log')\n",
    "plt.legend()\n",
    "plt.xlabel(r'Mass ($M_\\odot$)')\n",
    "plt.ylabel('PDF')"
   ]
  },
  {
   "cell_type": "code",
   "execution_count": 16,
   "id": "695c74d5-e749-4659-ab85-b9b82a632400",
   "metadata": {},
   "outputs": [
    {
     "data": {
      "text/plain": [
       "Text(0, 0.5, 'Interpolated/On-the-spot')"
      ]
     },
     "execution_count": 16,
     "metadata": {},
     "output_type": "execute_result"
    },
    {
     "data": {
      "image/png": "[encoded data removed]",
      "text/plain": [
       "<Figure size 640x480 with 1 Axes>"
      ]
     },
     "metadata": {},
     "output_type": "display_data"
    }
   ],
   "source": [
    "plt.plot(m,int_func/spot_func)\n",
    "plt.xscale('log')\n",
    "plt.title('Ratio')\n",
    "plt.xlabel(r'Mass ($M_\\odot$)')\n",
    "plt.ylabel('Interpolated/On-the-spot')"
   ]
  },
  {
   "cell_type": "markdown",
   "id": "6d697c2a-a730-4e2a-bf5d-55ddec8709b1",
   "metadata": {},
   "source": [
    "In summation, both implementations have strengths and weaknesses, and may be preferred for different scenarios. Here are the pros and cons for both:\n",
    "\n",
    "**Interpolation:**:\n",
    "\n",
    "|               | PRO         | CON |\n",
    "| ------------- | -----------           | ----------- |\n",
    "| Interpolation |       |     |\n",
    "|               | Quick evaluation      | Slow instantiation       |\n",
    "|               | Enables random sampling          | Diverges from on-the-spot        |\n",
    "|               |         | Can cause incorrect optimal sampling (rarely)     |\n",
    "| On-the-spot   |   |   |\n",
    "|   | Quick instantiation | Slow evaluation |\n",
    "|               | Good accuracy        | Cannot be randomly sampled |\n"
   ]
  },
  {
   "cell_type": "code",
   "execution_count": null,
   "id": "1c7b56ac-3bad-4b3b-b1a1-a210a4f531fa",
   "metadata": {},
   "outputs": [],
   "source": []
  }
 ],
 "metadata": {
  "kernelspec": {
   "display_name": "Python 3 (ipykernel)",
   "language": "python",
   "name": "python3"
  },
  "language_info": {
   "codemirror_mode": {
    "name": "ipython",
    "version": 3
   },
   "file_extension": ".py",
   "mimetype": "text/x-python",
   "name": "python",
   "nbconvert_exporter": "python",
   "pygments_lexer": "ipython3",
   "version": "3.11.4"
  }
 },
 "nbformat": 4,
 "nbformat_minor": 5
}
